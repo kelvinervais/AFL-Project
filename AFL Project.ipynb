{
 "cells": [
  {
   "cell_type": "code",
   "execution_count": 1,
   "metadata": {},
   "outputs": [],
   "source": [
    "#Here I am importing the libraries I will be using for this project\n",
    "#I will be primarily working in datascience and numpy as those are the two I am the most familiar with and\n",
    "#feel like I can do my best work in\n",
    "#plots will be used one time when mapping teams success over time\n",
    "import numpy as np\n",
    "import pandas as pd\n",
    "from datascience import *\n",
    "\n",
    "%matplotlib inline\n",
    "import matplotlib.pyplot as plots\n",
    "plots.style.use('fivethirtyeight')"
   ]
  },
  {
   "cell_type": "code",
   "execution_count": 2,
   "metadata": {},
   "outputs": [
    {
     "data": {
      "text/html": [
       "<table border=\"1\" class=\"dataframe\">\n",
       "    <thead>\n",
       "        <tr>\n",
       "            <th>Rank</th> <th>Team</th> <th>Games Played</th> <th>Won</th> <th>Lost</th> <th>Tied</th> <th>Pts Scored</th> <th>Pts Given </th> <th>Ratio</th> <th>Points</th> <th>Year</th> <th>Notes</th>\n",
       "        </tr>\n",
       "    </thead>\n",
       "    <tbody>\n",
       "        <tr>\n",
       "            <td>1   </td> <td>Hawthorn       </td> <td>22          </td> <td>17  </td> <td>5   </td> <td>0   </td> <td>2679      </td> <td>1733      </td> <td>154.59</td> <td>68    </td> <td>2012</td> <td>nan  </td>\n",
       "        </tr>\n",
       "        <tr>\n",
       "            <td>2   </td> <td>Adelaide       </td> <td>22          </td> <td>17  </td> <td>5   </td> <td>0   </td> <td>2428      </td> <td>1833      </td> <td>132.46</td> <td>68    </td> <td>2012</td> <td>nan  </td>\n",
       "        </tr>\n",
       "        <tr>\n",
       "            <td>3   </td> <td>Sydney (P)     </td> <td>22          </td> <td>16  </td> <td>6   </td> <td>0   </td> <td>2290      </td> <td>1629      </td> <td>140.58</td> <td>64    </td> <td>2012</td> <td>nan  </td>\n",
       "        </tr>\n",
       "        <tr>\n",
       "            <td>4   </td> <td>Collingwood    </td> <td>22          </td> <td>16  </td> <td>6   </td> <td>0   </td> <td>2123      </td> <td>1823      </td> <td>116.46</td> <td>64    </td> <td>2012</td> <td>nan  </td>\n",
       "        </tr>\n",
       "        <tr>\n",
       "            <td>5   </td> <td>West Coast     </td> <td>22          </td> <td>15  </td> <td>7   </td> <td>0   </td> <td>2244      </td> <td>1807      </td> <td>124.18</td> <td>60    </td> <td>2012</td> <td>nan  </td>\n",
       "        </tr>\n",
       "        <tr>\n",
       "            <td>6   </td> <td>Geelong        </td> <td>22          </td> <td>15  </td> <td>7   </td> <td>0   </td> <td>2209      </td> <td>1886      </td> <td>117.13</td> <td>60    </td> <td>2012</td> <td>nan  </td>\n",
       "        </tr>\n",
       "        <tr>\n",
       "            <td>7   </td> <td>Fremantle      </td> <td>22          </td> <td>14  </td> <td>8   </td> <td>0   </td> <td>1956      </td> <td>1691      </td> <td>115.67</td> <td>56    </td> <td>2012</td> <td>nan  </td>\n",
       "        </tr>\n",
       "        <tr>\n",
       "            <td>8   </td> <td>North Melbourne</td> <td>22          </td> <td>14  </td> <td>8   </td> <td>0   </td> <td>2359      </td> <td>2097      </td> <td>112.49</td> <td>56    </td> <td>2012</td> <td>nan  </td>\n",
       "        </tr>\n",
       "        <tr>\n",
       "            <td>9   </td> <td>St Kilda       </td> <td>22          </td> <td>12  </td> <td>10  </td> <td>0   </td> <td>2347      </td> <td>1903      </td> <td>123.33</td> <td>48    </td> <td>2012</td> <td>nan  </td>\n",
       "        </tr>\n",
       "        <tr>\n",
       "            <td>10  </td> <td>Carlton        </td> <td>22          </td> <td>11  </td> <td>11  </td> <td>0   </td> <td>2079      </td> <td>1925      </td> <td>108   </td> <td>44    </td> <td>2012</td> <td>nan  </td>\n",
       "        </tr>\n",
       "    </tbody>\n",
       "</table>\n",
       "<p>... (116 rows omitted)</p>"
      ],
      "text/plain": [
       "Rank | Team            | Games Played | Won  | Lost | Tied | Pts Scored | Pts Given  | Ratio  | Points | Year | Notes\n",
       "1    | Hawthorn        | 22           | 17   | 5    | 0    | 2679       | 1733       | 154.59 | 68     | 2012 | nan\n",
       "2    | Adelaide        | 22           | 17   | 5    | 0    | 2428       | 1833       | 132.46 | 68     | 2012 | nan\n",
       "3    | Sydney (P)      | 22           | 16   | 6    | 0    | 2290       | 1629       | 140.58 | 64     | 2012 | nan\n",
       "4    | Collingwood     | 22           | 16   | 6    | 0    | 2123       | 1823       | 116.46 | 64     | 2012 | nan\n",
       "5    | West Coast      | 22           | 15   | 7    | 0    | 2244       | 1807       | 124.18 | 60     | 2012 | nan\n",
       "6    | Geelong         | 22           | 15   | 7    | 0    | 2209       | 1886       | 117.13 | 60     | 2012 | nan\n",
       "7    | Fremantle       | 22           | 14   | 8    | 0    | 1956       | 1691       | 115.67 | 56     | 2012 | nan\n",
       "8    | North Melbourne | 22           | 14   | 8    | 0    | 2359       | 2097       | 112.49 | 56     | 2012 | nan\n",
       "9    | St Kilda        | 22           | 12   | 10   | 0    | 2347       | 1903       | 123.33 | 48     | 2012 | nan\n",
       "10   | Carlton         | 22           | 11   | 11   | 0    | 2079       | 1925       | 108    | 44     | 2012 | nan\n",
       "... (116 rows omitted)"
      ]
     },
     "execution_count": 2,
     "metadata": {},
     "output_type": "execute_result"
    }
   ],
   "source": [
    "#here is the results table so that I can get an idea of what teams perform better when looking at their stats\n",
    "results = Table().read_table(\"results.csv\")\n",
    "results"
   ]
  },
  {
   "cell_type": "code",
   "execution_count": 3,
   "metadata": {},
   "outputs": [
    {
     "data": {
      "text/html": [
       "<table border=\"1\" class=\"dataframe\">\n",
       "    <thead>\n",
       "        <tr>\n",
       "            <th>Year</th> <th>Adelaide</th> <th>Brisbane Lions</th> <th>Carlton</th> <th>Collingwood</th> <th>Essendon</th> <th>Fremantle</th> <th>Geelong</th> <th>Gold Coast</th> <th>Greater Western Sydney</th> <th>Hawthorn</th> <th>Hawthorn (P)</th> <th>Melbourne</th> <th>North Melbourne</th> <th>Port Adelaide</th> <th>Richmond</th> <th>Richmond (P)</th> <th>St Kilda</th> <th>Sydney</th> <th>Sydney (P)</th> <th>West Coast</th> <th>West Coast (P)</th> <th>Western Bulldogs</th> <th>Western Bulldogs (P)</th>\n",
       "        </tr>\n",
       "    </thead>\n",
       "    <tbody>\n",
       "        <tr>\n",
       "            <td>2012</td> <td>2       </td> <td>13            </td> <td>10     </td> <td>4          </td> <td>11      </td> <td>7        </td> <td>6      </td> <td>17        </td> <td>18                    </td> <td>1       </td> <td>0           </td> <td>16       </td> <td>8              </td> <td>14           </td> <td>12      </td> <td>0           </td> <td>9       </td> <td>0     </td> <td>3         </td> <td>5         </td> <td>0             </td> <td>15              </td> <td>0                   </td>\n",
       "        </tr>\n",
       "        <tr>\n",
       "            <td>2013</td> <td>11      </td> <td>12            </td> <td>8      </td> <td>6          </td> <td>9       </td> <td>3        </td> <td>2      </td> <td>14        </td> <td>18                    </td> <td>0       </td> <td>1           </td> <td>17       </td> <td>10             </td> <td>7            </td> <td>5       </td> <td>0           </td> <td>16      </td> <td>4     </td> <td>0         </td> <td>13        </td> <td>0             </td> <td>15              </td> <td>0                   </td>\n",
       "        </tr>\n",
       "        <tr>\n",
       "            <td>2014</td> <td>10      </td> <td>15            </td> <td>13     </td> <td>11         </td> <td>7       </td> <td>4        </td> <td>3      </td> <td>12        </td> <td>16                    </td> <td>0       </td> <td>2           </td> <td>17       </td> <td>6              </td> <td>5            </td> <td>8       </td> <td>0           </td> <td>18      </td> <td>1     </td> <td>0         </td> <td>9         </td> <td>0             </td> <td>14              </td> <td>0                   </td>\n",
       "        </tr>\n",
       "        <tr>\n",
       "            <td>2015</td> <td>7       </td> <td>17            </td> <td>18     </td> <td>12         </td> <td>15      </td> <td>1        </td> <td>10     </td> <td>16        </td> <td>11                    </td> <td>0       </td> <td>3           </td> <td>13       </td> <td>8              </td> <td>9            </td> <td>5       </td> <td>0           </td> <td>14      </td> <td>4     </td> <td>0         </td> <td>2         </td> <td>0             </td> <td>6               </td> <td>0                   </td>\n",
       "        </tr>\n",
       "        <tr>\n",
       "            <td>2016</td> <td>5       </td> <td>17            </td> <td>14     </td> <td>12         </td> <td>18      </td> <td>16       </td> <td>2      </td> <td>15        </td> <td>4                     </td> <td>3       </td> <td>0           </td> <td>11       </td> <td>8              </td> <td>10           </td> <td>13      </td> <td>0           </td> <td>9       </td> <td>1     </td> <td>0         </td> <td>6         </td> <td>0             </td> <td>0               </td> <td>7                   </td>\n",
       "        </tr>\n",
       "        <tr>\n",
       "            <td>2017</td> <td>1       </td> <td>18            </td> <td>16     </td> <td>13         </td> <td>7       </td> <td>14       </td> <td>2      </td> <td>17        </td> <td>4                     </td> <td>12      </td> <td>0           </td> <td>9        </td> <td>15             </td> <td>5            </td> <td>0       </td> <td>3           </td> <td>11      </td> <td>6     </td> <td>0         </td> <td>8         </td> <td>0             </td> <td>10              </td> <td>0                   </td>\n",
       "        </tr>\n",
       "        <tr>\n",
       "            <td>2018</td> <td>12      </td> <td>15            </td> <td>18     </td> <td>3          </td> <td>11      </td> <td>14       </td> <td>8      </td> <td>17        </td> <td>7                     </td> <td>4       </td> <td>0           </td> <td>5        </td> <td>9              </td> <td>10           </td> <td>1       </td> <td>0           </td> <td>16      </td> <td>6     </td> <td>0         </td> <td>0         </td> <td>2             </td> <td>13              </td> <td>0                   </td>\n",
       "        </tr>\n",
       "    </tbody>\n",
       "</table>"
      ],
      "text/plain": [
       "<IPython.core.display.HTML object>"
      ]
     },
     "metadata": {},
     "output_type": "display_data"
    }
   ],
   "source": [
    "#here I decided to make a Pivot table to better able see a teams results over time\n",
    "results_pivot = results.pivot(\"Team\", \"Year\", \"Rank\", sum)\n",
    "results_pivot.show(23)"
   ]
  },
  {
   "cell_type": "code",
   "execution_count": 4,
   "metadata": {},
   "outputs": [],
   "source": [
    "#here I made a function to get the average rank of a team from 2012-2018, I will then apply it \n",
    "#to each individual team column; any team with a (P) I will be adding their two columns together as the \n",
    "#teams were in the AFL during those years based off my research and the (P) column has years that are \n",
    "#not represented in the normal column for whatever reason\n",
    "def find_avg_rank(arr):\n",
    "    avg_rank = np.mean(arr)\n",
    "    return avg_rank"
   ]
  },
  {
   "cell_type": "code",
   "execution_count": 5,
   "metadata": {},
   "outputs": [
    {
     "data": {
      "text/plain": [
       "6.857142857142857"
      ]
     },
     "execution_count": 5,
     "metadata": {},
     "output_type": "execute_result"
    }
   ],
   "source": [
    "Adelaide_Avg_Rank = find_avg_rank(results_pivot.column(\"Adelaide\"))\n",
    "Adelaide_Avg_Rank"
   ]
  },
  {
   "cell_type": "code",
   "execution_count": 6,
   "metadata": {},
   "outputs": [
    {
     "data": {
      "text/plain": [
       "15.285714285714286"
      ]
     },
     "execution_count": 6,
     "metadata": {},
     "output_type": "execute_result"
    }
   ],
   "source": [
    "Brisbane_Avg_Rank = find_avg_rank(results_pivot.column(\"Brisbane Lions\"))\n",
    "Brisbane_Avg_Rank"
   ]
  },
  {
   "cell_type": "code",
   "execution_count": 7,
   "metadata": {},
   "outputs": [
    {
     "data": {
      "text/plain": [
       "13.857142857142858"
      ]
     },
     "execution_count": 7,
     "metadata": {},
     "output_type": "execute_result"
    }
   ],
   "source": [
    "Carlton_Avg_Rank = find_avg_rank(results_pivot.column(\"Carlton\"))\n",
    "Carlton_Avg_Rank"
   ]
  },
  {
   "cell_type": "code",
   "execution_count": 8,
   "metadata": {},
   "outputs": [
    {
     "data": {
      "text/plain": [
       "8.714285714285714"
      ]
     },
     "execution_count": 8,
     "metadata": {},
     "output_type": "execute_result"
    }
   ],
   "source": [
    "Collingwood_Avg_Rank = find_avg_rank(results_pivot.column(\"Collingwood\"))\n",
    "Collingwood_Avg_Rank"
   ]
  },
  {
   "cell_type": "code",
   "execution_count": 9,
   "metadata": {},
   "outputs": [
    {
     "data": {
      "text/plain": [
       "11.142857142857142"
      ]
     },
     "execution_count": 9,
     "metadata": {},
     "output_type": "execute_result"
    }
   ],
   "source": [
    "Essendon_Avg_Rank = find_avg_rank(results_pivot.column(\"Essendon\"))\n",
    "Essendon_Avg_Rank"
   ]
  },
  {
   "cell_type": "code",
   "execution_count": 10,
   "metadata": {},
   "outputs": [
    {
     "data": {
      "text/plain": [
       "8.428571428571429"
      ]
     },
     "execution_count": 10,
     "metadata": {},
     "output_type": "execute_result"
    }
   ],
   "source": [
    "Fremantle_Avg_Rank = find_avg_rank(results_pivot.column(\"Fremantle\"))\n",
    "Fremantle_Avg_Rank"
   ]
  },
  {
   "cell_type": "code",
   "execution_count": 11,
   "metadata": {},
   "outputs": [
    {
     "data": {
      "text/plain": [
       "4.714285714285714"
      ]
     },
     "execution_count": 11,
     "metadata": {},
     "output_type": "execute_result"
    }
   ],
   "source": [
    "Geelong_Avg_Rank = find_avg_rank(results_pivot.column(\"Geelong\"))\n",
    "Geelong_Avg_Rank"
   ]
  },
  {
   "cell_type": "code",
   "execution_count": 12,
   "metadata": {},
   "outputs": [
    {
     "data": {
      "text/plain": [
       "15.428571428571429"
      ]
     },
     "execution_count": 12,
     "metadata": {},
     "output_type": "execute_result"
    }
   ],
   "source": [
    "GoldCoast_Avg_Rank = find_avg_rank(results_pivot.column(\"Gold Coast\"))\n",
    "GoldCoast_Avg_Rank"
   ]
  },
  {
   "cell_type": "code",
   "execution_count": 13,
   "metadata": {},
   "outputs": [
    {
     "data": {
      "text/plain": [
       "11.142857142857142"
      ]
     },
     "execution_count": 13,
     "metadata": {},
     "output_type": "execute_result"
    }
   ],
   "source": [
    "GreaterWesternSydney_Avg_Rank = find_avg_rank(results_pivot.column(\"Greater Western Sydney\"))\n",
    "GreaterWesternSydney_Avg_Rank"
   ]
  },
  {
   "cell_type": "code",
   "execution_count": 14,
   "metadata": {},
   "outputs": [
    {
     "data": {
      "text/plain": [
       "3.7142857142857144"
      ]
     },
     "execution_count": 14,
     "metadata": {},
     "output_type": "execute_result"
    }
   ],
   "source": [
    "Hawthorn_Plus_P = results_pivot.column(\"Hawthorn\")+results_pivot.column(\"Hawthorn (P)\")\n",
    "Hawthorn_Avg_Rank = find_avg_rank(Hawthorn_Plus_P)\n",
    "Hawthorn_Avg_Rank"
   ]
  },
  {
   "cell_type": "code",
   "execution_count": 15,
   "metadata": {},
   "outputs": [
    {
     "data": {
      "text/plain": [
       "12.571428571428571"
      ]
     },
     "execution_count": 15,
     "metadata": {},
     "output_type": "execute_result"
    }
   ],
   "source": [
    "Melbourne_Avg_Rank = find_avg_rank(results_pivot.column(\"Melbourne\"))\n",
    "Melbourne_Avg_Rank"
   ]
  },
  {
   "cell_type": "code",
   "execution_count": 16,
   "metadata": {},
   "outputs": [
    {
     "data": {
      "text/plain": [
       "9.142857142857142"
      ]
     },
     "execution_count": 16,
     "metadata": {},
     "output_type": "execute_result"
    }
   ],
   "source": [
    "NorthMelbourne_Avg_Rank = find_avg_rank(results_pivot.column(\"North Melbourne\"))\n",
    "NorthMelbourne_Avg_Rank"
   ]
  },
  {
   "cell_type": "code",
   "execution_count": 17,
   "metadata": {},
   "outputs": [
    {
     "data": {
      "text/plain": [
       "8.571428571428571"
      ]
     },
     "execution_count": 17,
     "metadata": {},
     "output_type": "execute_result"
    }
   ],
   "source": [
    "PortAdelaide_Avg_Rank = find_avg_rank(results_pivot.column(\"Port Adelaide\"))\n",
    "PortAdelaide_Avg_Rank"
   ]
  },
  {
   "cell_type": "code",
   "execution_count": 18,
   "metadata": {},
   "outputs": [
    {
     "data": {
      "text/plain": [
       "6.714285714285714"
      ]
     },
     "execution_count": 18,
     "metadata": {},
     "output_type": "execute_result"
    }
   ],
   "source": [
    "Richmond_Plus_P = results_pivot.column(\"Richmond\")+results_pivot.column(\"Richmond (P)\")\n",
    "Richmond_Avg_Rank = find_avg_rank(Richmond_Plus_P)\n",
    "Richmond_Avg_Rank"
   ]
  },
  {
   "cell_type": "code",
   "execution_count": 19,
   "metadata": {},
   "outputs": [
    {
     "data": {
      "text/plain": [
       "13.285714285714286"
      ]
     },
     "execution_count": 19,
     "metadata": {},
     "output_type": "execute_result"
    }
   ],
   "source": [
    "StKilda_Avg_Rank = find_avg_rank(results_pivot.column(\"St Kilda\"))\n",
    "StKilda_Avg_Rank"
   ]
  },
  {
   "cell_type": "code",
   "execution_count": 20,
   "metadata": {},
   "outputs": [
    {
     "data": {
      "text/plain": [
       "3.5714285714285716"
      ]
     },
     "execution_count": 20,
     "metadata": {},
     "output_type": "execute_result"
    }
   ],
   "source": [
    "Sydney_Plus_P = results_pivot.column(\"Sydney\")+results_pivot.column(\"Sydney (P)\")\n",
    "Sydney_Avg_Rank = find_avg_rank(Sydney_Plus_P)\n",
    "Sydney_Avg_Rank"
   ]
  },
  {
   "cell_type": "code",
   "execution_count": 21,
   "metadata": {},
   "outputs": [
    {
     "data": {
      "text/plain": [
       "6.428571428571429"
      ]
     },
     "execution_count": 21,
     "metadata": {},
     "output_type": "execute_result"
    }
   ],
   "source": [
    "WestCoast_Plus_P = results_pivot.column(\"West Coast\")+results_pivot.column(\"West Coast (P)\")\n",
    "WestCoast_Avg_Rank = find_avg_rank(WestCoast_Plus_P)\n",
    "WestCoast_Avg_Rank"
   ]
  },
  {
   "cell_type": "code",
   "execution_count": 22,
   "metadata": {},
   "outputs": [
    {
     "data": {
      "text/plain": [
       "11.428571428571429"
      ]
     },
     "execution_count": 22,
     "metadata": {},
     "output_type": "execute_result"
    }
   ],
   "source": [
    "WesternBulldogs_Plus_P = results_pivot.column(\"Western Bulldogs\")+results_pivot.column(\"Western Bulldogs (P)\")\n",
    "WesternBulldogs_Avg_Rank = find_avg_rank(WesternBulldogs_Plus_P)\n",
    "WesternBulldogs_Avg_Rank"
   ]
  },
  {
   "cell_type": "code",
   "execution_count": 23,
   "metadata": {},
   "outputs": [
    {
     "data": {
      "text/plain": [
       "array(['6.857142857142857', '15.285714285714286', '13.857142857142858',\n",
       "       '8.714285714285714', '11.142857142857142', '8.428571428571429',\n",
       "       '4.714285714285714', '15.428571428571429', '11.142857142857142',\n",
       "       '3.7142857142857144', ' ', '12.571428571428571',\n",
       "       '9.142857142857142', '8.571428571428571', '6.714285714285714', ' ',\n",
       "       '13.285714285714286', '3.5714285714285716', ' ',\n",
       "       '6.428571428571429', ' ', '11.428571428571429', ' '], dtype='<U32')"
      ]
     },
     "execution_count": 23,
     "metadata": {},
     "output_type": "execute_result"
    }
   ],
   "source": [
    "#Here is an in alphabetical order of each teams average rank so that I can add it to a pivot table of the teams\n",
    "avg_rank_array = make_array(Adelaide_Avg_Rank,Brisbane_Avg_Rank,Carlton_Avg_Rank,Collingwood_Avg_Rank,Essendon_Avg_Rank,Fremantle_Avg_Rank, Geelong_Avg_Rank, GoldCoast_Avg_Rank, GreaterWesternSydney_Avg_Rank, Hawthorn_Avg_Rank,\" \", Melbourne_Avg_Rank,NorthMelbourne_Avg_Rank,PortAdelaide_Avg_Rank,Richmond_Avg_Rank, \" \", StKilda_Avg_Rank, Sydney_Avg_Rank, \" \", WestCoast_Avg_Rank, \" \", WesternBulldogs_Avg_Rank, \" \",  )\n",
    "avg_rank_array"
   ]
  },
  {
   "cell_type": "code",
   "execution_count": 24,
   "metadata": {},
   "outputs": [
    {
     "data": {
      "text/html": [
       "<table border=\"1\" class=\"dataframe\">\n",
       "    <thead>\n",
       "        <tr>\n",
       "            <th>Team</th> <th>2012</th> <th>2013</th> <th>2014</th> <th>2015</th> <th>2016</th> <th>2017</th> <th>2018</th> <th>Avg Rank</th>\n",
       "        </tr>\n",
       "    </thead>\n",
       "    <tbody>\n",
       "        <tr>\n",
       "            <td>Essendon              </td> <td>11  </td> <td>9   </td> <td>7   </td> <td>15  </td> <td>18  </td> <td>7   </td> <td>11  </td> <td>11.142857142857142</td>\n",
       "        </tr>\n",
       "        <tr>\n",
       "            <td>Greater Western Sydney</td> <td>18  </td> <td>18  </td> <td>16  </td> <td>11  </td> <td>4   </td> <td>4   </td> <td>7   </td> <td>11.142857142857142</td>\n",
       "        </tr>\n",
       "        <tr>\n",
       "            <td>Western Bulldogs      </td> <td>15  </td> <td>15  </td> <td>14  </td> <td>6   </td> <td>0   </td> <td>10  </td> <td>13  </td> <td>11.428571428571429</td>\n",
       "        </tr>\n",
       "        <tr>\n",
       "            <td>Melbourne             </td> <td>16  </td> <td>17  </td> <td>17  </td> <td>13  </td> <td>11  </td> <td>9   </td> <td>5   </td> <td>12.571428571428571</td>\n",
       "        </tr>\n",
       "        <tr>\n",
       "            <td>St Kilda              </td> <td>9   </td> <td>16  </td> <td>18  </td> <td>14  </td> <td>9   </td> <td>11  </td> <td>16  </td> <td>13.285714285714286</td>\n",
       "        </tr>\n",
       "        <tr>\n",
       "            <td>Carlton               </td> <td>10  </td> <td>8   </td> <td>13  </td> <td>18  </td> <td>14  </td> <td>16  </td> <td>18  </td> <td>13.857142857142858</td>\n",
       "        </tr>\n",
       "        <tr>\n",
       "            <td>Brisbane Lions        </td> <td>13  </td> <td>12  </td> <td>15  </td> <td>17  </td> <td>17  </td> <td>18  </td> <td>15  </td> <td>15.285714285714286</td>\n",
       "        </tr>\n",
       "        <tr>\n",
       "            <td>Gold Coast            </td> <td>17  </td> <td>14  </td> <td>12  </td> <td>16  </td> <td>15  </td> <td>17  </td> <td>17  </td> <td>15.428571428571429</td>\n",
       "        </tr>\n",
       "        <tr>\n",
       "            <td>Sydney                </td> <td>0   </td> <td>4   </td> <td>1   </td> <td>4   </td> <td>1   </td> <td>6   </td> <td>6   </td> <td>3.5714285714285716</td>\n",
       "        </tr>\n",
       "        <tr>\n",
       "            <td>Hawthorn              </td> <td>1   </td> <td>0   </td> <td>0   </td> <td>0   </td> <td>3   </td> <td>12  </td> <td>4   </td> <td>3.7142857142857144</td>\n",
       "        </tr>\n",
       "        <tr>\n",
       "            <td>Geelong               </td> <td>6   </td> <td>2   </td> <td>3   </td> <td>10  </td> <td>2   </td> <td>2   </td> <td>8   </td> <td>4.714285714285714 </td>\n",
       "        </tr>\n",
       "        <tr>\n",
       "            <td>West Coast            </td> <td>5   </td> <td>13  </td> <td>9   </td> <td>2   </td> <td>6   </td> <td>8   </td> <td>0   </td> <td>6.428571428571429 </td>\n",
       "        </tr>\n",
       "        <tr>\n",
       "            <td>Richmond              </td> <td>12  </td> <td>5   </td> <td>8   </td> <td>5   </td> <td>13  </td> <td>0   </td> <td>1   </td> <td>6.714285714285714 </td>\n",
       "        </tr>\n",
       "        <tr>\n",
       "            <td>Adelaide              </td> <td>2   </td> <td>11  </td> <td>10  </td> <td>7   </td> <td>5   </td> <td>1   </td> <td>12  </td> <td>6.857142857142857 </td>\n",
       "        </tr>\n",
       "        <tr>\n",
       "            <td>Fremantle             </td> <td>7   </td> <td>3   </td> <td>4   </td> <td>1   </td> <td>16  </td> <td>14  </td> <td>14  </td> <td>8.428571428571429 </td>\n",
       "        </tr>\n",
       "        <tr>\n",
       "            <td>Port Adelaide         </td> <td>14  </td> <td>7   </td> <td>5   </td> <td>9   </td> <td>10  </td> <td>5   </td> <td>10  </td> <td>8.571428571428571 </td>\n",
       "        </tr>\n",
       "        <tr>\n",
       "            <td>Collingwood           </td> <td>4   </td> <td>6   </td> <td>11  </td> <td>12  </td> <td>12  </td> <td>13  </td> <td>3   </td> <td>8.714285714285714 </td>\n",
       "        </tr>\n",
       "        <tr>\n",
       "            <td>North Melbourne       </td> <td>8   </td> <td>10  </td> <td>6   </td> <td>8   </td> <td>8   </td> <td>15  </td> <td>9   </td> <td>9.142857142857142 </td>\n",
       "        </tr>\n",
       "    </tbody>\n",
       "</table>"
      ],
      "text/plain": [
       "<IPython.core.display.HTML object>"
      ]
     },
     "metadata": {},
     "output_type": "display_data"
    }
   ],
   "source": [
    "#pivot table with ranks added on and with the (P) rows removed\n",
    "avg_rank_pivot = results.pivot(\"Year\", \"Team\", \"Rank\", sum).with_column(\"Avg Rank\", avg_rank_array)\n",
    "avg_rank_pivot.where(\"Avg Rank\", are.not_equal_to(\" \")).sort(\"Avg Rank\").show(23)"
   ]
  },
  {
   "cell_type": "code",
   "execution_count": 25,
   "metadata": {},
   "outputs": [
    {
     "data": {
      "text/html": [
       "<table border=\"1\" class=\"dataframe\">\n",
       "    <thead>\n",
       "        <tr>\n",
       "            <th>Team</th> <th>2012-2018 Rankings</th>\n",
       "        </tr>\n",
       "    </thead>\n",
       "    <tbody>\n",
       "        <tr>\n",
       "            <td>Sydney                </td> <td>1                 </td>\n",
       "        </tr>\n",
       "        <tr>\n",
       "            <td>Hawthorn              </td> <td>2                 </td>\n",
       "        </tr>\n",
       "        <tr>\n",
       "            <td>Geelong               </td> <td>3                 </td>\n",
       "        </tr>\n",
       "        <tr>\n",
       "            <td>West Coast            </td> <td>4                 </td>\n",
       "        </tr>\n",
       "        <tr>\n",
       "            <td>Richmond              </td> <td>5                 </td>\n",
       "        </tr>\n",
       "        <tr>\n",
       "            <td>Adelaide              </td> <td>6                 </td>\n",
       "        </tr>\n",
       "        <tr>\n",
       "            <td>Fremantle             </td> <td>7                 </td>\n",
       "        </tr>\n",
       "        <tr>\n",
       "            <td>Port Adelaide         </td> <td>8                 </td>\n",
       "        </tr>\n",
       "        <tr>\n",
       "            <td>Collingwood           </td> <td>9                 </td>\n",
       "        </tr>\n",
       "        <tr>\n",
       "            <td>North Melbourne       </td> <td>10                </td>\n",
       "        </tr>\n",
       "        <tr>\n",
       "            <td>Essendon              </td> <td>11                </td>\n",
       "        </tr>\n",
       "        <tr>\n",
       "            <td>Greater Western Sydney</td> <td>12                </td>\n",
       "        </tr>\n",
       "        <tr>\n",
       "            <td>Western Bulldogs      </td> <td>13                </td>\n",
       "        </tr>\n",
       "        <tr>\n",
       "            <td>Melbourne             </td> <td>14                </td>\n",
       "        </tr>\n",
       "        <tr>\n",
       "            <td>St Kilda              </td> <td>15                </td>\n",
       "        </tr>\n",
       "        <tr>\n",
       "            <td>Carlton               </td> <td>16                </td>\n",
       "        </tr>\n",
       "        <tr>\n",
       "            <td>Brisbane Lions        </td> <td>17                </td>\n",
       "        </tr>\n",
       "        <tr>\n",
       "            <td>Gold Coast            </td> <td>18                </td>\n",
       "        </tr>\n",
       "    </tbody>\n",
       "</table>"
      ],
      "text/plain": [
       "<IPython.core.display.HTML object>"
      ]
     },
     "metadata": {},
     "output_type": "display_data"
    }
   ],
   "source": [
    "#From this it would seem that Sydney is the most consistent highly ranked team with an average rank of 3.57.\n",
    "#The lowest consistently ranked teams are Brisbane and Gold Coast, who respectively are ranked around 15 on \n",
    "#average.  Now I am making an array of teams in order of rank, to which I will add into a new table that I will \n",
    "#use for comparison and reference in my analysis of the overall statistics\n",
    "rank_array = make_array(\"Sydney\", \"Hawthorn\", \"Geelong\", \"West Coast\", \"Richmond\", \"Adelaide\", \"Fremantle\", \"Port Adelaide\", \"Collingwood\", \"North Melbourne\", \"Essendon\", \"Greater Western Sydney\", \"Western Bulldogs\", \"Melbourne\", \"St Kilda\", \"Carlton\", \"Brisbane Lions\", \"Gold Coast\")\n",
    "reference_array = np.array(range(1,19))\n",
    "reference_table = Table()\n",
    "reference_table = reference_table.with_columns(\"Team\", rank_array).with_columns(\"2012-2018 Rankings\", reference_array)\n",
    "reference_table.show(18)"
   ]
  },
  {
   "cell_type": "code",
   "execution_count": 26,
   "metadata": {},
   "outputs": [
    {
     "data": {
      "text/html": [
       "<table border=\"1\" class=\"dataframe\">\n",
       "    <thead>\n",
       "        <tr>\n",
       "            <th>Team</th> <th>Player</th> <th>D.O.B</th> <th>Height</th> <th>Weight</th> <th>Position</th> <th>Season</th> <th>Round</th> <th>Date</th> <th>Score</th> <th>Margin</th> <th>WinLoss</th> <th>Opposition</th> <th>Venue</th> <th>Disposals</th> <th>Kicks</th> <th>Marks</th> <th>Handballs</th> <th>Goals</th> <th>Behinds</th> <th>Hitouts</th> <th>Tackles</th> <th>Rebound50s</th> <th>Inside50s</th> <th>Clearances</th> <th>Clangers</th> <th>FreesFor</th> <th>FreesAgainst</th> <th>BrownlowVotes</th> <th>ContendedPossessions</th> <th>UncontendedPossessions</th> <th>ContestedMarks</th> <th>MarksInside50</th> <th>OnePercenters</th> <th>Bounces</th> <th>GoalAssists</th> <th>PercentPlayed</th>\n",
       "        </tr>\n",
       "    </thead>\n",
       "    <tbody>\n",
       "        <tr>\n",
       "            <td>Adelaide</td> <td>Atkins, Rory     </td> <td>1994-07-12</td> <td>186   </td> <td>85    </td> <td>Midfield         </td> <td>2018  </td> <td>R1   </td> <td>2018-03-23</td> <td>87   </td> <td>-12   </td> <td>L      </td> <td>Essendon  </td> <td>Docklands</td> <td>14       </td> <td>8    </td> <td>1    </td> <td>6        </td> <td>0    </td> <td>2      </td> <td>0      </td> <td>2      </td> <td>2         </td> <td>4        </td> <td>1         </td> <td>1       </td> <td>1       </td> <td>0           </td> <td>0            </td> <td>4                   </td> <td>9                     </td> <td>0             </td> <td>0            </td> <td>0            </td> <td>0      </td> <td>1          </td> <td>86           </td>\n",
       "        </tr>\n",
       "        <tr>\n",
       "            <td>Adelaide</td> <td>Betts, Eddie     </td> <td>1986-11-26</td> <td>174   </td> <td>74    </td> <td>Forward          </td> <td>2018  </td> <td>R1   </td> <td>2018-03-23</td> <td>87   </td> <td>-12   </td> <td>L      </td> <td>Essendon  </td> <td>Docklands</td> <td>14       </td> <td>7    </td> <td>2    </td> <td>7        </td> <td>0    </td> <td>2      </td> <td>0      </td> <td>2      </td> <td>0         </td> <td>1        </td> <td>1         </td> <td>1       </td> <td>1       </td> <td>0           </td> <td>0            </td> <td>6                   </td> <td>9                     </td> <td>0             </td> <td>1            </td> <td>3            </td> <td>0      </td> <td>1          </td> <td>85           </td>\n",
       "        </tr>\n",
       "        <tr>\n",
       "            <td>Adelaide</td> <td>Brown, Luke      </td> <td>1992-09-22</td> <td>181   </td> <td>81    </td> <td>Defender         </td> <td>2018  </td> <td>R1   </td> <td>2018-03-23</td> <td>87   </td> <td>-12   </td> <td>L      </td> <td>Essendon  </td> <td>Docklands</td> <td>15       </td> <td>10   </td> <td>2    </td> <td>5        </td> <td>0    </td> <td>0      </td> <td>0      </td> <td>0      </td> <td>5         </td> <td>1        </td> <td>0         </td> <td>0       </td> <td>0       </td> <td>0           </td> <td>0            </td> <td>1                   </td> <td>10                    </td> <td>0             </td> <td>0            </td> <td>2            </td> <td>0      </td> <td>0          </td> <td>82           </td>\n",
       "        </tr>\n",
       "        <tr>\n",
       "            <td>Adelaide</td> <td>Crouch, Matt     </td> <td>1995-04-21</td> <td>182   </td> <td>80    </td> <td>Midfield         </td> <td>2018  </td> <td>R1   </td> <td>2018-03-23</td> <td>87   </td> <td>-12   </td> <td>L      </td> <td>Essendon  </td> <td>Docklands</td> <td>41       </td> <td>18   </td> <td>6    </td> <td>23       </td> <td>0    </td> <td>0      </td> <td>0      </td> <td>2      </td> <td>3         </td> <td>3        </td> <td>7         </td> <td>4       </td> <td>0       </td> <td>1           </td> <td>0            </td> <td>11                  </td> <td>31                    </td> <td>0             </td> <td>0            </td> <td>0            </td> <td>0      </td> <td>1          </td> <td>80           </td>\n",
       "        </tr>\n",
       "        <tr>\n",
       "            <td>Adelaide</td> <td>Doedee, Tom      </td> <td>1997-03-01</td> <td>188   </td> <td>88    </td> <td>Defender         </td> <td>2018  </td> <td>R1   </td> <td>2018-03-23</td> <td>87   </td> <td>-12   </td> <td>L      </td> <td>Essendon  </td> <td>Docklands</td> <td>21       </td> <td>7    </td> <td>7    </td> <td>14       </td> <td>0    </td> <td>0      </td> <td>0      </td> <td>2      </td> <td>4         </td> <td>1        </td> <td>0         </td> <td>2       </td> <td>2       </td> <td>0           </td> <td>0            </td> <td>8                   </td> <td>14                    </td> <td>0             </td> <td>0            </td> <td>9            </td> <td>1      </td> <td>0          </td> <td>93           </td>\n",
       "        </tr>\n",
       "        <tr>\n",
       "            <td>Adelaide</td> <td>Douglas, Richard </td> <td>1987-02-06</td> <td>181   </td> <td>79    </td> <td>Midfield, Forward</td> <td>2018  </td> <td>R1   </td> <td>2018-03-23</td> <td>87   </td> <td>-12   </td> <td>L      </td> <td>Essendon  </td> <td>Docklands</td> <td>13       </td> <td>7    </td> <td>3    </td> <td>6        </td> <td>1    </td> <td>2      </td> <td>0      </td> <td>0      </td> <td>1         </td> <td>2        </td> <td>2         </td> <td>4       </td> <td>0       </td> <td>4           </td> <td>0            </td> <td>5                   </td> <td>9                     </td> <td>0             </td> <td>0            </td> <td>2            </td> <td>2      </td> <td>0          </td> <td>84           </td>\n",
       "        </tr>\n",
       "        <tr>\n",
       "            <td>Adelaide</td> <td>Ellis-Yolmen, Cam</td> <td>1993-01-28</td> <td>190   </td> <td>97    </td> <td>Midfield         </td> <td>2018  </td> <td>R1   </td> <td>2018-03-23</td> <td>87   </td> <td>-12   </td> <td>L      </td> <td>Essendon  </td> <td>Docklands</td> <td>17       </td> <td>7    </td> <td>5    </td> <td>10       </td> <td>1    </td> <td>0      </td> <td>0      </td> <td>1      </td> <td>2         </td> <td>3        </td> <td>6         </td> <td>2       </td> <td>0       </td> <td>0           </td> <td>0            </td> <td>11                  </td> <td>6                     </td> <td>1             </td> <td>0            </td> <td>0            </td> <td>0      </td> <td>0          </td> <td>67           </td>\n",
       "        </tr>\n",
       "        <tr>\n",
       "            <td>Adelaide</td> <td>Fogarty, Darcy   </td> <td>1999-09-25</td> <td>193   </td> <td>94    </td> <td>Forward          </td> <td>2018  </td> <td>R1   </td> <td>2018-03-23</td> <td>87   </td> <td>-12   </td> <td>L      </td> <td>Essendon  </td> <td>Docklands</td> <td>6        </td> <td>3    </td> <td>3    </td> <td>3        </td> <td>2    </td> <td>0      </td> <td>0      </td> <td>4      </td> <td>0         </td> <td>1        </td> <td>0         </td> <td>2       </td> <td>0       </td> <td>1           </td> <td>0            </td> <td>2                   </td> <td>4                     </td> <td>1             </td> <td>1            </td> <td>0            </td> <td>0      </td> <td>0          </td> <td>83           </td>\n",
       "        </tr>\n",
       "        <tr>\n",
       "            <td>Adelaide</td> <td>Gibbs, Bryce     </td> <td>1989-03-15</td> <td>188   </td> <td>84    </td> <td>Midfield         </td> <td>2018  </td> <td>R1   </td> <td>2018-03-23</td> <td>87   </td> <td>-12   </td> <td>L      </td> <td>Essendon  </td> <td>Docklands</td> <td>35       </td> <td>21   </td> <td>7    </td> <td>14       </td> <td>2    </td> <td>1      </td> <td>0      </td> <td>4      </td> <td>2         </td> <td>8        </td> <td>7         </td> <td>5       </td> <td>1       </td> <td>1           </td> <td>2            </td> <td>13                  </td> <td>21                    </td> <td>0             </td> <td>2            </td> <td>0            </td> <td>1      </td> <td>0          </td> <td>87           </td>\n",
       "        </tr>\n",
       "        <tr>\n",
       "            <td>Adelaide</td> <td>Greenwood, Hugh  </td> <td>1992-03-06</td> <td>191   </td> <td>92    </td> <td>Midfield         </td> <td>2018  </td> <td>R1   </td> <td>2018-03-23</td> <td>87   </td> <td>-12   </td> <td>L      </td> <td>Essendon  </td> <td>Docklands</td> <td>13       </td> <td>8    </td> <td>1    </td> <td>5        </td> <td>1    </td> <td>1      </td> <td>0      </td> <td>2      </td> <td>0         </td> <td>0        </td> <td>3         </td> <td>4       </td> <td>0       </td> <td>0           </td> <td>0            </td> <td>8                   </td> <td>3                     </td> <td>0             </td> <td>0            </td> <td>0            </td> <td>0      </td> <td>0          </td> <td>65           </td>\n",
       "        </tr>\n",
       "    </tbody>\n",
       "</table>\n",
       "<p>... (63702 rows omitted)</p>"
      ],
      "text/plain": [
       "Team     | Player            | D.O.B      | Height | Weight | Position          | Season | Round | Date       | Score | Margin | WinLoss | Opposition | Venue     | Disposals | Kicks | Marks | Handballs | Goals | Behinds | Hitouts | Tackles | Rebound50s | Inside50s | Clearances | Clangers | FreesFor | FreesAgainst | BrownlowVotes | ContendedPossessions | UncontendedPossessions | ContestedMarks | MarksInside50 | OnePercenters | Bounces | GoalAssists | PercentPlayed\n",
       "Adelaide | Atkins, Rory      | 1994-07-12 | 186    | 85     | Midfield          | 2018   | R1    | 2018-03-23 | 87    | -12    | L       | Essendon   | Docklands | 14        | 8     | 1     | 6         | 0     | 2       | 0       | 2       | 2          | 4         | 1          | 1        | 1        | 0            | 0             | 4                    | 9                      | 0              | 0             | 0             | 0       | 1           | 86\n",
       "Adelaide | Betts, Eddie      | 1986-11-26 | 174    | 74     | Forward           | 2018   | R1    | 2018-03-23 | 87    | -12    | L       | Essendon   | Docklands | 14        | 7     | 2     | 7         | 0     | 2       | 0       | 2       | 0          | 1         | 1          | 1        | 1        | 0            | 0             | 6                    | 9                      | 0              | 1             | 3             | 0       | 1           | 85\n",
       "Adelaide | Brown, Luke       | 1992-09-22 | 181    | 81     | Defender          | 2018   | R1    | 2018-03-23 | 87    | -12    | L       | Essendon   | Docklands | 15        | 10    | 2     | 5         | 0     | 0       | 0       | 0       | 5          | 1         | 0          | 0        | 0        | 0            | 0             | 1                    | 10                     | 0              | 0             | 2             | 0       | 0           | 82\n",
       "Adelaide | Crouch, Matt      | 1995-04-21 | 182    | 80     | Midfield          | 2018   | R1    | 2018-03-23 | 87    | -12    | L       | Essendon   | Docklands | 41        | 18    | 6     | 23        | 0     | 0       | 0       | 2       | 3          | 3         | 7          | 4        | 0        | 1            | 0             | 11                   | 31                     | 0              | 0             | 0             | 0       | 1           | 80\n",
       "Adelaide | Doedee, Tom       | 1997-03-01 | 188    | 88     | Defender          | 2018   | R1    | 2018-03-23 | 87    | -12    | L       | Essendon   | Docklands | 21        | 7     | 7     | 14        | 0     | 0       | 0       | 2       | 4          | 1         | 0          | 2        | 2        | 0            | 0             | 8                    | 14                     | 0              | 0             | 9             | 1       | 0           | 93\n",
       "Adelaide | Douglas, Richard  | 1987-02-06 | 181    | 79     | Midfield, Forward | 2018   | R1    | 2018-03-23 | 87    | -12    | L       | Essendon   | Docklands | 13        | 7     | 3     | 6         | 1     | 2       | 0       | 0       | 1          | 2         | 2          | 4        | 0        | 4            | 0             | 5                    | 9                      | 0              | 0             | 2             | 2       | 0           | 84\n",
       "Adelaide | Ellis-Yolmen, Cam | 1993-01-28 | 190    | 97     | Midfield          | 2018   | R1    | 2018-03-23 | 87    | -12    | L       | Essendon   | Docklands | 17        | 7     | 5     | 10        | 1     | 0       | 0       | 1       | 2          | 3         | 6          | 2        | 0        | 0            | 0             | 11                   | 6                      | 1              | 0             | 0             | 0       | 0           | 67\n",
       "Adelaide | Fogarty, Darcy    | 1999-09-25 | 193    | 94     | Forward           | 2018   | R1    | 2018-03-23 | 87    | -12    | L       | Essendon   | Docklands | 6         | 3     | 3     | 3         | 2     | 0       | 0       | 4       | 0          | 1         | 0          | 2        | 0        | 1            | 0             | 2                    | 4                      | 1              | 1             | 0             | 0       | 0           | 83\n",
       "Adelaide | Gibbs, Bryce      | 1989-03-15 | 188    | 84     | Midfield          | 2018   | R1    | 2018-03-23 | 87    | -12    | L       | Essendon   | Docklands | 35        | 21    | 7     | 14        | 2     | 1       | 0       | 4       | 2          | 8         | 7          | 5        | 1        | 1            | 2             | 13                   | 21                     | 0              | 2             | 0             | 1       | 0           | 87\n",
       "Adelaide | Greenwood, Hugh   | 1992-03-06 | 191    | 92     | Midfield          | 2018   | R1    | 2018-03-23 | 87    | -12    | L       | Essendon   | Docklands | 13        | 8     | 1     | 5         | 1     | 1       | 0       | 2       | 0          | 0         | 3          | 4        | 0        | 0            | 0             | 8                    | 3                      | 0              | 0             | 0             | 0       | 0           | 65\n",
       "... (63702 rows omitted)"
      ]
     },
     "execution_count": 26,
     "metadata": {},
     "output_type": "execute_result"
    }
   ],
   "source": [
    "#Now I will bring the stats dataset in so that I can begin to look it over\n",
    "stats = Table().read_table(\"stats.csv\")\n",
    "stats"
   ]
  },
  {
   "cell_type": "code",
   "execution_count": 27,
   "metadata": {},
   "outputs": [
    {
     "data": {
      "text/html": [
       "<table border=\"1\" class=\"dataframe\">\n",
       "    <thead>\n",
       "        <tr>\n",
       "            <th>Team</th> <th>Disposals sum</th> <th>Kicks sum</th> <th>Marks sum</th> <th>Handballs sum</th> <th>Goals sum</th> <th>Behinds sum</th> <th>Hitouts sum</th> <th>Tackles sum</th> <th>Rebound50s sum</th> <th>Inside50s sum</th> <th>Clearances sum</th> <th>Clangers sum</th> <th>FreesFor sum</th> <th>FreesAgainst sum</th> <th>BrownlowVotes sum</th> <th>ContendedPossessions sum</th> <th>UncontendedPossessions sum</th> <th>ContestedMarks sum</th> <th>OnePercenters sum</th> <th>Bounces sum</th> <th>GoalAssists sum</th> <th>PercentPlayed sum</th>\n",
       "        </tr>\n",
       "    </thead>\n",
       "    <tbody>\n",
       "        <tr>\n",
       "            <td>Adelaide              </td> <td>8764         </td> <td>5429     </td> <td>2275     </td> <td>3335         </td> <td>388      </td> <td>265        </td> <td>1095       </td> <td>1458       </td> <td>841           </td> <td>1304         </td> <td>1006          </td> <td>1096        </td> <td>434         </td> <td>456             </td> <td>88               </td> <td>3713                    </td> <td>4996                      </td> <td>318               </td> <td>1192             </td> <td>169        </td> <td>270            </td> <td>45000            </td>\n",
       "        </tr>\n",
       "        <tr>\n",
       "            <td>Brisbane Lions        </td> <td>7716         </td> <td>4403     </td> <td>1890     </td> <td>3313         </td> <td>279      </td> <td>185        </td> <td>749        </td> <td>1393       </td> <td>817           </td> <td>1048         </td> <td>808           </td> <td>1097        </td> <td>398         </td> <td>446             </td> <td>55               </td> <td>3086                    </td> <td>4595                      </td> <td>204               </td> <td>1230             </td> <td>116        </td> <td>172            </td> <td>39598            </td>\n",
       "        </tr>\n",
       "        <tr>\n",
       "            <td>Carlton               </td> <td>7853         </td> <td>4625     </td> <td>1975     </td> <td>3228         </td> <td>299      </td> <td>227        </td> <td>937        </td> <td>1520       </td> <td>651           </td> <td>1165         </td> <td>867           </td> <td>986         </td> <td>398         </td> <td>419             </td> <td>76               </td> <td>3131                    </td> <td>4648                      </td> <td>230               </td> <td>1128             </td> <td>272        </td> <td>187            </td> <td>39597            </td>\n",
       "        </tr>\n",
       "        <tr>\n",
       "            <td>Collingwood           </td> <td>9231         </td> <td>5481     </td> <td>2294     </td> <td>3750         </td> <td>340      </td> <td>257        </td> <td>905        </td> <td>1625       </td> <td>893           </td> <td>1307         </td> <td>965           </td> <td>1088        </td> <td>410         </td> <td>410             </td> <td>85               </td> <td>3658                    </td> <td>5522                      </td> <td>313               </td> <td>1265             </td> <td>307        </td> <td>222            </td> <td>44991            </td>\n",
       "        </tr>\n",
       "        <tr>\n",
       "            <td>Essendon              </td> <td>7765         </td> <td>4666     </td> <td>2003     </td> <td>3099         </td> <td>299      </td> <td>243        </td> <td>942        </td> <td>1345       </td> <td>774           </td> <td>1225         </td> <td>798           </td> <td>1027        </td> <td>418         </td> <td>403             </td> <td>63               </td> <td>3147                    </td> <td>4600                      </td> <td>261               </td> <td>1094             </td> <td>168        </td> <td>202            </td> <td>39697            </td>\n",
       "        </tr>\n",
       "        <tr>\n",
       "            <td>Fremantle             </td> <td>8168         </td> <td>4860     </td> <td>2180     </td> <td>3308         </td> <td>297      </td> <td>199        </td> <td>1034       </td> <td>1589       </td> <td>717           </td> <td>1131         </td> <td>848           </td> <td>1028        </td> <td>456         </td> <td>418             </td> <td>75               </td> <td>3342                    </td> <td>4801                      </td> <td>290               </td> <td>1031             </td> <td>138        </td> <td>201            </td> <td>41404            </td>\n",
       "        </tr>\n",
       "        <tr>\n",
       "            <td>Geelong               </td> <td>7865         </td> <td>4624     </td> <td>2074     </td> <td>3241         </td> <td>322      </td> <td>210        </td> <td>825        </td> <td>1552       </td> <td>672           </td> <td>1227         </td> <td>786           </td> <td>1065        </td> <td>421         </td> <td>466             </td> <td>79               </td> <td>3153                    </td> <td>4689                      </td> <td>291               </td> <td>1101             </td> <td>143        </td> <td>218            </td> <td>39594            </td>\n",
       "        </tr>\n",
       "        <tr>\n",
       "            <td>Gold Coast            </td> <td>7505         </td> <td>4101     </td> <td>1787     </td> <td>3404         </td> <td>215      </td> <td>178        </td> <td>661        </td> <td>1188       </td> <td>731           </td> <td>931          </td> <td>751           </td> <td>1070        </td> <td>382         </td> <td>409             </td> <td>43               </td> <td>2904                    </td> <td>4591                      </td> <td>223               </td> <td>1109             </td> <td>270        </td> <td>162            </td> <td>39704            </td>\n",
       "        </tr>\n",
       "        <tr>\n",
       "            <td>Greater Western Sydney</td> <td>7550         </td> <td>4208     </td> <td>1789     </td> <td>3342         </td> <td>182      </td> <td>143        </td> <td>795        </td> <td>1277       </td> <td>856           </td> <td>841          </td> <td>778           </td> <td>1072        </td> <td>478         </td> <td>438             </td> <td>22               </td> <td>2940                    </td> <td>4560                      </td> <td>239               </td> <td>1003             </td> <td>187        </td> <td>123            </td> <td>39592            </td>\n",
       "        </tr>\n",
       "        <tr>\n",
       "            <td>Hawthorn              </td> <td>9370         </td> <td>5446     </td> <td>2255     </td> <td>3924         </td> <td>435      </td> <td>329        </td> <td>993        </td> <td>1687       </td> <td>742           </td> <td>1490         </td> <td>1041          </td> <td>1088        </td> <td>482         </td> <td>467             </td> <td>92               </td> <td>3635                    </td> <td>5724                      </td> <td>230               </td> <td>1341             </td> <td>200        </td> <td>294            </td> <td>44981            </td>\n",
       "        </tr>\n",
       "        <tr>\n",
       "            <td>Melbourne             </td> <td>7224         </td> <td>4202     </td> <td>1832     </td> <td>3022         </td> <td>224      </td> <td>194        </td> <td>904        </td> <td>1467       </td> <td>779           </td> <td>995          </td> <td>743           </td> <td>1055        </td> <td>409         </td> <td>453             </td> <td>27               </td> <td>2950                    </td> <td>4196                      </td> <td>297               </td> <td>1102             </td> <td>180        </td> <td>127            </td> <td>39605            </td>\n",
       "        </tr>\n",
       "        <tr>\n",
       "            <td>North Melbourne       </td> <td>8160         </td> <td>4504     </td> <td>1941     </td> <td>3656         </td> <td>351      </td> <td>200        </td> <td>881        </td> <td>1330       </td> <td>721           </td> <td>1224         </td> <td>837           </td> <td>1040        </td> <td>403         </td> <td>438             </td> <td>69               </td> <td>3037                    </td> <td>5075                      </td> <td>242               </td> <td>1081             </td> <td>333        </td> <td>218            </td> <td>39594            </td>\n",
       "        </tr>\n",
       "        <tr>\n",
       "            <td>Port Adelaide         </td> <td>7480         </td> <td>4180     </td> <td>1777     </td> <td>3300         </td> <td>243      </td> <td>174        </td> <td>774        </td> <td>1309       </td> <td>753           </td> <td>1010         </td> <td>831           </td> <td>1076        </td> <td>471         </td> <td>426             </td> <td>40               </td> <td>2985                    </td> <td>4453                      </td> <td>218               </td> <td>986              </td> <td>263        </td> <td>150            </td> <td>39598            </td>\n",
       "        </tr>\n",
       "        <tr>\n",
       "            <td>Richmond              </td> <td>8376         </td> <td>4687     </td> <td>2027     </td> <td>3689         </td> <td>311      </td> <td>249        </td> <td>860        </td> <td>1365       </td> <td>652           </td> <td>1242         </td> <td>835           </td> <td>998         </td> <td>440         </td> <td>410             </td> <td>83               </td> <td>3206                    </td> <td>5135                      </td> <td>267               </td> <td>1083             </td> <td>265        </td> <td>197            </td> <td>39600            </td>\n",
       "        </tr>\n",
       "        <tr>\n",
       "            <td>St Kilda              </td> <td>7869         </td> <td>4730     </td> <td>2099     </td> <td>3139         </td> <td>345      </td> <td>228        </td> <td>743        </td> <td>1483       </td> <td>707           </td> <td>1184         </td> <td>821           </td> <td>1009        </td> <td>404         </td> <td>396             </td> <td>73               </td> <td>3015                    </td> <td>4811                      </td> <td>269               </td> <td>1096             </td> <td>336        </td> <td>218            </td> <td>39604            </td>\n",
       "        </tr>\n",
       "        <tr>\n",
       "            <td>Sydney                </td> <td>9233         </td> <td>5108     </td> <td>1876     </td> <td>4125         </td> <td>376      </td> <td>219        </td> <td>1059       </td> <td>1830       </td> <td>935           </td> <td>1361         </td> <td>1005          </td> <td>1140        </td> <td>462         </td> <td>459             </td> <td>95               </td> <td>3784                    </td> <td>5325                      </td> <td>286               </td> <td>1425             </td> <td>265        </td> <td>248            </td> <td>44999            </td>\n",
       "        </tr>\n",
       "        <tr>\n",
       "            <td>West Coast            </td> <td>8238         </td> <td>4774     </td> <td>2160     </td> <td>3464         </td> <td>336      </td> <td>225        </td> <td>1166       </td> <td>1365       </td> <td>698           </td> <td>1220         </td> <td>884           </td> <td>959         </td> <td>517         </td> <td>411             </td> <td>83               </td> <td>3237                    </td> <td>4983                      </td> <td>331               </td> <td>1067             </td> <td>302        </td> <td>202            </td> <td>41385            </td>\n",
       "        </tr>\n",
       "        <tr>\n",
       "            <td>Western Bulldogs      </td> <td>8131         </td> <td>4460     </td> <td>1919     </td> <td>3671         </td> <td>218      </td> <td>188        </td> <td>950        </td> <td>1336       </td> <td>737           </td> <td>1062         </td> <td>857           </td> <td>981         </td> <td>383         </td> <td>392             </td> <td>40               </td> <td>3130                    </td> <td>4981                      </td> <td>257               </td> <td>1026             </td> <td>187        </td> <td>143            </td> <td>39600            </td>\n",
       "        </tr>\n",
       "    </tbody>\n",
       "</table>"
      ],
      "text/plain": [
       "<IPython.core.display.HTML object>"
      ]
     },
     "metadata": {},
     "output_type": "display_data"
    }
   ],
   "source": [
    "#here is our annual summary statistics for each team in the relevant statistical categories defined in\n",
    "#my data dictionary.  I made a function where you plug in the year and the output is the team statistics for that\n",
    "#year.  In the next 18 cells, I will do summary statistics for each year from 2012-2019 excluding EF rounds which\n",
    "#is the postseason\n",
    "def ann_sum_statistics(year):\n",
    "    year_table = stats.where(\"Season\", year).where(\"Round\", are.not_equal_to(\"EF\")).group(\"Team\", sum).select(0,14,15,16,17,18,19,20,21,22,23,24,25,26,27,28,29,30,31,33,34,35,36)\n",
    "    return year_table\n",
    "ann_sum_statistics(2012).show(18)"
   ]
  },
  {
   "cell_type": "code",
   "execution_count": 28,
   "metadata": {},
   "outputs": [
    {
     "data": {
      "text/html": [
       "<table border=\"1\" class=\"dataframe\">\n",
       "    <thead>\n",
       "        <tr>\n",
       "            <th>Team</th> <th>Disposals sum</th> <th>Kicks sum</th> <th>Marks sum</th> <th>Handballs sum</th> <th>Goals sum</th> <th>Behinds sum</th> <th>Hitouts sum</th> <th>Tackles sum</th> <th>Rebound50s sum</th> <th>Inside50s sum</th> <th>Clearances sum</th> <th>Clangers sum</th> <th>FreesFor sum</th> <th>FreesAgainst sum</th> <th>BrownlowVotes sum</th> <th>ContendedPossessions sum</th> <th>UncontendedPossessions sum</th> <th>ContestedMarks sum</th> <th>OnePercenters sum</th> <th>Bounces sum</th> <th>GoalAssists sum</th> <th>PercentPlayed sum</th>\n",
       "        </tr>\n",
       "    </thead>\n",
       "    <tbody>\n",
       "        <tr>\n",
       "            <td>Adelaide              </td> <td>8092         </td> <td>4780     </td> <td>2085     </td> <td>3312         </td> <td>297      </td> <td>225        </td> <td>854        </td> <td>1286       </td> <td>743           </td> <td>1170         </td> <td>811           </td> <td>958         </td> <td>425         </td> <td>388             </td> <td>65               </td> <td>3184                    </td> <td>4831                      </td> <td>233               </td> <td>922              </td> <td>214        </td> <td>193            </td> <td>39601            </td>\n",
       "        </tr>\n",
       "        <tr>\n",
       "            <td>Brisbane Lions        </td> <td>7540         </td> <td>4336     </td> <td>1819     </td> <td>3204         </td> <td>276      </td> <td>207        </td> <td>836        </td> <td>1398       </td> <td>782           </td> <td>1117         </td> <td>785           </td> <td>1042        </td> <td>395         </td> <td>460             </td> <td>64               </td> <td>2972                    </td> <td>4487                      </td> <td>220               </td> <td>1062             </td> <td>206        </td> <td>194            </td> <td>39588            </td>\n",
       "        </tr>\n",
       "        <tr>\n",
       "            <td>Carlton               </td> <td>7859         </td> <td>4813     </td> <td>1879     </td> <td>3046         </td> <td>312      </td> <td>244        </td> <td>1007       </td> <td>1447       </td> <td>750           </td> <td>1222         </td> <td>907           </td> <td>980         </td> <td>385         </td> <td>376             </td> <td>71               </td> <td>3397                    </td> <td>4361                      </td> <td>296               </td> <td>1143             </td> <td>338        </td> <td>217            </td> <td>41398            </td>\n",
       "        </tr>\n",
       "        <tr>\n",
       "            <td>Collingwood           </td> <td>8397         </td> <td>4791     </td> <td>2169     </td> <td>3606         </td> <td>310      </td> <td>229        </td> <td>694        </td> <td>1425       </td> <td>713           </td> <td>1205         </td> <td>768           </td> <td>980         </td> <td>360         </td> <td>347             </td> <td>82               </td> <td>3099                    </td> <td>5261                      </td> <td>244               </td> <td>965              </td> <td>336        </td> <td>226            </td> <td>39598            </td>\n",
       "        </tr>\n",
       "        <tr>\n",
       "            <td>Essendon              </td> <td>8269         </td> <td>4898     </td> <td>2213     </td> <td>3371         </td> <td>312      </td> <td>216        </td> <td>882        </td> <td>1331       </td> <td>731           </td> <td>1208         </td> <td>822           </td> <td>949         </td> <td>347         </td> <td>364             </td> <td>72               </td> <td>3104                    </td> <td>5102                      </td> <td>273               </td> <td>942              </td> <td>193        </td> <td>216            </td> <td>39607            </td>\n",
       "        </tr>\n",
       "        <tr>\n",
       "            <td>Fremantle             </td> <td>9080         </td> <td>5390     </td> <td>2434     </td> <td>3690         </td> <td>336      </td> <td>216        </td> <td>1017       </td> <td>1647       </td> <td>794           </td> <td>1193         </td> <td>916           </td> <td>1133        </td> <td>455         </td> <td>488             </td> <td>90               </td> <td>3567                    </td> <td>5513                      </td> <td>254               </td> <td>1079             </td> <td>240        </td> <td>233            </td> <td>44984            </td>\n",
       "        </tr>\n",
       "        <tr>\n",
       "            <td>Geelong               </td> <td>9253         </td> <td>5152     </td> <td>2272     </td> <td>4101         </td> <td>390      </td> <td>260        </td> <td>881        </td> <td>1650       </td> <td>783           </td> <td>1440         </td> <td>856           </td> <td>1084        </td> <td>486         </td> <td>407             </td> <td>89               </td> <td>3625                    </td> <td>5598                      </td> <td>301               </td> <td>1070             </td> <td>161        </td> <td>260            </td> <td>44998            </td>\n",
       "        </tr>\n",
       "        <tr>\n",
       "            <td>Gold Coast            </td> <td>7721         </td> <td>4398     </td> <td>1792     </td> <td>3323         </td> <td>276      </td> <td>224        </td> <td>695        </td> <td>1326       </td> <td>768           </td> <td>1091         </td> <td>839           </td> <td>1014        </td> <td>349         </td> <td>377             </td> <td>62               </td> <td>3065                    </td> <td>4581                      </td> <td>212               </td> <td>1098             </td> <td>290        </td> <td>196            </td> <td>39605            </td>\n",
       "        </tr>\n",
       "        <tr>\n",
       "            <td>Greater Western Sydney</td> <td>7363         </td> <td>4242     </td> <td>1869     </td> <td>3121         </td> <td>221      </td> <td>151        </td> <td>824        </td> <td>1297       </td> <td>803           </td> <td>876          </td> <td>798           </td> <td>1102        </td> <td>394         </td> <td>425             </td> <td>17               </td> <td>2770                    </td> <td>4531                      </td> <td>160               </td> <td>862              </td> <td>231        </td> <td>137            </td> <td>39586            </td>\n",
       "        </tr>\n",
       "        <tr>\n",
       "            <td>Hawthorn              </td> <td>9338         </td> <td>5408     </td> <td>2259     </td> <td>3930         </td> <td>414      </td> <td>266        </td> <td>1023       </td> <td>1613       </td> <td>772           </td> <td>1392         </td> <td>957           </td> <td>1053        </td> <td>453         </td> <td>453             </td> <td>83               </td> <td>3555                    </td> <td>5766                      </td> <td>271               </td> <td>1276             </td> <td>193        </td> <td>286            </td> <td>44995            </td>\n",
       "        </tr>\n",
       "        <tr>\n",
       "            <td>Melbourne             </td> <td>7008         </td> <td>3999     </td> <td>1816     </td> <td>3009         </td> <td>209      </td> <td>167        </td> <td>919        </td> <td>1343       </td> <td>777           </td> <td>881          </td> <td>722           </td> <td>991         </td> <td>414         </td> <td>415             </td> <td>16               </td> <td>2722                    </td> <td>4216                      </td> <td>218               </td> <td>950              </td> <td>277        </td> <td>130            </td> <td>39598            </td>\n",
       "        </tr>\n",
       "        <tr>\n",
       "            <td>North Melbourne       </td> <td>8029         </td> <td>4761     </td> <td>2064     </td> <td>3268         </td> <td>342      </td> <td>194        </td> <td>972        </td> <td>1289       </td> <td>728           </td> <td>1125         </td> <td>862           </td> <td>948         </td> <td>445         </td> <td>388             </td> <td>77               </td> <td>3092                    </td> <td>4867                      </td> <td>241               </td> <td>842              </td> <td>283        </td> <td>217            </td> <td>39610            </td>\n",
       "        </tr>\n",
       "        <tr>\n",
       "            <td>Port Adelaide         </td> <td>8329         </td> <td>4614     </td> <td>1956     </td> <td>3715         </td> <td>310      </td> <td>219        </td> <td>889        </td> <td>1536       </td> <td>698           </td> <td>1181         </td> <td>863           </td> <td>1087        </td> <td>429         </td> <td>437             </td> <td>66               </td> <td>3179                    </td> <td>5108                      </td> <td>204               </td> <td>913              </td> <td>235        </td> <td>217            </td> <td>41397            </td>\n",
       "        </tr>\n",
       "        <tr>\n",
       "            <td>Richmond              </td> <td>8099         </td> <td>4869     </td> <td>2171     </td> <td>3230         </td> <td>311      </td> <td>235        </td> <td>781        </td> <td>1230       </td> <td>738           </td> <td>1152         </td> <td>826           </td> <td>989         </td> <td>412         </td> <td>406             </td> <td>81               </td> <td>3013                    </td> <td>5043                      </td> <td>236               </td> <td>961              </td> <td>312        </td> <td>211            </td> <td>39588            </td>\n",
       "        </tr>\n",
       "        <tr>\n",
       "            <td>St Kilda              </td> <td>7890         </td> <td>4508     </td> <td>2037     </td> <td>3382         </td> <td>251      </td> <td>205        </td> <td>744        </td> <td>1244       </td> <td>762           </td> <td>1020         </td> <td>744           </td> <td>1049        </td> <td>355         </td> <td>394             </td> <td>42               </td> <td>2852                    </td> <td>5015                      </td> <td>240               </td> <td>886              </td> <td>398        </td> <td>184            </td> <td>39601            </td>\n",
       "        </tr>\n",
       "        <tr>\n",
       "            <td>Sydney                </td> <td>9227         </td> <td>5078     </td> <td>1768     </td> <td>4149         </td> <td>363      </td> <td>227        </td> <td>1181       </td> <td>1778       </td> <td>911           </td> <td>1339         </td> <td>1052          </td> <td>1147        </td> <td>430         </td> <td>434             </td> <td>95               </td> <td>3881                    </td> <td>5203                      </td> <td>263               </td> <td>1206             </td> <td>203        </td> <td>247            </td> <td>45004            </td>\n",
       "        </tr>\n",
       "        <tr>\n",
       "            <td>West Coast            </td> <td>7606         </td> <td>4492     </td> <td>1924     </td> <td>3114         </td> <td>295      </td> <td>202        </td> <td>1040       </td> <td>1512       </td> <td>716           </td> <td>1057         </td> <td>865           </td> <td>945         </td> <td>443         </td> <td>362             </td> <td>53               </td> <td>3148                    </td> <td>4414                      </td> <td>261               </td> <td>974              </td> <td>242        </td> <td>198            </td> <td>39610            </td>\n",
       "        </tr>\n",
       "        <tr>\n",
       "            <td>Western Bulldogs      </td> <td>8090         </td> <td>4363     </td> <td>1676     </td> <td>3727         </td> <td>283      </td> <td>188        </td> <td>960        </td> <td>1455       </td> <td>704           </td> <td>1121         </td> <td>920           </td> <td>987         </td> <td>427         </td> <td>435             </td> <td>63               </td> <td>3279                    </td> <td>4788                      </td> <td>251               </td> <td>1017             </td> <td>204        </td> <td>188            </td> <td>39612            </td>\n",
       "        </tr>\n",
       "    </tbody>\n",
       "</table>"
      ],
      "text/plain": [
       "<IPython.core.display.HTML object>"
      ]
     },
     "metadata": {},
     "output_type": "display_data"
    }
   ],
   "source": [
    "ann_sum_statistics(2013).show(18)"
   ]
  },
  {
   "cell_type": "code",
   "execution_count": 29,
   "metadata": {},
   "outputs": [
    {
     "data": {
      "text/html": [
       "<table border=\"1\" class=\"dataframe\">\n",
       "    <thead>\n",
       "        <tr>\n",
       "            <th>Team</th> <th>Disposals sum</th> <th>Kicks sum</th> <th>Marks sum</th> <th>Handballs sum</th> <th>Goals sum</th> <th>Behinds sum</th> <th>Hitouts sum</th> <th>Tackles sum</th> <th>Rebound50s sum</th> <th>Inside50s sum</th> <th>Clearances sum</th> <th>Clangers sum</th> <th>FreesFor sum</th> <th>FreesAgainst sum</th> <th>BrownlowVotes sum</th> <th>ContendedPossessions sum</th> <th>UncontendedPossessions sum</th> <th>ContestedMarks sum</th> <th>OnePercenters sum</th> <th>Bounces sum</th> <th>GoalAssists sum</th> <th>PercentPlayed sum</th>\n",
       "        </tr>\n",
       "    </thead>\n",
       "    <tbody>\n",
       "        <tr>\n",
       "            <td>Adelaide              </td> <td>8070         </td> <td>4562     </td> <td>1872     </td> <td>3508         </td> <td>315      </td> <td>225        </td> <td>886        </td> <td>1366       </td> <td>776           </td> <td>1212         </td> <td>862           </td> <td>928         </td> <td>371         </td> <td>319             </td> <td>71               </td> <td>3189                    </td> <td>4804                      </td> <td>247               </td> <td>1109             </td> <td>254        </td> <td>209            </td> <td>39598            </td>\n",
       "        </tr>\n",
       "        <tr>\n",
       "            <td>Brisbane Lions        </td> <td>7669         </td> <td>4163     </td> <td>1882     </td> <td>3506         </td> <td>221      </td> <td>148        </td> <td>840        </td> <td>1405       </td> <td>780           </td> <td>1002         </td> <td>808           </td> <td>965         </td> <td>382         </td> <td>395             </td> <td>42               </td> <td>2749                    </td> <td>4835                      </td> <td>162               </td> <td>1166             </td> <td>166        </td> <td>149            </td> <td>39610            </td>\n",
       "        </tr>\n",
       "        <tr>\n",
       "            <td>Carlton               </td> <td>7510         </td> <td>4620     </td> <td>2031     </td> <td>2890         </td> <td>276      </td> <td>188        </td> <td>899        </td> <td>1353       </td> <td>782           </td> <td>1046         </td> <td>841           </td> <td>911         </td> <td>396         </td> <td>317             </td> <td>59               </td> <td>2937                    </td> <td>4530                      </td> <td>211               </td> <td>1132             </td> <td>304        </td> <td>187            </td> <td>39590            </td>\n",
       "        </tr>\n",
       "        <tr>\n",
       "            <td>Collingwood           </td> <td>7703         </td> <td>4431     </td> <td>1872     </td> <td>3272         </td> <td>252      </td> <td>191        </td> <td>778        </td> <td>1564       </td> <td>750           </td> <td>1092         </td> <td>760           </td> <td>1022        </td> <td>325         </td> <td>355             </td> <td>60               </td> <td>2965                    </td> <td>4691                      </td> <td>191               </td> <td>1103             </td> <td>222        </td> <td>172            </td> <td>39612            </td>\n",
       "        </tr>\n",
       "        <tr>\n",
       "            <td>Essendon              </td> <td>8471         </td> <td>4951     </td> <td>2399     </td> <td>3520         </td> <td>262      </td> <td>185        </td> <td>808        </td> <td>1451       </td> <td>699           </td> <td>1170         </td> <td>826           </td> <td>937         </td> <td>345         </td> <td>355             </td> <td>68               </td> <td>2965                    </td> <td>5504                      </td> <td>234               </td> <td>1044             </td> <td>125        </td> <td>179            </td> <td>39591            </td>\n",
       "        </tr>\n",
       "        <tr>\n",
       "            <td>Fremantle             </td> <td>8736         </td> <td>4968     </td> <td>2126     </td> <td>3768         </td> <td>318      </td> <td>224        </td> <td>1284       </td> <td>1561       </td> <td>766           </td> <td>1199         </td> <td>943           </td> <td>1011        </td> <td>356         </td> <td>415             </td> <td>87               </td> <td>3464                    </td> <td>5238                      </td> <td>262               </td> <td>1060             </td> <td>164        </td> <td>223            </td> <td>43193            </td>\n",
       "        </tr>\n",
       "        <tr>\n",
       "            <td>Geelong               </td> <td>8690         </td> <td>4904     </td> <td>2245     </td> <td>3786         </td> <td>315      </td> <td>237        </td> <td>924        </td> <td>1676       </td> <td>721           </td> <td>1247         </td> <td>814           </td> <td>1039        </td> <td>407         </td> <td>397             </td> <td>85               </td> <td>3266                    </td> <td>5452                      </td> <td>275               </td> <td>1155             </td> <td>151        </td> <td>228            </td> <td>43189            </td>\n",
       "        </tr>\n",
       "        <tr>\n",
       "            <td>Gold Coast            </td> <td>7574         </td> <td>4327     </td> <td>1609     </td> <td>3247         </td> <td>278      </td> <td>197        </td> <td>723        </td> <td>1470       </td> <td>793           </td> <td>1094         </td> <td>883           </td> <td>1044        </td> <td>343         </td> <td>384             </td> <td>57               </td> <td>3174                    </td> <td>4298                      </td> <td>194               </td> <td>1251             </td> <td>234        </td> <td>189            </td> <td>39571            </td>\n",
       "        </tr>\n",
       "        <tr>\n",
       "            <td>Greater Western Sydney</td> <td>7842         </td> <td>4428     </td> <td>1920     </td> <td>3414         </td> <td>256      </td> <td>196        </td> <td>944        </td> <td>1499       </td> <td>813           </td> <td>1032         </td> <td>868           </td> <td>1000        </td> <td>363         </td> <td>400             </td> <td>46               </td> <td>2864                    </td> <td>4883                      </td> <td>158               </td> <td>1037             </td> <td>272        </td> <td>157            </td> <td>39594            </td>\n",
       "        </tr>\n",
       "        <tr>\n",
       "            <td>Hawthorn              </td> <td>9908         </td> <td>5574     </td> <td>2331     </td> <td>4334         </td> <td>418      </td> <td>224        </td> <td>1118       </td> <td>1558       </td> <td>799           </td> <td>1383         </td> <td>1023          </td> <td>1054        </td> <td>405         </td> <td>394             </td> <td>90               </td> <td>3567                    </td> <td>6234                      </td> <td>236               </td> <td>1360             </td> <td>265        </td> <td>293            </td> <td>45002            </td>\n",
       "        </tr>\n",
       "        <tr>\n",
       "            <td>Melbourne             </td> <td>7725         </td> <td>4304     </td> <td>1945     </td> <td>3421         </td> <td>190      </td> <td>162        </td> <td>986        </td> <td>1395       </td> <td>770           </td> <td>891          </td> <td>753           </td> <td>937         </td> <td>388         </td> <td>379             </td> <td>42               </td> <td>2864                    </td> <td>4805                      </td> <td>218               </td> <td>1059             </td> <td>115        </td> <td>116            </td> <td>39604            </td>\n",
       "        </tr>\n",
       "        <tr>\n",
       "            <td>North Melbourne       </td> <td>8845         </td> <td>4983     </td> <td>2139     </td> <td>3862         </td> <td>314      </td> <td>249        </td> <td>1003       </td> <td>1535       </td> <td>877           </td> <td>1196         </td> <td>912           </td> <td>1026        </td> <td>421         </td> <td>410             </td> <td>74               </td> <td>3246                    </td> <td>5502                      </td> <td>240               </td> <td>1193             </td> <td>318        </td> <td>204            </td> <td>43185            </td>\n",
       "        </tr>\n",
       "        <tr>\n",
       "            <td>Port Adelaide         </td> <td>8970         </td> <td>5016     </td> <td>2157     </td> <td>3954         </td> <td>342      </td> <td>255        </td> <td>1018       </td> <td>1686       </td> <td>712           </td> <td>1347         </td> <td>970           </td> <td>1104        </td> <td>403         </td> <td>403             </td> <td>85               </td> <td>3445                    </td> <td>5459                      </td> <td>258               </td> <td>1241             </td> <td>354        </td> <td>242            </td> <td>43206            </td>\n",
       "        </tr>\n",
       "        <tr>\n",
       "            <td>Richmond              </td> <td>8165         </td> <td>4583     </td> <td>1921     </td> <td>3582         </td> <td>274      </td> <td>188        </td> <td>896        </td> <td>1415       </td> <td>752           </td> <td>1113         </td> <td>895           </td> <td>1036        </td> <td>410         </td> <td>409             </td> <td>69               </td> <td>3030                    </td> <td>5042                      </td> <td>195               </td> <td>1085             </td> <td>193        </td> <td>187            </td> <td>39602            </td>\n",
       "        </tr>\n",
       "        <tr>\n",
       "            <td>St Kilda              </td> <td>7561         </td> <td>4334     </td> <td>2018     </td> <td>3227         </td> <td>212      </td> <td>168        </td> <td>792        </td> <td>1422       </td> <td>761           </td> <td>965          </td> <td>799           </td> <td>999         </td> <td>341         </td> <td>369             </td> <td>34               </td> <td>2778                    </td> <td>4737                      </td> <td>208               </td> <td>928              </td> <td>223        </td> <td>149            </td> <td>39587            </td>\n",
       "        </tr>\n",
       "        <tr>\n",
       "            <td>Sydney                </td> <td>9450         </td> <td>5232     </td> <td>2060     </td> <td>4218         </td> <td>351      </td> <td>248        </td> <td>927        </td> <td>1809       </td> <td>871           </td> <td>1406         </td> <td>974           </td> <td>1129        </td> <td>422         </td> <td>407             </td> <td>96               </td> <td>3674                    </td> <td>5717                      </td> <td>256               </td> <td>1408             </td> <td>191        </td> <td>248            </td> <td>45011            </td>\n",
       "        </tr>\n",
       "        <tr>\n",
       "            <td>West Coast            </td> <td>7831         </td> <td>4538     </td> <td>1958     </td> <td>3293         </td> <td>300      </td> <td>193        </td> <td>1077       </td> <td>1541       </td> <td>707           </td> <td>1118         </td> <td>850           </td> <td>912         </td> <td>382         </td> <td>334             </td> <td>73               </td> <td>3068                    </td> <td>4701                      </td> <td>224               </td> <td>1125             </td> <td>225        </td> <td>202            </td> <td>39603            </td>\n",
       "        </tr>\n",
       "        <tr>\n",
       "            <td>Western Bulldogs      </td> <td>7963         </td> <td>4222     </td> <td>1575     </td> <td>3741         </td> <td>257      </td> <td>187        </td> <td>904        </td> <td>1548       </td> <td>698           </td> <td>1083         </td> <td>882           </td> <td>914         </td> <td>379         </td> <td>373             </td> <td>50               </td> <td>3141                    </td> <td>4736                      </td> <td>178               </td> <td>1030             </td> <td>214        </td> <td>166            </td> <td>39563            </td>\n",
       "        </tr>\n",
       "    </tbody>\n",
       "</table>"
      ],
      "text/plain": [
       "<IPython.core.display.HTML object>"
      ]
     },
     "metadata": {},
     "output_type": "display_data"
    }
   ],
   "source": [
    "ann_sum_statistics(2014).show(18)"
   ]
  },
  {
   "cell_type": "code",
   "execution_count": 30,
   "metadata": {},
   "outputs": [
    {
     "data": {
      "text/html": [
       "<table border=\"1\" class=\"dataframe\">\n",
       "    <thead>\n",
       "        <tr>\n",
       "            <th>Team</th> <th>Disposals sum</th> <th>Kicks sum</th> <th>Marks sum</th> <th>Handballs sum</th> <th>Goals sum</th> <th>Behinds sum</th> <th>Hitouts sum</th> <th>Tackles sum</th> <th>Rebound50s sum</th> <th>Inside50s sum</th> <th>Clearances sum</th> <th>Clangers sum</th> <th>FreesFor sum</th> <th>FreesAgainst sum</th> <th>BrownlowVotes sum</th> <th>ContendedPossessions sum</th> <th>UncontendedPossessions sum</th> <th>ContestedMarks sum</th> <th>OnePercenters sum</th> <th>Bounces sum</th> <th>GoalAssists sum</th> <th>PercentPlayed sum</th>\n",
       "        </tr>\n",
       "    </thead>\n",
       "    <tbody>\n",
       "        <tr>\n",
       "            <td>Adelaide              </td> <td>7928         </td> <td>4680     </td> <td>1995     </td> <td>3248         </td> <td>316      </td> <td>206        </td> <td>959        </td> <td>1331       </td> <td>760           </td> <td>1211         </td> <td>908           </td> <td>1094        </td> <td>367         </td> <td>370             </td> <td>73               </td> <td>3141                    </td> <td>4729                      </td> <td>239               </td> <td>932              </td> <td>137        </td> <td>233            </td> <td>39616            </td>\n",
       "        </tr>\n",
       "        <tr>\n",
       "            <td>Brisbane Lions        </td> <td>7770         </td> <td>4302     </td> <td>1975     </td> <td>3468         </td> <td>224      </td> <td>165        </td> <td>1029       </td> <td>1376       </td> <td>748           </td> <td>972          </td> <td>900           </td> <td>1055        </td> <td>411         </td> <td>441             </td> <td>35               </td> <td>2840                    </td> <td>4928                      </td> <td>188               </td> <td>929              </td> <td>125        </td> <td>149            </td> <td>39548            </td>\n",
       "        </tr>\n",
       "        <tr>\n",
       "            <td>Carlton               </td> <td>7526         </td> <td>4266     </td> <td>1838     </td> <td>3260         </td> <td>219      </td> <td>171        </td> <td>879        </td> <td>1246       </td> <td>791           </td> <td>971          </td> <td>869           </td> <td>1012        </td> <td>403         </td> <td>386             </td> <td>35               </td> <td>2865                    </td> <td>4646                      </td> <td>213               </td> <td>973              </td> <td>185        </td> <td>151            </td> <td>39581            </td>\n",
       "        </tr>\n",
       "        <tr>\n",
       "            <td>Collingwood           </td> <td>8159         </td> <td>4543     </td> <td>1834     </td> <td>3616         </td> <td>287      </td> <td>182        </td> <td>843        </td> <td>1583       </td> <td>695           </td> <td>1157         </td> <td>858           </td> <td>1008        </td> <td>400         </td> <td>354             </td> <td>66               </td> <td>3178                    </td> <td>4936                      </td> <td>219               </td> <td>1026             </td> <td>113        </td> <td>203            </td> <td>39574            </td>\n",
       "        </tr>\n",
       "        <tr>\n",
       "            <td>Essendon              </td> <td>8311         </td> <td>4621     </td> <td>2104     </td> <td>3690         </td> <td>226      </td> <td>178        </td> <td>754        </td> <td>1459       </td> <td>813           </td> <td>1077         </td> <td>802           </td> <td>1078        </td> <td>399         </td> <td>428             </td> <td>38               </td> <td>3000                    </td> <td>5291                      </td> <td>240               </td> <td>949              </td> <td>109        </td> <td>148            </td> <td>39603            </td>\n",
       "        </tr>\n",
       "        <tr>\n",
       "            <td>Fremantle             </td> <td>9007         </td> <td>5011     </td> <td>2245     </td> <td>3996         </td> <td>293      </td> <td>184        </td> <td>1405       </td> <td>1527       </td> <td>730           </td> <td>1169         </td> <td>1007          </td> <td>1052        </td> <td>412         </td> <td>465             </td> <td>94               </td> <td>3373                    </td> <td>5653                      </td> <td>272               </td> <td>899              </td> <td>129        </td> <td>201            </td> <td>43205            </td>\n",
       "        </tr>\n",
       "        <tr>\n",
       "            <td>Geelong               </td> <td>7664         </td> <td>4175     </td> <td>2039     </td> <td>3489         </td> <td>272      </td> <td>170        </td> <td>725        </td> <td>1429       </td> <td>709           </td> <td>1045         </td> <td>727           </td> <td>972         </td> <td>352         </td> <td>411             </td> <td>64               </td> <td>2771                    </td> <td>4911                      </td> <td>275               </td> <td>835              </td> <td>121        </td> <td>196            </td> <td>37821            </td>\n",
       "        </tr>\n",
       "        <tr>\n",
       "            <td>Gold Coast            </td> <td>7114         </td> <td>4242     </td> <td>1676     </td> <td>2872         </td> <td>235      </td> <td>180        </td> <td>779        </td> <td>1442       </td> <td>832           </td> <td>1005         </td> <td>853           </td> <td>1086        </td> <td>418         </td> <td>382             </td> <td>37               </td> <td>2993                    </td> <td>4040                      </td> <td>216               </td> <td>1079             </td> <td>219        </td> <td>157            </td> <td>39576            </td>\n",
       "        </tr>\n",
       "        <tr>\n",
       "            <td>Greater Western Sydney</td> <td>8006         </td> <td>4385     </td> <td>2020     </td> <td>3621         </td> <td>268      </td> <td>212        </td> <td>881        </td> <td>1485       </td> <td>816           </td> <td>1084         </td> <td>827           </td> <td>1016        </td> <td>379         </td> <td>392             </td> <td>63               </td> <td>2809                    </td> <td>5128                      </td> <td>223               </td> <td>927              </td> <td>355        </td> <td>188            </td> <td>39638            </td>\n",
       "        </tr>\n",
       "        <tr>\n",
       "            <td>Hawthorn              </td> <td>10274        </td> <td>5890     </td> <td>2735     </td> <td>4384         </td> <td>426      </td> <td>234        </td> <td>1156       </td> <td>1705       </td> <td>787           </td> <td>1459         </td> <td>1051          </td> <td>1147        </td> <td>457         </td> <td>439             </td> <td>88               </td> <td>3498                    </td> <td>6777                      </td> <td>273               </td> <td>1319             </td> <td>237        </td> <td>303            </td> <td>46777            </td>\n",
       "        </tr>\n",
       "        <tr>\n",
       "            <td>Melbourne             </td> <td>7473         </td> <td>4146     </td> <td>1785     </td> <td>3327         </td> <td>225      </td> <td>182        </td> <td>1010       </td> <td>1532       </td> <td>775           </td> <td>978          </td> <td>833           </td> <td>962         </td> <td>395         </td> <td>409             </td> <td>42               </td> <td>2974                    </td> <td>4477                      </td> <td>276               </td> <td>841              </td> <td>126        </td> <td>143            </td> <td>39592            </td>\n",
       "        </tr>\n",
       "        <tr>\n",
       "            <td>North Melbourne       </td> <td>8521         </td> <td>4725     </td> <td>2070     </td> <td>3796         </td> <td>321      </td> <td>207        </td> <td>1162       </td> <td>1570       </td> <td>847           </td> <td>1199         </td> <td>937           </td> <td>1111        </td> <td>484         </td> <td>434             </td> <td>68               </td> <td>3244                    </td> <td>5269                      </td> <td>275               </td> <td>876              </td> <td>238        </td> <td>219            </td> <td>43205            </td>\n",
       "        </tr>\n",
       "        <tr>\n",
       "            <td>Port Adelaide         </td> <td>7990         </td> <td>4486     </td> <td>1924     </td> <td>3504         </td> <td>296      </td> <td>170        </td> <td>1097       </td> <td>1586       </td> <td>730           </td> <td>1157         </td> <td>920           </td> <td>1103        </td> <td>391         </td> <td>406             </td> <td>70               </td> <td>3055                    </td> <td>4919                      </td> <td>232               </td> <td>1047             </td> <td>163        </td> <td>205            </td> <td>39590            </td>\n",
       "        </tr>\n",
       "        <tr>\n",
       "            <td>Richmond              </td> <td>8029         </td> <td>4688     </td> <td>2130     </td> <td>3341         </td> <td>280      </td> <td>189        </td> <td>834        </td> <td>1272       </td> <td>731           </td> <td>1110         </td> <td>798           </td> <td>1007        </td> <td>487         </td> <td>411             </td> <td>94               </td> <td>3022                    </td> <td>4966                      </td> <td>244               </td> <td>976              </td> <td>189        </td> <td>188            </td> <td>39609            </td>\n",
       "        </tr>\n",
       "        <tr>\n",
       "            <td>St Kilda              </td> <td>7985         </td> <td>4528     </td> <td>2120     </td> <td>3457         </td> <td>241      </td> <td>188        </td> <td>863        </td> <td>1518       </td> <td>776           </td> <td>1115         </td> <td>773           </td> <td>1081        </td> <td>393         </td> <td>457             </td> <td>46               </td> <td>2913                    </td> <td>5099                      </td> <td>220               </td> <td>914              </td> <td>201        </td> <td>168            </td> <td>39592            </td>\n",
       "        </tr>\n",
       "        <tr>\n",
       "            <td>Sydney                </td> <td>9398         </td> <td>5008     </td> <td>2222     </td> <td>4390         </td> <td>306      </td> <td>221        </td> <td>1046       </td> <td>1730       </td> <td>831           </td> <td>1294         </td> <td>921           </td> <td>1155        </td> <td>416         </td> <td>459             </td> <td>94               </td> <td>3342                    </td> <td>6024                      </td> <td>247               </td> <td>1001             </td> <td>120        </td> <td>206            </td> <td>43200            </td>\n",
       "        </tr>\n",
       "        <tr>\n",
       "            <td>West Coast            </td> <td>9245         </td> <td>5115     </td> <td>2239     </td> <td>4130         </td> <td>372      </td> <td>275        </td> <td>1295       </td> <td>1512       </td> <td>720           </td> <td>1347         </td> <td>998           </td> <td>1017        </td> <td>461         </td> <td>376             </td> <td>97               </td> <td>3511                    </td> <td>5696                      </td> <td>283               </td> <td>1104             </td> <td>170        </td> <td>248            </td> <td>44975            </td>\n",
       "        </tr>\n",
       "        <tr>\n",
       "            <td>Western Bulldogs      </td> <td>8081         </td> <td>4443     </td> <td>1915     </td> <td>3638         </td> <td>310      </td> <td>185        </td> <td>831        </td> <td>1502       </td> <td>739           </td> <td>1195         </td> <td>859           </td> <td>967         </td> <td>376         </td> <td>367             </td> <td>78               </td> <td>3060                    </td> <td>5004                      </td> <td>221               </td> <td>938              </td> <td>207        </td> <td>192            </td> <td>39609            </td>\n",
       "        </tr>\n",
       "    </tbody>\n",
       "</table>"
      ],
      "text/plain": [
       "<IPython.core.display.HTML object>"
      ]
     },
     "metadata": {},
     "output_type": "display_data"
    }
   ],
   "source": [
    "ann_sum_statistics(2015).show(18)"
   ]
  },
  {
   "cell_type": "code",
   "execution_count": 31,
   "metadata": {},
   "outputs": [
    {
     "data": {
      "text/html": [
       "<table border=\"1\" class=\"dataframe\">\n",
       "    <thead>\n",
       "        <tr>\n",
       "            <th>Team</th> <th>Disposals sum</th> <th>Kicks sum</th> <th>Marks sum</th> <th>Handballs sum</th> <th>Goals sum</th> <th>Behinds sum</th> <th>Hitouts sum</th> <th>Tackles sum</th> <th>Rebound50s sum</th> <th>Inside50s sum</th> <th>Clearances sum</th> <th>Clangers sum</th> <th>FreesFor sum</th> <th>FreesAgainst sum</th> <th>BrownlowVotes sum</th> <th>ContendedPossessions sum</th> <th>UncontendedPossessions sum</th> <th>ContestedMarks sum</th> <th>OnePercenters sum</th> <th>Bounces sum</th> <th>GoalAssists sum</th> <th>PercentPlayed sum</th>\n",
       "        </tr>\n",
       "    </thead>\n",
       "    <tbody>\n",
       "        <tr>\n",
       "            <td>Adelaide              </td> <td>9012         </td> <td>5061     </td> <td>2174     </td> <td>3951         </td> <td>375      </td> <td>259        </td> <td>883        </td> <td>1586       </td> <td>779           </td> <td>1321         </td> <td>878           </td> <td>1161        </td> <td>431         </td> <td>393             </td> <td>87               </td> <td>3512                    </td> <td>5516                      </td> <td>289               </td> <td>1084             </td> <td>156        </td> <td>270            </td> <td>41379            </td>\n",
       "        </tr>\n",
       "        <tr>\n",
       "            <td>Brisbane Lions        </td> <td>7424         </td> <td>4052     </td> <td>1600     </td> <td>3372         </td> <td>254      </td> <td>190        </td> <td>869        </td> <td>1498       </td> <td>821           </td> <td>1018         </td> <td>797           </td> <td>1127        </td> <td>444         </td> <td>465             </td> <td>20               </td> <td>2972                    </td> <td>4393                      </td> <td>187               </td> <td>1103             </td> <td>83         </td> <td>161            </td> <td>39597            </td>\n",
       "        </tr>\n",
       "        <tr>\n",
       "            <td>Carlton               </td> <td>8123         </td> <td>4496     </td> <td>1977     </td> <td>3627         </td> <td>224      </td> <td>186        </td> <td>863        </td> <td>1452       </td> <td>783           </td> <td>1116         </td> <td>765           </td> <td>1084        </td> <td>397         </td> <td>386             </td> <td>45               </td> <td>2914                    </td> <td>5123                      </td> <td>232               </td> <td>1009             </td> <td>169        </td> <td>155            </td> <td>39606            </td>\n",
       "        </tr>\n",
       "        <tr>\n",
       "            <td>Collingwood           </td> <td>8360         </td> <td>4498     </td> <td>1968     </td> <td>3862         </td> <td>276      </td> <td>196        </td> <td>776        </td> <td>1719       </td> <td>759           </td> <td>1131         </td> <td>756           </td> <td>1092        </td> <td>443         </td> <td>404             </td> <td>66               </td> <td>3157                    </td> <td>5267                      </td> <td>247               </td> <td>1076             </td> <td>109        </td> <td>197            </td> <td>39621            </td>\n",
       "        </tr>\n",
       "        <tr>\n",
       "            <td>Essendon              </td> <td>8409         </td> <td>4531     </td> <td>2238     </td> <td>3878         </td> <td>200      </td> <td>199        </td> <td>808        </td> <td>1427       </td> <td>827           </td> <td>1013         </td> <td>738           </td> <td>1111        </td> <td>406         </td> <td>371             </td> <td>36               </td> <td>2896                    </td> <td>5566                      </td> <td>223               </td> <td>1027             </td> <td>87         </td> <td>135            </td> <td>39601            </td>\n",
       "        </tr>\n",
       "        <tr>\n",
       "            <td>Fremantle             </td> <td>8125         </td> <td>4373     </td> <td>1871     </td> <td>3752         </td> <td>227      </td> <td>170        </td> <td>912        </td> <td>1593       </td> <td>804           </td> <td>1000         </td> <td>800           </td> <td>1120        </td> <td>380         </td> <td>392             </td> <td>45               </td> <td>3036                    </td> <td>5069                      </td> <td>233               </td> <td>1026             </td> <td>115        </td> <td>164            </td> <td>39518            </td>\n",
       "        </tr>\n",
       "        <tr>\n",
       "            <td>Geelong               </td> <td>9178         </td> <td>5034     </td> <td>2282     </td> <td>4144         </td> <td>345      </td> <td>247        </td> <td>956        </td> <td>1676       </td> <td>720           </td> <td>1367         </td> <td>905           </td> <td>1249        </td> <td>473         </td> <td>513             </td> <td>84               </td> <td>3575                    </td> <td>5646                      </td> <td>336               </td> <td>1099             </td> <td>149        </td> <td>246            </td> <td>43208            </td>\n",
       "        </tr>\n",
       "        <tr>\n",
       "            <td>Gold Coast            </td> <td>7827         </td> <td>4306     </td> <td>1921     </td> <td>3521         </td> <td>258      </td> <td>188        </td> <td>687        </td> <td>1531       </td> <td>832           </td> <td>1064         </td> <td>728           </td> <td>1084        </td> <td>370         </td> <td>400             </td> <td>45               </td> <td>2963                    </td> <td>4881                      </td> <td>235               </td> <td>1049             </td> <td>214        </td> <td>179            </td> <td>39592            </td>\n",
       "        </tr>\n",
       "        <tr>\n",
       "            <td>Greater Western Sydney</td> <td>9335         </td> <td>5267     </td> <td>2260     </td> <td>4068         </td> <td>375      </td> <td>249        </td> <td>1074       </td> <td>1653       </td> <td>937           </td> <td>1393         </td> <td>979           </td> <td>1277        </td> <td>434         </td> <td>488             </td> <td>92               </td> <td>3604                    </td> <td>5726                      </td> <td>285               </td> <td>1185             </td> <td>313        </td> <td>267            </td> <td>43178            </td>\n",
       "        </tr>\n",
       "        <tr>\n",
       "            <td>Hawthorn              </td> <td>8854         </td> <td>5079     </td> <td>2237     </td> <td>3775         </td> <td>336      </td> <td>221        </td> <td>1036       </td> <td>1718       </td> <td>770           </td> <td>1287         </td> <td>876           </td> <td>1135        </td> <td>462         </td> <td>447             </td> <td>73               </td> <td>3132                    </td> <td>5642                      </td> <td>235               </td> <td>1356             </td> <td>131        </td> <td>216            </td> <td>43139            </td>\n",
       "        </tr>\n",
       "        <tr>\n",
       "            <td>Melbourne             </td> <td>8649         </td> <td>4406     </td> <td>1792     </td> <td>4243         </td> <td>286      </td> <td>179        </td> <td>1053       </td> <td>1580       </td> <td>737           </td> <td>1183         </td> <td>844           </td> <td>1164        </td> <td>395         </td> <td>422             </td> <td>71               </td> <td>3267                    </td> <td>5340                      </td> <td>244               </td> <td>987              </td> <td>160        </td> <td>205            </td> <td>39593            </td>\n",
       "        </tr>\n",
       "        <tr>\n",
       "            <td>North Melbourne       </td> <td>7992         </td> <td>4455     </td> <td>1895     </td> <td>3537         </td> <td>284      </td> <td>215        </td> <td>944        </td> <td>1463       </td> <td>767           </td> <td>1149         </td> <td>817           </td> <td>1046        </td> <td>458         </td> <td>391             </td> <td>63               </td> <td>3162                    </td> <td>4867                      </td> <td>271               </td> <td>978              </td> <td>179        </td> <td>186            </td> <td>39572            </td>\n",
       "        </tr>\n",
       "        <tr>\n",
       "            <td>Port Adelaide         </td> <td>7939         </td> <td>4396     </td> <td>1626     </td> <td>3543         </td> <td>300      </td> <td>217        </td> <td>669        </td> <td>1674       </td> <td>761           </td> <td>1208         </td> <td>862           </td> <td>1274        </td> <td>409         </td> <td>467             </td> <td>64               </td> <td>3237                    </td> <td>4683                      </td> <td>212               </td> <td>1362             </td> <td>193        </td> <td>205            </td> <td>39602            </td>\n",
       "        </tr>\n",
       "        <tr>\n",
       "            <td>Richmond              </td> <td>8079         </td> <td>4586     </td> <td>2140     </td> <td>3493         </td> <td>247      </td> <td>172        </td> <td>931        </td> <td>1323       </td> <td>810           </td> <td>1005         </td> <td>752           </td> <td>1124        </td> <td>423         </td> <td>440             </td> <td>52               </td> <td>3003                    </td> <td>5068                      </td> <td>276               </td> <td>897              </td> <td>111        </td> <td>172            </td> <td>39507            </td>\n",
       "        </tr>\n",
       "        <tr>\n",
       "            <td>St Kilda              </td> <td>8296         </td> <td>4469     </td> <td>2029     </td> <td>3827         </td> <td>286      </td> <td>196        </td> <td>835        </td> <td>1459       </td> <td>796           </td> <td>1162         </td> <td>759           </td> <td>1092        </td> <td>370         </td> <td>392             </td> <td>76               </td> <td>2941                    </td> <td>5351                      </td> <td>271               </td> <td>942              </td> <td>158        </td> <td>197            </td> <td>39569            </td>\n",
       "        </tr>\n",
       "        <tr>\n",
       "            <td>Sydney                </td> <td>10285        </td> <td>5516     </td> <td>2128     </td> <td>4769         </td> <td>376      </td> <td>250        </td> <td>1084       </td> <td>2048       </td> <td>1065          </td> <td>1462         </td> <td>1013          </td> <td>1392        </td> <td>468         </td> <td>519             </td> <td>105              </td> <td>4253                    </td> <td>6011                      </td> <td>344               </td> <td>1266             </td> <td>98         </td> <td>259            </td> <td>46703            </td>\n",
       "        </tr>\n",
       "        <tr>\n",
       "            <td>West Coast            </td> <td>7769         </td> <td>4408     </td> <td>1900     </td> <td>3361         </td> <td>323      </td> <td>191        </td> <td>1031       </td> <td>1528       </td> <td>700           </td> <td>1160         </td> <td>828           </td> <td>1043        </td> <td>444         </td> <td>418             </td> <td>83               </td> <td>3077                    </td> <td>4740                      </td> <td>278               </td> <td>997              </td> <td>90         </td> <td>219            </td> <td>39471            </td>\n",
       "        </tr>\n",
       "        <tr>\n",
       "            <td>Western Bulldogs      </td> <td>10281        </td> <td>5310     </td> <td>2286     </td> <td>4971         </td> <td>310      </td> <td>222        </td> <td>842        </td> <td>1710       </td> <td>776           </td> <td>1368         </td> <td>942           </td> <td>1203        </td> <td>513         </td> <td>405             </td> <td>81               </td> <td>3751                    </td> <td>6562                      </td> <td>275               </td> <td>1240             </td> <td>181        </td> <td>206            </td> <td>44986            </td>\n",
       "        </tr>\n",
       "    </tbody>\n",
       "</table>"
      ],
      "text/plain": [
       "<IPython.core.display.HTML object>"
      ]
     },
     "metadata": {},
     "output_type": "display_data"
    }
   ],
   "source": [
    "ann_sum_statistics(2016).show(18)"
   ]
  },
  {
   "cell_type": "code",
   "execution_count": 32,
   "metadata": {},
   "outputs": [
    {
     "data": {
      "text/html": [
       "<table border=\"1\" class=\"dataframe\">\n",
       "    <thead>\n",
       "        <tr>\n",
       "            <th>Team</th> <th>Disposals sum</th> <th>Kicks sum</th> <th>Marks sum</th> <th>Handballs sum</th> <th>Goals sum</th> <th>Behinds sum</th> <th>Hitouts sum</th> <th>Tackles sum</th> <th>Rebound50s sum</th> <th>Inside50s sum</th> <th>Clearances sum</th> <th>Clangers sum</th> <th>FreesFor sum</th> <th>FreesAgainst sum</th> <th>BrownlowVotes sum</th> <th>ContendedPossessions sum</th> <th>UncontendedPossessions sum</th> <th>ContestedMarks sum</th> <th>OnePercenters sum</th> <th>Bounces sum</th> <th>GoalAssists sum</th> <th>PercentPlayed sum</th>\n",
       "        </tr>\n",
       "    </thead>\n",
       "    <tbody>\n",
       "        <tr>\n",
       "            <td>Adelaide              </td> <td>9809         </td> <td>5470     </td> <td>2273     </td> <td>4339         </td> <td>395      </td> <td>254        </td> <td>1135       </td> <td>1797       </td> <td>869           </td> <td>1437         </td> <td>990           </td> <td>1405        </td> <td>496         </td> <td>500             </td> <td>88               </td> <td>3868                    </td> <td>5986                      </td> <td>310               </td> <td>1257             </td> <td>165        </td> <td>271            </td> <td>45000            </td>\n",
       "        </tr>\n",
       "        <tr>\n",
       "            <td>Brisbane Lions        </td> <td>8003         </td> <td>4501     </td> <td>2067     </td> <td>3502         </td> <td>276      </td> <td>177        </td> <td>890        </td> <td>1367       </td> <td>862           </td> <td>1012         </td> <td>802           </td> <td>1195        </td> <td>446         </td> <td>398             </td> <td>47               </td> <td>2879                    </td> <td>5054                      </td> <td>203               </td> <td>1013             </td> <td>76         </td> <td>192            </td> <td>39557            </td>\n",
       "        </tr>\n",
       "        <tr>\n",
       "            <td>Carlton               </td> <td>7913         </td> <td>4965     </td> <td>2288     </td> <td>2948         </td> <td>232      </td> <td>163        </td> <td>857        </td> <td>1527       </td> <td>790           </td> <td>1026         </td> <td>755           </td> <td>1163        </td> <td>440         </td> <td>409             </td> <td>53               </td> <td>3026                    </td> <td>4837                      </td> <td>256               </td> <td>1011             </td> <td>145        </td> <td>160            </td> <td>39646            </td>\n",
       "        </tr>\n",
       "        <tr>\n",
       "            <td>Collingwood           </td> <td>8864         </td> <td>4898     </td> <td>2326     </td> <td>3966         </td> <td>278      </td> <td>225        </td> <td>945        </td> <td>1529       </td> <td>714           </td> <td>1197         </td> <td>823           </td> <td>1161        </td> <td>394         </td> <td>349             </td> <td>72               </td> <td>3171                    </td> <td>5718                      </td> <td>250               </td> <td>988              </td> <td>182        </td> <td>196            </td> <td>39588            </td>\n",
       "        </tr>\n",
       "        <tr>\n",
       "            <td>Essendon              </td> <td>8756         </td> <td>4853     </td> <td>2305     </td> <td>3903         </td> <td>311      </td> <td>222        </td> <td>789        </td> <td>1395       </td> <td>842           </td> <td>1150         </td> <td>750           </td> <td>1192        </td> <td>392         </td> <td>408             </td> <td>71               </td> <td>3056                    </td> <td>5658                      </td> <td>259               </td> <td>1028             </td> <td>178        </td> <td>211            </td> <td>39562            </td>\n",
       "        </tr>\n",
       "        <tr>\n",
       "            <td>Fremantle             </td> <td>7936         </td> <td>4456     </td> <td>1998     </td> <td>3480         </td> <td>231      </td> <td>176        </td> <td>952        </td> <td>1401       </td> <td>781           </td> <td>1044         </td> <td>794           </td> <td>1165        </td> <td>375         </td> <td>415             </td> <td>57               </td> <td>2933                    </td> <td>4984                      </td> <td>235               </td> <td>971              </td> <td>112        </td> <td>150            </td> <td>39640            </td>\n",
       "        </tr>\n",
       "        <tr>\n",
       "            <td>Geelong               </td> <td>9570         </td> <td>4970     </td> <td>2175     </td> <td>4600         </td> <td>343      </td> <td>241        </td> <td>1025       </td> <td>1902       </td> <td>843           </td> <td>1324         </td> <td>935           </td> <td>1382        </td> <td>514         </td> <td>527             </td> <td>80               </td> <td>3686                    </td> <td>5932                      </td> <td>310               </td> <td>1080             </td> <td>189        </td> <td>223            </td> <td>44973            </td>\n",
       "        </tr>\n",
       "        <tr>\n",
       "            <td>Gold Coast            </td> <td>8522         </td> <td>4638     </td> <td>2120     </td> <td>3884         </td> <td>257      </td> <td>185        </td> <td>905        </td> <td>1356       </td> <td>823           </td> <td>1062         </td> <td>798           </td> <td>1184        </td> <td>381         </td> <td>385             </td> <td>47               </td> <td>3036                    </td> <td>5456                      </td> <td>199               </td> <td>1034             </td> <td>220        </td> <td>179            </td> <td>39594            </td>\n",
       "        </tr>\n",
       "        <tr>\n",
       "            <td>Greater Western Sydney</td> <td>9616         </td> <td>5335     </td> <td>2223     </td> <td>4281         </td> <td>336      </td> <td>244        </td> <td>1131       </td> <td>1762       </td> <td>917           </td> <td>1359         </td> <td>1060          </td> <td>1366        </td> <td>470         </td> <td>526             </td> <td>81               </td> <td>3607                    </td> <td>6015                      </td> <td>243               </td> <td>1178             </td> <td>248        </td> <td>235            </td> <td>45006            </td>\n",
       "        </tr>\n",
       "        <tr>\n",
       "            <td>Hawthorn              </td> <td>8662         </td> <td>4729     </td> <td>2274     </td> <td>3933         </td> <td>273      </td> <td>187        </td> <td>877        </td> <td>1536       </td> <td>719           </td> <td>1064         </td> <td>773           </td> <td>1094        </td> <td>364         </td> <td>391             </td> <td>61               </td> <td>2957                    </td> <td>5695                      </td> <td>238               </td> <td>1164             </td> <td>140        </td> <td>196            </td> <td>39601            </td>\n",
       "        </tr>\n",
       "        <tr>\n",
       "            <td>Melbourne             </td> <td>8914         </td> <td>4584     </td> <td>1883     </td> <td>4330         </td> <td>302      </td> <td>172        </td> <td>754        </td> <td>1580       </td> <td>767           </td> <td>1206         </td> <td>835           </td> <td>1267        </td> <td>409         </td> <td>413             </td> <td>68               </td> <td>3371                    </td> <td>5560                      </td> <td>207               </td> <td>1113             </td> <td>142        </td> <td>204            </td> <td>39593            </td>\n",
       "        </tr>\n",
       "        <tr>\n",
       "            <td>North Melbourne       </td> <td>8110         </td> <td>4232     </td> <td>1828     </td> <td>3878         </td> <td>290      </td> <td>209        </td> <td>913        </td> <td>1531       </td> <td>792           </td> <td>1163         </td> <td>790           </td> <td>1140        </td> <td>434         </td> <td>396             </td> <td>40               </td> <td>3071                    </td> <td>5031                      </td> <td>251               </td> <td>873              </td> <td>139        </td> <td>187            </td> <td>39574            </td>\n",
       "        </tr>\n",
       "        <tr>\n",
       "            <td>Port Adelaide         </td> <td>8293         </td> <td>4793     </td> <td>2085     </td> <td>3500         </td> <td>313      </td> <td>251        </td> <td>981        </td> <td>1515       </td> <td>761           </td> <td>1300         </td> <td>853           </td> <td>1240        </td> <td>418         </td> <td>452             </td> <td>84               </td> <td>3288                    </td> <td>5002                      </td> <td>304               </td> <td>1152             </td> <td>149        </td> <td>215            </td> <td>39594            </td>\n",
       "        </tr>\n",
       "        <tr>\n",
       "            <td>Richmond              </td> <td>9117         </td> <td>5258     </td> <td>2112     </td> <td>3859         </td> <td>331      </td> <td>252        </td> <td>794        </td> <td>1741       </td> <td>896           </td> <td>1396         </td> <td>898           </td> <td>1449        </td> <td>469         </td> <td>528             </td> <td>80               </td> <td>3625                    </td> <td>5351                      </td> <td>274               </td> <td>1193             </td> <td>214        </td> <td>232            </td> <td>45006            </td>\n",
       "        </tr>\n",
       "        <tr>\n",
       "            <td>St Kilda              </td> <td>8755         </td> <td>4620     </td> <td>2050     </td> <td>4135         </td> <td>271      </td> <td>250        </td> <td>848        </td> <td>1523       </td> <td>793           </td> <td>1160         </td> <td>788           </td> <td>1145        </td> <td>392         </td> <td>374             </td> <td>57               </td> <td>3139                    </td> <td>5621                      </td> <td>250               </td> <td>941              </td> <td>170        </td> <td>191            </td> <td>39589            </td>\n",
       "        </tr>\n",
       "        <tr>\n",
       "            <td>Sydney                </td> <td>8551         </td> <td>4802     </td> <td>2055     </td> <td>3749         </td> <td>310      </td> <td>235        </td> <td>886        </td> <td>1592       </td> <td>865           </td> <td>1209         </td> <td>826           </td> <td>1245        </td> <td>434         </td> <td>456             </td> <td>88               </td> <td>3370                    </td> <td>5169                      </td> <td>276               </td> <td>1043             </td> <td>108        </td> <td>209            </td> <td>41396            </td>\n",
       "        </tr>\n",
       "        <tr>\n",
       "            <td>West Coast            </td> <td>8642         </td> <td>4879     </td> <td>2264     </td> <td>3763         </td> <td>297      </td> <td>203        </td> <td>882        </td> <td>1444       </td> <td>835           </td> <td>1143         </td> <td>845           </td> <td>1157        </td> <td>439         </td> <td>401             </td> <td>63               </td> <td>3176                    </td> <td>5534                      </td> <td>281               </td> <td>1089             </td> <td>133        </td> <td>206            </td> <td>41404            </td>\n",
       "        </tr>\n",
       "        <tr>\n",
       "            <td>Western Bulldogs      </td> <td>8635         </td> <td>4485     </td> <td>1849     </td> <td>4150         </td> <td>260      </td> <td>240        </td> <td>759        </td> <td>1550       </td> <td>726           </td> <td>1203         </td> <td>764           </td> <td>1041        </td> <td>433         </td> <td>370             </td> <td>51               </td> <td>3167                    </td> <td>5433                      </td> <td>211               </td> <td>1044             </td> <td>157        </td> <td>189            </td> <td>39573            </td>\n",
       "        </tr>\n",
       "    </tbody>\n",
       "</table>"
      ],
      "text/plain": [
       "<IPython.core.display.HTML object>"
      ]
     },
     "metadata": {},
     "output_type": "display_data"
    }
   ],
   "source": [
    "ann_sum_statistics(2017).show(18)"
   ]
  },
  {
   "cell_type": "code",
   "execution_count": 33,
   "metadata": {},
   "outputs": [
    {
     "data": {
      "text/html": [
       "<table border=\"1\" class=\"dataframe\">\n",
       "    <thead>\n",
       "        <tr>\n",
       "            <th>Team</th> <th>Disposals sum</th> <th>Kicks sum</th> <th>Marks sum</th> <th>Handballs sum</th> <th>Goals sum</th> <th>Behinds sum</th> <th>Hitouts sum</th> <th>Tackles sum</th> <th>Rebound50s sum</th> <th>Inside50s sum</th> <th>Clearances sum</th> <th>Clangers sum</th> <th>FreesFor sum</th> <th>FreesAgainst sum</th> <th>BrownlowVotes sum</th> <th>ContendedPossessions sum</th> <th>UncontendedPossessions sum</th> <th>ContestedMarks sum</th> <th>OnePercenters sum</th> <th>Bounces sum</th> <th>GoalAssists sum</th> <th>PercentPlayed sum</th>\n",
       "        </tr>\n",
       "    </thead>\n",
       "    <tbody>\n",
       "        <tr>\n",
       "            <td>Adelaide              </td> <td>8425         </td> <td>4918     </td> <td>2014     </td> <td>3507         </td> <td>279      </td> <td>214        </td> <td>904        </td> <td>1422       </td> <td>808           </td> <td>1162         </td> <td>823           </td> <td>1084        </td> <td>425         </td> <td>377             </td> <td>69               </td> <td>3378                    </td> <td>5014                      </td> <td>253               </td> <td>1038             </td> <td>116        </td> <td>182            </td> <td>39606            </td>\n",
       "        </tr>\n",
       "        <tr>\n",
       "            <td>Brisbane Lions        </td> <td>8216         </td> <td>4732     </td> <td>2184     </td> <td>3484         </td> <td>266      </td> <td>192        </td> <td>950        </td> <td>1278       </td> <td>838           </td> <td>1123         </td> <td>825           </td> <td>1197        </td> <td>484         </td> <td>457             </td> <td>45               </td> <td>2993                    </td> <td>5184                      </td> <td>220               </td> <td>1136             </td> <td>77         </td> <td>200            </td> <td>39590            </td>\n",
       "        </tr>\n",
       "        <tr>\n",
       "            <td>Carlton               </td> <td>7635         </td> <td>4464     </td> <td>1910     </td> <td>3171         </td> <td>192      </td> <td>152        </td> <td>772        </td> <td>1396       </td> <td>792           </td> <td>994          </td> <td>766           </td> <td>1256        </td> <td>481         </td> <td>474             </td> <td>37               </td> <td>2984                    </td> <td>4599                      </td> <td>218               </td> <td>1058             </td> <td>126        </td> <td>114            </td> <td>39605            </td>\n",
       "        </tr>\n",
       "        <tr>\n",
       "            <td>Collingwood           </td> <td>10377        </td> <td>5657     </td> <td>2393     </td> <td>4720         </td> <td>345      </td> <td>226        </td> <td>1211       </td> <td>1776       </td> <td>931           </td> <td>1423         </td> <td>989           </td> <td>1476        </td> <td>576         </td> <td>465             </td> <td>96               </td> <td>3970                    </td> <td>6462                      </td> <td>312               </td> <td>1359             </td> <td>172        </td> <td>235            </td> <td>46792            </td>\n",
       "        </tr>\n",
       "        <tr>\n",
       "            <td>Essendon              </td> <td>8396         </td> <td>4788     </td> <td>2122     </td> <td>3608         </td> <td>280      </td> <td>207        </td> <td>821        </td> <td>1467       </td> <td>810           </td> <td>1173         </td> <td>810           </td> <td>1217        </td> <td>422         </td> <td>448             </td> <td>65               </td> <td>3154                    </td> <td>5265                      </td> <td>256               </td> <td>1045             </td> <td>263        </td> <td>200            </td> <td>39593            </td>\n",
       "        </tr>\n",
       "        <tr>\n",
       "            <td>Fremantle             </td> <td>7989         </td> <td>4465     </td> <td>2016     </td> <td>3524         </td> <td>224      </td> <td>170        </td> <td>913        </td> <td>1325       </td> <td>826           </td> <td>1057         </td> <td>770           </td> <td>1249        </td> <td>432         </td> <td>474             </td> <td>56               </td> <td>2990                    </td> <td>5089                      </td> <td>214               </td> <td>1037             </td> <td>93         </td> <td>160            </td> <td>39584            </td>\n",
       "        </tr>\n",
       "        <tr>\n",
       "            <td>Geelong               </td> <td>8421         </td> <td>4655     </td> <td>1989     </td> <td>3766         </td> <td>298      </td> <td>215        </td> <td>790        </td> <td>1457       </td> <td>830           </td> <td>1179         </td> <td>832           </td> <td>1214        </td> <td>473         </td> <td>466             </td> <td>88               </td> <td>3302                    </td> <td>5180                      </td> <td>261               </td> <td>1112             </td> <td>92         </td> <td>215            </td> <td>39597            </td>\n",
       "        </tr>\n",
       "        <tr>\n",
       "            <td>Gold Coast            </td> <td>7478         </td> <td>4461     </td> <td>1703     </td> <td>3017         </td> <td>181      </td> <td>189        </td> <td>999        </td> <td>1526       </td> <td>946           </td> <td>1033         </td> <td>824           </td> <td>1400        </td> <td>455         </td> <td>500             </td> <td>31               </td> <td>3167                    </td> <td>4267                      </td> <td>179               </td> <td>1152             </td> <td>104        </td> <td>104            </td> <td>39518            </td>\n",
       "        </tr>\n",
       "        <tr>\n",
       "            <td>Greater Western Sydney</td> <td>8654         </td> <td>4994     </td> <td>2014     </td> <td>3660         </td> <td>277      </td> <td>227        </td> <td>819        </td> <td>1553       </td> <td>924           </td> <td>1229         </td> <td>907           </td> <td>1294        </td> <td>427         </td> <td>492             </td> <td>76               </td> <td>3430                    </td> <td>5229                      </td> <td>259               </td> <td>1253             </td> <td>168        </td> <td>200            </td> <td>41387            </td>\n",
       "        </tr>\n",
       "        <tr>\n",
       "            <td>Hawthorn              </td> <td>9036         </td> <td>5254     </td> <td>2231     </td> <td>3782         </td> <td>309      </td> <td>211        </td> <td>984        </td> <td>1654       </td> <td>740           </td> <td>1299         </td> <td>875           </td> <td>1316        </td> <td>502         </td> <td>499             </td> <td>90               </td> <td>3421                    </td> <td>5636                      </td> <td>220               </td> <td>1361             </td> <td>154        </td> <td>202            </td> <td>43192            </td>\n",
       "        </tr>\n",
       "        <tr>\n",
       "            <td>Melbourne             </td> <td>9274         </td> <td>5039     </td> <td>2075     </td> <td>4235         </td> <td>359      </td> <td>258        </td> <td>1214       </td> <td>1643       </td> <td>786           </td> <td>1437         </td> <td>918           </td> <td>1390        </td> <td>490         </td> <td>501             </td> <td>93               </td> <td>3838                    </td> <td>5512                      </td> <td>314               </td> <td>1125             </td> <td>92         </td> <td>257            </td> <td>43199            </td>\n",
       "        </tr>\n",
       "        <tr>\n",
       "            <td>North Melbourne       </td> <td>8093         </td> <td>4430     </td> <td>1820     </td> <td>3663         </td> <td>285      </td> <td>202        </td> <td>915        </td> <td>1376       </td> <td>773           </td> <td>1147         </td> <td>764           </td> <td>1232        </td> <td>491         </td> <td>406             </td> <td>68               </td> <td>3269                    </td> <td>4854                      </td> <td>256               </td> <td>972              </td> <td>119        </td> <td>194            </td> <td>39602            </td>\n",
       "        </tr>\n",
       "        <tr>\n",
       "            <td>Port Adelaide         </td> <td>8261         </td> <td>4831     </td> <td>1988     </td> <td>3430         </td> <td>259      </td> <td>195        </td> <td>895        </td> <td>1540       </td> <td>856           </td> <td>1174         </td> <td>871           </td> <td>1266        </td> <td>443         </td> <td>470             </td> <td>62               </td> <td>3287                    </td> <td>4981                      </td> <td>236               </td> <td>1337             </td> <td>133        </td> <td>183            </td> <td>39586            </td>\n",
       "        </tr>\n",
       "        <tr>\n",
       "            <td>Richmond              </td> <td>8803         </td> <td>4974     </td> <td>1950     </td> <td>3829         </td> <td>332      </td> <td>229        </td> <td>671        </td> <td>1495       </td> <td>836           </td> <td>1417         </td> <td>813           </td> <td>1432        </td> <td>421         </td> <td>543             </td> <td>78               </td> <td>3555                    </td> <td>5245                      </td> <td>267               </td> <td>1319             </td> <td>204        </td> <td>230            </td> <td>43200            </td>\n",
       "        </tr>\n",
       "        <tr>\n",
       "            <td>St Kilda              </td> <td>8552         </td> <td>4562     </td> <td>2067     </td> <td>3990         </td> <td>225      </td> <td>217        </td> <td>648        </td> <td>1319       </td> <td>778           </td> <td>1138         </td> <td>731           </td> <td>1202        </td> <td>410         </td> <td>464             </td> <td>35               </td> <td>2981                    </td> <td>5686                      </td> <td>190               </td> <td>1062             </td> <td>173        </td> <td>160            </td> <td>39609            </td>\n",
       "        </tr>\n",
       "        <tr>\n",
       "            <td>Sydney                </td> <td>8211         </td> <td>4630     </td> <td>1947     </td> <td>3581         </td> <td>268      </td> <td>186        </td> <td>701        </td> <td>1436       </td> <td>942           </td> <td>1112         </td> <td>817           </td> <td>1227        </td> <td>454         </td> <td>478             </td> <td>71               </td> <td>3257                    </td> <td>4907                      </td> <td>254               </td> <td>1035             </td> <td>106        </td> <td>171            </td> <td>39602            </td>\n",
       "        </tr>\n",
       "        <tr>\n",
       "            <td>West Coast            </td> <td>8902         </td> <td>5680     </td> <td>2527     </td> <td>3222         </td> <td>336      </td> <td>223        </td> <td>1124       </td> <td>1524       </td> <td>917           </td> <td>1336         </td> <td>914           </td> <td>1262        </td> <td>560         </td> <td>478             </td> <td>81               </td> <td>3596                    </td> <td>5323                      </td> <td>347               </td> <td>1240             </td> <td>124        </td> <td>226            </td> <td>45002            </td>\n",
       "        </tr>\n",
       "        <tr>\n",
       "            <td>Western Bulldogs      </td> <td>8527         </td> <td>4565     </td> <td>1972     </td> <td>3962         </td> <td>224      </td> <td>190        </td> <td>612        </td> <td>1384       </td> <td>799           </td> <td>1144         </td> <td>802           </td> <td>1155        </td> <td>473         </td> <td>425             </td> <td>47               </td> <td>3068                    </td> <td>5411                      </td> <td>208               </td> <td>1133             </td> <td>168        </td> <td>153            </td> <td>39592            </td>\n",
       "        </tr>\n",
       "    </tbody>\n",
       "</table>"
      ],
      "text/plain": [
       "<IPython.core.display.HTML object>"
      ]
     },
     "metadata": {},
     "output_type": "display_data"
    }
   ],
   "source": [
    "ann_sum_statistics(2018).show(18)"
   ]
  },
  {
   "cell_type": "code",
   "execution_count": 41,
   "metadata": {},
   "outputs": [
    {
     "data": {
      "text/html": [
       "<table border=\"1\" class=\"dataframe\">\n",
       "    <thead>\n",
       "        <tr>\n",
       "            <th>Player</th> <th>Season sum</th> <th>Disposals sum</th> <th>Kicks sum</th> <th>Marks sum</th> <th>Handballs sum</th> <th>Goals sum</th> <th>Behinds sum</th> <th>Hitouts sum</th> <th>Tackles sum</th> <th>Rebound50s sum</th> <th>Inside50s sum</th> <th>Clearances sum</th> <th>Clangers sum</th> <th>FreesFor sum</th> <th>FreesAgainst sum</th> <th>BrownlowVotes sum</th> <th>ContendedPossessions sum</th> <th>UncontendedPossessions sum</th> <th>ContestedMarks sum</th> <th>OnePercenters sum</th> <th>Bounces sum</th> <th>GoalAssists sum</th> <th>PercentPlayed sum</th>\n",
       "        </tr>\n",
       "    </thead>\n",
       "    <tbody>\n",
       "        <tr>\n",
       "            <td>Ablett, Gary    </td> <td>40240     </td> <td>675          </td> <td>389      </td> <td>61       </td> <td>286          </td> <td>26       </td> <td>19         </td> <td>0          </td> <td>110        </td> <td>61            </td> <td>101          </td> <td>132           </td> <td>81          </td> <td>41          </td> <td>28              </td> <td>24               </td> <td>298                     </td> <td>368                       </td> <td>14                </td> <td>32               </td> <td>31         </td> <td>19             </td> <td>1849             </td>\n",
       "        </tr>\n",
       "        <tr>\n",
       "            <td>Adams, Leigh    </td> <td>36216     </td> <td>344          </td> <td>180      </td> <td>50       </td> <td>164          </td> <td>17       </td> <td>15         </td> <td>1          </td> <td>59         </td> <td>12            </td> <td>58           </td> <td>55            </td> <td>35          </td> <td>16          </td> <td>15              </td> <td>4                </td> <td>134                     </td> <td>196                       </td> <td>2                 </td> <td>32               </td> <td>0          </td> <td>15             </td> <td>1353             </td>\n",
       "        </tr>\n",
       "        <tr>\n",
       "            <td>Adams, Taylor   </td> <td>30180     </td> <td>298          </td> <td>167      </td> <td>51       </td> <td>131          </td> <td>5        </td> <td>1          </td> <td>0          </td> <td>53         </td> <td>29            </td> <td>39           </td> <td>59            </td> <td>38          </td> <td>18          </td> <td>16              </td> <td>0                </td> <td>122                     </td> <td>179                       </td> <td>1                 </td> <td>17               </td> <td>3          </td> <td>4              </td> <td>1150             </td>\n",
       "        </tr>\n",
       "        <tr>\n",
       "            <td>Adcock, Jed     </td> <td>42252     </td> <td>404          </td> <td>244      </td> <td>104      </td> <td>160          </td> <td>3        </td> <td>2          </td> <td>0          </td> <td>85         </td> <td>81            </td> <td>57           </td> <td>17            </td> <td>36          </td> <td>25          </td> <td>15              </td> <td>0                </td> <td>111                     </td> <td>274                       </td> <td>5                 </td> <td>65               </td> <td>1          </td> <td>11             </td> <td>1863             </td>\n",
       "        </tr>\n",
       "        <tr>\n",
       "            <td>Addison, Dylan  </td> <td>34204     </td> <td>232          </td> <td>129      </td> <td>81       </td> <td>103          </td> <td>7        </td> <td>5          </td> <td>0          </td> <td>40         </td> <td>25            </td> <td>20           </td> <td>10            </td> <td>34          </td> <td>11          </td> <td>16              </td> <td>0                </td> <td>83                      </td> <td>156                       </td> <td>14                </td> <td>51               </td> <td>3          </td> <td>0              </td> <td>1530             </td>\n",
       "        </tr>\n",
       "        <tr>\n",
       "            <td>Allen, Jackson  </td> <td>2012      </td> <td>15           </td> <td>11       </td> <td>5        </td> <td>4            </td> <td>0        </td> <td>0          </td> <td>0          </td> <td>4          </td> <td>3             </td> <td>3            </td> <td>2             </td> <td>0           </td> <td>1           </td> <td>0               </td> <td>0                </td> <td>7                       </td> <td>8                         </td> <td>0                 </td> <td>1                </td> <td>1          </td> <td>0              </td> <td>95               </td>\n",
       "        </tr>\n",
       "        <tr>\n",
       "            <td>Anthony, John   </td> <td>8048      </td> <td>30           </td> <td>17       </td> <td>12       </td> <td>13           </td> <td>3        </td> <td>1          </td> <td>0          </td> <td>4          </td> <td>1             </td> <td>1            </td> <td>0             </td> <td>5           </td> <td>1           </td> <td>2               </td> <td>0                </td> <td>15                      </td> <td>15                        </td> <td>2                 </td> <td>1                </td> <td>0          </td> <td>1              </td> <td>263              </td>\n",
       "        </tr>\n",
       "        <tr>\n",
       "            <td>Anthony, Liam   </td> <td>36216     </td> <td>462          </td> <td>236      </td> <td>102      </td> <td>226          </td> <td>10       </td> <td>10         </td> <td>3          </td> <td>54         </td> <td>36            </td> <td>78           </td> <td>41            </td> <td>48          </td> <td>13          </td> <td>8               </td> <td>2                </td> <td>136                     </td> <td>326                       </td> <td>2                 </td> <td>9                </td> <td>10         </td> <td>11             </td> <td>1338             </td>\n",
       "        </tr>\n",
       "        <tr>\n",
       "            <td>Armfield, Dennis</td> <td>42252     </td> <td>299          </td> <td>186      </td> <td>73       </td> <td>113          </td> <td>16       </td> <td>6          </td> <td>0          </td> <td>58         </td> <td>16            </td> <td>55           </td> <td>16            </td> <td>32          </td> <td>17          </td> <td>11              </td> <td>0                </td> <td>99                      </td> <td>191                       </td> <td>2                 </td> <td>25               </td> <td>9          </td> <td>9              </td> <td>1754             </td>\n",
       "        </tr>\n",
       "        <tr>\n",
       "            <td>Armitage, David </td> <td>42252     </td> <td>426          </td> <td>275      </td> <td>100      </td> <td>151          </td> <td>17       </td> <td>8          </td> <td>1          </td> <td>98         </td> <td>30            </td> <td>74           </td> <td>79            </td> <td>67          </td> <td>36          </td> <td>31              </td> <td>9                </td> <td>164                     </td> <td>268                       </td> <td>6                 </td> <td>24               </td> <td>16         </td> <td>11             </td> <td>1643             </td>\n",
       "        </tr>\n",
       "    </tbody>\n",
       "</table>\n",
       "<p>... (666 rows omitted)</p>"
      ],
      "text/plain": [
       "Player           | Season sum | Disposals sum | Kicks sum | Marks sum | Handballs sum | Goals sum | Behinds sum | Hitouts sum | Tackles sum | Rebound50s sum | Inside50s sum | Clearances sum | Clangers sum | FreesFor sum | FreesAgainst sum | BrownlowVotes sum | ContendedPossessions sum | UncontendedPossessions sum | ContestedMarks sum | OnePercenters sum | Bounces sum | GoalAssists sum | PercentPlayed sum\n",
       "Ablett, Gary     | 40240      | 675           | 389       | 61        | 286           | 26        | 19          | 0           | 110         | 61             | 101           | 132            | 81           | 41           | 28               | 24                | 298                      | 368                        | 14                 | 32                | 31          | 19              | 1849\n",
       "Adams, Leigh     | 36216      | 344           | 180       | 50        | 164           | 17        | 15          | 1           | 59          | 12             | 58            | 55             | 35           | 16           | 15               | 4                 | 134                      | 196                        | 2                  | 32                | 0           | 15              | 1353\n",
       "Adams, Taylor    | 30180      | 298           | 167       | 51        | 131           | 5         | 1           | 0           | 53          | 29             | 39            | 59             | 38           | 18           | 16               | 0                 | 122                      | 179                        | 1                  | 17                | 3           | 4               | 1150\n",
       "Adcock, Jed      | 42252      | 404           | 244       | 104       | 160           | 3         | 2           | 0           | 85          | 81             | 57            | 17             | 36           | 25           | 15               | 0                 | 111                      | 274                        | 5                  | 65                | 1           | 11              | 1863\n",
       "Addison, Dylan   | 34204      | 232           | 129       | 81        | 103           | 7         | 5           | 0           | 40          | 25             | 20            | 10             | 34           | 11           | 16               | 0                 | 83                       | 156                        | 14                 | 51                | 3           | 0               | 1530\n",
       "Allen, Jackson   | 2012       | 15            | 11        | 5         | 4             | 0         | 0           | 0           | 4           | 3              | 3             | 2              | 0            | 1            | 0                | 0                 | 7                        | 8                          | 0                  | 1                 | 1           | 0               | 95\n",
       "Anthony, John    | 8048       | 30            | 17        | 12        | 13            | 3         | 1           | 0           | 4           | 1              | 1             | 0              | 5            | 1            | 2                | 0                 | 15                       | 15                         | 2                  | 1                 | 0           | 1               | 263\n",
       "Anthony, Liam    | 36216      | 462           | 236       | 102       | 226           | 10        | 10          | 3           | 54          | 36             | 78            | 41             | 48           | 13           | 8                | 2                 | 136                      | 326                        | 2                  | 9                 | 10          | 11              | 1338\n",
       "Armfield, Dennis | 42252      | 299           | 186       | 73        | 113           | 16        | 6           | 0           | 58          | 16             | 55            | 16             | 32           | 17           | 11               | 0                 | 99                       | 191                        | 2                  | 25                | 9           | 9               | 1754\n",
       "Armitage, David  | 42252      | 426           | 275       | 100       | 151           | 17        | 8           | 1           | 98          | 30             | 74            | 79             | 67           | 36           | 31               | 9                 | 164                      | 268                        | 6                  | 24                | 16          | 11              | 1643\n",
       "... (666 rows omitted)"
      ]
     },
     "execution_count": 41,
     "metadata": {},
     "output_type": "execute_result"
    }
   ],
   "source": [
    "#Now I will find annual stats for each individual player in the regular season\n",
    "def annual_player_stats(year):\n",
    "    annual_stats_table = stats.where((\"Season\"), year).where(\"Round\", are.not_equal_to(\"EF\")).group(\"Player\", sum).select(0,6,14,15,16,17,18,19,20,21,22,23,24,25,26,27,28,29,30,31,33,34,35,36)\n",
    "    return annual_stats_table\n",
    "annual_player_stats(2012)"
   ]
  },
  {
   "cell_type": "code",
   "execution_count": 42,
   "metadata": {},
   "outputs": [
    {
     "data": {
      "text/html": [
       "<table border=\"1\" class=\"dataframe\">\n",
       "    <thead>\n",
       "        <tr>\n",
       "            <th>Player</th> <th>Season sum</th> <th>Disposals sum</th> <th>Kicks sum</th> <th>Marks sum</th> <th>Handballs sum</th> <th>Goals sum</th> <th>Behinds sum</th> <th>Hitouts sum</th> <th>Tackles sum</th> <th>Rebound50s sum</th> <th>Inside50s sum</th> <th>Clearances sum</th> <th>Clangers sum</th> <th>FreesFor sum</th> <th>FreesAgainst sum</th> <th>BrownlowVotes sum</th> <th>ContendedPossessions sum</th> <th>UncontendedPossessions sum</th> <th>ContestedMarks sum</th> <th>OnePercenters sum</th> <th>Bounces sum</th> <th>GoalAssists sum</th> <th>PercentPlayed sum</th>\n",
       "        </tr>\n",
       "    </thead>\n",
       "    <tbody>\n",
       "        <tr>\n",
       "            <td>Ablett, Gary    </td> <td>42273     </td> <td>655          </td> <td>343      </td> <td>73       </td> <td>312          </td> <td>28       </td> <td>23         </td> <td>0          </td> <td>96         </td> <td>39            </td> <td>113          </td> <td>124           </td> <td>73          </td> <td>35          </td> <td>25              </td> <td>28               </td> <td>313                     </td> <td>333                       </td> <td>9                 </td> <td>17               </td> <td>25         </td> <td>17             </td> <td>1977             </td>\n",
       "        </tr>\n",
       "        <tr>\n",
       "            <td>Adams, Leigh    </td> <td>40260     </td> <td>361          </td> <td>173      </td> <td>73       </td> <td>188          </td> <td>13       </td> <td>8          </td> <td>0          </td> <td>66         </td> <td>18            </td> <td>68           </td> <td>35            </td> <td>33          </td> <td>11          </td> <td>13              </td> <td>1                </td> <td>146                     </td> <td>219                       </td> <td>1                 </td> <td>16               </td> <td>1          </td> <td>13             </td> <td>1552             </td>\n",
       "        </tr>\n",
       "        <tr>\n",
       "            <td>Adams, Taylor   </td> <td>32208     </td> <td>341          </td> <td>209      </td> <td>69       </td> <td>132          </td> <td>7        </td> <td>6          </td> <td>0          </td> <td>52         </td> <td>28            </td> <td>52           </td> <td>64            </td> <td>57          </td> <td>15          </td> <td>18              </td> <td>0                </td> <td>130                     </td> <td>205                       </td> <td>6                 </td> <td>14               </td> <td>5          </td> <td>7              </td> <td>1201             </td>\n",
       "        </tr>\n",
       "        <tr>\n",
       "            <td>Adcock, Jed     </td> <td>44286     </td> <td>443          </td> <td>290      </td> <td>93       </td> <td>153          </td> <td>2        </td> <td>3          </td> <td>0          </td> <td>92         </td> <td>107           </td> <td>75           </td> <td>20            </td> <td>32          </td> <td>25          </td> <td>10              </td> <td>0                </td> <td>112                     </td> <td>280                       </td> <td>3                 </td> <td>50               </td> <td>11         </td> <td>13             </td> <td>1970             </td>\n",
       "        </tr>\n",
       "        <tr>\n",
       "            <td>Addison, Dylan  </td> <td>24156     </td> <td>122          </td> <td>62       </td> <td>44       </td> <td>60           </td> <td>12       </td> <td>11         </td> <td>0          </td> <td>28         </td> <td>2             </td> <td>16           </td> <td>3             </td> <td>20          </td> <td>8           </td> <td>10              </td> <td>0                </td> <td>68                      </td> <td>58                        </td> <td>16                </td> <td>16               </td> <td>2          </td> <td>2              </td> <td>1020             </td>\n",
       "        </tr>\n",
       "        <tr>\n",
       "            <td>Allen, Jackson  </td> <td>6039      </td> <td>24           </td> <td>21       </td> <td>12       </td> <td>3            </td> <td>0        </td> <td>0          </td> <td>0          </td> <td>5          </td> <td>3             </td> <td>3            </td> <td>0             </td> <td>2           </td> <td>0           </td> <td>1               </td> <td>0                </td> <td>4                       </td> <td>18                        </td> <td>0                 </td> <td>2                </td> <td>2          </td> <td>0              </td> <td>217              </td>\n",
       "        </tr>\n",
       "        <tr>\n",
       "            <td>Anderson, Jed   </td> <td>12078     </td> <td>57           </td> <td>35       </td> <td>11       </td> <td>22           </td> <td>3        </td> <td>3          </td> <td>0          </td> <td>15         </td> <td>0             </td> <td>15           </td> <td>7             </td> <td>5           </td> <td>7           </td> <td>3               </td> <td>0                </td> <td>33                      </td> <td>26                        </td> <td>1                 </td> <td>9                </td> <td>0          </td> <td>3              </td> <td>321              </td>\n",
       "        </tr>\n",
       "        <tr>\n",
       "            <td>Anthony, Liam   </td> <td>10065     </td> <td>63           </td> <td>33       </td> <td>16       </td> <td>30           </td> <td>1        </td> <td>0          </td> <td>0          </td> <td>10         </td> <td>4             </td> <td>4            </td> <td>5             </td> <td>11          </td> <td>2           </td> <td>5               </td> <td>0                </td> <td>21                      </td> <td>43                        </td> <td>1                 </td> <td>2                </td> <td>0          </td> <td>0              </td> <td>247              </td>\n",
       "        </tr>\n",
       "        <tr>\n",
       "            <td>Armfield, Dennis</td> <td>46299     </td> <td>330          </td> <td>192      </td> <td>55       </td> <td>138          </td> <td>17       </td> <td>9          </td> <td>1          </td> <td>46         </td> <td>13            </td> <td>58           </td> <td>26            </td> <td>47          </td> <td>10          </td> <td>18              </td> <td>0                </td> <td>138                     </td> <td>186                       </td> <td>4                 </td> <td>31               </td> <td>11         </td> <td>12             </td> <td>1967             </td>\n",
       "        </tr>\n",
       "        <tr>\n",
       "            <td>Armitage, David </td> <td>42273     </td> <td>457          </td> <td>248      </td> <td>71       </td> <td>209          </td> <td>10       </td> <td>10         </td> <td>0          </td> <td>115        </td> <td>32            </td> <td>80           </td> <td>79            </td> <td>69          </td> <td>33          </td> <td>34              </td> <td>4                </td> <td>202                     </td> <td>256                       </td> <td>5                 </td> <td>21               </td> <td>24         </td> <td>14             </td> <td>1621             </td>\n",
       "        </tr>\n",
       "    </tbody>\n",
       "</table>\n",
       "<p>... (667 rows omitted)</p>"
      ],
      "text/plain": [
       "Player           | Season sum | Disposals sum | Kicks sum | Marks sum | Handballs sum | Goals sum | Behinds sum | Hitouts sum | Tackles sum | Rebound50s sum | Inside50s sum | Clearances sum | Clangers sum | FreesFor sum | FreesAgainst sum | BrownlowVotes sum | ContendedPossessions sum | UncontendedPossessions sum | ContestedMarks sum | OnePercenters sum | Bounces sum | GoalAssists sum | PercentPlayed sum\n",
       "Ablett, Gary     | 42273      | 655           | 343       | 73        | 312           | 28        | 23          | 0           | 96          | 39             | 113           | 124            | 73           | 35           | 25               | 28                | 313                      | 333                        | 9                  | 17                | 25          | 17              | 1977\n",
       "Adams, Leigh     | 40260      | 361           | 173       | 73        | 188           | 13        | 8           | 0           | 66          | 18             | 68            | 35             | 33           | 11           | 13               | 1                 | 146                      | 219                        | 1                  | 16                | 1           | 13              | 1552\n",
       "Adams, Taylor    | 32208      | 341           | 209       | 69        | 132           | 7         | 6           | 0           | 52          | 28             | 52            | 64             | 57           | 15           | 18               | 0                 | 130                      | 205                        | 6                  | 14                | 5           | 7               | 1201\n",
       "Adcock, Jed      | 44286      | 443           | 290       | 93        | 153           | 2         | 3           | 0           | 92          | 107            | 75            | 20             | 32           | 25           | 10               | 0                 | 112                      | 280                        | 3                  | 50                | 11          | 13              | 1970\n",
       "Addison, Dylan   | 24156      | 122           | 62        | 44        | 60            | 12        | 11          | 0           | 28          | 2              | 16            | 3              | 20           | 8            | 10               | 0                 | 68                       | 58                         | 16                 | 16                | 2           | 2               | 1020\n",
       "Allen, Jackson   | 6039       | 24            | 21        | 12        | 3             | 0         | 0           | 0           | 5           | 3              | 3             | 0              | 2            | 0            | 1                | 0                 | 4                        | 18                         | 0                  | 2                 | 2           | 0               | 217\n",
       "Anderson, Jed    | 12078      | 57            | 35        | 11        | 22            | 3         | 3           | 0           | 15          | 0              | 15            | 7              | 5            | 7            | 3                | 0                 | 33                       | 26                         | 1                  | 9                 | 0           | 3               | 321\n",
       "Anthony, Liam    | 10065      | 63            | 33        | 16        | 30            | 1         | 0           | 0           | 10          | 4              | 4             | 5              | 11           | 2            | 5                | 0                 | 21                       | 43                         | 1                  | 2                 | 0           | 0               | 247\n",
       "Armfield, Dennis | 46299      | 330           | 192       | 55        | 138           | 17        | 9           | 1           | 46          | 13             | 58            | 26             | 47           | 10           | 18               | 0                 | 138                      | 186                        | 4                  | 31                | 11          | 12              | 1967\n",
       "Armitage, David  | 42273      | 457           | 248       | 71        | 209           | 10        | 10          | 0           | 115         | 32             | 80            | 79             | 69           | 33           | 34               | 4                 | 202                      | 256                        | 5                  | 21                | 24          | 14              | 1621\n",
       "... (667 rows omitted)"
      ]
     },
     "execution_count": 42,
     "metadata": {},
     "output_type": "execute_result"
    }
   ],
   "source": [
    "annual_player_stats(2013)"
   ]
  },
  {
   "cell_type": "code",
   "execution_count": 43,
   "metadata": {},
   "outputs": [
    {
     "data": {
      "text/html": [
       "<table border=\"1\" class=\"dataframe\">\n",
       "    <thead>\n",
       "        <tr>\n",
       "            <th>Player</th> <th>Season sum</th> <th>Disposals sum</th> <th>Kicks sum</th> <th>Marks sum</th> <th>Handballs sum</th> <th>Goals sum</th> <th>Behinds sum</th> <th>Hitouts sum</th> <th>Tackles sum</th> <th>Rebound50s sum</th> <th>Inside50s sum</th> <th>Clearances sum</th> <th>Clangers sum</th> <th>FreesFor sum</th> <th>FreesAgainst sum</th> <th>BrownlowVotes sum</th> <th>ContendedPossessions sum</th> <th>UncontendedPossessions sum</th> <th>ContestedMarks sum</th> <th>OnePercenters sum</th> <th>Bounces sum</th> <th>GoalAssists sum</th> <th>PercentPlayed sum</th>\n",
       "        </tr>\n",
       "    </thead>\n",
       "    <tbody>\n",
       "        <tr>\n",
       "            <td>Ablett, Gary    </td> <td>30210     </td> <td>481          </td> <td>254      </td> <td>30       </td> <td>227          </td> <td>24       </td> <td>7          </td> <td>0          </td> <td>91         </td> <td>38            </td> <td>77           </td> <td>118           </td> <td>63          </td> <td>35          </td> <td>23              </td> <td>22               </td> <td>262                     </td> <td>211                       </td> <td>3                 </td> <td>19               </td> <td>10         </td> <td>19             </td> <td>1358             </td>\n",
       "        </tr>\n",
       "        <tr>\n",
       "            <td>Acres, Blake    </td> <td>6042      </td> <td>26           </td> <td>11       </td> <td>3        </td> <td>15           </td> <td>1        </td> <td>0          </td> <td>0          </td> <td>8          </td> <td>3             </td> <td>2            </td> <td>6             </td> <td>2           </td> <td>1           </td> <td>0               </td> <td>0                </td> <td>18                      </td> <td>11                        </td> <td>0                 </td> <td>4                </td> <td>0          </td> <td>0              </td> <td>150              </td>\n",
       "        </tr>\n",
       "        <tr>\n",
       "            <td>Adams, Leigh    </td> <td>44308     </td> <td>337          </td> <td>154      </td> <td>73       </td> <td>183          </td> <td>9        </td> <td>11         </td> <td>0          </td> <td>63         </td> <td>14            </td> <td>36           </td> <td>29            </td> <td>27          </td> <td>10          </td> <td>8               </td> <td>0                </td> <td>113                     </td> <td>216                       </td> <td>3                 </td> <td>26               </td> <td>3          </td> <td>9              </td> <td>1385             </td>\n",
       "        </tr>\n",
       "        <tr>\n",
       "            <td>Adams, Taylor   </td> <td>24168     </td> <td>230          </td> <td>114      </td> <td>34       </td> <td>116          </td> <td>2        </td> <td>3          </td> <td>0          </td> <td>43         </td> <td>13            </td> <td>26           </td> <td>33            </td> <td>31          </td> <td>14          </td> <td>7               </td> <td>0                </td> <td>97                      </td> <td>132                       </td> <td>1                 </td> <td>11               </td> <td>9          </td> <td>5              </td> <td>862              </td>\n",
       "        </tr>\n",
       "        <tr>\n",
       "            <td>Adcock, Jed     </td> <td>44308     </td> <td>407          </td> <td>265      </td> <td>87       </td> <td>142          </td> <td>3        </td> <td>0          </td> <td>1          </td> <td>63         </td> <td>79            </td> <td>73           </td> <td>16            </td> <td>41          </td> <td>28          </td> <td>17              </td> <td>0                </td> <td>107                     </td> <td>259                       </td> <td>3                 </td> <td>54               </td> <td>2          </td> <td>9              </td> <td>1959             </td>\n",
       "        </tr>\n",
       "        <tr>\n",
       "            <td>Addison, Dylan  </td> <td>10070     </td> <td>50           </td> <td>26       </td> <td>20       </td> <td>24           </td> <td>0        </td> <td>2          </td> <td>0          </td> <td>14         </td> <td>0             </td> <td>6            </td> <td>0             </td> <td>11          </td> <td>4           </td> <td>5               </td> <td>0                </td> <td>18                      </td> <td>31                        </td> <td>0                 </td> <td>11               </td> <td>0          </td> <td>0              </td> <td>355              </td>\n",
       "        </tr>\n",
       "        <tr>\n",
       "            <td>Aish, James     </td> <td>42294     </td> <td>370          </td> <td>185      </td> <td>94       </td> <td>185          </td> <td>6        </td> <td>6          </td> <td>0          </td> <td>77         </td> <td>30            </td> <td>48           </td> <td>43            </td> <td>30          </td> <td>14          </td> <td>4               </td> <td>0                </td> <td>131                     </td> <td>241                       </td> <td>6                 </td> <td>28               </td> <td>5          </td> <td>6              </td> <td>1629             </td>\n",
       "        </tr>\n",
       "        <tr>\n",
       "            <td>Ambrose, Patrick</td> <td>32224     </td> <td>180          </td> <td>90       </td> <td>63       </td> <td>90           </td> <td>13       </td> <td>3          </td> <td>0          </td> <td>59         </td> <td>1             </td> <td>29           </td> <td>6             </td> <td>26          </td> <td>6           </td> <td>14              </td> <td>0                </td> <td>65                      </td> <td>116                       </td> <td>11                </td> <td>16               </td> <td>0          </td> <td>8              </td> <td>1321             </td>\n",
       "        </tr>\n",
       "        <tr>\n",
       "            <td>Anthony, Liam   </td> <td>8056      </td> <td>40           </td> <td>24       </td> <td>13       </td> <td>16           </td> <td>1        </td> <td>1          </td> <td>0          </td> <td>5          </td> <td>5             </td> <td>6            </td> <td>2             </td> <td>4           </td> <td>1           </td> <td>1               </td> <td>0                </td> <td>7                       </td> <td>32                        </td> <td>0                 </td> <td>1                </td> <td>0          </td> <td>0              </td> <td>147              </td>\n",
       "        </tr>\n",
       "        <tr>\n",
       "            <td>Apeness, Michael</td> <td>4028      </td> <td>14           </td> <td>4        </td> <td>5        </td> <td>10           </td> <td>0        </td> <td>1          </td> <td>0          </td> <td>7          </td> <td>0             </td> <td>1            </td> <td>0             </td> <td>3           </td> <td>1           </td> <td>3               </td> <td>0                </td> <td>7                       </td> <td>7                         </td> <td>0                 </td> <td>6                </td> <td>0          </td> <td>1              </td> <td>140              </td>\n",
       "        </tr>\n",
       "    </tbody>\n",
       "</table>\n",
       "<p>... (653 rows omitted)</p>"
      ],
      "text/plain": [
       "Player           | Season sum | Disposals sum | Kicks sum | Marks sum | Handballs sum | Goals sum | Behinds sum | Hitouts sum | Tackles sum | Rebound50s sum | Inside50s sum | Clearances sum | Clangers sum | FreesFor sum | FreesAgainst sum | BrownlowVotes sum | ContendedPossessions sum | UncontendedPossessions sum | ContestedMarks sum | OnePercenters sum | Bounces sum | GoalAssists sum | PercentPlayed sum\n",
       "Ablett, Gary     | 30210      | 481           | 254       | 30        | 227           | 24        | 7           | 0           | 91          | 38             | 77            | 118            | 63           | 35           | 23               | 22                | 262                      | 211                        | 3                  | 19                | 10          | 19              | 1358\n",
       "Acres, Blake     | 6042       | 26            | 11        | 3         | 15            | 1         | 0           | 0           | 8           | 3              | 2             | 6              | 2            | 1            | 0                | 0                 | 18                       | 11                         | 0                  | 4                 | 0           | 0               | 150\n",
       "Adams, Leigh     | 44308      | 337           | 154       | 73        | 183           | 9         | 11          | 0           | 63          | 14             | 36            | 29             | 27           | 10           | 8                | 0                 | 113                      | 216                        | 3                  | 26                | 3           | 9               | 1385\n",
       "Adams, Taylor    | 24168      | 230           | 114       | 34        | 116           | 2         | 3           | 0           | 43          | 13             | 26            | 33             | 31           | 14           | 7                | 0                 | 97                       | 132                        | 1                  | 11                | 9           | 5               | 862\n",
       "Adcock, Jed      | 44308      | 407           | 265       | 87        | 142           | 3         | 0           | 1           | 63          | 79             | 73            | 16             | 41           | 28           | 17               | 0                 | 107                      | 259                        | 3                  | 54                | 2           | 9               | 1959\n",
       "Addison, Dylan   | 10070      | 50            | 26        | 20        | 24            | 0         | 2           | 0           | 14          | 0              | 6             | 0              | 11           | 4            | 5                | 0                 | 18                       | 31                         | 0                  | 11                | 0           | 0               | 355\n",
       "Aish, James      | 42294      | 370           | 185       | 94        | 185           | 6         | 6           | 0           | 77          | 30             | 48            | 43             | 30           | 14           | 4                | 0                 | 131                      | 241                        | 6                  | 28                | 5           | 6               | 1629\n",
       "Ambrose, Patrick | 32224      | 180           | 90        | 63        | 90            | 13        | 3           | 0           | 59          | 1              | 29            | 6              | 26           | 6            | 14               | 0                 | 65                       | 116                        | 11                 | 16                | 0           | 8               | 1321\n",
       "Anthony, Liam    | 8056       | 40            | 24        | 13        | 16            | 1         | 1           | 0           | 5           | 5              | 6             | 2              | 4            | 1            | 1                | 0                 | 7                        | 32                         | 0                  | 1                 | 0           | 0               | 147\n",
       "Apeness, Michael | 4028       | 14            | 4         | 5         | 10            | 0         | 1           | 0           | 7           | 0              | 1             | 0              | 3            | 1            | 3                | 0                 | 7                        | 7                          | 0                  | 6                 | 0           | 1               | 140\n",
       "... (653 rows omitted)"
      ]
     },
     "execution_count": 43,
     "metadata": {},
     "output_type": "execute_result"
    }
   ],
   "source": [
    "annual_player_stats(2014)"
   ]
  },
  {
   "cell_type": "code",
   "execution_count": 44,
   "metadata": {},
   "outputs": [
    {
     "data": {
      "text/html": [
       "<table border=\"1\" class=\"dataframe\">\n",
       "    <thead>\n",
       "        <tr>\n",
       "            <th>Player</th> <th>Season sum</th> <th>Disposals sum</th> <th>Kicks sum</th> <th>Marks sum</th> <th>Handballs sum</th> <th>Goals sum</th> <th>Behinds sum</th> <th>Hitouts sum</th> <th>Tackles sum</th> <th>Rebound50s sum</th> <th>Inside50s sum</th> <th>Clearances sum</th> <th>Clangers sum</th> <th>FreesFor sum</th> <th>FreesAgainst sum</th> <th>BrownlowVotes sum</th> <th>ContendedPossessions sum</th> <th>UncontendedPossessions sum</th> <th>ContestedMarks sum</th> <th>OnePercenters sum</th> <th>Bounces sum</th> <th>GoalAssists sum</th> <th>PercentPlayed sum</th>\n",
       "        </tr>\n",
       "    </thead>\n",
       "    <tbody>\n",
       "        <tr>\n",
       "            <td>Ablett, Gary    </td> <td>12090     </td> <td>137          </td> <td>94       </td> <td>12       </td> <td>43           </td> <td>10       </td> <td>3          </td> <td>0          </td> <td>28         </td> <td>16            </td> <td>27           </td> <td>37            </td> <td>18          </td> <td>15          </td> <td>9               </td> <td>5                </td> <td>66                      </td> <td>67                        </td> <td>1                 </td> <td>9                </td> <td>1          </td> <td>4              </td> <td>455              </td>\n",
       "        </tr>\n",
       "        <tr>\n",
       "            <td>Acres, Blake    </td> <td>14105     </td> <td>83           </td> <td>44       </td> <td>18       </td> <td>39           </td> <td>0        </td> <td>1          </td> <td>10         </td> <td>18         </td> <td>4             </td> <td>17           </td> <td>10            </td> <td>11          </td> <td>2           </td> <td>6               </td> <td>0                </td> <td>34                      </td> <td>52                        </td> <td>4                 </td> <td>7                </td> <td>0          </td> <td>2              </td> <td>394              </td>\n",
       "        </tr>\n",
       "        <tr>\n",
       "            <td>Adams, Taylor   </td> <td>36270     </td> <td>494          </td> <td>254      </td> <td>79       </td> <td>240          </td> <td>7        </td> <td>6          </td> <td>0          </td> <td>90         </td> <td>22            </td> <td>64           </td> <td>98            </td> <td>66          </td> <td>13          </td> <td>26              </td> <td>8                </td> <td>211                     </td> <td>279                       </td> <td>3                 </td> <td>13               </td> <td>2          </td> <td>16             </td> <td>1442             </td>\n",
       "        </tr>\n",
       "        <tr>\n",
       "            <td>Adcock, Jed     </td> <td>42315     </td> <td>258          </td> <td>148      </td> <td>92       </td> <td>110          </td> <td>17       </td> <td>10         </td> <td>0          </td> <td>67         </td> <td>19            </td> <td>46           </td> <td>17            </td> <td>34          </td> <td>24          </td> <td>16              </td> <td>0                </td> <td>79                      </td> <td>181                       </td> <td>2                 </td> <td>28               </td> <td>6          </td> <td>9              </td> <td>1760             </td>\n",
       "        </tr>\n",
       "        <tr>\n",
       "            <td>Ah Chee, Brendon</td> <td>22165     </td> <td>144          </td> <td>70       </td> <td>27       </td> <td>74           </td> <td>6        </td> <td>2          </td> <td>6          </td> <td>37         </td> <td>8             </td> <td>22           </td> <td>23            </td> <td>18          </td> <td>5           </td> <td>4               </td> <td>3                </td> <td>74                      </td> <td>71                        </td> <td>7                 </td> <td>11               </td> <td>0          </td> <td>3              </td> <td>534              </td>\n",
       "        </tr>\n",
       "        <tr>\n",
       "            <td>Aish, James     </td> <td>22165     </td> <td>157          </td> <td>86       </td> <td>24       </td> <td>71           </td> <td>2        </td> <td>1          </td> <td>0          </td> <td>29         </td> <td>22            </td> <td>16           </td> <td>13            </td> <td>28          </td> <td>6           </td> <td>8               </td> <td>0                </td> <td>57                      </td> <td>106                       </td> <td>2                 </td> <td>10               </td> <td>1          </td> <td>3              </td> <td>787              </td>\n",
       "        </tr>\n",
       "        <tr>\n",
       "            <td>Ambrose, Patrick</td> <td>32240     </td> <td>196          </td> <td>73       </td> <td>48       </td> <td>123          </td> <td>6        </td> <td>5          </td> <td>26         </td> <td>83         </td> <td>11            </td> <td>24           </td> <td>14            </td> <td>29          </td> <td>13          </td> <td>18              </td> <td>0                </td> <td>85                      </td> <td>110                       </td> <td>6                 </td> <td>19               </td> <td>0          </td> <td>4              </td> <td>1341             </td>\n",
       "        </tr>\n",
       "        <tr>\n",
       "            <td>Amon, Karl      </td> <td>14105     </td> <td>73           </td> <td>48       </td> <td>17       </td> <td>25           </td> <td>5        </td> <td>3          </td> <td>1          </td> <td>17         </td> <td>6             </td> <td>13           </td> <td>8             </td> <td>5           </td> <td>5           </td> <td>0               </td> <td>0                </td> <td>23                      </td> <td>48                        </td> <td>1                 </td> <td>9                </td> <td>0          </td> <td>2              </td> <td>348              </td>\n",
       "        </tr>\n",
       "        <tr>\n",
       "            <td>Anderson, Jed   </td> <td>8060      </td> <td>40           </td> <td>18       </td> <td>4        </td> <td>22           </td> <td>1        </td> <td>3          </td> <td>3          </td> <td>20         </td> <td>0             </td> <td>7            </td> <td>5             </td> <td>6           </td> <td>1           </td> <td>2               </td> <td>0                </td> <td>18                      </td> <td>21                        </td> <td>1                 </td> <td>3                </td> <td>0          </td> <td>0              </td> <td>217              </td>\n",
       "        </tr>\n",
       "        <tr>\n",
       "            <td>Andrews, Harris </td> <td>38285     </td> <td>221          </td> <td>118      </td> <td>100      </td> <td>103          </td> <td>4        </td> <td>2          </td> <td>24         </td> <td>28         </td> <td>26            </td> <td>10           </td> <td>6             </td> <td>25          </td> <td>14          </td> <td>14              </td> <td>0                </td> <td>82                      </td> <td>143                       </td> <td>21                </td> <td>95               </td> <td>0          </td> <td>1              </td> <td>1747             </td>\n",
       "        </tr>\n",
       "    </tbody>\n",
       "</table>\n",
       "<p>... (655 rows omitted)</p>"
      ],
      "text/plain": [
       "Player           | Season sum | Disposals sum | Kicks sum | Marks sum | Handballs sum | Goals sum | Behinds sum | Hitouts sum | Tackles sum | Rebound50s sum | Inside50s sum | Clearances sum | Clangers sum | FreesFor sum | FreesAgainst sum | BrownlowVotes sum | ContendedPossessions sum | UncontendedPossessions sum | ContestedMarks sum | OnePercenters sum | Bounces sum | GoalAssists sum | PercentPlayed sum\n",
       "Ablett, Gary     | 12090      | 137           | 94        | 12        | 43            | 10        | 3           | 0           | 28          | 16             | 27            | 37             | 18           | 15           | 9                | 5                 | 66                       | 67                         | 1                  | 9                 | 1           | 4               | 455\n",
       "Acres, Blake     | 14105      | 83            | 44        | 18        | 39            | 0         | 1           | 10          | 18          | 4              | 17            | 10             | 11           | 2            | 6                | 0                 | 34                       | 52                         | 4                  | 7                 | 0           | 2               | 394\n",
       "Adams, Taylor    | 36270      | 494           | 254       | 79        | 240           | 7         | 6           | 0           | 90          | 22             | 64            | 98             | 66           | 13           | 26               | 8                 | 211                      | 279                        | 3                  | 13                | 2           | 16              | 1442\n",
       "Adcock, Jed      | 42315      | 258           | 148       | 92        | 110           | 17        | 10          | 0           | 67          | 19             | 46            | 17             | 34           | 24           | 16               | 0                 | 79                       | 181                        | 2                  | 28                | 6           | 9               | 1760\n",
       "Ah Chee, Brendon | 22165      | 144           | 70        | 27        | 74            | 6         | 2           | 6           | 37          | 8              | 22            | 23             | 18           | 5            | 4                | 3                 | 74                       | 71                         | 7                  | 11                | 0           | 3               | 534\n",
       "Aish, James      | 22165      | 157           | 86        | 24        | 71            | 2         | 1           | 0           | 29          | 22             | 16            | 13             | 28           | 6            | 8                | 0                 | 57                       | 106                        | 2                  | 10                | 1           | 3               | 787\n",
       "Ambrose, Patrick | 32240      | 196           | 73        | 48        | 123           | 6         | 5           | 26          | 83          | 11             | 24            | 14             | 29           | 13           | 18               | 0                 | 85                       | 110                        | 6                  | 19                | 0           | 4               | 1341\n",
       "Amon, Karl       | 14105      | 73            | 48        | 17        | 25            | 5         | 3           | 1           | 17          | 6              | 13            | 8              | 5            | 5            | 0                | 0                 | 23                       | 48                         | 1                  | 9                 | 0           | 2               | 348\n",
       "Anderson, Jed    | 8060       | 40            | 18        | 4         | 22            | 1         | 3           | 3           | 20          | 0              | 7             | 5              | 6            | 1            | 2                | 0                 | 18                       | 21                         | 1                  | 3                 | 0           | 0               | 217\n",
       "Andrews, Harris  | 38285      | 221           | 118       | 100       | 103           | 4         | 2           | 24          | 28          | 26             | 10            | 6              | 25           | 14           | 14               | 0                 | 82                       | 143                        | 21                 | 95                | 0           | 1               | 1747\n",
       "... (655 rows omitted)"
      ]
     },
     "execution_count": 44,
     "metadata": {},
     "output_type": "execute_result"
    }
   ],
   "source": [
    "annual_player_stats(2015)"
   ]
  },
  {
   "cell_type": "code",
   "execution_count": 45,
   "metadata": {},
   "outputs": [
    {
     "data": {
      "text/html": [
       "<table border=\"1\" class=\"dataframe\">\n",
       "    <thead>\n",
       "        <tr>\n",
       "            <th>Player</th> <th>Season sum</th> <th>Disposals sum</th> <th>Kicks sum</th> <th>Marks sum</th> <th>Handballs sum</th> <th>Goals sum</th> <th>Behinds sum</th> <th>Hitouts sum</th> <th>Tackles sum</th> <th>Rebound50s sum</th> <th>Inside50s sum</th> <th>Clearances sum</th> <th>Clangers sum</th> <th>FreesFor sum</th> <th>FreesAgainst sum</th> <th>BrownlowVotes sum</th> <th>ContendedPossessions sum</th> <th>UncontendedPossessions sum</th> <th>ContestedMarks sum</th> <th>OnePercenters sum</th> <th>Bounces sum</th> <th>GoalAssists sum</th> <th>PercentPlayed sum</th>\n",
       "        </tr>\n",
       "    </thead>\n",
       "    <tbody>\n",
       "        <tr>\n",
       "            <td>Ablett, Gary    </td> <td>28224     </td> <td>378          </td> <td>203      </td> <td>28       </td> <td>175          </td> <td>10       </td> <td>12         </td> <td>0          </td> <td>85         </td> <td>37            </td> <td>61           </td> <td>103           </td> <td>42          </td> <td>19          </td> <td>19              </td> <td>6                </td> <td>185                     </td> <td>190                       </td> <td>0                 </td> <td>17               </td> <td>12         </td> <td>5              </td> <td>1225             </td>\n",
       "        </tr>\n",
       "        <tr>\n",
       "            <td>Acres, Blake    </td> <td>32256     </td> <td>284          </td> <td>160      </td> <td>57       </td> <td>124          </td> <td>7        </td> <td>6          </td> <td>14         </td> <td>50         </td> <td>29            </td> <td>47           </td> <td>34            </td> <td>34          </td> <td>12          </td> <td>10              </td> <td>1                </td> <td>103                     </td> <td>187                       </td> <td>6                 </td> <td>14               </td> <td>9          </td> <td>13             </td> <td>1186             </td>\n",
       "        </tr>\n",
       "        <tr>\n",
       "            <td>Adams, Marcus   </td> <td>22176     </td> <td>179          </td> <td>95       </td> <td>63       </td> <td>84           </td> <td>0        </td> <td>2          </td> <td>0          </td> <td>25         </td> <td>30            </td> <td>10           </td> <td>2             </td> <td>20          </td> <td>13          </td> <td>7               </td> <td>2                </td> <td>68                      </td> <td>111                       </td> <td>16                </td> <td>74               </td> <td>1          </td> <td>1              </td> <td>1042             </td>\n",
       "        </tr>\n",
       "        <tr>\n",
       "            <td>Adams, Taylor   </td> <td>28224     </td> <td>388          </td> <td>212      </td> <td>64       </td> <td>176          </td> <td>6        </td> <td>1          </td> <td>0          </td> <td>62         </td> <td>34            </td> <td>51           </td> <td>66            </td> <td>47          </td> <td>21          </td> <td>15              </td> <td>5                </td> <td>148                     </td> <td>245                       </td> <td>0                 </td> <td>22               </td> <td>3          </td> <td>5              </td> <td>1087             </td>\n",
       "        </tr>\n",
       "        <tr>\n",
       "            <td>Adcock, Jed     </td> <td>14112     </td> <td>101          </td> <td>50       </td> <td>24       </td> <td>51           </td> <td>1        </td> <td>1          </td> <td>0          </td> <td>14         </td> <td>10            </td> <td>14           </td> <td>3             </td> <td>11          </td> <td>4           </td> <td>6               </td> <td>0                </td> <td>23                      </td> <td>77                        </td> <td>1                 </td> <td>11               </td> <td>4          </td> <td>3              </td> <td>581              </td>\n",
       "        </tr>\n",
       "        <tr>\n",
       "            <td>Ah Chee, Brendon</td> <td>22176     </td> <td>165          </td> <td>65       </td> <td>39       </td> <td>100          </td> <td>4        </td> <td>6          </td> <td>7          </td> <td>48         </td> <td>6             </td> <td>31           </td> <td>24            </td> <td>26          </td> <td>10          </td> <td>10              </td> <td>0                </td> <td>84                      </td> <td>85                        </td> <td>5                 </td> <td>19               </td> <td>1          </td> <td>10             </td> <td>767              </td>\n",
       "        </tr>\n",
       "        <tr>\n",
       "            <td>Ah Chee, Callum </td> <td>32256     </td> <td>209          </td> <td>85       </td> <td>46       </td> <td>124          </td> <td>9        </td> <td>9          </td> <td>0          </td> <td>49         </td> <td>5             </td> <td>36           </td> <td>17            </td> <td>26          </td> <td>14          </td> <td>8               </td> <td>0                </td> <td>109                     </td> <td>106                       </td> <td>5                 </td> <td>18               </td> <td>0          </td> <td>8              </td> <td>1193             </td>\n",
       "        </tr>\n",
       "        <tr>\n",
       "            <td>Aish, James     </td> <td>30240     </td> <td>237          </td> <td>128      </td> <td>42       </td> <td>109          </td> <td>10       </td> <td>3          </td> <td>0          </td> <td>42         </td> <td>19            </td> <td>38           </td> <td>28            </td> <td>28          </td> <td>15          </td> <td>7               </td> <td>1                </td> <td>97                      </td> <td>138                       </td> <td>8                 </td> <td>14               </td> <td>1          </td> <td>3              </td> <td>1121             </td>\n",
       "        </tr>\n",
       "        <tr>\n",
       "            <td>Aliir, Aliir    </td> <td>26208     </td> <td>187          </td> <td>103      </td> <td>56       </td> <td>84           </td> <td>0        </td> <td>0          </td> <td>1          </td> <td>31         </td> <td>29            </td> <td>10           </td> <td>6             </td> <td>26          </td> <td>8           </td> <td>6               </td> <td>0                </td> <td>75                      </td> <td>109                       </td> <td>12                </td> <td>52               </td> <td>4          </td> <td>1              </td> <td>1057             </td>\n",
       "        </tr>\n",
       "        <tr>\n",
       "            <td>Ambrose, Patrick</td> <td>36288     </td> <td>215          </td> <td>111      </td> <td>62       </td> <td>104          </td> <td>1        </td> <td>2          </td> <td>8          </td> <td>50         </td> <td>45            </td> <td>17           </td> <td>5             </td> <td>38          </td> <td>12          </td> <td>18              </td> <td>0                </td> <td>78                      </td> <td>138                       </td> <td>11                </td> <td>95               </td> <td>0          </td> <td>1              </td> <td>1597             </td>\n",
       "        </tr>\n",
       "    </tbody>\n",
       "</table>\n",
       "<p>... (646 rows omitted)</p>"
      ],
      "text/plain": [
       "Player           | Season sum | Disposals sum | Kicks sum | Marks sum | Handballs sum | Goals sum | Behinds sum | Hitouts sum | Tackles sum | Rebound50s sum | Inside50s sum | Clearances sum | Clangers sum | FreesFor sum | FreesAgainst sum | BrownlowVotes sum | ContendedPossessions sum | UncontendedPossessions sum | ContestedMarks sum | OnePercenters sum | Bounces sum | GoalAssists sum | PercentPlayed sum\n",
       "Ablett, Gary     | 28224      | 378           | 203       | 28        | 175           | 10        | 12          | 0           | 85          | 37             | 61            | 103            | 42           | 19           | 19               | 6                 | 185                      | 190                        | 0                  | 17                | 12          | 5               | 1225\n",
       "Acres, Blake     | 32256      | 284           | 160       | 57        | 124           | 7         | 6           | 14          | 50          | 29             | 47            | 34             | 34           | 12           | 10               | 1                 | 103                      | 187                        | 6                  | 14                | 9           | 13              | 1186\n",
       "Adams, Marcus    | 22176      | 179           | 95        | 63        | 84            | 0         | 2           | 0           | 25          | 30             | 10            | 2              | 20           | 13           | 7                | 2                 | 68                       | 111                        | 16                 | 74                | 1           | 1               | 1042\n",
       "Adams, Taylor    | 28224      | 388           | 212       | 64        | 176           | 6         | 1           | 0           | 62          | 34             | 51            | 66             | 47           | 21           | 15               | 5                 | 148                      | 245                        | 0                  | 22                | 3           | 5               | 1087\n",
       "Adcock, Jed      | 14112      | 101           | 50        | 24        | 51            | 1         | 1           | 0           | 14          | 10             | 14            | 3              | 11           | 4            | 6                | 0                 | 23                       | 77                         | 1                  | 11                | 4           | 3               | 581\n",
       "Ah Chee, Brendon | 22176      | 165           | 65        | 39        | 100           | 4         | 6           | 7           | 48          | 6              | 31            | 24             | 26           | 10           | 10               | 0                 | 84                       | 85                         | 5                  | 19                | 1           | 10              | 767\n",
       "Ah Chee, Callum  | 32256      | 209           | 85        | 46        | 124           | 9         | 9           | 0           | 49          | 5              | 36            | 17             | 26           | 14           | 8                | 0                 | 109                      | 106                        | 5                  | 18                | 0           | 8               | 1193\n",
       "Aish, James      | 30240      | 237           | 128       | 42        | 109           | 10        | 3           | 0           | 42          | 19             | 38            | 28             | 28           | 15           | 7                | 1                 | 97                       | 138                        | 8                  | 14                | 1           | 3               | 1121\n",
       "Aliir, Aliir     | 26208      | 187           | 103       | 56        | 84            | 0         | 0           | 1           | 31          | 29             | 10            | 6              | 26           | 8            | 6                | 0                 | 75                       | 109                        | 12                 | 52                | 4           | 1               | 1057\n",
       "Ambrose, Patrick | 36288      | 215           | 111       | 62        | 104           | 1         | 2           | 8           | 50          | 45             | 17            | 5              | 38           | 12           | 18               | 0                 | 78                       | 138                        | 11                 | 95                | 0           | 1               | 1597\n",
       "... (646 rows omitted)"
      ]
     },
     "execution_count": 45,
     "metadata": {},
     "output_type": "execute_result"
    }
   ],
   "source": [
    "annual_player_stats(2016)"
   ]
  },
  {
   "cell_type": "code",
   "execution_count": 46,
   "metadata": {},
   "outputs": [
    {
     "data": {
      "text/html": [
       "<table border=\"1\" class=\"dataframe\">\n",
       "    <thead>\n",
       "        <tr>\n",
       "            <th>Player</th> <th>Season sum</th> <th>Disposals sum</th> <th>Kicks sum</th> <th>Marks sum</th> <th>Handballs sum</th> <th>Goals sum</th> <th>Behinds sum</th> <th>Hitouts sum</th> <th>Tackles sum</th> <th>Rebound50s sum</th> <th>Inside50s sum</th> <th>Clearances sum</th> <th>Clangers sum</th> <th>FreesFor sum</th> <th>FreesAgainst sum</th> <th>BrownlowVotes sum</th> <th>ContendedPossessions sum</th> <th>UncontendedPossessions sum</th> <th>ContestedMarks sum</th> <th>OnePercenters sum</th> <th>Bounces sum</th> <th>GoalAssists sum</th> <th>PercentPlayed sum</th>\n",
       "        </tr>\n",
       "    </thead>\n",
       "    <tbody>\n",
       "        <tr>\n",
       "            <td>Ablett, Gary    </td> <td>28238     </td> <td>462          </td> <td>266      </td> <td>49       </td> <td>196          </td> <td>8        </td> <td>11         </td> <td>0          </td> <td>77         </td> <td>35            </td> <td>82           </td> <td>107           </td> <td>65          </td> <td>13          </td> <td>18              </td> <td>14               </td> <td>192                     </td> <td>256                       </td> <td>2                 </td> <td>9                </td> <td>8          </td> <td>12             </td> <td>1209             </td>\n",
       "        </tr>\n",
       "        <tr>\n",
       "            <td>Acres, Blake    </td> <td>36306     </td> <td>366          </td> <td>178      </td> <td>81       </td> <td>188          </td> <td>11       </td> <td>4          </td> <td>2          </td> <td>51         </td> <td>27            </td> <td>62           </td> <td>27            </td> <td>42          </td> <td>12          </td> <td>13              </td> <td>0                </td> <td>108                     </td> <td>266                       </td> <td>6                 </td> <td>16               </td> <td>10         </td> <td>5              </td> <td>1406             </td>\n",
       "        </tr>\n",
       "        <tr>\n",
       "            <td>Adams, Marcus   </td> <td>20170     </td> <td>154          </td> <td>86       </td> <td>65       </td> <td>68           </td> <td>4        </td> <td>7          </td> <td>0          </td> <td>30         </td> <td>27            </td> <td>15           </td> <td>0             </td> <td>16          </td> <td>4           </td> <td>5               </td> <td>0                </td> <td>55                      </td> <td>98                        </td> <td>12                </td> <td>55               </td> <td>0          </td> <td>2              </td> <td>885              </td>\n",
       "        </tr>\n",
       "        <tr>\n",
       "            <td>Adams, Taylor   </td> <td>44374     </td> <td>649          </td> <td>328      </td> <td>111      </td> <td>321          </td> <td>9        </td> <td>8          </td> <td>0          </td> <td>140        </td> <td>35            </td> <td>93           </td> <td>123           </td> <td>96          </td> <td>32          </td> <td>30              </td> <td>14               </td> <td>257                     </td> <td>394                       </td> <td>3                 </td> <td>27               </td> <td>12         </td> <td>14             </td> <td>1695             </td>\n",
       "        </tr>\n",
       "        <tr>\n",
       "            <td>Ah Chee, Brendon</td> <td>10085     </td> <td>79           </td> <td>36       </td> <td>8        </td> <td>43           </td> <td>7        </td> <td>1          </td> <td>0          </td> <td>9          </td> <td>2             </td> <td>14           </td> <td>12            </td> <td>10          </td> <td>5           </td> <td>3               </td> <td>0                </td> <td>37                      </td> <td>43                        </td> <td>1                 </td> <td>6                </td> <td>0          </td> <td>2              </td> <td>326              </td>\n",
       "        </tr>\n",
       "        <tr>\n",
       "            <td>Ah Chee, Callum </td> <td>28238     </td> <td>159          </td> <td>85       </td> <td>34       </td> <td>74           </td> <td>12       </td> <td>3          </td> <td>0          </td> <td>43         </td> <td>8             </td> <td>24           </td> <td>6             </td> <td>37          </td> <td>11          </td> <td>16              </td> <td>0                </td> <td>72                      </td> <td>96                        </td> <td>4                 </td> <td>19               </td> <td>0          </td> <td>6              </td> <td>1007             </td>\n",
       "        </tr>\n",
       "        <tr>\n",
       "            <td>Ainsworth, Ben  </td> <td>26221     </td> <td>152          </td> <td>88       </td> <td>45       </td> <td>64           </td> <td>14       </td> <td>9          </td> <td>0          </td> <td>42         </td> <td>4             </td> <td>30           </td> <td>7             </td> <td>25          </td> <td>14          </td> <td>10              </td> <td>0                </td> <td>66                      </td> <td>85                        </td> <td>5                 </td> <td>9                </td> <td>4          </td> <td>6              </td> <td>923              </td>\n",
       "        </tr>\n",
       "        <tr>\n",
       "            <td>Aish, James     </td> <td>16136     </td> <td>125          </td> <td>69       </td> <td>29       </td> <td>56           </td> <td>1        </td> <td>2          </td> <td>0          </td> <td>24         </td> <td>7             </td> <td>13           </td> <td>13            </td> <td>17          </td> <td>6           </td> <td>7               </td> <td>0                </td> <td>43                      </td> <td>81                        </td> <td>1                 </td> <td>5                </td> <td>0          </td> <td>2              </td> <td>583              </td>\n",
       "        </tr>\n",
       "        <tr>\n",
       "            <td>Aliir, Aliir    </td> <td>6051      </td> <td>35           </td> <td>20       </td> <td>11       </td> <td>15           </td> <td>0        </td> <td>0          </td> <td>0          </td> <td>9          </td> <td>11            </td> <td>2            </td> <td>0             </td> <td>9           </td> <td>1           </td> <td>4               </td> <td>0                </td> <td>15                      </td> <td>23                        </td> <td>2                 </td> <td>19               </td> <td>0          </td> <td>0              </td> <td>269              </td>\n",
       "        </tr>\n",
       "        <tr>\n",
       "            <td>Allison, Jacob  </td> <td>10085     </td> <td>88           </td> <td>47       </td> <td>27       </td> <td>41           </td> <td>1        </td> <td>3          </td> <td>0          </td> <td>10         </td> <td>5             </td> <td>14           </td> <td>6             </td> <td>6           </td> <td>3           </td> <td>2               </td> <td>0                </td> <td>24                      </td> <td>67                        </td> <td>0                 </td> <td>4                </td> <td>1          </td> <td>1              </td> <td>360              </td>\n",
       "        </tr>\n",
       "    </tbody>\n",
       "</table>\n",
       "<p>... (646 rows omitted)</p>"
      ],
      "text/plain": [
       "Player           | Season sum | Disposals sum | Kicks sum | Marks sum | Handballs sum | Goals sum | Behinds sum | Hitouts sum | Tackles sum | Rebound50s sum | Inside50s sum | Clearances sum | Clangers sum | FreesFor sum | FreesAgainst sum | BrownlowVotes sum | ContendedPossessions sum | UncontendedPossessions sum | ContestedMarks sum | OnePercenters sum | Bounces sum | GoalAssists sum | PercentPlayed sum\n",
       "Ablett, Gary     | 28238      | 462           | 266       | 49        | 196           | 8         | 11          | 0           | 77          | 35             | 82            | 107            | 65           | 13           | 18               | 14                | 192                      | 256                        | 2                  | 9                 | 8           | 12              | 1209\n",
       "Acres, Blake     | 36306      | 366           | 178       | 81        | 188           | 11        | 4           | 2           | 51          | 27             | 62            | 27             | 42           | 12           | 13               | 0                 | 108                      | 266                        | 6                  | 16                | 10          | 5               | 1406\n",
       "Adams, Marcus    | 20170      | 154           | 86        | 65        | 68            | 4         | 7           | 0           | 30          | 27             | 15            | 0              | 16           | 4            | 5                | 0                 | 55                       | 98                         | 12                 | 55                | 0           | 2               | 885\n",
       "Adams, Taylor    | 44374      | 649           | 328       | 111       | 321           | 9         | 8           | 0           | 140         | 35             | 93            | 123            | 96           | 32           | 30               | 14                | 257                      | 394                        | 3                  | 27                | 12          | 14              | 1695\n",
       "Ah Chee, Brendon | 10085      | 79            | 36        | 8         | 43            | 7         | 1           | 0           | 9           | 2              | 14            | 12             | 10           | 5            | 3                | 0                 | 37                       | 43                         | 1                  | 6                 | 0           | 2               | 326\n",
       "Ah Chee, Callum  | 28238      | 159           | 85        | 34        | 74            | 12        | 3           | 0           | 43          | 8              | 24            | 6              | 37           | 11           | 16               | 0                 | 72                       | 96                         | 4                  | 19                | 0           | 6               | 1007\n",
       "Ainsworth, Ben   | 26221      | 152           | 88        | 45        | 64            | 14        | 9           | 0           | 42          | 4              | 30            | 7              | 25           | 14           | 10               | 0                 | 66                       | 85                         | 5                  | 9                 | 4           | 6               | 923\n",
       "Aish, James      | 16136      | 125           | 69        | 29        | 56            | 1         | 2           | 0           | 24          | 7              | 13            | 13             | 17           | 6            | 7                | 0                 | 43                       | 81                         | 1                  | 5                 | 0           | 2               | 583\n",
       "Aliir, Aliir     | 6051       | 35            | 20        | 11        | 15            | 0         | 0           | 0           | 9           | 11             | 2             | 0              | 9            | 1            | 4                | 0                 | 15                       | 23                         | 2                  | 19                | 0           | 0               | 269\n",
       "Allison, Jacob   | 10085      | 88            | 47        | 27        | 41            | 1         | 3           | 0           | 10          | 5              | 14            | 6              | 6            | 3            | 2                | 0                 | 24                       | 67                         | 0                  | 4                 | 1           | 1               | 360\n",
       "... (646 rows omitted)"
      ]
     },
     "execution_count": 46,
     "metadata": {},
     "output_type": "execute_result"
    }
   ],
   "source": [
    "annual_player_stats(2017)"
   ]
  },
  {
   "cell_type": "code",
   "execution_count": 47,
   "metadata": {},
   "outputs": [
    {
     "data": {
      "text/html": [
       "<table border=\"1\" class=\"dataframe\">\n",
       "    <thead>\n",
       "        <tr>\n",
       "            <th>Player</th> <th>Season sum</th> <th>Disposals sum</th> <th>Kicks sum</th> <th>Marks sum</th> <th>Handballs sum</th> <th>Goals sum</th> <th>Behinds sum</th> <th>Hitouts sum</th> <th>Tackles sum</th> <th>Rebound50s sum</th> <th>Inside50s sum</th> <th>Clearances sum</th> <th>Clangers sum</th> <th>FreesFor sum</th> <th>FreesAgainst sum</th> <th>BrownlowVotes sum</th> <th>ContendedPossessions sum</th> <th>UncontendedPossessions sum</th> <th>ContestedMarks sum</th> <th>OnePercenters sum</th> <th>Bounces sum</th> <th>GoalAssists sum</th> <th>PercentPlayed sum</th>\n",
       "        </tr>\n",
       "    </thead>\n",
       "    <tbody>\n",
       "        <tr>\n",
       "            <td>Abbott, Ryan      </td> <td>6054      </td> <td>38           </td> <td>17       </td> <td>9        </td> <td>21           </td> <td>3        </td> <td>2          </td> <td>82         </td> <td>18         </td> <td>2             </td> <td>2            </td> <td>8             </td> <td>10          </td> <td>2           </td> <td>6               </td> <td>0                </td> <td>20                      </td> <td>20                        </td> <td>1                 </td> <td>13               </td> <td>0          </td> <td>1              </td> <td>253              </td>\n",
       "        </tr>\n",
       "        <tr>\n",
       "            <td>Ablett, Gary      </td> <td>36324     </td> <td>525          </td> <td>280      </td> <td>79       </td> <td>245          </td> <td>16       </td> <td>14         </td> <td>0          </td> <td>66         </td> <td>36            </td> <td>90           </td> <td>82            </td> <td>77          </td> <td>24          </td> <td>31              </td> <td>14               </td> <td>199                     </td> <td>329                       </td> <td>2                 </td> <td>14               </td> <td>9          </td> <td>8              </td> <td>1477             </td>\n",
       "        </tr>\n",
       "        <tr>\n",
       "            <td>Acres, Blake      </td> <td>24216     </td> <td>258          </td> <td>129      </td> <td>47       </td> <td>129          </td> <td>4        </td> <td>7          </td> <td>10         </td> <td>43         </td> <td>14            </td> <td>38           </td> <td>32            </td> <td>35          </td> <td>18          </td> <td>17              </td> <td>1                </td> <td>107                     </td> <td>161                       </td> <td>4                 </td> <td>28               </td> <td>7          </td> <td>6              </td> <td>944              </td>\n",
       "        </tr>\n",
       "        <tr>\n",
       "            <td>Adams, Marcus     </td> <td>12108     </td> <td>90           </td> <td>55       </td> <td>37       </td> <td>35           </td> <td>0        </td> <td>0          </td> <td>3          </td> <td>12         </td> <td>18            </td> <td>12           </td> <td>1             </td> <td>17          </td> <td>6           </td> <td>11              </td> <td>0                </td> <td>28                      </td> <td>61                        </td> <td>3                 </td> <td>42               </td> <td>0          </td> <td>0              </td> <td>566              </td>\n",
       "        </tr>\n",
       "        <tr>\n",
       "            <td>Adams, Taylor     </td> <td>46414     </td> <td>620          </td> <td>330      </td> <td>78       </td> <td>290          </td> <td>9        </td> <td>9          </td> <td>0          </td> <td>120        </td> <td>35            </td> <td>96           </td> <td>143           </td> <td>110         </td> <td>41          </td> <td>37              </td> <td>6                </td> <td>304                     </td> <td>323                       </td> <td>3                 </td> <td>27               </td> <td>12         </td> <td>16             </td> <td>1797             </td>\n",
       "        </tr>\n",
       "        <tr>\n",
       "            <td>Ah Chee, Brendon  </td> <td>16144     </td> <td>109          </td> <td>54       </td> <td>30       </td> <td>55           </td> <td>2        </td> <td>5          </td> <td>0          </td> <td>25         </td> <td>6             </td> <td>13           </td> <td>6             </td> <td>9           </td> <td>4           </td> <td>3               </td> <td>0                </td> <td>57                      </td> <td>54                        </td> <td>7                 </td> <td>15               </td> <td>0          </td> <td>2              </td> <td>586              </td>\n",
       "        </tr>\n",
       "        <tr>\n",
       "            <td>Ah Chee, Callum   </td> <td>28252     </td> <td>204          </td> <td>127      </td> <td>51       </td> <td>77           </td> <td>3        </td> <td>6          </td> <td>0          </td> <td>37         </td> <td>25            </td> <td>31           </td> <td>8             </td> <td>43          </td> <td>13          </td> <td>17              </td> <td>0                </td> <td>66                      </td> <td>142                       </td> <td>5                 </td> <td>26               </td> <td>0          </td> <td>5              </td> <td>1138             </td>\n",
       "        </tr>\n",
       "        <tr>\n",
       "            <td>Ahern, Paul       </td> <td>22198     </td> <td>233          </td> <td>116      </td> <td>23       </td> <td>117          </td> <td>3        </td> <td>3          </td> <td>0          </td> <td>26         </td> <td>18            </td> <td>42           </td> <td>35            </td> <td>36          </td> <td>8           </td> <td>10              </td> <td>1                </td> <td>105                     </td> <td>132                       </td> <td>0                 </td> <td>6                </td> <td>3          </td> <td>7              </td> <td>747              </td>\n",
       "        </tr>\n",
       "        <tr>\n",
       "            <td>Ainsworth, Ben    </td> <td>32288     </td> <td>237          </td> <td>131      </td> <td>45       </td> <td>106          </td> <td>6        </td> <td>12         </td> <td>0          </td> <td>52         </td> <td>11            </td> <td>37           </td> <td>32            </td> <td>45          </td> <td>10          </td> <td>12              </td> <td>0                </td> <td>97                      </td> <td>141                       </td> <td>2                 </td> <td>18               </td> <td>3          </td> <td>6              </td> <td>1182             </td>\n",
       "        </tr>\n",
       "        <tr>\n",
       "            <td>Ainsworth, Brayden</td> <td>6054      </td> <td>41           </td> <td>27       </td> <td>10       </td> <td>14           </td> <td>1        </td> <td>0          </td> <td>0          </td> <td>13         </td> <td>5             </td> <td>7            </td> <td>5             </td> <td>6           </td> <td>2           </td> <td>2               </td> <td>0                </td> <td>16                      </td> <td>26                        </td> <td>0                 </td> <td>3                </td> <td>0          </td> <td>1              </td> <td>207              </td>\n",
       "        </tr>\n",
       "    </tbody>\n",
       "</table>\n",
       "<p>... (648 rows omitted)</p>"
      ],
      "text/plain": [
       "Player             | Season sum | Disposals sum | Kicks sum | Marks sum | Handballs sum | Goals sum | Behinds sum | Hitouts sum | Tackles sum | Rebound50s sum | Inside50s sum | Clearances sum | Clangers sum | FreesFor sum | FreesAgainst sum | BrownlowVotes sum | ContendedPossessions sum | UncontendedPossessions sum | ContestedMarks sum | OnePercenters sum | Bounces sum | GoalAssists sum | PercentPlayed sum\n",
       "Abbott, Ryan       | 6054       | 38            | 17        | 9         | 21            | 3         | 2           | 82          | 18          | 2              | 2             | 8              | 10           | 2            | 6                | 0                 | 20                       | 20                         | 1                  | 13                | 0           | 1               | 253\n",
       "Ablett, Gary       | 36324      | 525           | 280       | 79        | 245           | 16        | 14          | 0           | 66          | 36             | 90            | 82             | 77           | 24           | 31               | 14                | 199                      | 329                        | 2                  | 14                | 9           | 8               | 1477\n",
       "Acres, Blake       | 24216      | 258           | 129       | 47        | 129           | 4         | 7           | 10          | 43          | 14             | 38            | 32             | 35           | 18           | 17               | 1                 | 107                      | 161                        | 4                  | 28                | 7           | 6               | 944\n",
       "Adams, Marcus      | 12108      | 90            | 55        | 37        | 35            | 0         | 0           | 3           | 12          | 18             | 12            | 1              | 17           | 6            | 11               | 0                 | 28                       | 61                         | 3                  | 42                | 0           | 0               | 566\n",
       "Adams, Taylor      | 46414      | 620           | 330       | 78        | 290           | 9         | 9           | 0           | 120         | 35             | 96            | 143            | 110          | 41           | 37               | 6                 | 304                      | 323                        | 3                  | 27                | 12          | 16              | 1797\n",
       "Ah Chee, Brendon   | 16144      | 109           | 54        | 30        | 55            | 2         | 5           | 0           | 25          | 6              | 13            | 6              | 9            | 4            | 3                | 0                 | 57                       | 54                         | 7                  | 15                | 0           | 2               | 586\n",
       "Ah Chee, Callum    | 28252      | 204           | 127       | 51        | 77            | 3         | 6           | 0           | 37          | 25             | 31            | 8              | 43           | 13           | 17               | 0                 | 66                       | 142                        | 5                  | 26                | 0           | 5               | 1138\n",
       "Ahern, Paul        | 22198      | 233           | 116       | 23        | 117           | 3         | 3           | 0           | 26          | 18             | 42            | 35             | 36           | 8            | 10               | 1                 | 105                      | 132                        | 0                  | 6                 | 3           | 7               | 747\n",
       "Ainsworth, Ben     | 32288      | 237           | 131       | 45        | 106           | 6         | 12          | 0           | 52          | 11             | 37            | 32             | 45           | 10           | 12               | 0                 | 97                       | 141                        | 2                  | 18                | 3           | 6               | 1182\n",
       "Ainsworth, Brayden | 6054       | 41            | 27        | 10        | 14            | 1         | 0           | 0           | 13          | 5              | 7             | 5              | 6            | 2            | 2                | 0                 | 16                       | 26                         | 0                  | 3                 | 0           | 1               | 207\n",
       "... (648 rows omitted)"
      ]
     },
     "execution_count": 47,
     "metadata": {},
     "output_type": "execute_result"
    }
   ],
   "source": [
    "annual_player_stats(2018)"
   ]
  },
  {
   "cell_type": "code",
   "execution_count": 48,
   "metadata": {},
   "outputs": [
    {
     "data": {
      "text/html": [
       "<table border=\"1\" class=\"dataframe\">\n",
       "    <thead>\n",
       "        <tr>\n",
       "            <th>Player</th> <th>Position</th> <th>Team</th> <th>Season</th> <th>BrownlowVotes sum</th>\n",
       "        </tr>\n",
       "    </thead>\n",
       "    <tbody>\n",
       "        <tr>\n",
       "            <td>Mitchell, Tom     </td> <td>Midfield</td> <td>Hawthorn   </td> <td>2018  </td> <td>28               </td>\n",
       "        </tr>\n",
       "        <tr>\n",
       "            <td>Sidebottom, Steele</td> <td>Midfield</td> <td>Collingwood</td> <td>2018  </td> <td>24               </td>\n",
       "        </tr>\n",
       "        <tr>\n",
       "            <td>Brayshaw, Angus   </td> <td>Midfield</td> <td>Melbourne  </td> <td>2018  </td> <td>21               </td>\n",
       "        </tr>\n",
       "        <tr>\n",
       "            <td>Gawn, Max         </td> <td>Ruck    </td> <td>Melbourne  </td> <td>2018  </td> <td>20               </td>\n",
       "        </tr>\n",
       "        <tr>\n",
       "            <td>Cripps, Patrick   </td> <td>Midfield</td> <td>Carlton    </td> <td>2018  </td> <td>20               </td>\n",
       "        </tr>\n",
       "        <tr>\n",
       "            <td>Martin, Dustin    </td> <td>Midfield</td> <td>Richmond   </td> <td>2018  </td> <td>19               </td>\n",
       "        </tr>\n",
       "    </tbody>\n",
       "</table>"
      ],
      "text/plain": [
       "Player             | Position | Team        | Season | BrownlowVotes sum\n",
       "Mitchell, Tom      | Midfield | Hawthorn    | 2018   | 28\n",
       "Sidebottom, Steele | Midfield | Collingwood | 2018   | 24\n",
       "Brayshaw, Angus    | Midfield | Melbourne   | 2018   | 21\n",
       "Gawn, Max          | Ruck     | Melbourne   | 2018   | 20\n",
       "Cripps, Patrick    | Midfield | Carlton     | 2018   | 20\n",
       "Martin, Dustin     | Midfield | Richmond    | 2018   | 19"
      ]
     },
     "execution_count": 48,
     "metadata": {},
     "output_type": "execute_result"
    }
   ],
   "source": [
    "#Here I am trying to find the top 5 players in terms of Brownlow medal voting to see if there is a positional\n",
    "#likelihood of winning the medal\n",
    "top_players = stats.group([\"Player\",\"Position\", \"Team\", \"Season\"], sum).sort(\"BrownlowVotes sum\", descending = True).select(\"Player\", \"Position\",\"Team\",\"Season\", \"BrownlowVotes sum\")\n",
    "def top_five(year):\n",
    "    top_five = top_players.where(\"Season\", year)\n",
    "    return top_five.take(0,1,2,3,4,5)\n",
    "top_five(2018)"
   ]
  },
  {
   "cell_type": "code",
   "execution_count": 49,
   "metadata": {},
   "outputs": [
    {
     "data": {
      "text/html": [
       "<table border=\"1\" class=\"dataframe\">\n",
       "    <thead>\n",
       "        <tr>\n",
       "            <th>Player</th> <th>Position</th> <th>Team</th> <th>Season</th> <th>BrownlowVotes sum</th>\n",
       "        </tr>\n",
       "    </thead>\n",
       "    <tbody>\n",
       "        <tr>\n",
       "            <td>Martin, Dustin      </td> <td>Midfield         </td> <td>Richmond              </td> <td>2017  </td> <td>36               </td>\n",
       "        </tr>\n",
       "        <tr>\n",
       "            <td>Dangerfield, Patrick</td> <td>Midfield, Forward</td> <td>Geelong               </td> <td>2017  </td> <td>33               </td>\n",
       "        </tr>\n",
       "        <tr>\n",
       "            <td>Mitchell, Tom       </td> <td>Midfield         </td> <td>Hawthorn              </td> <td>2017  </td> <td>25               </td>\n",
       "        </tr>\n",
       "        <tr>\n",
       "            <td>Kennedy, Josh P     </td> <td>Midfield         </td> <td>Sydney                </td> <td>2017  </td> <td>23               </td>\n",
       "        </tr>\n",
       "        <tr>\n",
       "            <td>Franklin, Lance     </td> <td>Forward          </td> <td>Sydney                </td> <td>2017  </td> <td>22               </td>\n",
       "        </tr>\n",
       "        <tr>\n",
       "            <td>Kelly, Josh         </td> <td>Midfield         </td> <td>Greater Western Sydney</td> <td>2017  </td> <td>21               </td>\n",
       "        </tr>\n",
       "    </tbody>\n",
       "</table>"
      ],
      "text/plain": [
       "Player               | Position          | Team                   | Season | BrownlowVotes sum\n",
       "Martin, Dustin       | Midfield          | Richmond               | 2017   | 36\n",
       "Dangerfield, Patrick | Midfield, Forward | Geelong                | 2017   | 33\n",
       "Mitchell, Tom        | Midfield          | Hawthorn               | 2017   | 25\n",
       "Kennedy, Josh P      | Midfield          | Sydney                 | 2017   | 23\n",
       "Franklin, Lance      | Forward           | Sydney                 | 2017   | 22\n",
       "Kelly, Josh          | Midfield          | Greater Western Sydney | 2017   | 21"
      ]
     },
     "execution_count": 49,
     "metadata": {},
     "output_type": "execute_result"
    }
   ],
   "source": [
    "top_five(2017)"
   ]
  },
  {
   "cell_type": "code",
   "execution_count": 50,
   "metadata": {},
   "outputs": [
    {
     "data": {
      "text/html": [
       "<table border=\"1\" class=\"dataframe\">\n",
       "    <thead>\n",
       "        <tr>\n",
       "            <th>Player</th> <th>Position</th> <th>Team</th> <th>Season</th> <th>BrownlowVotes sum</th>\n",
       "        </tr>\n",
       "    </thead>\n",
       "    <tbody>\n",
       "        <tr>\n",
       "            <td>Dangerfield, Patrick</td> <td>Midfield, Forward</td> <td>Geelong    </td> <td>2016  </td> <td>35               </td>\n",
       "        </tr>\n",
       "        <tr>\n",
       "            <td>Parker, Luke        </td> <td>Midfield         </td> <td>Sydney     </td> <td>2016  </td> <td>26               </td>\n",
       "        </tr>\n",
       "        <tr>\n",
       "            <td>Martin, Dustin      </td> <td>Midfield         </td> <td>Richmond   </td> <td>2016  </td> <td>25               </td>\n",
       "        </tr>\n",
       "        <tr>\n",
       "            <td>Sloane, Rory        </td> <td>Midfield         </td> <td>Adelaide   </td> <td>2016  </td> <td>24               </td>\n",
       "        </tr>\n",
       "        <tr>\n",
       "            <td>Treloar, Adam       </td> <td>Midfield         </td> <td>Collingwood</td> <td>2016  </td> <td>21               </td>\n",
       "        </tr>\n",
       "        <tr>\n",
       "            <td>Hannebery, Dan      </td> <td>Midfield         </td> <td>Sydney     </td> <td>2016  </td> <td>21               </td>\n",
       "        </tr>\n",
       "    </tbody>\n",
       "</table>"
      ],
      "text/plain": [
       "Player               | Position          | Team        | Season | BrownlowVotes sum\n",
       "Dangerfield, Patrick | Midfield, Forward | Geelong     | 2016   | 35\n",
       "Parker, Luke         | Midfield          | Sydney      | 2016   | 26\n",
       "Martin, Dustin       | Midfield          | Richmond    | 2016   | 25\n",
       "Sloane, Rory         | Midfield          | Adelaide    | 2016   | 24\n",
       "Treloar, Adam        | Midfield          | Collingwood | 2016   | 21\n",
       "Hannebery, Dan       | Midfield          | Sydney      | 2016   | 21"
      ]
     },
     "execution_count": 50,
     "metadata": {},
     "output_type": "execute_result"
    }
   ],
   "source": [
    "top_five(2016)"
   ]
  },
  {
   "cell_type": "code",
   "execution_count": 51,
   "metadata": {},
   "outputs": [
    {
     "data": {
      "text/html": [
       "<table border=\"1\" class=\"dataframe\">\n",
       "    <thead>\n",
       "        <tr>\n",
       "            <th>Player</th> <th>Position</th> <th>Team</th> <th>Season</th> <th>BrownlowVotes sum</th>\n",
       "        </tr>\n",
       "    </thead>\n",
       "    <tbody>\n",
       "        <tr>\n",
       "            <td>Fyfe, Nat           </td> <td>Midfield         </td> <td>Fremantle </td> <td>2015  </td> <td>31               </td>\n",
       "        </tr>\n",
       "        <tr>\n",
       "            <td>Priddis, Matt       </td> <td>Midfield         </td> <td>West Coast</td> <td>2015  </td> <td>28               </td>\n",
       "        </tr>\n",
       "        <tr>\n",
       "            <td>Mitchell, Sam       </td> <td>Midfield         </td> <td>Hawthorn  </td> <td>2015  </td> <td>26               </td>\n",
       "        </tr>\n",
       "        <tr>\n",
       "            <td>Kennedy, Josh P     </td> <td>Midfield         </td> <td>Sydney    </td> <td>2015  </td> <td>25               </td>\n",
       "        </tr>\n",
       "        <tr>\n",
       "            <td>Hannebery, Dan      </td> <td>Midfield         </td> <td>Sydney    </td> <td>2015  </td> <td>24               </td>\n",
       "        </tr>\n",
       "        <tr>\n",
       "            <td>Dangerfield, Patrick</td> <td>Midfield, Forward</td> <td>Adelaide  </td> <td>2015  </td> <td>22               </td>\n",
       "        </tr>\n",
       "    </tbody>\n",
       "</table>"
      ],
      "text/plain": [
       "Player               | Position          | Team       | Season | BrownlowVotes sum\n",
       "Fyfe, Nat            | Midfield          | Fremantle  | 2015   | 31\n",
       "Priddis, Matt        | Midfield          | West Coast | 2015   | 28\n",
       "Mitchell, Sam        | Midfield          | Hawthorn   | 2015   | 26\n",
       "Kennedy, Josh P      | Midfield          | Sydney     | 2015   | 25\n",
       "Hannebery, Dan       | Midfield          | Sydney     | 2015   | 24\n",
       "Dangerfield, Patrick | Midfield, Forward | Adelaide   | 2015   | 22"
      ]
     },
     "execution_count": 51,
     "metadata": {},
     "output_type": "execute_result"
    }
   ],
   "source": [
    "top_five(2015)"
   ]
  },
  {
   "cell_type": "code",
   "execution_count": 52,
   "metadata": {},
   "outputs": [
    {
     "data": {
      "text/html": [
       "<table border=\"1\" class=\"dataframe\">\n",
       "    <thead>\n",
       "        <tr>\n",
       "            <th>Player</th> <th>Position</th> <th>Team</th> <th>Season</th> <th>BrownlowVotes sum</th>\n",
       "        </tr>\n",
       "    </thead>\n",
       "    <tbody>\n",
       "        <tr>\n",
       "            <td>Priddis, Matt  </td> <td>Midfield</td> <td>West Coast</td> <td>2014  </td> <td>26               </td>\n",
       "        </tr>\n",
       "        <tr>\n",
       "            <td>Fyfe, Nat      </td> <td>Midfield</td> <td>Fremantle </td> <td>2014  </td> <td>25               </td>\n",
       "        </tr>\n",
       "        <tr>\n",
       "            <td>Franklin, Lance</td> <td>Forward </td> <td>Sydney    </td> <td>2014  </td> <td>22               </td>\n",
       "        </tr>\n",
       "        <tr>\n",
       "            <td>Ablett, Gary   </td> <td>Midfield</td> <td>Gold Coast</td> <td>2014  </td> <td>22               </td>\n",
       "        </tr>\n",
       "        <tr>\n",
       "            <td>Selwood, Joel  </td> <td>Midfield</td> <td>Geelong   </td> <td>2014  </td> <td>21               </td>\n",
       "        </tr>\n",
       "        <tr>\n",
       "            <td>Kennedy, Josh P</td> <td>Midfield</td> <td>Sydney    </td> <td>2014  </td> <td>21               </td>\n",
       "        </tr>\n",
       "    </tbody>\n",
       "</table>"
      ],
      "text/plain": [
       "Player          | Position | Team       | Season | BrownlowVotes sum\n",
       "Priddis, Matt   | Midfield | West Coast | 2014   | 26\n",
       "Fyfe, Nat       | Midfield | Fremantle  | 2014   | 25\n",
       "Franklin, Lance | Forward  | Sydney     | 2014   | 22\n",
       "Ablett, Gary    | Midfield | Gold Coast | 2014   | 22\n",
       "Selwood, Joel   | Midfield | Geelong    | 2014   | 21\n",
       "Kennedy, Josh P | Midfield | Sydney     | 2014   | 21"
      ]
     },
     "execution_count": 52,
     "metadata": {},
     "output_type": "execute_result"
    }
   ],
   "source": [
    "top_five(2014)"
   ]
  },
  {
   "cell_type": "code",
   "execution_count": 53,
   "metadata": {},
   "outputs": [
    {
     "data": {
      "text/html": [
       "<table border=\"1\" class=\"dataframe\">\n",
       "    <thead>\n",
       "        <tr>\n",
       "            <th>Player</th> <th>Position</th> <th>Team</th> <th>Season</th> <th>BrownlowVotes sum</th>\n",
       "        </tr>\n",
       "    </thead>\n",
       "    <tbody>\n",
       "        <tr>\n",
       "            <td>Ablett, Gary        </td> <td>Midfield         </td> <td>Gold Coast    </td> <td>2013  </td> <td>28               </td>\n",
       "        </tr>\n",
       "        <tr>\n",
       "            <td>Selwood, Joel       </td> <td>Midfield         </td> <td>Geelong       </td> <td>2013  </td> <td>27               </td>\n",
       "        </tr>\n",
       "        <tr>\n",
       "            <td>Swan, Dane          </td> <td>Midfield         </td> <td>Collingwood   </td> <td>2013  </td> <td>26               </td>\n",
       "        </tr>\n",
       "        <tr>\n",
       "            <td>Johnson, Steve      </td> <td>Forward          </td> <td>Geelong       </td> <td>2013  </td> <td>25               </td>\n",
       "        </tr>\n",
       "        <tr>\n",
       "            <td>Dangerfield, Patrick</td> <td>Midfield, Forward</td> <td>Adelaide      </td> <td>2013  </td> <td>22               </td>\n",
       "        </tr>\n",
       "        <tr>\n",
       "            <td>Rockliff, Tom       </td> <td>Midfield         </td> <td>Brisbane Lions</td> <td>2013  </td> <td>21               </td>\n",
       "        </tr>\n",
       "    </tbody>\n",
       "</table>"
      ],
      "text/plain": [
       "Player               | Position          | Team           | Season | BrownlowVotes sum\n",
       "Ablett, Gary         | Midfield          | Gold Coast     | 2013   | 28\n",
       "Selwood, Joel        | Midfield          | Geelong        | 2013   | 27\n",
       "Swan, Dane           | Midfield          | Collingwood    | 2013   | 26\n",
       "Johnson, Steve       | Forward           | Geelong        | 2013   | 25\n",
       "Dangerfield, Patrick | Midfield, Forward | Adelaide       | 2013   | 22\n",
       "Rockliff, Tom        | Midfield          | Brisbane Lions | 2013   | 21"
      ]
     },
     "execution_count": 53,
     "metadata": {},
     "output_type": "execute_result"
    }
   ],
   "source": [
    "top_five(2013)"
   ]
  },
  {
   "cell_type": "code",
   "execution_count": 54,
   "metadata": {},
   "outputs": [
    {
     "data": {
      "text/html": [
       "<table border=\"1\" class=\"dataframe\">\n",
       "    <thead>\n",
       "        <tr>\n",
       "            <th>Player</th> <th>Position</th> <th>Team</th> <th>Season</th> <th>BrownlowVotes sum</th>\n",
       "        </tr>\n",
       "    </thead>\n",
       "    <tbody>\n",
       "        <tr>\n",
       "            <td>Watson, Jobe   </td> <td>Midfield</td> <td>Essendon   </td> <td>2012  </td> <td>30               </td>\n",
       "        </tr>\n",
       "        <tr>\n",
       "            <td>Mitchell, Sam  </td> <td>Midfield</td> <td>Hawthorn   </td> <td>2012  </td> <td>26               </td>\n",
       "        </tr>\n",
       "        <tr>\n",
       "            <td>Cotchin, Trent </td> <td>Midfield</td> <td>Richmond   </td> <td>2012  </td> <td>26               </td>\n",
       "        </tr>\n",
       "        <tr>\n",
       "            <td>Thompson, Scott</td> <td>Midfield</td> <td>Adelaide   </td> <td>2012  </td> <td>25               </td>\n",
       "        </tr>\n",
       "        <tr>\n",
       "            <td>Swan, Dane     </td> <td>Midfield</td> <td>Collingwood</td> <td>2012  </td> <td>25               </td>\n",
       "        </tr>\n",
       "        <tr>\n",
       "            <td>Ablett, Gary   </td> <td>Midfield</td> <td>Gold Coast </td> <td>2012  </td> <td>24               </td>\n",
       "        </tr>\n",
       "    </tbody>\n",
       "</table>"
      ],
      "text/plain": [
       "Player          | Position | Team        | Season | BrownlowVotes sum\n",
       "Watson, Jobe    | Midfield | Essendon    | 2012   | 30\n",
       "Mitchell, Sam   | Midfield | Hawthorn    | 2012   | 26\n",
       "Cotchin, Trent  | Midfield | Richmond    | 2012   | 26\n",
       "Thompson, Scott | Midfield | Adelaide    | 2012   | 25\n",
       "Swan, Dane      | Midfield | Collingwood | 2012   | 25\n",
       "Ablett, Gary    | Midfield | Gold Coast  | 2012   | 24"
      ]
     },
     "execution_count": 54,
     "metadata": {},
     "output_type": "execute_result"
    }
   ],
   "source": [
    "top_five(2012)"
   ]
  },
  {
   "cell_type": "code",
   "execution_count": 55,
   "metadata": {},
   "outputs": [],
   "source": [
    "#As we can see, the brownlow winner is almost exclusively a midfielder from 2012-2018 with only one exception\n",
    "#in 2016"
   ]
  },
  {
   "cell_type": "code",
   "execution_count": 56,
   "metadata": {},
   "outputs": [
    {
     "data": {
      "text/html": [
       "<table border=\"1\" class=\"dataframe\">\n",
       "    <thead>\n",
       "        <tr>\n",
       "            <th>Rank</th> <th>Team</th> <th>Games Played</th> <th>Won</th> <th>Lost</th> <th>Tied</th> <th>Pts Scored</th> <th>Pts Given </th> <th>Ratio</th> <th>Points</th> <th>Year</th> <th>Notes</th>\n",
       "        </tr>\n",
       "    </thead>\n",
       "    <tbody>\n",
       "        <tr>\n",
       "            <td>1   </td> <td>Richmond              </td> <td>22          </td> <td>18  </td> <td>4   </td> <td>0   </td> <td>2143      </td> <td>1574      </td> <td>136.1</td> <td>72    </td> <td>2018</td> <td>nan  </td>\n",
       "        </tr>\n",
       "        <tr>\n",
       "            <td>2   </td> <td>West Coast (P)        </td> <td>22          </td> <td>16  </td> <td>6   </td> <td>0   </td> <td>2012      </td> <td>1657      </td> <td>121.4</td> <td>64    </td> <td>2018</td> <td>nan  </td>\n",
       "        </tr>\n",
       "        <tr>\n",
       "            <td>3   </td> <td>Collingwood           </td> <td>22          </td> <td>15  </td> <td>7   </td> <td>0   </td> <td>2046      </td> <td>1699      </td> <td>120.4</td> <td>60    </td> <td>2018</td> <td>nan  </td>\n",
       "        </tr>\n",
       "        <tr>\n",
       "            <td>4   </td> <td>Hawthorn              </td> <td>22          </td> <td>15  </td> <td>7   </td> <td>0   </td> <td>1972      </td> <td>1642      </td> <td>120.1</td> <td>60    </td> <td>2018</td> <td>nan  </td>\n",
       "        </tr>\n",
       "        <tr>\n",
       "            <td>5   </td> <td>Melbourne             </td> <td>22          </td> <td>14  </td> <td>8   </td> <td>0   </td> <td>2299      </td> <td>1749      </td> <td>131.4</td> <td>56    </td> <td>2018</td> <td>nan  </td>\n",
       "        </tr>\n",
       "        <tr>\n",
       "            <td>6   </td> <td>Sydney                </td> <td>22          </td> <td>14  </td> <td>8   </td> <td>0   </td> <td>1822      </td> <td>1664      </td> <td>109.5</td> <td>56    </td> <td>2018</td> <td>nan  </td>\n",
       "        </tr>\n",
       "        <tr>\n",
       "            <td>7   </td> <td>Greater Western Sydney</td> <td>22          </td> <td>13  </td> <td>8   </td> <td>1   </td> <td>1898      </td> <td>1664      </td> <td>114.1</td> <td>54    </td> <td>2018</td> <td>nan  </td>\n",
       "        </tr>\n",
       "        <tr>\n",
       "            <td>8   </td> <td>Geelong               </td> <td>22          </td> <td>13  </td> <td>9   </td> <td>0   </td> <td>2045      </td> <td>1554      </td> <td>131.6</td> <td>52    </td> <td>2018</td> <td>nan  </td>\n",
       "        </tr>\n",
       "        <tr>\n",
       "            <td>9   </td> <td>North Melbourne       </td> <td>22          </td> <td>12  </td> <td>10  </td> <td>0   </td> <td>1950      </td> <td>1790      </td> <td>108.9</td> <td>48    </td> <td>2018</td> <td>nan  </td>\n",
       "        </tr>\n",
       "        <tr>\n",
       "            <td>10  </td> <td>Port Adelaide         </td> <td>22          </td> <td>12  </td> <td>10  </td> <td>0   </td> <td>1780      </td> <td>1654      </td> <td>107.6</td> <td>48    </td> <td>2018</td> <td>nan  </td>\n",
       "        </tr>\n",
       "        <tr>\n",
       "            <td>11  </td> <td>Essendon              </td> <td>22          </td> <td>12  </td> <td>10  </td> <td>0   </td> <td>1932      </td> <td>1838      </td> <td>105.1</td> <td>48    </td> <td>2018</td> <td>nan  </td>\n",
       "        </tr>\n",
       "        <tr>\n",
       "            <td>12  </td> <td>Adelaide              </td> <td>22          </td> <td>12  </td> <td>10  </td> <td>0   </td> <td>1941      </td> <td>1865      </td> <td>104.1</td> <td>48    </td> <td>2018</td> <td>nan  </td>\n",
       "        </tr>\n",
       "        <tr>\n",
       "            <td>13  </td> <td>Western Bulldogs      </td> <td>22          </td> <td>8   </td> <td>14  </td> <td>0   </td> <td>1575      </td> <td>2037      </td> <td>77.3 </td> <td>32    </td> <td>2018</td> <td>nan  </td>\n",
       "        </tr>\n",
       "        <tr>\n",
       "            <td>14  </td> <td>Fremantle             </td> <td>22          </td> <td>8   </td> <td>14  </td> <td>0   </td> <td>1556      </td> <td>2041      </td> <td>76.2 </td> <td>32    </td> <td>2018</td> <td>nan  </td>\n",
       "        </tr>\n",
       "        <tr>\n",
       "            <td>15  </td> <td>Brisbane Lions        </td> <td>22          </td> <td>5   </td> <td>17  </td> <td>0   </td> <td>1825      </td> <td>2049      </td> <td>89.1 </td> <td>20    </td> <td>2018</td> <td>nan  </td>\n",
       "        </tr>\n",
       "        <tr>\n",
       "            <td>16  </td> <td>St Kilda              </td> <td>22          </td> <td>4   </td> <td>17  </td> <td>1   </td> <td>1606      </td> <td>2182      </td> <td>73.6 </td> <td>18    </td> <td>2018</td> <td>nan  </td>\n",
       "        </tr>\n",
       "        <tr>\n",
       "            <td>17  </td> <td>Gold Coast            </td> <td>22          </td> <td>4   </td> <td>18  </td> <td>0   </td> <td>1308      </td> <td>2182      </td> <td>59.9 </td> <td>16    </td> <td>2018</td> <td>nan  </td>\n",
       "        </tr>\n",
       "        <tr>\n",
       "            <td>18  </td> <td>Carlton               </td> <td>22          </td> <td>2   </td> <td>20  </td> <td>0   </td> <td>1353      </td> <td>2282      </td> <td>59.3 </td> <td>8     </td> <td>2018</td> <td>nan  </td>\n",
       "        </tr>\n",
       "    </tbody>\n",
       "</table>"
      ],
      "text/plain": [
       "<IPython.core.display.HTML object>"
      ]
     },
     "metadata": {},
     "output_type": "display_data"
    }
   ],
   "source": [
    "results.where(\"Year\", 2018).show(18)"
   ]
  },
  {
   "cell_type": "code",
   "execution_count": 57,
   "metadata": {},
   "outputs": [
    {
     "data": {
      "text/html": [
       "<table border=\"1\" class=\"dataframe\">\n",
       "    <thead>\n",
       "        <tr>\n",
       "            <th>Player</th> <th>Position</th> <th>Team</th> <th>Season</th> <th>BrownlowVotes sum</th>\n",
       "        </tr>\n",
       "    </thead>\n",
       "    <tbody>\n",
       "        <tr>\n",
       "            <td>Martin, Dustin </td> <td>Midfield         </td> <td>Richmond</td> <td>2018  </td> <td>19               </td>\n",
       "        </tr>\n",
       "        <tr>\n",
       "            <td>Lambert, Kane  </td> <td>Forward          </td> <td>Richmond</td> <td>2018  </td> <td>12               </td>\n",
       "        </tr>\n",
       "        <tr>\n",
       "            <td>Riewoldt, Jack </td> <td>Forward          </td> <td>Richmond</td> <td>2018  </td> <td>10               </td>\n",
       "        </tr>\n",
       "        <tr>\n",
       "            <td>Cotchin, Trent </td> <td>Midfield         </td> <td>Richmond</td> <td>2018  </td> <td>10               </td>\n",
       "        </tr>\n",
       "        <tr>\n",
       "            <td>Edwards, Shane </td> <td>Midfield, Forward</td> <td>Richmond</td> <td>2018  </td> <td>7                </td>\n",
       "        </tr>\n",
       "        <tr>\n",
       "            <td>Caddy, Josh    </td> <td>Forward          </td> <td>Richmond</td> <td>2018  </td> <td>6                </td>\n",
       "        </tr>\n",
       "        <tr>\n",
       "            <td>Prestia, Dion  </td> <td>Midfield         </td> <td>Richmond</td> <td>2018  </td> <td>3                </td>\n",
       "        </tr>\n",
       "        <tr>\n",
       "            <td>Nankervis, Toby</td> <td>Ruck             </td> <td>Richmond</td> <td>2018  </td> <td>3                </td>\n",
       "        </tr>\n",
       "        <tr>\n",
       "            <td>Vlastuin, Nick </td> <td>Defender         </td> <td>Richmond</td> <td>2018  </td> <td>2                </td>\n",
       "        </tr>\n",
       "        <tr>\n",
       "            <td>Grigg, Shaun   </td> <td>Midfield         </td> <td>Richmond</td> <td>2018  </td> <td>2                </td>\n",
       "        </tr>\n",
       "    </tbody>\n",
       "</table>\n",
       "<p>... (24 rows omitted)</p>"
      ],
      "text/plain": [
       "Player          | Position          | Team     | Season | BrownlowVotes sum\n",
       "Martin, Dustin  | Midfield          | Richmond | 2018   | 19\n",
       "Lambert, Kane   | Forward           | Richmond | 2018   | 12\n",
       "Riewoldt, Jack  | Forward           | Richmond | 2018   | 10\n",
       "Cotchin, Trent  | Midfield          | Richmond | 2018   | 10\n",
       "Edwards, Shane  | Midfield, Forward | Richmond | 2018   | 7\n",
       "Caddy, Josh     | Forward           | Richmond | 2018   | 6\n",
       "Prestia, Dion   | Midfield          | Richmond | 2018   | 3\n",
       "Nankervis, Toby | Ruck              | Richmond | 2018   | 3\n",
       "Vlastuin, Nick  | Defender          | Richmond | 2018   | 2\n",
       "Grigg, Shaun    | Midfield          | Richmond | 2018   | 2\n",
       "... (24 rows omitted)"
      ]
     },
     "execution_count": 57,
     "metadata": {},
     "output_type": "execute_result"
    }
   ],
   "source": [
    "#Now I am going to try to find brownlow vote getters by team, to get an idea of who is contributing the most\n",
    "#to each team\n",
    "def team_brownlow(year, team):\n",
    "    return top_players.where(\"Season\", year).where(\"Team\", team)\n",
    "team_brownlow(2018,\"Richmond\")\n",
    "#as seen from 2018 champions Richmond, the most common Brownlow vote getter are primarily offensive players\n",
    "#suggesting there is more of a premium on them"
   ]
  },
  {
   "cell_type": "code",
   "execution_count": 58,
   "metadata": {},
   "outputs": [
    {
     "data": {
      "text/html": [
       "<table border=\"1\" class=\"dataframe\">\n",
       "    <thead>\n",
       "        <tr>\n",
       "            <th>Player</th> <th>Position</th> <th>Team</th> <th>Season</th> <th>BrownlowVotes sum</th>\n",
       "        </tr>\n",
       "    </thead>\n",
       "    <tbody>\n",
       "        <tr>\n",
       "            <td>Gaff, Andrew    </td> <td>Midfield</td> <td>West Coast</td> <td>2018  </td> <td>16               </td>\n",
       "        </tr>\n",
       "        <tr>\n",
       "            <td>Yeo, Elliot     </td> <td>Midfield</td> <td>West Coast</td> <td>2018  </td> <td>15               </td>\n",
       "        </tr>\n",
       "        <tr>\n",
       "            <td>Darling, Jack   </td> <td>Forward </td> <td>West Coast</td> <td>2018  </td> <td>11               </td>\n",
       "        </tr>\n",
       "        <tr>\n",
       "            <td>Redden, Jack    </td> <td>Midfield</td> <td>West Coast</td> <td>2018  </td> <td>10               </td>\n",
       "        </tr>\n",
       "        <tr>\n",
       "            <td>Shuey, Luke     </td> <td>Midfield</td> <td>West Coast</td> <td>2018  </td> <td>6                </td>\n",
       "        </tr>\n",
       "        <tr>\n",
       "            <td>McGovern, Jeremy</td> <td>Defender</td> <td>West Coast</td> <td>2018  </td> <td>6                </td>\n",
       "        </tr>\n",
       "        <tr>\n",
       "            <td>Hurn, Shannon   </td> <td>Defender</td> <td>West Coast</td> <td>2018  </td> <td>6                </td>\n",
       "        </tr>\n",
       "        <tr>\n",
       "            <td>Kennedy, Josh J </td> <td>Forward </td> <td>West Coast</td> <td>2018  </td> <td>4                </td>\n",
       "        </tr>\n",
       "        <tr>\n",
       "            <td>Sheed, Dom      </td> <td>Midfield</td> <td>West Coast</td> <td>2018  </td> <td>3                </td>\n",
       "        </tr>\n",
       "        <tr>\n",
       "            <td>Cripps, Jamie   </td> <td>Forward </td> <td>West Coast</td> <td>2018  </td> <td>3                </td>\n",
       "        </tr>\n",
       "    </tbody>\n",
       "</table>\n",
       "<p>... (23 rows omitted)</p>"
      ],
      "text/plain": [
       "Player           | Position | Team       | Season | BrownlowVotes sum\n",
       "Gaff, Andrew     | Midfield | West Coast | 2018   | 16\n",
       "Yeo, Elliot      | Midfield | West Coast | 2018   | 15\n",
       "Darling, Jack    | Forward  | West Coast | 2018   | 11\n",
       "Redden, Jack     | Midfield | West Coast | 2018   | 10\n",
       "Shuey, Luke      | Midfield | West Coast | 2018   | 6\n",
       "McGovern, Jeremy | Defender | West Coast | 2018   | 6\n",
       "Hurn, Shannon    | Defender | West Coast | 2018   | 6\n",
       "Kennedy, Josh J  | Forward  | West Coast | 2018   | 4\n",
       "Sheed, Dom       | Midfield | West Coast | 2018   | 3\n",
       "Cripps, Jamie    | Forward  | West Coast | 2018   | 3\n",
       "... (23 rows omitted)"
      ]
     },
     "execution_count": 58,
     "metadata": {},
     "output_type": "execute_result"
    }
   ],
   "source": [
    "team_brownlow(2018,\"West Coast\")"
   ]
  },
  {
   "cell_type": "code",
   "execution_count": 59,
   "metadata": {},
   "outputs": [
    {
     "data": {
      "text/html": [
       "<table border=\"1\" class=\"dataframe\">\n",
       "    <thead>\n",
       "        <tr>\n",
       "            <th>Player</th> <th>Position</th> <th>Team</th> <th>Season</th> <th>BrownlowVotes sum</th>\n",
       "        </tr>\n",
       "    </thead>\n",
       "    <tbody>\n",
       "        <tr>\n",
       "            <td>Sidebottom, Steele  </td> <td>Midfield</td> <td>Collingwood</td> <td>2018  </td> <td>24               </td>\n",
       "        </tr>\n",
       "        <tr>\n",
       "            <td>Grundy, Brodie      </td> <td>Ruck    </td> <td>Collingwood</td> <td>2018  </td> <td>17               </td>\n",
       "        </tr>\n",
       "        <tr>\n",
       "            <td>Pendlebury, Scott   </td> <td>Midfield</td> <td>Collingwood</td> <td>2018  </td> <td>15               </td>\n",
       "        </tr>\n",
       "        <tr>\n",
       "            <td>de Goey, Jordan     </td> <td>Forward </td> <td>Collingwood</td> <td>2018  </td> <td>12               </td>\n",
       "        </tr>\n",
       "        <tr>\n",
       "            <td>Treloar, Adam       </td> <td>Midfield</td> <td>Collingwood</td> <td>2018  </td> <td>8                </td>\n",
       "        </tr>\n",
       "        <tr>\n",
       "            <td>Adams, Taylor       </td> <td>Midfield</td> <td>Collingwood</td> <td>2018  </td> <td>6                </td>\n",
       "        </tr>\n",
       "        <tr>\n",
       "            <td>Thomas, Josh        </td> <td>Forward </td> <td>Collingwood</td> <td>2018  </td> <td>3                </td>\n",
       "        </tr>\n",
       "        <tr>\n",
       "            <td>Hoskin-Elliott, Will</td> <td>Forward </td> <td>Collingwood</td> <td>2018  </td> <td>3                </td>\n",
       "        </tr>\n",
       "        <tr>\n",
       "            <td>Cox, Mason          </td> <td>Forward </td> <td>Collingwood</td> <td>2018  </td> <td>3                </td>\n",
       "        </tr>\n",
       "        <tr>\n",
       "            <td>Stephenson, Jaidyn  </td> <td>Forward </td> <td>Collingwood</td> <td>2018  </td> <td>2                </td>\n",
       "        </tr>\n",
       "    </tbody>\n",
       "</table>\n",
       "<p>... (29 rows omitted)</p>"
      ],
      "text/plain": [
       "Player               | Position | Team        | Season | BrownlowVotes sum\n",
       "Sidebottom, Steele   | Midfield | Collingwood | 2018   | 24\n",
       "Grundy, Brodie       | Ruck     | Collingwood | 2018   | 17\n",
       "Pendlebury, Scott    | Midfield | Collingwood | 2018   | 15\n",
       "de Goey, Jordan      | Forward  | Collingwood | 2018   | 12\n",
       "Treloar, Adam        | Midfield | Collingwood | 2018   | 8\n",
       "Adams, Taylor        | Midfield | Collingwood | 2018   | 6\n",
       "Thomas, Josh         | Forward  | Collingwood | 2018   | 3\n",
       "Hoskin-Elliott, Will | Forward  | Collingwood | 2018   | 3\n",
       "Cox, Mason           | Forward  | Collingwood | 2018   | 3\n",
       "Stephenson, Jaidyn   | Forward  | Collingwood | 2018   | 2\n",
       "... (29 rows omitted)"
      ]
     },
     "execution_count": 59,
     "metadata": {},
     "output_type": "execute_result"
    }
   ],
   "source": [
    "team_brownlow(2018,\"Collingwood\")"
   ]
  },
  {
   "cell_type": "code",
   "execution_count": 60,
   "metadata": {},
   "outputs": [
    {
     "data": {
      "text/html": [
       "<table border=\"1\" class=\"dataframe\">\n",
       "    <thead>\n",
       "        <tr>\n",
       "            <th>Player</th> <th>Position</th> <th>Team</th> <th>Season</th> <th>BrownlowVotes sum</th>\n",
       "        </tr>\n",
       "    </thead>\n",
       "    <tbody>\n",
       "        <tr>\n",
       "            <td>Mitchell, Tom   </td> <td>Midfield</td> <td>Hawthorn</td> <td>2018  </td> <td>28               </td>\n",
       "        </tr>\n",
       "        <tr>\n",
       "            <td>OMeara, Jaeger  </td> <td>Midfield</td> <td>Hawthorn</td> <td>2018  </td> <td>13               </td>\n",
       "        </tr>\n",
       "        <tr>\n",
       "            <td>Gunston, Jack   </td> <td>Forward </td> <td>Hawthorn</td> <td>2018  </td> <td>10               </td>\n",
       "        </tr>\n",
       "        <tr>\n",
       "            <td>Sicily, James   </td> <td>Defender</td> <td>Hawthorn</td> <td>2018  </td> <td>8                </td>\n",
       "        </tr>\n",
       "        <tr>\n",
       "            <td>Shiels, Liam    </td> <td>Midfield</td> <td>Hawthorn</td> <td>2018  </td> <td>8                </td>\n",
       "        </tr>\n",
       "        <tr>\n",
       "            <td>McEvoy, Ben     </td> <td>Ruck    </td> <td>Hawthorn</td> <td>2018  </td> <td>8                </td>\n",
       "        </tr>\n",
       "        <tr>\n",
       "            <td>Breust, Luke    </td> <td>Forward </td> <td>Hawthorn</td> <td>2018  </td> <td>7                </td>\n",
       "        </tr>\n",
       "        <tr>\n",
       "            <td>Smith, Isaac    </td> <td>Midfield</td> <td>Hawthorn</td> <td>2018  </td> <td>6                </td>\n",
       "        </tr>\n",
       "        <tr>\n",
       "            <td>Roughead, Jarryd</td> <td>Forward </td> <td>Hawthorn</td> <td>2018  </td> <td>1                </td>\n",
       "        </tr>\n",
       "        <tr>\n",
       "            <td>Puopolo, Paul   </td> <td>Forward </td> <td>Hawthorn</td> <td>2018  </td> <td>1                </td>\n",
       "        </tr>\n",
       "    </tbody>\n",
       "</table>\n",
       "<p>... (26 rows omitted)</p>"
      ],
      "text/plain": [
       "Player           | Position | Team     | Season | BrownlowVotes sum\n",
       "Mitchell, Tom    | Midfield | Hawthorn | 2018   | 28\n",
       "OMeara, Jaeger   | Midfield | Hawthorn | 2018   | 13\n",
       "Gunston, Jack    | Forward  | Hawthorn | 2018   | 10\n",
       "Sicily, James    | Defender | Hawthorn | 2018   | 8\n",
       "Shiels, Liam     | Midfield | Hawthorn | 2018   | 8\n",
       "McEvoy, Ben      | Ruck     | Hawthorn | 2018   | 8\n",
       "Breust, Luke     | Forward  | Hawthorn | 2018   | 7\n",
       "Smith, Isaac     | Midfield | Hawthorn | 2018   | 6\n",
       "Roughead, Jarryd | Forward  | Hawthorn | 2018   | 1\n",
       "Puopolo, Paul    | Forward  | Hawthorn | 2018   | 1\n",
       "... (26 rows omitted)"
      ]
     },
     "execution_count": 60,
     "metadata": {},
     "output_type": "execute_result"
    }
   ],
   "source": [
    "team_brownlow(2018,\"Hawthorn\")"
   ]
  },
  {
   "cell_type": "code",
   "execution_count": 61,
   "metadata": {},
   "outputs": [
    {
     "data": {
      "text/html": [
       "<table border=\"1\" class=\"dataframe\">\n",
       "    <thead>\n",
       "        <tr>\n",
       "            <th>Player</th> <th>Position</th> <th>Team</th> <th>Season</th> <th>BrownlowVotes sum</th>\n",
       "        </tr>\n",
       "    </thead>\n",
       "    <tbody>\n",
       "        <tr>\n",
       "            <td>Brayshaw, Angus    </td> <td>Midfield         </td> <td>Melbourne</td> <td>2018  </td> <td>21               </td>\n",
       "        </tr>\n",
       "        <tr>\n",
       "            <td>Gawn, Max          </td> <td>Ruck             </td> <td>Melbourne</td> <td>2018  </td> <td>20               </td>\n",
       "        </tr>\n",
       "        <tr>\n",
       "            <td>Oliver, Clayton    </td> <td>Midfield         </td> <td>Melbourne</td> <td>2018  </td> <td>13               </td>\n",
       "        </tr>\n",
       "        <tr>\n",
       "            <td>Jones, Nathan      </td> <td>Midfield         </td> <td>Melbourne</td> <td>2018  </td> <td>7                </td>\n",
       "        </tr>\n",
       "        <tr>\n",
       "            <td>Hogan, Jesse       </td> <td>Forward          </td> <td>Melbourne</td> <td>2018  </td> <td>5                </td>\n",
       "        </tr>\n",
       "        <tr>\n",
       "            <td>Viney, Jack        </td> <td>Midfield         </td> <td>Melbourne</td> <td>2018  </td> <td>4                </td>\n",
       "        </tr>\n",
       "        <tr>\n",
       "            <td>Melksham, Jake     </td> <td>Forward          </td> <td>Melbourne</td> <td>2018  </td> <td>4                </td>\n",
       "        </tr>\n",
       "        <tr>\n",
       "            <td>McDonald, Tom      </td> <td>Forward          </td> <td>Melbourne</td> <td>2018  </td> <td>4                </td>\n",
       "        </tr>\n",
       "        <tr>\n",
       "            <td>Harmes, James      </td> <td>Midfield         </td> <td>Melbourne</td> <td>2018  </td> <td>4                </td>\n",
       "        </tr>\n",
       "        <tr>\n",
       "            <td>Petracca, Christian</td> <td>Midfield, Forward</td> <td>Melbourne</td> <td>2018  </td> <td>3                </td>\n",
       "        </tr>\n",
       "    </tbody>\n",
       "</table>\n",
       "<p>... (27 rows omitted)</p>"
      ],
      "text/plain": [
       "Player              | Position          | Team      | Season | BrownlowVotes sum\n",
       "Brayshaw, Angus     | Midfield          | Melbourne | 2018   | 21\n",
       "Gawn, Max           | Ruck              | Melbourne | 2018   | 20\n",
       "Oliver, Clayton     | Midfield          | Melbourne | 2018   | 13\n",
       "Jones, Nathan       | Midfield          | Melbourne | 2018   | 7\n",
       "Hogan, Jesse        | Forward           | Melbourne | 2018   | 5\n",
       "Viney, Jack         | Midfield          | Melbourne | 2018   | 4\n",
       "Melksham, Jake      | Forward           | Melbourne | 2018   | 4\n",
       "McDonald, Tom       | Forward           | Melbourne | 2018   | 4\n",
       "Harmes, James       | Midfield          | Melbourne | 2018   | 4\n",
       "Petracca, Christian | Midfield, Forward | Melbourne | 2018   | 3\n",
       "... (27 rows omitted)"
      ]
     },
     "execution_count": 61,
     "metadata": {},
     "output_type": "execute_result"
    }
   ],
   "source": [
    "team_brownlow(2018,\"Melbourne\")"
   ]
  },
  {
   "cell_type": "code",
   "execution_count": 62,
   "metadata": {},
   "outputs": [
    {
     "data": {
      "text/html": [
       "<table border=\"1\" class=\"dataframe\">\n",
       "    <thead>\n",
       "        <tr>\n",
       "            <th>Player</th> <th>Position</th> <th>Team</th> <th>Season</th> <th>BrownlowVotes sum</th>\n",
       "        </tr>\n",
       "    </thead>\n",
       "    <tbody>\n",
       "        <tr>\n",
       "            <td>Franklin, Lance </td> <td>Forward          </td> <td>Sydney</td> <td>2018  </td> <td>16               </td>\n",
       "        </tr>\n",
       "        <tr>\n",
       "            <td>Parker, Luke    </td> <td>Midfield         </td> <td>Sydney</td> <td>2018  </td> <td>10               </td>\n",
       "        </tr>\n",
       "        <tr>\n",
       "            <td>Heeney, Isaac   </td> <td>Midfield, Forward</td> <td>Sydney</td> <td>2018  </td> <td>7                </td>\n",
       "        </tr>\n",
       "        <tr>\n",
       "            <td>Sinclair, Callum</td> <td>Ruck             </td> <td>Sydney</td> <td>2018  </td> <td>6                </td>\n",
       "        </tr>\n",
       "        <tr>\n",
       "            <td>Lloyd, Jake     </td> <td>Defender         </td> <td>Sydney</td> <td>2018  </td> <td>6                </td>\n",
       "        </tr>\n",
       "        <tr>\n",
       "            <td>Kennedy, Josh P </td> <td>Midfield         </td> <td>Sydney</td> <td>2018  </td> <td>6                </td>\n",
       "        </tr>\n",
       "        <tr>\n",
       "            <td>Ronke, Ben      </td> <td>Forward          </td> <td>Sydney</td> <td>2018  </td> <td>5                </td>\n",
       "        </tr>\n",
       "        <tr>\n",
       "            <td>Mills, Callum   </td> <td>Defender         </td> <td>Sydney</td> <td>2018  </td> <td>3                </td>\n",
       "        </tr>\n",
       "        <tr>\n",
       "            <td>Hewett, George  </td> <td>Midfield         </td> <td>Sydney</td> <td>2018  </td> <td>3                </td>\n",
       "        </tr>\n",
       "        <tr>\n",
       "            <td>Florent, Oliver </td> <td>Midfield         </td> <td>Sydney</td> <td>2018  </td> <td>3                </td>\n",
       "        </tr>\n",
       "    </tbody>\n",
       "</table>\n",
       "<p>... (26 rows omitted)</p>"
      ],
      "text/plain": [
       "Player           | Position          | Team   | Season | BrownlowVotes sum\n",
       "Franklin, Lance  | Forward           | Sydney | 2018   | 16\n",
       "Parker, Luke     | Midfield          | Sydney | 2018   | 10\n",
       "Heeney, Isaac    | Midfield, Forward | Sydney | 2018   | 7\n",
       "Sinclair, Callum | Ruck              | Sydney | 2018   | 6\n",
       "Lloyd, Jake      | Defender          | Sydney | 2018   | 6\n",
       "Kennedy, Josh P  | Midfield          | Sydney | 2018   | 6\n",
       "Ronke, Ben       | Forward           | Sydney | 2018   | 5\n",
       "Mills, Callum    | Defender          | Sydney | 2018   | 3\n",
       "Hewett, George   | Midfield          | Sydney | 2018   | 3\n",
       "Florent, Oliver  | Midfield          | Sydney | 2018   | 3\n",
       "... (26 rows omitted)"
      ]
     },
     "execution_count": 62,
     "metadata": {},
     "output_type": "execute_result"
    }
   ],
   "source": [
    "team_brownlow(2018,\"Sydney\")"
   ]
  },
  {
   "cell_type": "code",
   "execution_count": 63,
   "metadata": {},
   "outputs": [
    {
     "data": {
      "text/html": [
       "<table border=\"1\" class=\"dataframe\">\n",
       "    <thead>\n",
       "        <tr>\n",
       "            <th>Player</th> <th>Position</th> <th>Team</th> <th>Season</th> <th>BrownlowVotes sum</th>\n",
       "        </tr>\n",
       "    </thead>\n",
       "    <tbody>\n",
       "        <tr>\n",
       "            <td>Whitfield, Lachie</td> <td>Defender         </td> <td>Greater Western Sydney</td> <td>2018  </td> <td>16               </td>\n",
       "        </tr>\n",
       "        <tr>\n",
       "            <td>Ward, Callan     </td> <td>Midfield         </td> <td>Greater Western Sydney</td> <td>2018  </td> <td>13               </td>\n",
       "        </tr>\n",
       "        <tr>\n",
       "            <td>Coniglio, Stephen</td> <td>Midfield         </td> <td>Greater Western Sydney</td> <td>2018  </td> <td>11               </td>\n",
       "        </tr>\n",
       "        <tr>\n",
       "            <td>Shiel, Dylan     </td> <td>Midfield         </td> <td>Greater Western Sydney</td> <td>2018  </td> <td>10               </td>\n",
       "        </tr>\n",
       "        <tr>\n",
       "            <td>Kelly, Josh      </td> <td>Midfield         </td> <td>Greater Western Sydney</td> <td>2018  </td> <td>10               </td>\n",
       "        </tr>\n",
       "        <tr>\n",
       "            <td>Cameron, Jeremy  </td> <td>Forward          </td> <td>Greater Western Sydney</td> <td>2018  </td> <td>6                </td>\n",
       "        </tr>\n",
       "        <tr>\n",
       "            <td>Haynes, Nick     </td> <td>Defender         </td> <td>Greater Western Sydney</td> <td>2018  </td> <td>5                </td>\n",
       "        </tr>\n",
       "        <tr>\n",
       "            <td>Deledio, Brett   </td> <td>Midfield         </td> <td>Greater Western Sydney</td> <td>2018  </td> <td>3                </td>\n",
       "        </tr>\n",
       "        <tr>\n",
       "            <td>Griffen, Ryan    </td> <td>Midfield, Forward</td> <td>Greater Western Sydney</td> <td>2018  </td> <td>1                </td>\n",
       "        </tr>\n",
       "        <tr>\n",
       "            <td>Greene, Toby     </td> <td>Forward          </td> <td>Greater Western Sydney</td> <td>2018  </td> <td>1                </td>\n",
       "        </tr>\n",
       "    </tbody>\n",
       "</table>\n",
       "<p>... (28 rows omitted)</p>"
      ],
      "text/plain": [
       "Player            | Position          | Team                   | Season | BrownlowVotes sum\n",
       "Whitfield, Lachie | Defender          | Greater Western Sydney | 2018   | 16\n",
       "Ward, Callan      | Midfield          | Greater Western Sydney | 2018   | 13\n",
       "Coniglio, Stephen | Midfield          | Greater Western Sydney | 2018   | 11\n",
       "Shiel, Dylan      | Midfield          | Greater Western Sydney | 2018   | 10\n",
       "Kelly, Josh       | Midfield          | Greater Western Sydney | 2018   | 10\n",
       "Cameron, Jeremy   | Forward           | Greater Western Sydney | 2018   | 6\n",
       "Haynes, Nick      | Defender          | Greater Western Sydney | 2018   | 5\n",
       "Deledio, Brett    | Midfield          | Greater Western Sydney | 2018   | 3\n",
       "Griffen, Ryan     | Midfield, Forward | Greater Western Sydney | 2018   | 1\n",
       "Greene, Toby      | Forward           | Greater Western Sydney | 2018   | 1\n",
       "... (28 rows omitted)"
      ]
     },
     "execution_count": 63,
     "metadata": {},
     "output_type": "execute_result"
    }
   ],
   "source": [
    "team_brownlow(2018,\"Greater Western Sydney\")"
   ]
  },
  {
   "cell_type": "code",
   "execution_count": 64,
   "metadata": {},
   "outputs": [
    {
     "data": {
      "text/html": [
       "<table border=\"1\" class=\"dataframe\">\n",
       "    <thead>\n",
       "        <tr>\n",
       "            <th>Player</th> <th>Position</th> <th>Team</th> <th>Season</th> <th>BrownlowVotes sum</th>\n",
       "        </tr>\n",
       "    </thead>\n",
       "    <tbody>\n",
       "        <tr>\n",
       "            <td>Dangerfield, Patrick</td> <td>Midfield, Forward</td> <td>Geelong</td> <td>2018  </td> <td>17               </td>\n",
       "        </tr>\n",
       "        <tr>\n",
       "            <td>Selwood, Joel       </td> <td>Midfield         </td> <td>Geelong</td> <td>2018  </td> <td>14               </td>\n",
       "        </tr>\n",
       "        <tr>\n",
       "            <td>Ablett, Gary        </td> <td>Midfield         </td> <td>Geelong</td> <td>2018  </td> <td>14               </td>\n",
       "        </tr>\n",
       "        <tr>\n",
       "            <td>Kelly, Tim          </td> <td>Midfield, Forward</td> <td>Geelong</td> <td>2018  </td> <td>13               </td>\n",
       "        </tr>\n",
       "        <tr>\n",
       "            <td>Hawkins, Tom        </td> <td>Forward          </td> <td>Geelong</td> <td>2018  </td> <td>9                </td>\n",
       "        </tr>\n",
       "        <tr>\n",
       "            <td>Menegola, Sam       </td> <td>Midfield, Forward</td> <td>Geelong</td> <td>2018  </td> <td>7                </td>\n",
       "        </tr>\n",
       "        <tr>\n",
       "            <td>Stewart, Tom        </td> <td>Defender         </td> <td>Geelong</td> <td>2018  </td> <td>4                </td>\n",
       "        </tr>\n",
       "        <tr>\n",
       "            <td>Duncan, Mitch       </td> <td>Midfield         </td> <td>Geelong</td> <td>2018  </td> <td>4                </td>\n",
       "        </tr>\n",
       "        <tr>\n",
       "            <td>Parfitt, Brandan    </td> <td>Forward          </td> <td>Geelong</td> <td>2018  </td> <td>3                </td>\n",
       "        </tr>\n",
       "        <tr>\n",
       "            <td>Menzel, Daniel      </td> <td>Forward          </td> <td>Geelong</td> <td>2018  </td> <td>3                </td>\n",
       "        </tr>\n",
       "    </tbody>\n",
       "</table>\n",
       "<p>... (30 rows omitted)</p>"
      ],
      "text/plain": [
       "Player               | Position          | Team    | Season | BrownlowVotes sum\n",
       "Dangerfield, Patrick | Midfield, Forward | Geelong | 2018   | 17\n",
       "Selwood, Joel        | Midfield          | Geelong | 2018   | 14\n",
       "Ablett, Gary         | Midfield          | Geelong | 2018   | 14\n",
       "Kelly, Tim           | Midfield, Forward | Geelong | 2018   | 13\n",
       "Hawkins, Tom         | Forward           | Geelong | 2018   | 9\n",
       "Menegola, Sam        | Midfield, Forward | Geelong | 2018   | 7\n",
       "Stewart, Tom         | Defender          | Geelong | 2018   | 4\n",
       "Duncan, Mitch        | Midfield          | Geelong | 2018   | 4\n",
       "Parfitt, Brandan     | Forward           | Geelong | 2018   | 3\n",
       "Menzel, Daniel       | Forward           | Geelong | 2018   | 3\n",
       "... (30 rows omitted)"
      ]
     },
     "execution_count": 64,
     "metadata": {},
     "output_type": "execute_result"
    }
   ],
   "source": [
    "team_brownlow(2018,\"Geelong\")"
   ]
  },
  {
   "cell_type": "code",
   "execution_count": 65,
   "metadata": {},
   "outputs": [
    {
     "data": {
      "text/html": [
       "<table border=\"1\" class=\"dataframe\">\n",
       "    <thead>\n",
       "        <tr>\n",
       "            <th>Player</th> <th>Position</th> <th>Team</th> <th>Season</th> <th>BrownlowVotes sum</th>\n",
       "        </tr>\n",
       "    </thead>\n",
       "    <tbody>\n",
       "        <tr>\n",
       "            <td>Higgins, Shaun   </td> <td>Midfield</td> <td>North Melbourne</td> <td>2018  </td> <td>15               </td>\n",
       "        </tr>\n",
       "        <tr>\n",
       "            <td>Cunnington, Ben  </td> <td>Midfield</td> <td>North Melbourne</td> <td>2018  </td> <td>11               </td>\n",
       "        </tr>\n",
       "        <tr>\n",
       "            <td>Ziebell, Jack    </td> <td>Forward </td> <td>North Melbourne</td> <td>2018  </td> <td>7                </td>\n",
       "        </tr>\n",
       "        <tr>\n",
       "            <td>Waite, Jarrad    </td> <td>Forward </td> <td>North Melbourne</td> <td>2018  </td> <td>7                </td>\n",
       "        </tr>\n",
       "        <tr>\n",
       "            <td>Goldstein, Todd  </td> <td>Ruck    </td> <td>North Melbourne</td> <td>2018  </td> <td>6                </td>\n",
       "        </tr>\n",
       "        <tr>\n",
       "            <td>Brown, Ben       </td> <td>Forward </td> <td>North Melbourne</td> <td>2018  </td> <td>6                </td>\n",
       "        </tr>\n",
       "        <tr>\n",
       "            <td>Jacobs, Ben      </td> <td>Midfield</td> <td>North Melbourne</td> <td>2018  </td> <td>4                </td>\n",
       "        </tr>\n",
       "        <tr>\n",
       "            <td>Williams, Marley </td> <td>Defender</td> <td>North Melbourne</td> <td>2018  </td> <td>3                </td>\n",
       "        </tr>\n",
       "        <tr>\n",
       "            <td>Thompson, Scott D</td> <td>Defender</td> <td>North Melbourne</td> <td>2018  </td> <td>3                </td>\n",
       "        </tr>\n",
       "        <tr>\n",
       "            <td>Wood, Mason      </td> <td>Forward </td> <td>North Melbourne</td> <td>2018  </td> <td>2                </td>\n",
       "        </tr>\n",
       "    </tbody>\n",
       "</table>\n",
       "<p>... (21 rows omitted)</p>"
      ],
      "text/plain": [
       "Player            | Position | Team            | Season | BrownlowVotes sum\n",
       "Higgins, Shaun    | Midfield | North Melbourne | 2018   | 15\n",
       "Cunnington, Ben   | Midfield | North Melbourne | 2018   | 11\n",
       "Ziebell, Jack     | Forward  | North Melbourne | 2018   | 7\n",
       "Waite, Jarrad     | Forward  | North Melbourne | 2018   | 7\n",
       "Goldstein, Todd   | Ruck     | North Melbourne | 2018   | 6\n",
       "Brown, Ben        | Forward  | North Melbourne | 2018   | 6\n",
       "Jacobs, Ben       | Midfield | North Melbourne | 2018   | 4\n",
       "Williams, Marley  | Defender | North Melbourne | 2018   | 3\n",
       "Thompson, Scott D | Defender | North Melbourne | 2018   | 3\n",
       "Wood, Mason       | Forward  | North Melbourne | 2018   | 2\n",
       "... (21 rows omitted)"
      ]
     },
     "execution_count": 65,
     "metadata": {},
     "output_type": "execute_result"
    }
   ],
   "source": [
    "team_brownlow(2018,\"North Melbourne\")"
   ]
  },
  {
   "cell_type": "code",
   "execution_count": 66,
   "metadata": {},
   "outputs": [
    {
     "data": {
      "text/html": [
       "<table border=\"1\" class=\"dataframe\">\n",
       "    <thead>\n",
       "        <tr>\n",
       "            <th>Player</th> <th>Position</th> <th>Team</th> <th>Season</th> <th>BrownlowVotes sum</th>\n",
       "        </tr>\n",
       "    </thead>\n",
       "    <tbody>\n",
       "        <tr>\n",
       "            <td>Wines, Ollie      </td> <td>Midfield         </td> <td>Port Adelaide</td> <td>2018  </td> <td>14               </td>\n",
       "        </tr>\n",
       "        <tr>\n",
       "            <td>Gray, Robbie      </td> <td>Midfield, Forward</td> <td>Port Adelaide</td> <td>2018  </td> <td>8                </td>\n",
       "        </tr>\n",
       "        <tr>\n",
       "            <td>Polec, Jared      </td> <td>Midfield         </td> <td>Port Adelaide</td> <td>2018  </td> <td>7                </td>\n",
       "        </tr>\n",
       "        <tr>\n",
       "            <td>Westhoff, Justin  </td> <td>Forward, Ruck    </td> <td>Port Adelaide</td> <td>2018  </td> <td>5                </td>\n",
       "        </tr>\n",
       "        <tr>\n",
       "            <td>Wingard, Chad     </td> <td>Midfield, Forward</td> <td>Port Adelaide</td> <td>2018  </td> <td>4                </td>\n",
       "        </tr>\n",
       "        <tr>\n",
       "            <td>Gray, Sam         </td> <td>Forward          </td> <td>Port Adelaide</td> <td>2018  </td> <td>4                </td>\n",
       "        </tr>\n",
       "        <tr>\n",
       "            <td>Powell-Pepper, Sam</td> <td>Midfield         </td> <td>Port Adelaide</td> <td>2018  </td> <td>3                </td>\n",
       "        </tr>\n",
       "        <tr>\n",
       "            <td>Jonas, Tom        </td> <td>Defender         </td> <td>Port Adelaide</td> <td>2018  </td> <td>3                </td>\n",
       "        </tr>\n",
       "        <tr>\n",
       "            <td>Dixon, Charlie    </td> <td>Forward          </td> <td>Port Adelaide</td> <td>2018  </td> <td>3                </td>\n",
       "        </tr>\n",
       "        <tr>\n",
       "            <td>Watts, Jack       </td> <td>Forward          </td> <td>Port Adelaide</td> <td>2018  </td> <td>2                </td>\n",
       "        </tr>\n",
       "    </tbody>\n",
       "</table>\n",
       "<p>... (24 rows omitted)</p>"
      ],
      "text/plain": [
       "Player             | Position          | Team          | Season | BrownlowVotes sum\n",
       "Wines, Ollie       | Midfield          | Port Adelaide | 2018   | 14\n",
       "Gray, Robbie       | Midfield, Forward | Port Adelaide | 2018   | 8\n",
       "Polec, Jared       | Midfield          | Port Adelaide | 2018   | 7\n",
       "Westhoff, Justin   | Forward, Ruck     | Port Adelaide | 2018   | 5\n",
       "Wingard, Chad      | Midfield, Forward | Port Adelaide | 2018   | 4\n",
       "Gray, Sam          | Forward           | Port Adelaide | 2018   | 4\n",
       "Powell-Pepper, Sam | Midfield          | Port Adelaide | 2018   | 3\n",
       "Jonas, Tom         | Defender          | Port Adelaide | 2018   | 3\n",
       "Dixon, Charlie     | Forward           | Port Adelaide | 2018   | 3\n",
       "Watts, Jack        | Forward           | Port Adelaide | 2018   | 2\n",
       "... (24 rows omitted)"
      ]
     },
     "execution_count": 66,
     "metadata": {},
     "output_type": "execute_result"
    }
   ],
   "source": [
    "team_brownlow(2018,\"Port Adelaide\")"
   ]
  },
  {
   "cell_type": "code",
   "execution_count": 67,
   "metadata": {},
   "outputs": [
    {
     "data": {
      "text/html": [
       "<table border=\"1\" class=\"dataframe\">\n",
       "    <thead>\n",
       "        <tr>\n",
       "            <th>Player</th> <th>Position</th> <th>Team</th> <th>Season</th> <th>BrownlowVotes sum</th>\n",
       "        </tr>\n",
       "    </thead>\n",
       "    <tbody>\n",
       "        <tr>\n",
       "            <td>Heppell, Dyson              </td> <td>Midfield         </td> <td>Essendon</td> <td>2018  </td> <td>13               </td>\n",
       "        </tr>\n",
       "        <tr>\n",
       "            <td>Smith, Devon                </td> <td>Midfield, Forward</td> <td>Essendon</td> <td>2018  </td> <td>11               </td>\n",
       "        </tr>\n",
       "        <tr>\n",
       "            <td>Merrett, Zach               </td> <td>Midfield         </td> <td>Essendon</td> <td>2018  </td> <td>10               </td>\n",
       "        </tr>\n",
       "        <tr>\n",
       "            <td>Hurley, Michael             </td> <td>Defender         </td> <td>Essendon</td> <td>2018  </td> <td>7                </td>\n",
       "        </tr>\n",
       "        <tr>\n",
       "            <td>Zaharakis, David            </td> <td>Midfield         </td> <td>Essendon</td> <td>2018  </td> <td>6                </td>\n",
       "        </tr>\n",
       "        <tr>\n",
       "            <td>Saad, Adam                  </td> <td>Defender         </td> <td>Essendon</td> <td>2018  </td> <td>3                </td>\n",
       "        </tr>\n",
       "        <tr>\n",
       "            <td>Myers, David                </td> <td>Midfield         </td> <td>Essendon</td> <td>2018  </td> <td>3                </td>\n",
       "        </tr>\n",
       "        <tr>\n",
       "            <td>McKernan, Shaun             </td> <td>Forward          </td> <td>Essendon</td> <td>2018  </td> <td>3                </td>\n",
       "        </tr>\n",
       "        <tr>\n",
       "            <td>McDonald-Tipungwuti, Anthony</td> <td>Forward          </td> <td>Essendon</td> <td>2018  </td> <td>3                </td>\n",
       "        </tr>\n",
       "        <tr>\n",
       "            <td>Fantasia, Orazio            </td> <td>Forward          </td> <td>Essendon</td> <td>2018  </td> <td>3                </td>\n",
       "        </tr>\n",
       "    </tbody>\n",
       "</table>\n",
       "<p>... (29 rows omitted)</p>"
      ],
      "text/plain": [
       "Player                       | Position          | Team     | Season | BrownlowVotes sum\n",
       "Heppell, Dyson               | Midfield          | Essendon | 2018   | 13\n",
       "Smith, Devon                 | Midfield, Forward | Essendon | 2018   | 11\n",
       "Merrett, Zach                | Midfield          | Essendon | 2018   | 10\n",
       "Hurley, Michael              | Defender          | Essendon | 2018   | 7\n",
       "Zaharakis, David             | Midfield          | Essendon | 2018   | 6\n",
       "Saad, Adam                   | Defender          | Essendon | 2018   | 3\n",
       "Myers, David                 | Midfield          | Essendon | 2018   | 3\n",
       "McKernan, Shaun              | Forward           | Essendon | 2018   | 3\n",
       "McDonald-Tipungwuti, Anthony | Forward           | Essendon | 2018   | 3\n",
       "Fantasia, Orazio             | Forward           | Essendon | 2018   | 3\n",
       "... (29 rows omitted)"
      ]
     },
     "execution_count": 67,
     "metadata": {},
     "output_type": "execute_result"
    }
   ],
   "source": [
    "team_brownlow(2018,\"Essendon\")"
   ]
  },
  {
   "cell_type": "code",
   "execution_count": 68,
   "metadata": {},
   "outputs": [
    {
     "data": {
      "text/html": [
       "<table border=\"1\" class=\"dataframe\">\n",
       "    <thead>\n",
       "        <tr>\n",
       "            <th>Player</th> <th>Position</th> <th>Team</th> <th>Season</th> <th>BrownlowVotes sum</th>\n",
       "        </tr>\n",
       "    </thead>\n",
       "    <tbody>\n",
       "        <tr>\n",
       "            <td>Laird, Rory     </td> <td>Defender         </td> <td>Adelaide</td> <td>2018  </td> <td>19               </td>\n",
       "        </tr>\n",
       "        <tr>\n",
       "            <td>Gibbs, Bryce    </td> <td>Midfield         </td> <td>Adelaide</td> <td>2018  </td> <td>9                </td>\n",
       "        </tr>\n",
       "        <tr>\n",
       "            <td>Crouch, Matt    </td> <td>Midfield         </td> <td>Adelaide</td> <td>2018  </td> <td>8                </td>\n",
       "        </tr>\n",
       "        <tr>\n",
       "            <td>Sloane, Rory    </td> <td>Midfield         </td> <td>Adelaide</td> <td>2018  </td> <td>6                </td>\n",
       "        </tr>\n",
       "        <tr>\n",
       "            <td>Walker, Taylor  </td> <td>Forward          </td> <td>Adelaide</td> <td>2018  </td> <td>5                </td>\n",
       "        </tr>\n",
       "        <tr>\n",
       "            <td>Jenkins, Josh   </td> <td>Forward          </td> <td>Adelaide</td> <td>2018  </td> <td>3                </td>\n",
       "        </tr>\n",
       "        <tr>\n",
       "            <td>Jacobs, Sam     </td> <td>Ruck             </td> <td>Adelaide</td> <td>2018  </td> <td>3                </td>\n",
       "        </tr>\n",
       "        <tr>\n",
       "            <td>Douglas, Richard</td> <td>Midfield, Forward</td> <td>Adelaide</td> <td>2018  </td> <td>3                </td>\n",
       "        </tr>\n",
       "        <tr>\n",
       "            <td>Atkins, Rory    </td> <td>Midfield         </td> <td>Adelaide</td> <td>2018  </td> <td>3                </td>\n",
       "        </tr>\n",
       "        <tr>\n",
       "            <td>Seedsman, Paul  </td> <td>Midfield         </td> <td>Adelaide</td> <td>2018  </td> <td>2                </td>\n",
       "        </tr>\n",
       "    </tbody>\n",
       "</table>\n",
       "<p>... (25 rows omitted)</p>"
      ],
      "text/plain": [
       "Player           | Position          | Team     | Season | BrownlowVotes sum\n",
       "Laird, Rory      | Defender          | Adelaide | 2018   | 19\n",
       "Gibbs, Bryce     | Midfield          | Adelaide | 2018   | 9\n",
       "Crouch, Matt     | Midfield          | Adelaide | 2018   | 8\n",
       "Sloane, Rory     | Midfield          | Adelaide | 2018   | 6\n",
       "Walker, Taylor   | Forward           | Adelaide | 2018   | 5\n",
       "Jenkins, Josh    | Forward           | Adelaide | 2018   | 3\n",
       "Jacobs, Sam      | Ruck              | Adelaide | 2018   | 3\n",
       "Douglas, Richard | Midfield, Forward | Adelaide | 2018   | 3\n",
       "Atkins, Rory     | Midfield          | Adelaide | 2018   | 3\n",
       "Seedsman, Paul   | Midfield          | Adelaide | 2018   | 2\n",
       "... (25 rows omitted)"
      ]
     },
     "execution_count": 68,
     "metadata": {},
     "output_type": "execute_result"
    }
   ],
   "source": [
    "team_brownlow(2018,\"Adelaide\")"
   ]
  },
  {
   "cell_type": "code",
   "execution_count": 69,
   "metadata": {},
   "outputs": [
    {
     "data": {
      "text/html": [
       "<table border=\"1\" class=\"dataframe\">\n",
       "    <thead>\n",
       "        <tr>\n",
       "            <th>Player</th> <th>Position</th> <th>Team</th> <th>Season</th> <th>BrownlowVotes sum</th>\n",
       "        </tr>\n",
       "    </thead>\n",
       "    <tbody>\n",
       "        <tr>\n",
       "            <td>Macrae, Jack       </td> <td>Midfield         </td> <td>Western Bulldogs</td> <td>2018  </td> <td>14               </td>\n",
       "        </tr>\n",
       "        <tr>\n",
       "            <td>Hunter, Lachie     </td> <td>Midfield         </td> <td>Western Bulldogs</td> <td>2018  </td> <td>9                </td>\n",
       "        </tr>\n",
       "        <tr>\n",
       "            <td>Bontempelli, Marcus</td> <td>Midfield         </td> <td>Western Bulldogs</td> <td>2018  </td> <td>9                </td>\n",
       "        </tr>\n",
       "        <tr>\n",
       "            <td>Dunkley, Josh      </td> <td>Midfield, Forward</td> <td>Western Bulldogs</td> <td>2018  </td> <td>4                </td>\n",
       "        </tr>\n",
       "        <tr>\n",
       "            <td>Johannisen, Jason  </td> <td>Defender         </td> <td>Western Bulldogs</td> <td>2018  </td> <td>3                </td>\n",
       "        </tr>\n",
       "        <tr>\n",
       "            <td>Suckling, Matt     </td> <td>Defender         </td> <td>Western Bulldogs</td> <td>2018  </td> <td>2                </td>\n",
       "        </tr>\n",
       "        <tr>\n",
       "            <td>McLean, Toby       </td> <td>Midfield, Forward</td> <td>Western Bulldogs</td> <td>2018  </td> <td>2                </td>\n",
       "        </tr>\n",
       "        <tr>\n",
       "            <td>Gowers, Billy      </td> <td>Forward          </td> <td>Western Bulldogs</td> <td>2018  </td> <td>2                </td>\n",
       "        </tr>\n",
       "        <tr>\n",
       "            <td>Williams, Bailey   </td> <td>Defender         </td> <td>Western Bulldogs</td> <td>2018  </td> <td>1                </td>\n",
       "        </tr>\n",
       "        <tr>\n",
       "            <td>Daniel, Caleb      </td> <td>Forward          </td> <td>Western Bulldogs</td> <td>2018  </td> <td>1                </td>\n",
       "        </tr>\n",
       "    </tbody>\n",
       "</table>\n",
       "<p>... (28 rows omitted)</p>"
      ],
      "text/plain": [
       "Player              | Position          | Team             | Season | BrownlowVotes sum\n",
       "Macrae, Jack        | Midfield          | Western Bulldogs | 2018   | 14\n",
       "Hunter, Lachie      | Midfield          | Western Bulldogs | 2018   | 9\n",
       "Bontempelli, Marcus | Midfield          | Western Bulldogs | 2018   | 9\n",
       "Dunkley, Josh       | Midfield, Forward | Western Bulldogs | 2018   | 4\n",
       "Johannisen, Jason   | Defender          | Western Bulldogs | 2018   | 3\n",
       "Suckling, Matt      | Defender          | Western Bulldogs | 2018   | 2\n",
       "McLean, Toby        | Midfield, Forward | Western Bulldogs | 2018   | 2\n",
       "Gowers, Billy       | Forward           | Western Bulldogs | 2018   | 2\n",
       "Williams, Bailey    | Defender          | Western Bulldogs | 2018   | 1\n",
       "Daniel, Caleb       | Forward           | Western Bulldogs | 2018   | 1\n",
       "... (28 rows omitted)"
      ]
     },
     "execution_count": 69,
     "metadata": {},
     "output_type": "execute_result"
    }
   ],
   "source": [
    "team_brownlow(2018,\"Western Bulldogs\")"
   ]
  },
  {
   "cell_type": "code",
   "execution_count": 70,
   "metadata": {},
   "outputs": [
    {
     "data": {
      "text/html": [
       "<table border=\"1\" class=\"dataframe\">\n",
       "    <thead>\n",
       "        <tr>\n",
       "            <th>Player</th> <th>Position</th> <th>Team</th> <th>Season</th> <th>BrownlowVotes sum</th>\n",
       "        </tr>\n",
       "    </thead>\n",
       "    <tbody>\n",
       "        <tr>\n",
       "            <td>Fyfe, Nat        </td> <td>Midfield         </td> <td>Fremantle</td> <td>2018  </td> <td>16               </td>\n",
       "        </tr>\n",
       "        <tr>\n",
       "            <td>Neale, Lachie    </td> <td>Midfield         </td> <td>Fremantle</td> <td>2018  </td> <td>11               </td>\n",
       "        </tr>\n",
       "        <tr>\n",
       "            <td>Walters, Michael </td> <td>Midfield, Forward</td> <td>Fremantle</td> <td>2018  </td> <td>8                </td>\n",
       "        </tr>\n",
       "        <tr>\n",
       "            <td>Mundy, David     </td> <td>Midfield, Forward</td> <td>Fremantle</td> <td>2018  </td> <td>8                </td>\n",
       "        </tr>\n",
       "        <tr>\n",
       "            <td>Sandilands, Aaron</td> <td>Ruck             </td> <td>Fremantle</td> <td>2018  </td> <td>5                </td>\n",
       "        </tr>\n",
       "        <tr>\n",
       "            <td>Cerra, Adam      </td> <td>Forward          </td> <td>Fremantle</td> <td>2018  </td> <td>3                </td>\n",
       "        </tr>\n",
       "        <tr>\n",
       "            <td>Hamling, Joel    </td> <td>Defender         </td> <td>Fremantle</td> <td>2018  </td> <td>2                </td>\n",
       "        </tr>\n",
       "        <tr>\n",
       "            <td>Hill, Bradley    </td> <td>Midfield         </td> <td>Fremantle</td> <td>2018  </td> <td>1                </td>\n",
       "        </tr>\n",
       "        <tr>\n",
       "            <td>Cox, Brennan     </td> <td>Forward          </td> <td>Fremantle</td> <td>2018  </td> <td>1                </td>\n",
       "        </tr>\n",
       "        <tr>\n",
       "            <td>Blakely, Connor  </td> <td>Defender         </td> <td>Fremantle</td> <td>2018  </td> <td>1                </td>\n",
       "        </tr>\n",
       "    </tbody>\n",
       "</table>\n",
       "<p>... (27 rows omitted)</p>"
      ],
      "text/plain": [
       "Player            | Position          | Team      | Season | BrownlowVotes sum\n",
       "Fyfe, Nat         | Midfield          | Fremantle | 2018   | 16\n",
       "Neale, Lachie     | Midfield          | Fremantle | 2018   | 11\n",
       "Walters, Michael  | Midfield, Forward | Fremantle | 2018   | 8\n",
       "Mundy, David      | Midfield, Forward | Fremantle | 2018   | 8\n",
       "Sandilands, Aaron | Ruck              | Fremantle | 2018   | 5\n",
       "Cerra, Adam       | Forward           | Fremantle | 2018   | 3\n",
       "Hamling, Joel     | Defender          | Fremantle | 2018   | 2\n",
       "Hill, Bradley     | Midfield          | Fremantle | 2018   | 1\n",
       "Cox, Brennan      | Forward           | Fremantle | 2018   | 1\n",
       "Blakely, Connor   | Defender          | Fremantle | 2018   | 1\n",
       "... (27 rows omitted)"
      ]
     },
     "execution_count": 70,
     "metadata": {},
     "output_type": "execute_result"
    }
   ],
   "source": [
    "team_brownlow(2018,\"Fremantle\")"
   ]
  },
  {
   "cell_type": "code",
   "execution_count": 71,
   "metadata": {},
   "outputs": [
    {
     "data": {
      "text/html": [
       "<table border=\"1\" class=\"dataframe\">\n",
       "    <thead>\n",
       "        <tr>\n",
       "            <th>Player</th> <th>Position</th> <th>Team</th> <th>Season</th> <th>BrownlowVotes sum</th>\n",
       "        </tr>\n",
       "    </thead>\n",
       "    <tbody>\n",
       "        <tr>\n",
       "            <td>Steven, Jack   </td> <td>Midfield         </td> <td>St Kilda</td> <td>2018  </td> <td>18               </td>\n",
       "        </tr>\n",
       "        <tr>\n",
       "            <td>Ross, Sebastian</td> <td>Midfield         </td> <td>St Kilda</td> <td>2018  </td> <td>6                </td>\n",
       "        </tr>\n",
       "        <tr>\n",
       "            <td>Membrey, Tim   </td> <td>Forward          </td> <td>St Kilda</td> <td>2018  </td> <td>4                </td>\n",
       "        </tr>\n",
       "        <tr>\n",
       "            <td>Billings, Jack </td> <td>Forward          </td> <td>St Kilda</td> <td>2018  </td> <td>2                </td>\n",
       "        </tr>\n",
       "        <tr>\n",
       "            <td>Steele, Jack   </td> <td>Midfield         </td> <td>St Kilda</td> <td>2018  </td> <td>1                </td>\n",
       "        </tr>\n",
       "        <tr>\n",
       "            <td>Lonie, Jack    </td> <td>Forward          </td> <td>St Kilda</td> <td>2018  </td> <td>1                </td>\n",
       "        </tr>\n",
       "        <tr>\n",
       "            <td>Carlisle, Jake </td> <td>Defender         </td> <td>St Kilda</td> <td>2018  </td> <td>1                </td>\n",
       "        </tr>\n",
       "        <tr>\n",
       "            <td>Armitage, David</td> <td>Midfield, Forward</td> <td>St Kilda</td> <td>2018  </td> <td>1                </td>\n",
       "        </tr>\n",
       "        <tr>\n",
       "            <td>Acres, Blake   </td> <td>Midfield, Forward</td> <td>St Kilda</td> <td>2018  </td> <td>1                </td>\n",
       "        </tr>\n",
       "        <tr>\n",
       "            <td>Wright, Nathan </td> <td>Forward          </td> <td>St Kilda</td> <td>2018  </td> <td>0                </td>\n",
       "        </tr>\n",
       "    </tbody>\n",
       "</table>\n",
       "<p>... (31 rows omitted)</p>"
      ],
      "text/plain": [
       "Player          | Position          | Team     | Season | BrownlowVotes sum\n",
       "Steven, Jack    | Midfield          | St Kilda | 2018   | 18\n",
       "Ross, Sebastian | Midfield          | St Kilda | 2018   | 6\n",
       "Membrey, Tim    | Forward           | St Kilda | 2018   | 4\n",
       "Billings, Jack  | Forward           | St Kilda | 2018   | 2\n",
       "Steele, Jack    | Midfield          | St Kilda | 2018   | 1\n",
       "Lonie, Jack     | Forward           | St Kilda | 2018   | 1\n",
       "Carlisle, Jake  | Defender          | St Kilda | 2018   | 1\n",
       "Armitage, David | Midfield, Forward | St Kilda | 2018   | 1\n",
       "Acres, Blake    | Midfield, Forward | St Kilda | 2018   | 1\n",
       "Wright, Nathan  | Forward           | St Kilda | 2018   | 0\n",
       "... (31 rows omitted)"
      ]
     },
     "execution_count": 71,
     "metadata": {},
     "output_type": "execute_result"
    }
   ],
   "source": [
    "team_brownlow(2018,\"St Kilda\")"
   ]
  },
  {
   "cell_type": "code",
   "execution_count": 72,
   "metadata": {},
   "outputs": [
    {
     "data": {
      "text/html": [
       "<table border=\"1\" class=\"dataframe\">\n",
       "    <thead>\n",
       "        <tr>\n",
       "            <th>Player</th> <th>Position</th> <th>Team</th> <th>Season</th> <th>BrownlowVotes sum</th>\n",
       "        </tr>\n",
       "    </thead>\n",
       "    <tbody>\n",
       "        <tr>\n",
       "            <td>Beams, Dayne    </td> <td>Midfield         </td> <td>Brisbane Lions</td> <td>2018  </td> <td>18               </td>\n",
       "        </tr>\n",
       "        <tr>\n",
       "            <td>Zorko, Dayne    </td> <td>Midfield         </td> <td>Brisbane Lions</td> <td>2018  </td> <td>6                </td>\n",
       "        </tr>\n",
       "        <tr>\n",
       "            <td>Hipwood, Eric   </td> <td>Forward          </td> <td>Brisbane Lions</td> <td>2018  </td> <td>6                </td>\n",
       "        </tr>\n",
       "        <tr>\n",
       "            <td>Martin, Stefan  </td> <td>Ruck             </td> <td>Brisbane Lions</td> <td>2018  </td> <td>5                </td>\n",
       "        </tr>\n",
       "        <tr>\n",
       "            <td>Rayner, Cameron </td> <td>Forward          </td> <td>Brisbane Lions</td> <td>2018  </td> <td>3                </td>\n",
       "        </tr>\n",
       "        <tr>\n",
       "            <td>Andrews, Harris </td> <td>Defender         </td> <td>Brisbane Lions</td> <td>2018  </td> <td>2                </td>\n",
       "        </tr>\n",
       "        <tr>\n",
       "            <td>Witherden, Alex </td> <td>Defender         </td> <td>Brisbane Lions</td> <td>2018  </td> <td>1                </td>\n",
       "        </tr>\n",
       "        <tr>\n",
       "            <td>Robinson, Mitch </td> <td>Midfield, Forward</td> <td>Brisbane Lions</td> <td>2018  </td> <td>1                </td>\n",
       "        </tr>\n",
       "        <tr>\n",
       "            <td>McCluggage, Hugh</td> <td>Midfield         </td> <td>Brisbane Lions</td> <td>2018  </td> <td>1                </td>\n",
       "        </tr>\n",
       "        <tr>\n",
       "            <td>Cutler, Tom     </td> <td>Midfield         </td> <td>Brisbane Lions</td> <td>2018  </td> <td>1                </td>\n",
       "        </tr>\n",
       "    </tbody>\n",
       "</table>\n",
       "<p>... (24 rows omitted)</p>"
      ],
      "text/plain": [
       "Player           | Position          | Team           | Season | BrownlowVotes sum\n",
       "Beams, Dayne     | Midfield          | Brisbane Lions | 2018   | 18\n",
       "Zorko, Dayne     | Midfield          | Brisbane Lions | 2018   | 6\n",
       "Hipwood, Eric    | Forward           | Brisbane Lions | 2018   | 6\n",
       "Martin, Stefan   | Ruck              | Brisbane Lions | 2018   | 5\n",
       "Rayner, Cameron  | Forward           | Brisbane Lions | 2018   | 3\n",
       "Andrews, Harris  | Defender          | Brisbane Lions | 2018   | 2\n",
       "Witherden, Alex  | Defender          | Brisbane Lions | 2018   | 1\n",
       "Robinson, Mitch  | Midfield, Forward | Brisbane Lions | 2018   | 1\n",
       "McCluggage, Hugh | Midfield          | Brisbane Lions | 2018   | 1\n",
       "Cutler, Tom      | Midfield          | Brisbane Lions | 2018   | 1\n",
       "... (24 rows omitted)"
      ]
     },
     "execution_count": 72,
     "metadata": {},
     "output_type": "execute_result"
    }
   ],
   "source": [
    "team_brownlow(2018,\"Brisbane Lions\")"
   ]
  },
  {
   "cell_type": "code",
   "execution_count": 73,
   "metadata": {},
   "outputs": [
    {
     "data": {
      "text/html": [
       "<table border=\"1\" class=\"dataframe\">\n",
       "    <thead>\n",
       "        <tr>\n",
       "            <th>Player</th> <th>Position</th> <th>Team</th> <th>Season</th> <th>BrownlowVotes sum</th>\n",
       "        </tr>\n",
       "    </thead>\n",
       "    <tbody>\n",
       "        <tr>\n",
       "            <td>Lynch, Tom J    </td> <td>Forward           </td> <td>Gold Coast</td> <td>2018  </td> <td>5                </td>\n",
       "        </tr>\n",
       "        <tr>\n",
       "            <td>Fiorini, Brayden</td> <td>Midfield          </td> <td>Gold Coast</td> <td>2018  </td> <td>5                </td>\n",
       "        </tr>\n",
       "        <tr>\n",
       "            <td>Miller, Touk    </td> <td>Midfield          </td> <td>Gold Coast</td> <td>2018  </td> <td>4                </td>\n",
       "        </tr>\n",
       "        <tr>\n",
       "            <td>Weller, Lachie  </td> <td>Defender, Midfield</td> <td>Gold Coast</td> <td>2018  </td> <td>3                </td>\n",
       "        </tr>\n",
       "        <tr>\n",
       "            <td>Harbrow, Jarrod </td> <td>Defender          </td> <td>Gold Coast</td> <td>2018  </td> <td>3                </td>\n",
       "        </tr>\n",
       "        <tr>\n",
       "            <td>Young, Aaron    </td> <td>Forward           </td> <td>Gold Coast</td> <td>2018  </td> <td>2                </td>\n",
       "        </tr>\n",
       "        <tr>\n",
       "            <td>Witts, Jarrod   </td> <td>Ruck              </td> <td>Gold Coast</td> <td>2018  </td> <td>2                </td>\n",
       "        </tr>\n",
       "        <tr>\n",
       "            <td>Swallow, David  </td> <td>Midfield          </td> <td>Gold Coast</td> <td>2018  </td> <td>2                </td>\n",
       "        </tr>\n",
       "        <tr>\n",
       "            <td>Lyons, Jarryd   </td> <td>Midfield          </td> <td>Gold Coast</td> <td>2018  </td> <td>2                </td>\n",
       "        </tr>\n",
       "        <tr>\n",
       "            <td>Sexton, Alex    </td> <td>Forward           </td> <td>Gold Coast</td> <td>2018  </td> <td>1                </td>\n",
       "        </tr>\n",
       "    </tbody>\n",
       "</table>\n",
       "<p>... (29 rows omitted)</p>"
      ],
      "text/plain": [
       "Player           | Position           | Team       | Season | BrownlowVotes sum\n",
       "Lynch, Tom J     | Forward            | Gold Coast | 2018   | 5\n",
       "Fiorini, Brayden | Midfield           | Gold Coast | 2018   | 5\n",
       "Miller, Touk     | Midfield           | Gold Coast | 2018   | 4\n",
       "Weller, Lachie   | Defender, Midfield | Gold Coast | 2018   | 3\n",
       "Harbrow, Jarrod  | Defender           | Gold Coast | 2018   | 3\n",
       "Young, Aaron     | Forward            | Gold Coast | 2018   | 2\n",
       "Witts, Jarrod    | Ruck               | Gold Coast | 2018   | 2\n",
       "Swallow, David   | Midfield           | Gold Coast | 2018   | 2\n",
       "Lyons, Jarryd    | Midfield           | Gold Coast | 2018   | 2\n",
       "Sexton, Alex     | Forward            | Gold Coast | 2018   | 1\n",
       "... (29 rows omitted)"
      ]
     },
     "execution_count": 73,
     "metadata": {},
     "output_type": "execute_result"
    }
   ],
   "source": [
    "team_brownlow(2018,\"Gold Coast\")"
   ]
  },
  {
   "cell_type": "code",
   "execution_count": 74,
   "metadata": {},
   "outputs": [
    {
     "data": {
      "text/html": [
       "<table border=\"1\" class=\"dataframe\">\n",
       "    <thead>\n",
       "        <tr>\n",
       "            <th>Player</th> <th>Position</th> <th>Team</th> <th>Season</th> <th>BrownlowVotes sum</th>\n",
       "        </tr>\n",
       "    </thead>\n",
       "    <tbody>\n",
       "        <tr>\n",
       "            <td>Cripps, Patrick     </td> <td>Midfield</td> <td>Carlton</td> <td>2018  </td> <td>20               </td>\n",
       "        </tr>\n",
       "        <tr>\n",
       "            <td>Simpson, Kade       </td> <td>Defender</td> <td>Carlton</td> <td>2018  </td> <td>6                </td>\n",
       "        </tr>\n",
       "        <tr>\n",
       "            <td>Curnow, Ed          </td> <td>Midfield</td> <td>Carlton</td> <td>2018  </td> <td>4                </td>\n",
       "        </tr>\n",
       "        <tr>\n",
       "            <td>Curnow, Charlie     </td> <td>Forward </td> <td>Carlton</td> <td>2018  </td> <td>3                </td>\n",
       "        </tr>\n",
       "        <tr>\n",
       "            <td>Murphy, Marc        </td> <td>Midfield</td> <td>Carlton</td> <td>2018  </td> <td>2                </td>\n",
       "        </tr>\n",
       "        <tr>\n",
       "            <td>Petrevski-Seton, Sam</td> <td>Forward </td> <td>Carlton</td> <td>2018  </td> <td>1                </td>\n",
       "        </tr>\n",
       "        <tr>\n",
       "            <td>Kreuzer, Matthew    </td> <td>Ruck    </td> <td>Carlton</td> <td>2018  </td> <td>1                </td>\n",
       "        </tr>\n",
       "        <tr>\n",
       "            <td>Wright, Matthew     </td> <td>Forward </td> <td>Carlton</td> <td>2018  </td> <td>0                </td>\n",
       "        </tr>\n",
       "        <tr>\n",
       "            <td>Weitering, Jacob    </td> <td>Defender</td> <td>Carlton</td> <td>2018  </td> <td>0                </td>\n",
       "        </tr>\n",
       "        <tr>\n",
       "            <td>Thomas, Dale        </td> <td>Defender</td> <td>Carlton</td> <td>2018  </td> <td>0                </td>\n",
       "        </tr>\n",
       "    </tbody>\n",
       "</table>\n",
       "<p>... (27 rows omitted)</p>"
      ],
      "text/plain": [
       "Player               | Position | Team    | Season | BrownlowVotes sum\n",
       "Cripps, Patrick      | Midfield | Carlton | 2018   | 20\n",
       "Simpson, Kade        | Defender | Carlton | 2018   | 6\n",
       "Curnow, Ed           | Midfield | Carlton | 2018   | 4\n",
       "Curnow, Charlie      | Forward  | Carlton | 2018   | 3\n",
       "Murphy, Marc         | Midfield | Carlton | 2018   | 2\n",
       "Petrevski-Seton, Sam | Forward  | Carlton | 2018   | 1\n",
       "Kreuzer, Matthew     | Ruck     | Carlton | 2018   | 1\n",
       "Wright, Matthew      | Forward  | Carlton | 2018   | 0\n",
       "Weitering, Jacob     | Defender | Carlton | 2018   | 0\n",
       "Thomas, Dale         | Defender | Carlton | 2018   | 0\n",
       "... (27 rows omitted)"
      ]
     },
     "execution_count": 74,
     "metadata": {},
     "output_type": "execute_result"
    }
   ],
   "source": [
    "team_brownlow(2018,\"Carlton\")"
   ]
  },
  {
   "cell_type": "code",
   "execution_count": 78,
   "metadata": {},
   "outputs": [
    {
     "data": {
      "text/html": [
       "<table border=\"1\" class=\"dataframe\">\n",
       "    <thead>\n",
       "        <tr>\n",
       "            <th>Player</th> <th>Height mean</th> <th>Disposals mean</th> <th>Hitouts mean</th>\n",
       "        </tr>\n",
       "    </thead>\n",
       "    <tbody>\n",
       "        <tr>\n",
       "            <td>McEvoy, Ben   </td> <td>200        </td> <td>12.3684       </td> <td>30.6842     </td>\n",
       "        </tr>\n",
       "        <tr>\n",
       "            <td>Pittonet, Marc</td> <td>202        </td> <td>4.5           </td> <td>25          </td>\n",
       "        </tr>\n",
       "    </tbody>\n",
       "</table>"
      ],
      "text/plain": [
       "Player         | Height mean | Disposals mean | Hitouts mean\n",
       "McEvoy, Ben    | 200         | 12.3684        | 30.6842\n",
       "Pittonet, Marc | 202         | 4.5            | 25"
      ]
     },
     "execution_count": 78,
     "metadata": {},
     "output_type": "execute_result"
    }
   ],
   "source": [
    "#Now I will try to find which players contributed the most to what teams during the regular season by position\n",
    "#Positions: Defender, Midfielder, Defender/Midfield, Forward, Forward/Midfield, Ruck\n",
    "#This function will return a table of a teams player statistics in an individual season based on position \n",
    "def position_contribution(year, team, position):\n",
    "    year_break = stats.where(\"Season\", year).where(\"Round\", are.not_equal_to(\"EF\"))\n",
    "    team_break = year_break.where(\"Team\", team)\n",
    "    position_break = team_break.where(\"Position\", position)\n",
    "    if position == \"Ruck\":\n",
    "        position_break = position_break.group([1,3,14,20], sum).select(0,1,2,3).group(\"Player\", np.mean)\n",
    "    elif position == \"Forward, Ruck\":\n",
    "        position_break = position_break.group([1,3,14,18,19,20,35], sum).select(0,1,2,3).group(\"Player\", np.mean)\n",
    "    elif position == \"Midfield, Ruck\":\n",
    "        position_break = position_break.group([1,3,14,18,19,23,35], sum).select(0,1,2,3).group(\"Player\", np.mean)\n",
    "    elif position == \"Defender\":\n",
    "        position_break = position_break.group([1,21,22,33], sum).select(0,1,2,3).group(\"Player\", np.mean)\n",
    "    elif position == \"Forward\":\n",
    "        position_break = position_break.group([1,18,19,21,22,23,35], sum).select(0,1,2,3).group(\"Player\", np.mean)\n",
    "    elif position == \"Defender, Forward\":\n",
    "        position_break = position_break.group([1,18,19,35], sum).select(0,1,2,3).group(\"Player\", np.mean)\n",
    "    elif position == \"Midfield\":\n",
    "        position_break = position_break.group([1,18,19,23,35], sum).select(0,1,2,3,4).group(\"Player\", np.mean)\n",
    "    elif position == \"Midfield, Forward\":\n",
    "        position_break = position_break.group([1,18,19,23,35], sum).select(0,1,2,3,4).group(\"Player\", np.mean)\n",
    "    elif position == \"Defender, Midfield\":\n",
    "        position_break = position_break.group([1,18,19,21,22,23,35], sum).select(0,1,2,3,4).group(\"Player\", np.mean)\n",
    "    \n",
    "    return position_break\n",
    "position_contribution(2018, \"Hawthorn\", \"Ruck\")"
   ]
  },
  {
   "cell_type": "code",
   "execution_count": 79,
   "metadata": {},
   "outputs": [
    {
     "data": {
      "text/html": [
       "<table border=\"1\" class=\"dataframe\">\n",
       "    <thead>\n",
       "        <tr>\n",
       "            <th>Player</th> <th>Height mean</th> <th>Disposals mean</th> <th>Goals mean</th>\n",
       "        </tr>\n",
       "    </thead>\n",
       "    <tbody>\n",
       "        <tr>\n",
       "            <td>Ceglar, Jonathon</td> <td>204        </td> <td>9.81818       </td> <td>0.545455  </td>\n",
       "        </tr>\n",
       "    </tbody>\n",
       "</table>"
      ],
      "text/plain": [
       "Player           | Height mean | Disposals mean | Goals mean\n",
       "Ceglar, Jonathon | 204         | 9.81818        | 0.545455"
      ]
     },
     "execution_count": 79,
     "metadata": {},
     "output_type": "execute_result"
    }
   ],
   "source": [
    "#Now with this function done, I can get a breakdown of the players for every team by position with their stats\n",
    "#per game\n",
    "position_contribution(2018, \"Hawthorn\", \"Forward, Ruck\")"
   ]
  },
  {
   "cell_type": "code",
   "execution_count": 80,
   "metadata": {},
   "outputs": [
    {
     "data": {
      "text/html": [
       "<table border=\"1\" class=\"dataframe\">\n",
       "    <thead>\n",
       "        <tr>\n",
       "            <th>Player</th> <th>Tackles mean</th> <th>Rebound50s mean</th> <th>OnePercenters mean</th>\n",
       "        </tr>\n",
       "    </thead>\n",
       "    <tbody>\n",
       "        <tr>\n",
       "            <td>Brand, Kaiden  </td> <td>1.44444     </td> <td>1.55556        </td> <td>5.88889           </td>\n",
       "        </tr>\n",
       "        <tr>\n",
       "            <td>Burton, Ryan   </td> <td>1.72727     </td> <td>2.5            </td> <td>3.13636           </td>\n",
       "        </tr>\n",
       "        <tr>\n",
       "            <td>Duryea, Taylor </td> <td>1.9375      </td> <td>1.5625         </td> <td>1.4375            </td>\n",
       "        </tr>\n",
       "        <tr>\n",
       "            <td>Frawley, James </td> <td>1.44444     </td> <td>2.72222        </td> <td>6.5               </td>\n",
       "        </tr>\n",
       "        <tr>\n",
       "            <td>Glass, Conor   </td> <td>3.25        </td> <td>2              </td> <td>1.5               </td>\n",
       "        </tr>\n",
       "        <tr>\n",
       "            <td>Hardwick, Blake</td> <td>2.3         </td> <td>2              </td> <td>4.7               </td>\n",
       "        </tr>\n",
       "        <tr>\n",
       "            <td>Miles, Teia    </td> <td>2.125       </td> <td>2.5            </td> <td>1.5               </td>\n",
       "        </tr>\n",
       "        <tr>\n",
       "            <td>Mirra, David   </td> <td>1.42857     </td> <td>3.28571        </td> <td>4.71429           </td>\n",
       "        </tr>\n",
       "        <tr>\n",
       "            <td>Sicily, James  </td> <td>1.625       </td> <td>4.875          </td> <td>4.875             </td>\n",
       "        </tr>\n",
       "        <tr>\n",
       "            <td>Stratton, Ben  </td> <td>1.86364     </td> <td>2              </td> <td>7.09091           </td>\n",
       "        </tr>\n",
       "    </tbody>\n",
       "</table>"
      ],
      "text/plain": [
       "Player          | Tackles mean | Rebound50s mean | OnePercenters mean\n",
       "Brand, Kaiden   | 1.44444      | 1.55556         | 5.88889\n",
       "Burton, Ryan    | 1.72727      | 2.5             | 3.13636\n",
       "Duryea, Taylor  | 1.9375       | 1.5625          | 1.4375\n",
       "Frawley, James  | 1.44444      | 2.72222         | 6.5\n",
       "Glass, Conor    | 3.25         | 2               | 1.5\n",
       "Hardwick, Blake | 2.3          | 2               | 4.7\n",
       "Miles, Teia     | 2.125        | 2.5             | 1.5\n",
       "Mirra, David    | 1.42857      | 3.28571         | 4.71429\n",
       "Sicily, James   | 1.625        | 4.875           | 4.875\n",
       "Stratton, Ben   | 1.86364      | 2               | 7.09091"
      ]
     },
     "execution_count": 80,
     "metadata": {},
     "output_type": "execute_result"
    }
   ],
   "source": [
    "position_contribution(2018, \"Hawthorn\", \"Defender\")"
   ]
  },
  {
   "cell_type": "code",
   "execution_count": 81,
   "metadata": {},
   "outputs": [
    {
     "data": {
      "text/html": [
       "<table border=\"1\" class=\"dataframe\">\n",
       "    <thead>\n",
       "        <tr>\n",
       "            <th>Player</th> <th>Goals mean</th> <th>Behinds mean</th> <th>Tackles mean</th>\n",
       "        </tr>\n",
       "    </thead>\n",
       "    <tbody>\n",
       "        <tr>\n",
       "            <td>Breust, Luke       </td> <td>2.25      </td> <td>1           </td> <td>4.125       </td>\n",
       "        </tr>\n",
       "        <tr>\n",
       "            <td>Gunston, Jack      </td> <td>2.21739   </td> <td>1.3913      </td> <td>2           </td>\n",
       "        </tr>\n",
       "        <tr>\n",
       "            <td>Lewis, Mitch       </td> <td>0         </td> <td>0           </td> <td>1.5         </td>\n",
       "        </tr>\n",
       "        <tr>\n",
       "            <td>Nash, Conor        </td> <td>0.4       </td> <td>0.8         </td> <td>4           </td>\n",
       "        </tr>\n",
       "        <tr>\n",
       "            <td>OBrien, Tim        </td> <td>0.333333  </td> <td>0.5         </td> <td>1.41667     </td>\n",
       "        </tr>\n",
       "        <tr>\n",
       "            <td>Puopolo, Paul      </td> <td>1         </td> <td>0.315789    </td> <td>4.36842     </td>\n",
       "        </tr>\n",
       "        <tr>\n",
       "            <td>Rioli, Cyril       </td> <td>0.666667  </td> <td>0.666667    </td> <td>2.33333     </td>\n",
       "        </tr>\n",
       "        <tr>\n",
       "            <td>Roughead, Jarryd   </td> <td>1.54545   </td> <td>1.09091     </td> <td>2.63636     </td>\n",
       "        </tr>\n",
       "        <tr>\n",
       "            <td>Schoenmakers, Ryan </td> <td>1         </td> <td>0.777778    </td> <td>1.77778     </td>\n",
       "        </tr>\n",
       "        <tr>\n",
       "            <td>Whitecross, Brendan</td> <td>0.5       </td> <td>0.666667    </td> <td>3           </td>\n",
       "        </tr>\n",
       "    </tbody>\n",
       "</table>"
      ],
      "text/plain": [
       "Player              | Goals mean | Behinds mean | Tackles mean\n",
       "Breust, Luke        | 2.25       | 1            | 4.125\n",
       "Gunston, Jack       | 2.21739    | 1.3913       | 2\n",
       "Lewis, Mitch        | 0          | 0            | 1.5\n",
       "Nash, Conor         | 0.4        | 0.8          | 4\n",
       "OBrien, Tim         | 0.333333   | 0.5          | 1.41667\n",
       "Puopolo, Paul       | 1          | 0.315789     | 4.36842\n",
       "Rioli, Cyril        | 0.666667   | 0.666667     | 2.33333\n",
       "Roughead, Jarryd    | 1.54545    | 1.09091      | 2.63636\n",
       "Schoenmakers, Ryan  | 1          | 0.777778     | 1.77778\n",
       "Whitecross, Brendan | 0.5        | 0.666667     | 3"
      ]
     },
     "execution_count": 81,
     "metadata": {},
     "output_type": "execute_result"
    }
   ],
   "source": [
    "position_contribution(2018, \"Hawthorn\", \"Forward\")"
   ]
  },
  {
   "cell_type": "code",
   "execution_count": 82,
   "metadata": {},
   "outputs": [
    {
     "data": {
      "text/html": [
       "<table border=\"1\" class=\"dataframe\">\n",
       "    <thead>\n",
       "        <tr>\n",
       "            <th>Player</th> <th>Goals mean</th> <th>Behinds mean</th> <th>GoalAssists mean</th>\n",
       "        </tr>\n",
       "    </thead>\n",
       "    <tbody>\n",
       "        <tr>\n",
       "            <td>Impey, Jarman</td> <td>0.75      </td> <td>0.625       </td> <td>0.375           </td>\n",
       "        </tr>\n",
       "    </tbody>\n",
       "</table>"
      ],
      "text/plain": [
       "Player        | Goals mean | Behinds mean | GoalAssists mean\n",
       "Impey, Jarman | 0.75       | 0.625        | 0.375"
      ]
     },
     "execution_count": 82,
     "metadata": {},
     "output_type": "execute_result"
    }
   ],
   "source": [
    "position_contribution(2018, \"Hawthorn\", \"Defender, Forward\")"
   ]
  },
  {
   "cell_type": "code",
   "execution_count": 83,
   "metadata": {},
   "outputs": [
    {
     "data": {
      "text/html": [
       "<table border=\"1\" class=\"dataframe\">\n",
       "    <thead>\n",
       "        <tr>\n",
       "            <th>Player</th> <th>Goals mean</th> <th>Behinds mean</th> <th>Inside50s mean</th> <th>GoalAssists mean</th>\n",
       "        </tr>\n",
       "    </thead>\n",
       "    <tbody>\n",
       "        <tr>\n",
       "            <td>Burgoyne, Shaun  </td> <td>0.428571  </td> <td>0.785714    </td> <td>3.07143       </td> <td>0.428571        </td>\n",
       "        </tr>\n",
       "        <tr>\n",
       "            <td>Cousins, James   </td> <td>0         </td> <td>0           </td> <td>2             </td> <td>0               </td>\n",
       "        </tr>\n",
       "        <tr>\n",
       "            <td>Henderson, Ricky </td> <td>0.578947  </td> <td>0.473684    </td> <td>3.21053       </td> <td>0.736842        </td>\n",
       "        </tr>\n",
       "        <tr>\n",
       "            <td>Howe, Daniel     </td> <td>0.285714  </td> <td>0.142857    </td> <td>2.28571       </td> <td>0.428571        </td>\n",
       "        </tr>\n",
       "        <tr>\n",
       "            <td>Mitchell, Tom    </td> <td>0.571429  </td> <td>0.238095    </td> <td>4.85714       </td> <td>0.52381         </td>\n",
       "        </tr>\n",
       "        <tr>\n",
       "            <td>OMeara, Jaeger   </td> <td>0.75      </td> <td>0.4         </td> <td>3.3           </td> <td>0.45            </td>\n",
       "        </tr>\n",
       "        <tr>\n",
       "            <td>ORourke, Jonathan</td> <td>0         </td> <td>0           </td> <td>2             </td> <td>0               </td>\n",
       "        </tr>\n",
       "        <tr>\n",
       "            <td>Shiels, Liam     </td> <td>0.428571  </td> <td>0.142857    </td> <td>4.38095       </td> <td>0.52381         </td>\n",
       "        </tr>\n",
       "        <tr>\n",
       "            <td>Smith, Isaac     </td> <td>1.09091   </td> <td>0.590909    </td> <td>3.63636       </td> <td>0.545455        </td>\n",
       "        </tr>\n",
       "    </tbody>\n",
       "</table>"
      ],
      "text/plain": [
       "Player            | Goals mean | Behinds mean | Inside50s mean | GoalAssists mean\n",
       "Burgoyne, Shaun   | 0.428571   | 0.785714     | 3.07143        | 0.428571\n",
       "Cousins, James    | 0          | 0            | 2              | 0\n",
       "Henderson, Ricky  | 0.578947   | 0.473684     | 3.21053        | 0.736842\n",
       "Howe, Daniel      | 0.285714   | 0.142857     | 2.28571        | 0.428571\n",
       "Mitchell, Tom     | 0.571429   | 0.238095     | 4.85714        | 0.52381\n",
       "OMeara, Jaeger    | 0.75       | 0.4          | 3.3            | 0.45\n",
       "ORourke, Jonathan | 0          | 0            | 2              | 0\n",
       "Shiels, Liam      | 0.428571   | 0.142857     | 4.38095        | 0.52381\n",
       "Smith, Isaac      | 1.09091    | 0.590909     | 3.63636        | 0.545455"
      ]
     },
     "execution_count": 83,
     "metadata": {},
     "output_type": "execute_result"
    }
   ],
   "source": [
    "position_contribution(2018, \"Hawthorn\", \"Midfield\")"
   ]
  },
  {
   "cell_type": "code",
   "execution_count": 84,
   "metadata": {},
   "outputs": [
    {
     "data": {
      "text/html": [
       "<table border=\"1\" class=\"dataframe\">\n",
       "    <thead>\n",
       "        <tr>\n",
       "            <th>Player</th> <th>Goals mean</th> <th>Behinds mean</th> <th>Inside50s mean</th> <th>GoalAssists mean</th>\n",
       "        </tr>\n",
       "    </thead>\n",
       "    <tbody>\n",
       "        <tr>\n",
       "            <td>Langford, Will </td> <td>0         </td> <td>0.166667    </td> <td>2.5           </td> <td>0.333333        </td>\n",
       "        </tr>\n",
       "        <tr>\n",
       "            <td>Morrison, Harry</td> <td>0.294118  </td> <td>0.411765    </td> <td>2.41176       </td> <td>0.529412        </td>\n",
       "        </tr>\n",
       "        <tr>\n",
       "            <td>Worpel, James  </td> <td>0.454545  </td> <td>0.454545    </td> <td>3.45455       </td> <td>0.545455        </td>\n",
       "        </tr>\n",
       "    </tbody>\n",
       "</table>"
      ],
      "text/plain": [
       "Player          | Goals mean | Behinds mean | Inside50s mean | GoalAssists mean\n",
       "Langford, Will  | 0          | 0.166667     | 2.5            | 0.333333\n",
       "Morrison, Harry | 0.294118   | 0.411765     | 2.41176        | 0.529412\n",
       "Worpel, James   | 0.454545   | 0.454545     | 3.45455        | 0.545455"
      ]
     },
     "execution_count": 84,
     "metadata": {},
     "output_type": "execute_result"
    }
   ],
   "source": [
    "position_contribution(2018, \"Hawthorn\", \"Midfield, Forward\")"
   ]
  },
  {
   "cell_type": "code",
   "execution_count": 85,
   "metadata": {},
   "outputs": [
    {
     "data": {
      "text/html": [
       "<table border=\"1\" class=\"dataframe\">\n",
       "    <thead>\n",
       "        <tr>\n",
       "            <th>Player</th> <th>Height mean</th> <th>Disposals mean</th> <th>Hitouts mean</th>\n",
       "        </tr>\n",
       "    </thead>\n",
       "    <tbody>\n",
       "        <tr>\n",
       "            <td>Jacobs, Sam</td> <td>200        </td> <td>11.8182       </td> <td>36.2727     </td>\n",
       "        </tr>\n",
       "    </tbody>\n",
       "</table>"
      ],
      "text/plain": [
       "Player      | Height mean | Disposals mean | Hitouts mean\n",
       "Jacobs, Sam | 200         | 11.8182        | 36.2727"
      ]
     },
     "execution_count": 85,
     "metadata": {},
     "output_type": "execute_result"
    }
   ],
   "source": [
    "#Now we will look at Adelaide in 2018\n",
    "position_contribution(2018, \"Adelaide\", \"Ruck\")"
   ]
  },
  {
   "cell_type": "code",
   "execution_count": 86,
   "metadata": {},
   "outputs": [
    {
     "data": {
      "text/html": [
       "<table border=\"1\" class=\"dataframe\">\n",
       "    <thead>\n",
       "        <tr>\n",
       "            <th>Player</th> <th>Tackles mean</th> <th>Rebound50s mean</th> <th>OnePercenters mean</th>\n",
       "        </tr>\n",
       "    </thead>\n",
       "    <tbody>\n",
       "        <tr>\n",
       "            <td>Brown, Luke   </td> <td>2.15789     </td> <td>3.57895        </td> <td>2.05263           </td>\n",
       "        </tr>\n",
       "        <tr>\n",
       "            <td>Cheney, Kyle  </td> <td>0.5         </td> <td>2.5            </td> <td>2.875             </td>\n",
       "        </tr>\n",
       "        <tr>\n",
       "            <td>Doedee, Tom   </td> <td>3           </td> <td>3.15           </td> <td>4.95              </td>\n",
       "        </tr>\n",
       "        <tr>\n",
       "            <td>Hartigan, Kyle</td> <td>1.07692     </td> <td>2.38462        </td> <td>3.92308           </td>\n",
       "        </tr>\n",
       "        <tr>\n",
       "            <td>Keath, Alex   </td> <td>1.5         </td> <td>3              </td> <td>5.16667           </td>\n",
       "        </tr>\n",
       "        <tr>\n",
       "            <td>Kelly, Jake   </td> <td>2           </td> <td>2.42105        </td> <td>3.15789           </td>\n",
       "        </tr>\n",
       "        <tr>\n",
       "            <td>Laird, Rory   </td> <td>2.10526     </td> <td>4.94737        </td> <td>1.36842           </td>\n",
       "        </tr>\n",
       "        <tr>\n",
       "            <td>Mackay, David </td> <td>2.75        </td> <td>2.5625         </td> <td>2.0625            </td>\n",
       "        </tr>\n",
       "        <tr>\n",
       "            <td>Milera, Wayne </td> <td>2.57895     </td> <td>2.78947        </td> <td>2.21053           </td>\n",
       "        </tr>\n",
       "        <tr>\n",
       "            <td>Otten, Andy   </td> <td>1.5         </td> <td>2.625          </td> <td>4.375             </td>\n",
       "        </tr>\n",
       "    </tbody>\n",
       "</table>\n",
       "<p>... (2 rows omitted)</p>"
      ],
      "text/plain": [
       "Player         | Tackles mean | Rebound50s mean | OnePercenters mean\n",
       "Brown, Luke    | 2.15789      | 3.57895         | 2.05263\n",
       "Cheney, Kyle   | 0.5          | 2.5             | 2.875\n",
       "Doedee, Tom    | 3            | 3.15            | 4.95\n",
       "Hartigan, Kyle | 1.07692      | 2.38462         | 3.92308\n",
       "Keath, Alex    | 1.5          | 3               | 5.16667\n",
       "Kelly, Jake    | 2            | 2.42105         | 3.15789\n",
       "Laird, Rory    | 2.10526      | 4.94737         | 1.36842\n",
       "Mackay, David  | 2.75         | 2.5625          | 2.0625\n",
       "Milera, Wayne  | 2.57895      | 2.78947         | 2.21053\n",
       "Otten, Andy    | 1.5          | 2.625           | 4.375\n",
       "... (2 rows omitted)"
      ]
     },
     "execution_count": 86,
     "metadata": {},
     "output_type": "execute_result"
    }
   ],
   "source": [
    "position_contribution(2018, \"Adelaide\", \"Defender\")"
   ]
  },
  {
   "cell_type": "code",
   "execution_count": 87,
   "metadata": {},
   "outputs": [
    {
     "data": {
      "text/html": [
       "<table border=\"1\" class=\"dataframe\">\n",
       "    <thead>\n",
       "        <tr>\n",
       "            <th>Player</th> <th>Goals mean</th> <th>Behinds mean</th> <th>Tackles mean</th>\n",
       "        </tr>\n",
       "    </thead>\n",
       "    <tbody>\n",
       "        <tr>\n",
       "            <td>Betts, Eddie       </td> <td>1.61111   </td> <td>1.11111     </td> <td>2.77778     </td>\n",
       "        </tr>\n",
       "        <tr>\n",
       "            <td>Fogarty, Darcy     </td> <td>0.9       </td> <td>0.3         </td> <td>2           </td>\n",
       "        </tr>\n",
       "        <tr>\n",
       "            <td>Gallucci, Jordan   </td> <td>0.9375    </td> <td>0.6875      </td> <td>2.4375      </td>\n",
       "        </tr>\n",
       "        <tr>\n",
       "            <td>Himmelberg, Elliott</td> <td>1         </td> <td>1           </td> <td>3           </td>\n",
       "        </tr>\n",
       "        <tr>\n",
       "            <td>Jenkins, Josh      </td> <td>2.09091   </td> <td>1.22727     </td> <td>2.77273     </td>\n",
       "        </tr>\n",
       "        <tr>\n",
       "            <td>Lynch, Tom T       </td> <td>1         </td> <td>0.5         </td> <td>1.625       </td>\n",
       "        </tr>\n",
       "        <tr>\n",
       "            <td>McGovern, Mitch    </td> <td>1.25      </td> <td>1.08333     </td> <td>1.83333     </td>\n",
       "        </tr>\n",
       "        <tr>\n",
       "            <td>Murphy, Lachlan    </td> <td>1.1       </td> <td>0.7         </td> <td>3.9         </td>\n",
       "        </tr>\n",
       "        <tr>\n",
       "            <td>Poholke, Myles     </td> <td>0.333333  </td> <td>0.444444    </td> <td>2           </td>\n",
       "        </tr>\n",
       "        <tr>\n",
       "            <td>Walker, Taylor     </td> <td>1.85714   </td> <td>1.21429     </td> <td>2.14286     </td>\n",
       "        </tr>\n",
       "    </tbody>\n",
       "</table>"
      ],
      "text/plain": [
       "Player              | Goals mean | Behinds mean | Tackles mean\n",
       "Betts, Eddie        | 1.61111    | 1.11111      | 2.77778\n",
       "Fogarty, Darcy      | 0.9        | 0.3          | 2\n",
       "Gallucci, Jordan    | 0.9375     | 0.6875       | 2.4375\n",
       "Himmelberg, Elliott | 1          | 1            | 3\n",
       "Jenkins, Josh       | 2.09091    | 1.22727      | 2.77273\n",
       "Lynch, Tom T        | 1          | 0.5          | 1.625\n",
       "McGovern, Mitch     | 1.25       | 1.08333      | 1.83333\n",
       "Murphy, Lachlan     | 1.1        | 0.7          | 3.9\n",
       "Poholke, Myles      | 0.333333   | 0.444444     | 2\n",
       "Walker, Taylor      | 1.85714    | 1.21429      | 2.14286"
      ]
     },
     "execution_count": 87,
     "metadata": {},
     "output_type": "execute_result"
    }
   ],
   "source": [
    "position_contribution(2018, \"Adelaide\", \"Forward\")"
   ]
  },
  {
   "cell_type": "code",
   "execution_count": 88,
   "metadata": {},
   "outputs": [
    {
     "data": {
      "text/html": [
       "<table border=\"1\" class=\"dataframe\">\n",
       "    <thead>\n",
       "        <tr>\n",
       "            <th>Player</th> <th>Goals mean</th> <th>Behinds mean</th> <th>Inside50s mean</th> <th>GoalAssists mean</th>\n",
       "        </tr>\n",
       "    </thead>\n",
       "    <tbody>\n",
       "        <tr>\n",
       "            <td>Atkins, Rory     </td> <td>0.666667  </td> <td>0.444444    </td> <td>3.44444       </td> <td>0.444444        </td>\n",
       "        </tr>\n",
       "        <tr>\n",
       "            <td>Crouch, Matt     </td> <td>0.181818  </td> <td>0.181818    </td> <td>4.18182       </td> <td>0.727273        </td>\n",
       "        </tr>\n",
       "        <tr>\n",
       "            <td>Ellis-Yolmen, Cam</td> <td>0.545455  </td> <td>0.272727    </td> <td>2.63636       </td> <td>0.181818        </td>\n",
       "        </tr>\n",
       "        <tr>\n",
       "            <td>Gibbs, Bryce     </td> <td>0.647059  </td> <td>0.705882    </td> <td>4.76471       </td> <td>0.647059        </td>\n",
       "        </tr>\n",
       "        <tr>\n",
       "            <td>Gibson, Sam      </td> <td>0.4       </td> <td>0.2         </td> <td>1.6           </td> <td>0               </td>\n",
       "        </tr>\n",
       "        <tr>\n",
       "            <td>Greenwood, Hugh  </td> <td>0.789474  </td> <td>0.736842    </td> <td>2.42105       </td> <td>0.421053        </td>\n",
       "        </tr>\n",
       "        <tr>\n",
       "            <td>Hampton, Curtly  </td> <td>0.5       </td> <td>0           </td> <td>1.5           </td> <td>0               </td>\n",
       "        </tr>\n",
       "        <tr>\n",
       "            <td>Seedsman, Paul   </td> <td>0.684211  </td> <td>0.684211    </td> <td>4.21053       </td> <td>0.736842        </td>\n",
       "        </tr>\n",
       "        <tr>\n",
       "            <td>Sloane, Rory     </td> <td>0.416667  </td> <td>0.416667    </td> <td>3.66667       </td> <td>0.5             </td>\n",
       "        </tr>\n",
       "        <tr>\n",
       "            <td>Wilson, Patrick  </td> <td>0         </td> <td>0           </td> <td>0             </td> <td>0               </td>\n",
       "        </tr>\n",
       "    </tbody>\n",
       "</table>"
      ],
      "text/plain": [
       "Player            | Goals mean | Behinds mean | Inside50s mean | GoalAssists mean\n",
       "Atkins, Rory      | 0.666667   | 0.444444     | 3.44444        | 0.444444\n",
       "Crouch, Matt      | 0.181818   | 0.181818     | 4.18182        | 0.727273\n",
       "Ellis-Yolmen, Cam | 0.545455   | 0.272727     | 2.63636        | 0.181818\n",
       "Gibbs, Bryce      | 0.647059   | 0.705882     | 4.76471        | 0.647059\n",
       "Gibson, Sam       | 0.4        | 0.2          | 1.6            | 0\n",
       "Greenwood, Hugh   | 0.789474   | 0.736842     | 2.42105        | 0.421053\n",
       "Hampton, Curtly   | 0.5        | 0            | 1.5            | 0\n",
       "Seedsman, Paul    | 0.684211   | 0.684211     | 4.21053        | 0.736842\n",
       "Sloane, Rory      | 0.416667   | 0.416667     | 3.66667        | 0.5\n",
       "Wilson, Patrick   | 0          | 0            | 0              | 0"
      ]
     },
     "execution_count": 88,
     "metadata": {},
     "output_type": "execute_result"
    }
   ],
   "source": [
    "position_contribution(2018, \"Adelaide\", \"Midfield\")"
   ]
  },
  {
   "cell_type": "code",
   "execution_count": 89,
   "metadata": {},
   "outputs": [
    {
     "data": {
      "text/html": [
       "<table border=\"1\" class=\"dataframe\">\n",
       "    <thead>\n",
       "        <tr>\n",
       "            <th>Player</th> <th>Goals mean</th> <th>Behinds mean</th> <th>Inside50s mean</th> <th>GoalAssists mean</th>\n",
       "        </tr>\n",
       "    </thead>\n",
       "    <tbody>\n",
       "        <tr>\n",
       "            <td>Douglas, Richard</td> <td>0.875     </td> <td>0.75        </td> <td>3.1875        </td> <td>0.625           </td>\n",
       "        </tr>\n",
       "        <tr>\n",
       "            <td>Knight, Riley   </td> <td>0.875     </td> <td>0.5         </td> <td>2.125         </td> <td>0.375           </td>\n",
       "        </tr>\n",
       "    </tbody>\n",
       "</table>"
      ],
      "text/plain": [
       "Player           | Goals mean | Behinds mean | Inside50s mean | GoalAssists mean\n",
       "Douglas, Richard | 0.875      | 0.75         | 3.1875         | 0.625\n",
       "Knight, Riley    | 0.875      | 0.5          | 2.125          | 0.375"
      ]
     },
     "execution_count": 89,
     "metadata": {},
     "output_type": "execute_result"
    }
   ],
   "source": [
    "position_contribution(2018, \"Adelaide\", \"Midfield, Forward\")"
   ]
  },
  {
   "cell_type": "code",
   "execution_count": 90,
   "metadata": {},
   "outputs": [
    {
     "data": {
      "text/html": [
       "<table border=\"1\" class=\"dataframe\">\n",
       "    <thead>\n",
       "        <tr>\n",
       "            <th>Player</th> <th>Height mean</th> <th>Disposals mean</th> <th>Hitouts mean</th>\n",
       "        </tr>\n",
       "    </thead>\n",
       "    <tbody>\n",
       "        <tr>\n",
       "            <td>Cameron, Darcy  </td> <td>204        </td> <td>3             </td> <td>9           </td>\n",
       "        </tr>\n",
       "        <tr>\n",
       "            <td>Sinclair, Callum</td> <td>200        </td> <td>15            </td> <td>29.5714     </td>\n",
       "        </tr>\n",
       "    </tbody>\n",
       "</table>"
      ],
      "text/plain": [
       "Player           | Height mean | Disposals mean | Hitouts mean\n",
       "Cameron, Darcy   | 204         | 3              | 9\n",
       "Sinclair, Callum | 200         | 15             | 29.5714"
      ]
     },
     "execution_count": 90,
     "metadata": {},
     "output_type": "execute_result"
    }
   ],
   "source": [
    "#Now we will be doing the same thing for Sydney\n",
    "position_contribution(2018, \"Sydney\", \"Ruck\")"
   ]
  },
  {
   "cell_type": "code",
   "execution_count": 91,
   "metadata": {},
   "outputs": [
    {
     "data": {
      "text/html": [
       "<table border=\"1\" class=\"dataframe\">\n",
       "    <thead>\n",
       "        <tr>\n",
       "            <th>Player</th> <th>Height mean</th> <th>Disposals mean</th> <th>Hitouts mean</th>\n",
       "        </tr>\n",
       "    </thead>\n",
       "    <tbody>\n",
       "        <tr>\n",
       "            <td>Cameron, Darcy  </td> <td>204        </td> <td>3             </td> <td>9           </td>\n",
       "        </tr>\n",
       "        <tr>\n",
       "            <td>Sinclair, Callum</td> <td>200        </td> <td>15            </td> <td>29.5714     </td>\n",
       "        </tr>\n",
       "    </tbody>\n",
       "</table>"
      ],
      "text/plain": [
       "Player           | Height mean | Disposals mean | Hitouts mean\n",
       "Cameron, Darcy   | 204         | 3              | 9\n",
       "Sinclair, Callum | 200         | 15             | 29.5714"
      ]
     },
     "execution_count": 91,
     "metadata": {},
     "output_type": "execute_result"
    }
   ],
   "source": [
    "position_contribution(2018, \"Sydney\", \"Ruck\")"
   ]
  },
  {
   "cell_type": "code",
   "execution_count": 92,
   "metadata": {},
   "outputs": [
    {
     "data": {
      "text/html": [
       "<table border=\"1\" class=\"dataframe\">\n",
       "    <thead>\n",
       "        <tr>\n",
       "            <th>Player</th> <th>Tackles mean</th> <th>Rebound50s mean</th> <th>OnePercenters mean</th>\n",
       "        </tr>\n",
       "    </thead>\n",
       "    <tbody>\n",
       "        <tr>\n",
       "            <td>Aliir, Aliir   </td> <td>1.18182     </td> <td>3.90909        </td> <td>3.90909           </td>\n",
       "        </tr>\n",
       "        <tr>\n",
       "            <td>Grundy, Heath  </td> <td>1.11765     </td> <td>3.76471        </td> <td>3.94118           </td>\n",
       "        </tr>\n",
       "        <tr>\n",
       "            <td>Johnson, Alex  </td> <td>2.5         </td> <td>1              </td> <td>4                 </td>\n",
       "        </tr>\n",
       "        <tr>\n",
       "            <td>Jones, Zak     </td> <td>1.94118     </td> <td>3.29412        </td> <td>2.76471           </td>\n",
       "        </tr>\n",
       "        <tr>\n",
       "            <td>Lloyd, Jake    </td> <td>1.73684     </td> <td>6.10526        </td> <td>2.63158           </td>\n",
       "        </tr>\n",
       "        <tr>\n",
       "            <td>Marsh, Harrison</td> <td>1.77778     </td> <td>3.22222        </td> <td>3.33333           </td>\n",
       "        </tr>\n",
       "        <tr>\n",
       "            <td>McVeigh, Jarrad</td> <td>2.17647     </td> <td>4.41176        </td> <td>2.29412           </td>\n",
       "        </tr>\n",
       "        <tr>\n",
       "            <td>Melican, Lewis </td> <td>1.66667     </td> <td>2.33333        </td> <td>7.33333           </td>\n",
       "        </tr>\n",
       "        <tr>\n",
       "            <td>Mills, Callum  </td> <td>2.55556     </td> <td>3.66667        </td> <td>2.55556           </td>\n",
       "        </tr>\n",
       "        <tr>\n",
       "            <td>Newman, Nic    </td> <td>3.2         </td> <td>2.8            </td> <td>2                 </td>\n",
       "        </tr>\n",
       "    </tbody>\n",
       "</table>\n",
       "<p>... (3 rows omitted)</p>"
      ],
      "text/plain": [
       "Player          | Tackles mean | Rebound50s mean | OnePercenters mean\n",
       "Aliir, Aliir    | 1.18182      | 3.90909         | 3.90909\n",
       "Grundy, Heath   | 1.11765      | 3.76471         | 3.94118\n",
       "Johnson, Alex   | 2.5          | 1               | 4\n",
       "Jones, Zak      | 1.94118      | 3.29412         | 2.76471\n",
       "Lloyd, Jake     | 1.73684      | 6.10526         | 2.63158\n",
       "Marsh, Harrison | 1.77778      | 3.22222         | 3.33333\n",
       "McVeigh, Jarrad | 2.17647      | 4.41176         | 2.29412\n",
       "Melican, Lewis  | 1.66667      | 2.33333         | 7.33333\n",
       "Mills, Callum   | 2.55556      | 3.66667         | 2.55556\n",
       "Newman, Nic     | 3.2          | 2.8             | 2\n",
       "... (3 rows omitted)"
      ]
     },
     "execution_count": 92,
     "metadata": {},
     "output_type": "execute_result"
    }
   ],
   "source": [
    "position_contribution(2018, \"Sydney\", \"Defender\")"
   ]
  },
  {
   "cell_type": "code",
   "execution_count": 93,
   "metadata": {},
   "outputs": [
    {
     "data": {
      "text/html": [
       "<table border=\"1\" class=\"dataframe\">\n",
       "    <thead>\n",
       "        <tr>\n",
       "            <th>Player</th> <th>Goals mean</th> <th>Behinds mean</th> <th>Tackles mean</th>\n",
       "        </tr>\n",
       "    </thead>\n",
       "    <tbody>\n",
       "        <tr>\n",
       "            <td>Franklin, Lance</td> <td>3.16667   </td> <td>2.33333     </td> <td>2.11111     </td>\n",
       "        </tr>\n",
       "        <tr>\n",
       "            <td>Hayward, Will  </td> <td>1.27273   </td> <td>0.818182    </td> <td>3.09091     </td>\n",
       "        </tr>\n",
       "        <tr>\n",
       "            <td>McCartin, Tom  </td> <td>0.571429  </td> <td>0.428571    </td> <td>2.14286     </td>\n",
       "        </tr>\n",
       "        <tr>\n",
       "            <td>Papley, Tom    </td> <td>1.15789   </td> <td>1.10526     </td> <td>3           </td>\n",
       "        </tr>\n",
       "        <tr>\n",
       "            <td>Reid, Sam      </td> <td>2         </td> <td>2           </td> <td>3           </td>\n",
       "        </tr>\n",
       "        <tr>\n",
       "            <td>Robinson, Dan  </td> <td>0.125     </td> <td>0           </td> <td>2.625       </td>\n",
       "        </tr>\n",
       "        <tr>\n",
       "            <td>Rohan, Gary    </td> <td>0.636364  </td> <td>0.363636    </td> <td>2.72727     </td>\n",
       "        </tr>\n",
       "        <tr>\n",
       "            <td>Ronke, Ben     </td> <td>1.35294   </td> <td>0.529412    </td> <td>4.11765     </td>\n",
       "        </tr>\n",
       "        <tr>\n",
       "            <td>Rose, James    </td> <td>0         </td> <td>0           </td> <td>6           </td>\n",
       "        </tr>\n",
       "        <tr>\n",
       "            <td>Stoddart, Ryley</td> <td>0.5       </td> <td>0           </td> <td>2           </td>\n",
       "        </tr>\n",
       "    </tbody>\n",
       "</table>\n",
       "<p>... (1 rows omitted)</p>"
      ],
      "text/plain": [
       "Player          | Goals mean | Behinds mean | Tackles mean\n",
       "Franklin, Lance | 3.16667    | 2.33333      | 2.11111\n",
       "Hayward, Will   | 1.27273    | 0.818182     | 3.09091\n",
       "McCartin, Tom   | 0.571429   | 0.428571     | 2.14286\n",
       "Papley, Tom     | 1.15789    | 1.10526      | 3\n",
       "Reid, Sam       | 2          | 2            | 3\n",
       "Robinson, Dan   | 0.125      | 0            | 2.625\n",
       "Rohan, Gary     | 0.636364   | 0.363636     | 2.72727\n",
       "Ronke, Ben      | 1.35294    | 0.529412     | 4.11765\n",
       "Rose, James     | 0          | 0            | 6\n",
       "Stoddart, Ryley | 0.5        | 0            | 2\n",
       "... (1 rows omitted)"
      ]
     },
     "execution_count": 93,
     "metadata": {},
     "output_type": "execute_result"
    }
   ],
   "source": [
    "position_contribution(2018, \"Sydney\", \"Forward\")"
   ]
  },
  {
   "cell_type": "code",
   "execution_count": 94,
   "metadata": {},
   "outputs": [
    {
     "data": {
      "text/html": [
       "<table border=\"1\" class=\"dataframe\">\n",
       "    <thead>\n",
       "        <tr>\n",
       "            <th>Player</th> <th>Goals mean</th> <th>Behinds mean</th> <th>GoalAssists mean</th>\n",
       "        </tr>\n",
       "    </thead>\n",
       "    <tbody>\n",
       "        <tr>\n",
       "            <td>Fox, Robbie</td> <td>0.571429  </td> <td>0.285714    </td> <td>0.428571        </td>\n",
       "        </tr>\n",
       "    </tbody>\n",
       "</table>"
      ],
      "text/plain": [
       "Player      | Goals mean | Behinds mean | GoalAssists mean\n",
       "Fox, Robbie | 0.571429   | 0.285714     | 0.428571"
      ]
     },
     "execution_count": 94,
     "metadata": {},
     "output_type": "execute_result"
    }
   ],
   "source": [
    "position_contribution(2018, \"Sydney\", \"Defender, Forward\")"
   ]
  },
  {
   "cell_type": "code",
   "execution_count": 95,
   "metadata": {},
   "outputs": [
    {
     "data": {
      "text/html": [
       "<table border=\"1\" class=\"dataframe\">\n",
       "    <thead>\n",
       "        <tr>\n",
       "            <th>Player</th> <th>Goals mean</th> <th>Behinds mean</th> <th>Inside50s mean</th> <th>GoalAssists mean</th>\n",
       "        </tr>\n",
       "    </thead>\n",
       "    <tbody>\n",
       "        <tr>\n",
       "            <td>Cunningham, Harry</td> <td>0.411765  </td> <td>0.235294    </td> <td>2.70588       </td> <td>0.588235        </td>\n",
       "        </tr>\n",
       "        <tr>\n",
       "            <td>Dawson, Jordan   </td> <td>1         </td> <td>0.666667    </td> <td>1.33333       </td> <td>0.333333        </td>\n",
       "        </tr>\n",
       "        <tr>\n",
       "            <td>Florent, Oliver  </td> <td>0.5       </td> <td>0.333333    </td> <td>2.38889       </td> <td>0.388889        </td>\n",
       "        </tr>\n",
       "        <tr>\n",
       "            <td>Hannebery, Dan   </td> <td>0.125     </td> <td>0           </td> <td>2.5           </td> <td>0.375           </td>\n",
       "        </tr>\n",
       "        <tr>\n",
       "            <td>Hewett, George   </td> <td>0.272727  </td> <td>0.272727    </td> <td>2.72727       </td> <td>0.363636        </td>\n",
       "        </tr>\n",
       "        <tr>\n",
       "            <td>Kennedy, Josh P  </td> <td>0.45      </td> <td>0.5         </td> <td>3.9           </td> <td>0.55            </td>\n",
       "        </tr>\n",
       "        <tr>\n",
       "            <td>Parker, Luke     </td> <td>1.14286   </td> <td>0.428571    </td> <td>3.66667       </td> <td>0.666667        </td>\n",
       "        </tr>\n",
       "    </tbody>\n",
       "</table>"
      ],
      "text/plain": [
       "Player            | Goals mean | Behinds mean | Inside50s mean | GoalAssists mean\n",
       "Cunningham, Harry | 0.411765   | 0.235294     | 2.70588        | 0.588235\n",
       "Dawson, Jordan    | 1          | 0.666667     | 1.33333        | 0.333333\n",
       "Florent, Oliver   | 0.5        | 0.333333     | 2.38889        | 0.388889\n",
       "Hannebery, Dan    | 0.125      | 0            | 2.5            | 0.375\n",
       "Hewett, George    | 0.272727   | 0.272727     | 2.72727        | 0.363636\n",
       "Kennedy, Josh P   | 0.45       | 0.5          | 3.9            | 0.55\n",
       "Parker, Luke      | 1.14286    | 0.428571     | 3.66667        | 0.666667"
      ]
     },
     "execution_count": 95,
     "metadata": {},
     "output_type": "execute_result"
    }
   ],
   "source": [
    "position_contribution(2018, \"Sydney\", \"Midfield\")"
   ]
  },
  {
   "cell_type": "code",
   "execution_count": 96,
   "metadata": {},
   "outputs": [
    {
     "data": {
      "text/html": [
       "<table border=\"1\" class=\"dataframe\">\n",
       "    <thead>\n",
       "        <tr>\n",
       "            <th>Player</th> <th>Goals mean</th> <th>Behinds mean</th> <th>Inside50s mean</th> <th>GoalAssists mean</th>\n",
       "        </tr>\n",
       "    </thead>\n",
       "    <tbody>\n",
       "        <tr>\n",
       "            <td>Heeney, Isaac</td> <td>0.85      </td> <td>0.65        </td> <td>2.8           </td> <td>0.55            </td>\n",
       "        </tr>\n",
       "        <tr>\n",
       "            <td>Jack, Kieren </td> <td>0.466667  </td> <td>0.6         </td> <td>3.73333       </td> <td>0.733333        </td>\n",
       "        </tr>\n",
       "    </tbody>\n",
       "</table>"
      ],
      "text/plain": [
       "Player        | Goals mean | Behinds mean | Inside50s mean | GoalAssists mean\n",
       "Heeney, Isaac | 0.85       | 0.65         | 2.8            | 0.55\n",
       "Jack, Kieren  | 0.466667   | 0.6          | 3.73333        | 0.733333"
      ]
     },
     "execution_count": 96,
     "metadata": {},
     "output_type": "execute_result"
    }
   ],
   "source": [
    "position_contribution(2018, \"Sydney\", \"Midfield, Forward\")"
   ]
  },
  {
   "cell_type": "code",
   "execution_count": 97,
   "metadata": {},
   "outputs": [
    {
     "data": {
      "text/html": [
       "<table border=\"1\" class=\"dataframe\">\n",
       "    <thead>\n",
       "        <tr>\n",
       "            <th>Player</th> <th>Height mean</th> <th>Disposals mean</th> <th>Hitouts mean</th>\n",
       "        </tr>\n",
       "    </thead>\n",
       "    <tbody>\n",
       "        <tr>\n",
       "            <td>Grundy, Brodie</td> <td>203        </td> <td>20.125        </td> <td>39.8333     </td>\n",
       "        </tr>\n",
       "    </tbody>\n",
       "</table>"
      ],
      "text/plain": [
       "Player         | Height mean | Disposals mean | Hitouts mean\n",
       "Grundy, Brodie | 203         | 20.125         | 39.8333"
      ]
     },
     "execution_count": 97,
     "metadata": {},
     "output_type": "execute_result"
    }
   ],
   "source": [
    "#Collingwood\n",
    "position_contribution(2018, \"Collingwood\", \"Ruck\")"
   ]
  },
  {
   "cell_type": "code",
   "execution_count": 98,
   "metadata": {},
   "outputs": [
    {
     "data": {
      "text/html": [
       "<table border=\"1\" class=\"dataframe\">\n",
       "    <thead>\n",
       "        <tr>\n",
       "            <th>Player</th> <th>Tackles mean</th> <th>Rebound50s mean</th> <th>OnePercenters mean</th>\n",
       "        </tr>\n",
       "    </thead>\n",
       "    <tbody>\n",
       "        <tr>\n",
       "            <td>Appleby, Flynn  </td> <td>1.33333     </td> <td>1.55556        </td> <td>3.66667           </td>\n",
       "        </tr>\n",
       "        <tr>\n",
       "            <td>Crisp, Jack     </td> <td>3.2         </td> <td>2.96           </td> <td>3.08              </td>\n",
       "        </tr>\n",
       "        <tr>\n",
       "            <td>Dunn, Lynden    </td> <td>2           </td> <td>3.57143        </td> <td>5.21429           </td>\n",
       "        </tr>\n",
       "        <tr>\n",
       "            <td>Goldsack, Tyson </td> <td>2.25        </td> <td>1.5            </td> <td>8.75              </td>\n",
       "        </tr>\n",
       "        <tr>\n",
       "            <td>Greenwood, Levi </td> <td>3.46667     </td> <td>1.73333        </td> <td>2.73333           </td>\n",
       "        </tr>\n",
       "        <tr>\n",
       "            <td>Howe, Jeremy    </td> <td>2.05        </td> <td>4.65           </td> <td>5.85              </td>\n",
       "        </tr>\n",
       "        <tr>\n",
       "            <td>Langdon, Tom    </td> <td>2.5         </td> <td>3.04545        </td> <td>5.59091           </td>\n",
       "        </tr>\n",
       "        <tr>\n",
       "            <td>Madgen, Jack    </td> <td>1.5         </td> <td>2              </td> <td>3.5               </td>\n",
       "        </tr>\n",
       "        <tr>\n",
       "            <td>Maynard, Brayden</td> <td>4.04545     </td> <td>3.36364        </td> <td>3.04545           </td>\n",
       "        </tr>\n",
       "        <tr>\n",
       "            <td>Murphy, Nathan  </td> <td>1.5         </td> <td>4.5            </td> <td>2                 </td>\n",
       "        </tr>\n",
       "    </tbody>\n",
       "</table>\n",
       "<p>... (3 rows omitted)</p>"
      ],
      "text/plain": [
       "Player           | Tackles mean | Rebound50s mean | OnePercenters mean\n",
       "Appleby, Flynn   | 1.33333      | 1.55556         | 3.66667\n",
       "Crisp, Jack      | 3.2          | 2.96            | 3.08\n",
       "Dunn, Lynden     | 2            | 3.57143         | 5.21429\n",
       "Goldsack, Tyson  | 2.25         | 1.5             | 8.75\n",
       "Greenwood, Levi  | 3.46667      | 1.73333         | 2.73333\n",
       "Howe, Jeremy     | 2.05         | 4.65            | 5.85\n",
       "Langdon, Tom     | 2.5          | 3.04545         | 5.59091\n",
       "Madgen, Jack     | 1.5          | 2               | 3.5\n",
       "Maynard, Brayden | 4.04545      | 3.36364         | 3.04545\n",
       "Murphy, Nathan   | 1.5          | 4.5             | 2\n",
       "... (3 rows omitted)"
      ]
     },
     "execution_count": 98,
     "metadata": {},
     "output_type": "execute_result"
    }
   ],
   "source": [
    "position_contribution(2018, \"Collingwood\", \"Defender\")"
   ]
  },
  {
   "cell_type": "code",
   "execution_count": 99,
   "metadata": {},
   "outputs": [
    {
     "data": {
      "text/html": [
       "<table border=\"1\" class=\"dataframe\">\n",
       "    <thead>\n",
       "        <tr>\n",
       "            <th>Player</th> <th>Goals mean</th> <th>Behinds mean</th> <th>Tackles mean</th>\n",
       "        </tr>\n",
       "    </thead>\n",
       "    <tbody>\n",
       "        <tr>\n",
       "            <td>Blair, Jarryd       </td> <td>0         </td> <td>0           </td> <td>4           </td>\n",
       "        </tr>\n",
       "        <tr>\n",
       "            <td>Brown, Callum       </td> <td>0.125     </td> <td>0.125       </td> <td>4.75        </td>\n",
       "        </tr>\n",
       "        <tr>\n",
       "            <td>Cox, Mason          </td> <td>1.04167   </td> <td>0.5         </td> <td>1.58333     </td>\n",
       "        </tr>\n",
       "        <tr>\n",
       "            <td>Crocker, Ben        </td> <td>0.5       </td> <td>0.8         </td> <td>1.6         </td>\n",
       "        </tr>\n",
       "        <tr>\n",
       "            <td>Daicos, Josh        </td> <td>0.5       </td> <td>0.2         </td> <td>3.7         </td>\n",
       "        </tr>\n",
       "        <tr>\n",
       "            <td>Fasolo, Alex        </td> <td>0         </td> <td>0           </td> <td>1           </td>\n",
       "        </tr>\n",
       "        <tr>\n",
       "            <td>Hoskin-Elliott, Will</td> <td>1.61538   </td> <td>0.615385    </td> <td>1.73077     </td>\n",
       "        </tr>\n",
       "        <tr>\n",
       "            <td>Mihocek, Brody      </td> <td>1.8125    </td> <td>1.125       </td> <td>2.0625      </td>\n",
       "        </tr>\n",
       "        <tr>\n",
       "            <td>Reid, Ben           </td> <td>1.33333   </td> <td>1           </td> <td>1.16667     </td>\n",
       "        </tr>\n",
       "        <tr>\n",
       "            <td>Smith, Josh         </td> <td>0         </td> <td>1           </td> <td>3           </td>\n",
       "        </tr>\n",
       "    </tbody>\n",
       "</table>\n",
       "<p>... (5 rows omitted)</p>"
      ],
      "text/plain": [
       "Player               | Goals mean | Behinds mean | Tackles mean\n",
       "Blair, Jarryd        | 0          | 0            | 4\n",
       "Brown, Callum        | 0.125      | 0.125        | 4.75\n",
       "Cox, Mason           | 1.04167    | 0.5          | 1.58333\n",
       "Crocker, Ben         | 0.5        | 0.8          | 1.6\n",
       "Daicos, Josh         | 0.5        | 0.2          | 3.7\n",
       "Fasolo, Alex         | 0          | 0            | 1\n",
       "Hoskin-Elliott, Will | 1.61538    | 0.615385     | 1.73077\n",
       "Mihocek, Brody       | 1.8125     | 1.125        | 2.0625\n",
       "Reid, Ben            | 1.33333    | 1            | 1.16667\n",
       "Smith, Josh          | 0          | 1            | 3\n",
       "... (5 rows omitted)"
      ]
     },
     "execution_count": 99,
     "metadata": {},
     "output_type": "execute_result"
    }
   ],
   "source": [
    "position_contribution(2018, \"Collingwood\", \"Forward\")"
   ]
  },
  {
   "cell_type": "code",
   "execution_count": 100,
   "metadata": {},
   "outputs": [
    {
     "data": {
      "text/html": [
       "<table border=\"1\" class=\"dataframe\">\n",
       "    <thead>\n",
       "        <tr>\n",
       "            <th>Player</th> <th>Goals mean</th> <th>Behinds mean</th> <th>GoalAssists mean</th>\n",
       "        </tr>\n",
       "    </thead>\n",
       "    <tbody>\n",
       "        <tr>\n",
       "            <td>Moore, Darcy</td> <td>0.5       </td> <td>0           </td> <td>0               </td>\n",
       "        </tr>\n",
       "    </tbody>\n",
       "</table>"
      ],
      "text/plain": [
       "Player       | Goals mean | Behinds mean | GoalAssists mean\n",
       "Moore, Darcy | 0.5        | 0            | 0"
      ]
     },
     "execution_count": 100,
     "metadata": {},
     "output_type": "execute_result"
    }
   ],
   "source": [
    "position_contribution(2018, \"Collingwood\", \"Defender, Forward\")"
   ]
  },
  {
   "cell_type": "code",
   "execution_count": 101,
   "metadata": {},
   "outputs": [
    {
     "data": {
      "text/html": [
       "<table border=\"1\" class=\"dataframe\">\n",
       "    <thead>\n",
       "        <tr>\n",
       "            <th>Player</th> <th>Goals mean</th> <th>Behinds mean</th> <th>Inside50s mean</th> <th>GoalAssists mean</th>\n",
       "        </tr>\n",
       "    </thead>\n",
       "    <tbody>\n",
       "        <tr>\n",
       "            <td>Adams, Taylor     </td> <td>0.45      </td> <td>0.45        </td> <td>4.25          </td> <td>0.8             </td>\n",
       "        </tr>\n",
       "        <tr>\n",
       "            <td>Mayne, Chris      </td> <td>0.307692  </td> <td>0.769231    </td> <td>1.15385       </td> <td>0.307692        </td>\n",
       "        </tr>\n",
       "        <tr>\n",
       "            <td>Pendlebury, Scott </td> <td>0.4       </td> <td>0.2         </td> <td>4.1           </td> <td>0.75            </td>\n",
       "        </tr>\n",
       "        <tr>\n",
       "            <td>Phillips, Tom     </td> <td>0.714286  </td> <td>0.380952    </td> <td>3             </td> <td>0.571429        </td>\n",
       "        </tr>\n",
       "        <tr>\n",
       "            <td>Sidebottom, Steele</td> <td>0.521739  </td> <td>0.565217    </td> <td>4.17391       </td> <td>0.73913         </td>\n",
       "        </tr>\n",
       "        <tr>\n",
       "            <td>Sier, Brayden     </td> <td>0.25      </td> <td>0           </td> <td>4.75          </td> <td>0.375           </td>\n",
       "        </tr>\n",
       "        <tr>\n",
       "            <td>Treloar, Adam     </td> <td>0.75      </td> <td>0.9375      </td> <td>4.75          </td> <td>0.75            </td>\n",
       "        </tr>\n",
       "    </tbody>\n",
       "</table>"
      ],
      "text/plain": [
       "Player             | Goals mean | Behinds mean | Inside50s mean | GoalAssists mean\n",
       "Adams, Taylor      | 0.45       | 0.45         | 4.25           | 0.8\n",
       "Mayne, Chris       | 0.307692   | 0.769231     | 1.15385        | 0.307692\n",
       "Pendlebury, Scott  | 0.4        | 0.2          | 4.1            | 0.75\n",
       "Phillips, Tom      | 0.714286   | 0.380952     | 3              | 0.571429\n",
       "Sidebottom, Steele | 0.521739   | 0.565217     | 4.17391        | 0.73913\n",
       "Sier, Brayden      | 0.25       | 0            | 4.75           | 0.375\n",
       "Treloar, Adam      | 0.75       | 0.9375       | 4.75           | 0.75"
      ]
     },
     "execution_count": 101,
     "metadata": {},
     "output_type": "execute_result"
    }
   ],
   "source": [
    "position_contribution(2018, \"Collingwood\", \"Midfield\")"
   ]
  },
  {
   "cell_type": "code",
   "execution_count": 102,
   "metadata": {},
   "outputs": [
    {
     "data": {
      "text/html": [
       "<table border=\"1\" class=\"dataframe\">\n",
       "    <thead>\n",
       "        <tr>\n",
       "            <th>Player</th> <th>Goals mean</th> <th>Behinds mean</th> <th>Inside50s mean</th> <th>GoalAssists mean</th>\n",
       "        </tr>\n",
       "    </thead>\n",
       "    <tbody>\n",
       "        <tr>\n",
       "            <td>Broomhead, Tim</td> <td>0         </td> <td>0           </td> <td>0             </td> <td>0               </td>\n",
       "        </tr>\n",
       "    </tbody>\n",
       "</table>"
      ],
      "text/plain": [
       "Player         | Goals mean | Behinds mean | Inside50s mean | GoalAssists mean\n",
       "Broomhead, Tim | 0          | 0            | 0              | 0"
      ]
     },
     "execution_count": 102,
     "metadata": {},
     "output_type": "execute_result"
    }
   ],
   "source": [
    "position_contribution(2018, \"Collingwood\", \"Midfield, Forward\")"
   ]
  },
  {
   "cell_type": "code",
   "execution_count": 103,
   "metadata": {},
   "outputs": [
    {
     "data": {
      "text/html": [
       "<table border=\"1\" class=\"dataframe\">\n",
       "    <thead>\n",
       "        <tr>\n",
       "            <th>Player</th> <th>Goals mean</th> <th>Behinds mean</th> <th>Tackles mean</th> <th>Rebound50s mean</th>\n",
       "        </tr>\n",
       "    </thead>\n",
       "    <tbody>\n",
       "        <tr>\n",
       "            <td>Aish, James</td> <td>0.307692  </td> <td>0.230769    </td> <td>2.92308     </td> <td>1.61538        </td>\n",
       "        </tr>\n",
       "    </tbody>\n",
       "</table>"
      ],
      "text/plain": [
       "Player      | Goals mean | Behinds mean | Tackles mean | Rebound50s mean\n",
       "Aish, James | 0.307692   | 0.230769     | 2.92308      | 1.61538"
      ]
     },
     "execution_count": 103,
     "metadata": {},
     "output_type": "execute_result"
    }
   ],
   "source": [
    "position_contribution(2018, \"Collingwood\", \"Defender, Midfield\")"
   ]
  },
  {
   "cell_type": "code",
   "execution_count": 104,
   "metadata": {},
   "outputs": [
    {
     "data": {
      "text/html": [
       "<table border=\"1\" class=\"dataframe\">\n",
       "    <thead>\n",
       "        <tr>\n",
       "            <th>Player</th> <th>Height mean</th> <th>Disposals mean</th> <th>Hitouts mean</th>\n",
       "        </tr>\n",
       "    </thead>\n",
       "    <tbody>\n",
       "        <tr>\n",
       "            <td>McInnes, Fraser</td> <td>198        </td> <td>8.33333       </td> <td>2           </td>\n",
       "        </tr>\n",
       "        <tr>\n",
       "            <td>Naitanui, Nic  </td> <td>201        </td> <td>10.8667       </td> <td>30.6        </td>\n",
       "        </tr>\n",
       "    </tbody>\n",
       "</table>"
      ],
      "text/plain": [
       "Player          | Height mean | Disposals mean | Hitouts mean\n",
       "McInnes, Fraser | 198         | 8.33333        | 2\n",
       "Naitanui, Nic   | 201         | 10.8667        | 30.6"
      ]
     },
     "execution_count": 104,
     "metadata": {},
     "output_type": "execute_result"
    }
   ],
   "source": [
    "#West Coast\n",
    "position_contribution(2018, \"West Coast\", \"Ruck\")"
   ]
  },
  {
   "cell_type": "code",
   "execution_count": 105,
   "metadata": {},
   "outputs": [
    {
     "data": {
      "text/html": [
       "<table border=\"1\" class=\"dataframe\">\n",
       "    <thead>\n",
       "        <tr>\n",
       "            <th>Player</th> <th>Height mean</th> <th>Disposals mean</th> <th>Goals mean</th>\n",
       "        </tr>\n",
       "    </thead>\n",
       "    <tbody>\n",
       "    </tbody>\n",
       "</table>"
      ],
      "text/plain": [
       "Player | Height mean | Disposals mean | Goals mean"
      ]
     },
     "execution_count": 105,
     "metadata": {},
     "output_type": "execute_result"
    }
   ],
   "source": [
    "position_contribution(2018, \"West Coast\", \"Midfield, Ruck\")"
   ]
  },
  {
   "cell_type": "code",
   "execution_count": 106,
   "metadata": {},
   "outputs": [
    {
     "data": {
      "text/html": [
       "<table border=\"1\" class=\"dataframe\">\n",
       "    <thead>\n",
       "        <tr>\n",
       "            <th>Player</th> <th>Height mean</th> <th>Disposals mean</th> <th>Goals mean</th>\n",
       "        </tr>\n",
       "    </thead>\n",
       "    <tbody>\n",
       "        <tr>\n",
       "            <td>Lycett, Scott</td> <td>203        </td> <td>12.48         </td> <td>0.4       </td>\n",
       "        </tr>\n",
       "        <tr>\n",
       "            <td>Vardy, Nathan</td> <td>200        </td> <td>8.1           </td> <td>0.7       </td>\n",
       "        </tr>\n",
       "    </tbody>\n",
       "</table>"
      ],
      "text/plain": [
       "Player        | Height mean | Disposals mean | Goals mean\n",
       "Lycett, Scott | 203         | 12.48          | 0.4\n",
       "Vardy, Nathan | 200         | 8.1            | 0.7"
      ]
     },
     "execution_count": 106,
     "metadata": {},
     "output_type": "execute_result"
    }
   ],
   "source": [
    "position_contribution(2018, \"West Coast\", \"Forward, Ruck\")"
   ]
  },
  {
   "cell_type": "code",
   "execution_count": 107,
   "metadata": {},
   "outputs": [
    {
     "data": {
      "text/html": [
       "<table border=\"1\" class=\"dataframe\">\n",
       "    <thead>\n",
       "        <tr>\n",
       "            <th>Player</th> <th>Tackles mean</th> <th>Rebound50s mean</th> <th>OnePercenters mean</th>\n",
       "        </tr>\n",
       "    </thead>\n",
       "    <tbody>\n",
       "        <tr>\n",
       "            <td>Allen, Oscar    </td> <td>2.5         </td> <td>1              </td> <td>3                 </td>\n",
       "        </tr>\n",
       "        <tr>\n",
       "            <td>Barrass, Tom    </td> <td>0.789474    </td> <td>3.21053        </td> <td>7.26316           </td>\n",
       "        </tr>\n",
       "        <tr>\n",
       "            <td>Cole, Tom       </td> <td>2.42857     </td> <td>2.28571        </td> <td>2.61905           </td>\n",
       "        </tr>\n",
       "        <tr>\n",
       "            <td>Duggan, Liam    </td> <td>1.95652     </td> <td>3.26087        </td> <td>2.56522           </td>\n",
       "        </tr>\n",
       "        <tr>\n",
       "            <td>Hurn, Shannon   </td> <td>1.79167     </td> <td>4.875          </td> <td>2.54167           </td>\n",
       "        </tr>\n",
       "        <tr>\n",
       "            <td>Jetta, Lewis    </td> <td>1.5625      </td> <td>2.25           </td> <td>1.6875            </td>\n",
       "        </tr>\n",
       "        <tr>\n",
       "            <td>McGovern, Jeremy</td> <td>1.30435     </td> <td>3.78261        </td> <td>5.73913           </td>\n",
       "        </tr>\n",
       "        <tr>\n",
       "            <td>Nelson, Jackson </td> <td>0.8         </td> <td>1.8            </td> <td>2.3               </td>\n",
       "        </tr>\n",
       "        <tr>\n",
       "            <td>Schofield, Will </td> <td>1.33333     </td> <td>1.66667        </td> <td>6.83333           </td>\n",
       "        </tr>\n",
       "        <tr>\n",
       "            <td>Sheppard, Brad  </td> <td>2.30435     </td> <td>3.13043        </td> <td>3.3913            </td>\n",
       "        </tr>\n",
       "    </tbody>\n",
       "</table>"
      ],
      "text/plain": [
       "Player           | Tackles mean | Rebound50s mean | OnePercenters mean\n",
       "Allen, Oscar     | 2.5          | 1               | 3\n",
       "Barrass, Tom     | 0.789474     | 3.21053         | 7.26316\n",
       "Cole, Tom        | 2.42857      | 2.28571         | 2.61905\n",
       "Duggan, Liam     | 1.95652      | 3.26087         | 2.56522\n",
       "Hurn, Shannon    | 1.79167      | 4.875           | 2.54167\n",
       "Jetta, Lewis     | 1.5625       | 2.25            | 1.6875\n",
       "McGovern, Jeremy | 1.30435      | 3.78261         | 5.73913\n",
       "Nelson, Jackson  | 0.8          | 1.8             | 2.3\n",
       "Schofield, Will  | 1.33333      | 1.66667         | 6.83333\n",
       "Sheppard, Brad   | 2.30435      | 3.13043         | 3.3913"
      ]
     },
     "execution_count": 107,
     "metadata": {},
     "output_type": "execute_result"
    }
   ],
   "source": [
    "position_contribution(2018, \"West Coast\", \"Defender\")"
   ]
  },
  {
   "cell_type": "code",
   "execution_count": 108,
   "metadata": {},
   "outputs": [
    {
     "data": {
      "text/html": [
       "<table border=\"1\" class=\"dataframe\">\n",
       "    <thead>\n",
       "        <tr>\n",
       "            <th>Player</th> <th>Goals mean</th> <th>Behinds mean</th> <th>Tackles mean</th>\n",
       "        </tr>\n",
       "    </thead>\n",
       "    <tbody>\n",
       "        <tr>\n",
       "            <td>Ah Chee, Brendon </td> <td>0.25      </td> <td>0.625       </td> <td>3.125       </td>\n",
       "        </tr>\n",
       "        <tr>\n",
       "            <td>Brander, Jarrod  </td> <td>0         </td> <td>1           </td> <td>1           </td>\n",
       "        </tr>\n",
       "        <tr>\n",
       "            <td>Cripps, Jamie    </td> <td>1.52      </td> <td>0.72        </td> <td>3.88        </td>\n",
       "        </tr>\n",
       "        <tr>\n",
       "            <td>Darling, Jack    </td> <td>2.28571   </td> <td>1.28571     </td> <td>2.38095     </td>\n",
       "        </tr>\n",
       "        <tr>\n",
       "            <td>Kennedy, Josh J  </td> <td>3.07143   </td> <td>1.42857     </td> <td>2           </td>\n",
       "        </tr>\n",
       "        <tr>\n",
       "            <td>LeCras, Mark     </td> <td>1.3913    </td> <td>0.913043    </td> <td>3.04348     </td>\n",
       "        </tr>\n",
       "        <tr>\n",
       "            <td>Petruccelle, Jack</td> <td>0.666667  </td> <td>0           </td> <td>1           </td>\n",
       "        </tr>\n",
       "        <tr>\n",
       "            <td>Rioli, Willie    </td> <td>1.16667   </td> <td>0.583333    </td> <td>2.625       </td>\n",
       "        </tr>\n",
       "        <tr>\n",
       "            <td>Ryan, Liam       </td> <td>1.53846   </td> <td>1.15385     </td> <td>1.92308     </td>\n",
       "        </tr>\n",
       "        <tr>\n",
       "            <td>Venables, Daniel </td> <td>0.6       </td> <td>0.6         </td> <td>2.53333     </td>\n",
       "        </tr>\n",
       "    </tbody>\n",
       "</table>\n",
       "<p>... (1 rows omitted)</p>"
      ],
      "text/plain": [
       "Player            | Goals mean | Behinds mean | Tackles mean\n",
       "Ah Chee, Brendon  | 0.25       | 0.625        | 3.125\n",
       "Brander, Jarrod   | 0          | 1            | 1\n",
       "Cripps, Jamie     | 1.52       | 0.72         | 3.88\n",
       "Darling, Jack     | 2.28571    | 1.28571      | 2.38095\n",
       "Kennedy, Josh J   | 3.07143    | 1.42857      | 2\n",
       "LeCras, Mark      | 1.3913     | 0.913043     | 3.04348\n",
       "Petruccelle, Jack | 0.666667   | 0            | 1\n",
       "Rioli, Willie     | 1.16667    | 0.583333     | 2.625\n",
       "Ryan, Liam        | 1.53846    | 1.15385      | 1.92308\n",
       "Venables, Daniel  | 0.6        | 0.6          | 2.53333\n",
       "... (1 rows omitted)"
      ]
     },
     "execution_count": 108,
     "metadata": {},
     "output_type": "execute_result"
    }
   ],
   "source": [
    "position_contribution(2018, \"West Coast\", \"Forward\")"
   ]
  },
  {
   "cell_type": "code",
   "execution_count": 109,
   "metadata": {},
   "outputs": [
    {
     "data": {
      "text/html": [
       "<table border=\"1\" class=\"dataframe\">\n",
       "    <thead>\n",
       "        <tr>\n",
       "            <th>Player</th> <th>Goals mean</th> <th>Behinds mean</th> <th>GoalAssists mean</th>\n",
       "        </tr>\n",
       "    </thead>\n",
       "    <tbody>\n",
       "    </tbody>\n",
       "</table>"
      ],
      "text/plain": [
       "Player | Goals mean | Behinds mean | GoalAssists mean"
      ]
     },
     "execution_count": 109,
     "metadata": {},
     "output_type": "execute_result"
    }
   ],
   "source": [
    "position_contribution(2018, \"West Coast\", \"Defender, Forward\")"
   ]
  },
  {
   "cell_type": "code",
   "execution_count": 110,
   "metadata": {},
   "outputs": [
    {
     "data": {
      "text/html": [
       "<table border=\"1\" class=\"dataframe\">\n",
       "    <thead>\n",
       "        <tr>\n",
       "            <th>Player</th> <th>Goals mean</th> <th>Behinds mean</th> <th>Inside50s mean</th> <th>GoalAssists mean</th>\n",
       "        </tr>\n",
       "    </thead>\n",
       "    <tbody>\n",
       "        <tr>\n",
       "            <td>Ainsworth, Brayden</td> <td>0.5       </td> <td>0           </td> <td>3             </td> <td>0.5             </td>\n",
       "        </tr>\n",
       "        <tr>\n",
       "            <td>Gaff, Andrew      </td> <td>0.6875    </td> <td>0.25        </td> <td>4.0625        </td> <td>0.625           </td>\n",
       "        </tr>\n",
       "        <tr>\n",
       "            <td>Hutchings, Mark   </td> <td>0.5625    </td> <td>0.3125      </td> <td>2.75          </td> <td>0.375           </td>\n",
       "        </tr>\n",
       "        <tr>\n",
       "            <td>Masten, Chris     </td> <td>0.315789  </td> <td>0.263158    </td> <td>2.68421       </td> <td>0.473684        </td>\n",
       "        </tr>\n",
       "        <tr>\n",
       "            <td>Redden, Jack      </td> <td>0.625     </td> <td>0.25        </td> <td>3             </td> <td>0.625           </td>\n",
       "        </tr>\n",
       "        <tr>\n",
       "            <td>Sheed, Dom        </td> <td>0.5       </td> <td>0.375       </td> <td>3.9375        </td> <td>0.375           </td>\n",
       "        </tr>\n",
       "        <tr>\n",
       "            <td>Shuey, Luke       </td> <td>0.294118  </td> <td>0.411765    </td> <td>5             </td> <td>0.529412        </td>\n",
       "        </tr>\n",
       "        <tr>\n",
       "            <td>Yeo, Elliot       </td> <td>0.619048  </td> <td>0.666667    </td> <td>5.52381       </td> <td>0.714286        </td>\n",
       "        </tr>\n",
       "    </tbody>\n",
       "</table>"
      ],
      "text/plain": [
       "Player             | Goals mean | Behinds mean | Inside50s mean | GoalAssists mean\n",
       "Ainsworth, Brayden | 0.5        | 0            | 3              | 0.5\n",
       "Gaff, Andrew       | 0.6875     | 0.25         | 4.0625         | 0.625\n",
       "Hutchings, Mark    | 0.5625     | 0.3125       | 2.75           | 0.375\n",
       "Masten, Chris      | 0.315789   | 0.263158     | 2.68421        | 0.473684\n",
       "Redden, Jack       | 0.625      | 0.25         | 3              | 0.625\n",
       "Sheed, Dom         | 0.5        | 0.375        | 3.9375         | 0.375\n",
       "Shuey, Luke        | 0.294118   | 0.411765     | 5              | 0.529412\n",
       "Yeo, Elliot        | 0.619048   | 0.666667     | 5.52381        | 0.714286"
      ]
     },
     "execution_count": 110,
     "metadata": {},
     "output_type": "execute_result"
    }
   ],
   "source": [
    "position_contribution(2018, \"West Coast\", \"Midfield\")"
   ]
  },
  {
   "cell_type": "code",
   "execution_count": 111,
   "metadata": {},
   "outputs": [
    {
     "data": {
      "text/html": [
       "<table border=\"1\" class=\"dataframe\">\n",
       "    <thead>\n",
       "        <tr>\n",
       "            <th>Player</th> <th>Goals mean</th> <th>Behinds mean</th> <th>Inside50s mean</th> <th>GoalAssists mean</th>\n",
       "        </tr>\n",
       "    </thead>\n",
       "    <tbody>\n",
       "    </tbody>\n",
       "</table>"
      ],
      "text/plain": [
       "Player | Goals mean | Behinds mean | Inside50s mean | GoalAssists mean"
      ]
     },
     "execution_count": 111,
     "metadata": {},
     "output_type": "execute_result"
    }
   ],
   "source": [
    "position_contribution(2018, \"West Coast\", \"Midfield, Forward\")"
   ]
  },
  {
   "cell_type": "code",
   "execution_count": 112,
   "metadata": {},
   "outputs": [
    {
     "data": {
      "text/html": [
       "<table border=\"1\" class=\"dataframe\">\n",
       "    <thead>\n",
       "        <tr>\n",
       "            <th>Player</th> <th>Goals mean</th> <th>Behinds mean</th> <th>Tackles mean</th> <th>Rebound50s mean</th>\n",
       "        </tr>\n",
       "    </thead>\n",
       "    <tbody>\n",
       "    </tbody>\n",
       "</table>"
      ],
      "text/plain": [
       "Player | Goals mean | Behinds mean | Tackles mean | Rebound50s mean"
      ]
     },
     "execution_count": 112,
     "metadata": {},
     "output_type": "execute_result"
    }
   ],
   "source": [
    "position_contribution(2018, \"West Coast\", \"Defender, Midfield\")"
   ]
  },
  {
   "cell_type": "code",
   "execution_count": 113,
   "metadata": {},
   "outputs": [
    {
     "data": {
      "text/html": [
       "<table border=\"1\" class=\"dataframe\">\n",
       "    <thead>\n",
       "        <tr>\n",
       "            <th>Player</th> <th>Height mean</th> <th>Disposals mean</th> <th>Hitouts mean</th>\n",
       "        </tr>\n",
       "    </thead>\n",
       "    <tbody>\n",
       "        <tr>\n",
       "            <td>Abbott, Ryan </td> <td>200        </td> <td>12.6667       </td> <td>27.3333     </td>\n",
       "        </tr>\n",
       "        <tr>\n",
       "            <td>Smith, Zac   </td> <td>206        </td> <td>9.66667       </td> <td>23          </td>\n",
       "        </tr>\n",
       "        <tr>\n",
       "            <td>Stanley, Rhys</td> <td>200        </td> <td>13.4667       </td> <td>28.1333     </td>\n",
       "        </tr>\n",
       "    </tbody>\n",
       "</table>"
      ],
      "text/plain": [
       "Player        | Height mean | Disposals mean | Hitouts mean\n",
       "Abbott, Ryan  | 200         | 12.6667        | 27.3333\n",
       "Smith, Zac    | 206         | 9.66667        | 23\n",
       "Stanley, Rhys | 200         | 13.4667        | 28.1333"
      ]
     },
     "execution_count": 113,
     "metadata": {},
     "output_type": "execute_result"
    }
   ],
   "source": [
    "#Geelong\n",
    "position_contribution(2018, \"Geelong\", \"Ruck\")"
   ]
  },
  {
   "cell_type": "code",
   "execution_count": 114,
   "metadata": {},
   "outputs": [
    {
     "data": {
      "text/html": [
       "<table border=\"1\" class=\"dataframe\">\n",
       "    <thead>\n",
       "        <tr>\n",
       "            <th>Player</th> <th>Height mean</th> <th>Disposals mean</th> <th>Goals mean</th>\n",
       "        </tr>\n",
       "    </thead>\n",
       "    <tbody>\n",
       "    </tbody>\n",
       "</table>"
      ],
      "text/plain": [
       "Player | Height mean | Disposals mean | Goals mean"
      ]
     },
     "execution_count": 114,
     "metadata": {},
     "output_type": "execute_result"
    }
   ],
   "source": [
    "position_contribution(2018, \"Geelong\", \"Forward, Ruck\")"
   ]
  },
  {
   "cell_type": "code",
   "execution_count": 115,
   "metadata": {},
   "outputs": [
    {
     "data": {
      "text/html": [
       "<table border=\"1\" class=\"dataframe\">\n",
       "    <thead>\n",
       "        <tr>\n",
       "            <th>Player</th> <th>Height mean</th> <th>Disposals mean</th> <th>Goals mean</th>\n",
       "        </tr>\n",
       "    </thead>\n",
       "    <tbody>\n",
       "    </tbody>\n",
       "</table>"
      ],
      "text/plain": [
       "Player | Height mean | Disposals mean | Goals mean"
      ]
     },
     "execution_count": 115,
     "metadata": {},
     "output_type": "execute_result"
    }
   ],
   "source": [
    "position_contribution(2018, \"Geelong\", \"Midfield, Ruck\")"
   ]
  },
  {
   "cell_type": "code",
   "execution_count": 116,
   "metadata": {},
   "outputs": [
    {
     "data": {
      "text/html": [
       "<table border=\"1\" class=\"dataframe\">\n",
       "    <thead>\n",
       "        <tr>\n",
       "            <th>Player</th> <th>Tackles mean</th> <th>Rebound50s mean</th> <th>OnePercenters mean</th>\n",
       "        </tr>\n",
       "    </thead>\n",
       "    <tbody>\n",
       "        <tr>\n",
       "            <td>Bews, Jed         </td> <td>2           </td> <td>1.35294        </td> <td>2.17647           </td>\n",
       "        </tr>\n",
       "        <tr>\n",
       "            <td>Blicavs, Mark     </td> <td>3.18182     </td> <td>2.59091        </td> <td>7.45455           </td>\n",
       "        </tr>\n",
       "        <tr>\n",
       "            <td>Guthrie, Cameron  </td> <td>2.91667     </td> <td>1.66667        </td> <td>2                 </td>\n",
       "        </tr>\n",
       "        <tr>\n",
       "            <td>Guthrie, Zach     </td> <td>1.57143     </td> <td>1.71429        </td> <td>1.42857           </td>\n",
       "        </tr>\n",
       "        <tr>\n",
       "            <td>Henderson, Lachie </td> <td>2.66667     </td> <td>4.83333        </td> <td>7.5               </td>\n",
       "        </tr>\n",
       "        <tr>\n",
       "            <td>Henry, Jack       </td> <td>2.8         </td> <td>2.05           </td> <td>3.6               </td>\n",
       "        </tr>\n",
       "        <tr>\n",
       "            <td>Kolodjashnij, Jake</td> <td>1.71429     </td> <td>2.19048        </td> <td>4.66667           </td>\n",
       "        </tr>\n",
       "        <tr>\n",
       "            <td>OConnor, Mark     </td> <td>1.5         </td> <td>2.25           </td> <td>1                 </td>\n",
       "        </tr>\n",
       "        <tr>\n",
       "            <td>Stewart, Tom      </td> <td>2.09524     </td> <td>5.57143        </td> <td>4.2381            </td>\n",
       "        </tr>\n",
       "        <tr>\n",
       "            <td>Taylor, Harry     </td> <td>0.857143    </td> <td>1.42857        </td> <td>4.57143           </td>\n",
       "        </tr>\n",
       "    </tbody>\n",
       "</table>\n",
       "<p>... (1 rows omitted)</p>"
      ],
      "text/plain": [
       "Player             | Tackles mean | Rebound50s mean | OnePercenters mean\n",
       "Bews, Jed          | 2            | 1.35294         | 2.17647\n",
       "Blicavs, Mark      | 3.18182      | 2.59091         | 7.45455\n",
       "Guthrie, Cameron   | 2.91667      | 1.66667         | 2\n",
       "Guthrie, Zach      | 1.57143      | 1.71429         | 1.42857\n",
       "Henderson, Lachie  | 2.66667      | 4.83333         | 7.5\n",
       "Henry, Jack        | 2.8          | 2.05            | 3.6\n",
       "Kolodjashnij, Jake | 1.71429      | 2.19048         | 4.66667\n",
       "OConnor, Mark      | 1.5          | 2.25            | 1\n",
       "Stewart, Tom       | 2.09524      | 5.57143         | 4.2381\n",
       "Taylor, Harry      | 0.857143     | 1.42857         | 4.57143\n",
       "... (1 rows omitted)"
      ]
     },
     "execution_count": 116,
     "metadata": {},
     "output_type": "execute_result"
    }
   ],
   "source": [
    "position_contribution(2018, \"Geelong\", \"Defender\")"
   ]
  },
  {
   "cell_type": "code",
   "execution_count": 117,
   "metadata": {},
   "outputs": [
    {
     "data": {
      "text/html": [
       "<table border=\"1\" class=\"dataframe\">\n",
       "    <thead>\n",
       "        <tr>\n",
       "            <th>Player</th> <th>Goals mean</th> <th>Behinds mean</th> <th>Tackles mean</th>\n",
       "        </tr>\n",
       "    </thead>\n",
       "    <tbody>\n",
       "        <tr>\n",
       "            <td>Black, Aaron     </td> <td>0         </td> <td>0           </td> <td>3           </td>\n",
       "        </tr>\n",
       "        <tr>\n",
       "            <td>Buzza, Wylie     </td> <td>0.333333  </td> <td>0.666667    </td> <td>2.33333     </td>\n",
       "        </tr>\n",
       "        <tr>\n",
       "            <td>Cockatoo, Nakia  </td> <td>0         </td> <td>1           </td> <td>2           </td>\n",
       "        </tr>\n",
       "        <tr>\n",
       "            <td>Crameri, Stewart </td> <td>1.25      </td> <td>0.75        </td> <td>2.25        </td>\n",
       "        </tr>\n",
       "        <tr>\n",
       "            <td>Fogarty, Lachie  </td> <td>0.357143  </td> <td>0.857143    </td> <td>3.5         </td>\n",
       "        </tr>\n",
       "        <tr>\n",
       "            <td>Gregson, Cory    </td> <td>0.3       </td> <td>0.4         </td> <td>3.4         </td>\n",
       "        </tr>\n",
       "        <tr>\n",
       "            <td>Hawkins, Tom     </td> <td>2.9       </td> <td>1.45        </td> <td>1.9         </td>\n",
       "        </tr>\n",
       "        <tr>\n",
       "            <td>Jones, Jamaine   </td> <td>0.571429  </td> <td>0.285714    </td> <td>3.71429     </td>\n",
       "        </tr>\n",
       "        <tr>\n",
       "            <td>McCarthy, Lincoln</td> <td>1         </td> <td>1.5         </td> <td>2           </td>\n",
       "        </tr>\n",
       "        <tr>\n",
       "            <td>Menzel, Daniel   </td> <td>2.25      </td> <td>1.16667     </td> <td>1           </td>\n",
       "        </tr>\n",
       "    </tbody>\n",
       "</table>\n",
       "<p>... (4 rows omitted)</p>"
      ],
      "text/plain": [
       "Player            | Goals mean | Behinds mean | Tackles mean\n",
       "Black, Aaron      | 0          | 0            | 3\n",
       "Buzza, Wylie      | 0.333333   | 0.666667     | 2.33333\n",
       "Cockatoo, Nakia   | 0          | 1            | 2\n",
       "Crameri, Stewart  | 1.25       | 0.75         | 2.25\n",
       "Fogarty, Lachie   | 0.357143   | 0.857143     | 3.5\n",
       "Gregson, Cory     | 0.3        | 0.4          | 3.4\n",
       "Hawkins, Tom      | 2.9        | 1.45         | 1.9\n",
       "Jones, Jamaine    | 0.571429   | 0.285714     | 3.71429\n",
       "McCarthy, Lincoln | 1          | 1.5          | 2\n",
       "Menzel, Daniel    | 2.25       | 1.16667      | 1\n",
       "... (4 rows omitted)"
      ]
     },
     "execution_count": 117,
     "metadata": {},
     "output_type": "execute_result"
    }
   ],
   "source": [
    "position_contribution(2018, \"Geelong\", \"Forward\")"
   ]
  },
  {
   "cell_type": "code",
   "execution_count": 118,
   "metadata": {},
   "outputs": [
    {
     "data": {
      "text/html": [
       "<table border=\"1\" class=\"dataframe\">\n",
       "    <thead>\n",
       "        <tr>\n",
       "            <th>Player</th> <th>Goals mean</th> <th>Behinds mean</th> <th>GoalAssists mean</th>\n",
       "        </tr>\n",
       "    </thead>\n",
       "    <tbody>\n",
       "    </tbody>\n",
       "</table>"
      ],
      "text/plain": [
       "Player | Goals mean | Behinds mean | GoalAssists mean"
      ]
     },
     "execution_count": 118,
     "metadata": {},
     "output_type": "execute_result"
    }
   ],
   "source": [
    "position_contribution(2018, \"Geelong\", \"Defender, Forward\")"
   ]
  },
  {
   "cell_type": "code",
   "execution_count": 119,
   "metadata": {},
   "outputs": [
    {
     "data": {
      "text/html": [
       "<table border=\"1\" class=\"dataframe\">\n",
       "    <thead>\n",
       "        <tr>\n",
       "            <th>Player</th> <th>Goals mean</th> <th>Behinds mean</th> <th>Inside50s mean</th> <th>GoalAssists mean</th>\n",
       "        </tr>\n",
       "    </thead>\n",
       "    <tbody>\n",
       "        <tr>\n",
       "            <td>Ablett, Gary        </td> <td>0.888889  </td> <td>0.777778    </td> <td>5             </td> <td>0.444444        </td>\n",
       "        </tr>\n",
       "        <tr>\n",
       "            <td>Cunico, Jordan      </td> <td>0.285714  </td> <td>0.428571    </td> <td>3.92857       </td> <td>0.642857        </td>\n",
       "        </tr>\n",
       "        <tr>\n",
       "            <td>Duncan, Mitch       </td> <td>0.333333  </td> <td>0.388889    </td> <td>3.77778       </td> <td>0.722222        </td>\n",
       "        </tr>\n",
       "        <tr>\n",
       "            <td>Horlin-Smith, George</td> <td>0.75      </td> <td>0           </td> <td>2             </td> <td>0.25            </td>\n",
       "        </tr>\n",
       "        <tr>\n",
       "            <td>Murdoch, Jordan     </td> <td>0.538462  </td> <td>0.538462    </td> <td>3.15385       </td> <td>0.538462        </td>\n",
       "        </tr>\n",
       "        <tr>\n",
       "            <td>Selwood, Joel       </td> <td>0.315789  </td> <td>0.631579    </td> <td>3.78947       </td> <td>0.421053        </td>\n",
       "        </tr>\n",
       "        <tr>\n",
       "            <td>Selwood, Scott      </td> <td>0.375     </td> <td>0.125       </td> <td>2.125         </td> <td>0.875           </td>\n",
       "        </tr>\n",
       "        <tr>\n",
       "            <td>Simpson, Sam        </td> <td>0         </td> <td>0           </td> <td>1             </td> <td>1               </td>\n",
       "        </tr>\n",
       "        <tr>\n",
       "            <td>Thurlow, Jackson    </td> <td>0.428571  </td> <td>0           </td> <td>3.28571       </td> <td>0.428571        </td>\n",
       "        </tr>\n",
       "    </tbody>\n",
       "</table>"
      ],
      "text/plain": [
       "Player               | Goals mean | Behinds mean | Inside50s mean | GoalAssists mean\n",
       "Ablett, Gary         | 0.888889   | 0.777778     | 5              | 0.444444\n",
       "Cunico, Jordan       | 0.285714   | 0.428571     | 3.92857        | 0.642857\n",
       "Duncan, Mitch        | 0.333333   | 0.388889     | 3.77778        | 0.722222\n",
       "Horlin-Smith, George | 0.75       | 0            | 2              | 0.25\n",
       "Murdoch, Jordan      | 0.538462   | 0.538462     | 3.15385        | 0.538462\n",
       "Selwood, Joel        | 0.315789   | 0.631579     | 3.78947        | 0.421053\n",
       "Selwood, Scott       | 0.375      | 0.125        | 2.125          | 0.875\n",
       "Simpson, Sam         | 0          | 0            | 1              | 1\n",
       "Thurlow, Jackson     | 0.428571   | 0            | 3.28571        | 0.428571"
      ]
     },
     "execution_count": 119,
     "metadata": {},
     "output_type": "execute_result"
    }
   ],
   "source": [
    "position_contribution(2018, \"Geelong\", \"Midfield\")"
   ]
  },
  {
   "cell_type": "code",
   "execution_count": 120,
   "metadata": {},
   "outputs": [
    {
     "data": {
      "text/html": [
       "<table border=\"1\" class=\"dataframe\">\n",
       "    <thead>\n",
       "        <tr>\n",
       "            <th>Player</th> <th>Goals mean</th> <th>Behinds mean</th> <th>Inside50s mean</th> <th>GoalAssists mean</th>\n",
       "        </tr>\n",
       "    </thead>\n",
       "    <tbody>\n",
       "        <tr>\n",
       "            <td>Dangerfield, Patrick</td> <td>1.14286   </td> <td>1.04762     </td> <td>5.09524       </td> <td>1.04762         </td>\n",
       "        </tr>\n",
       "        <tr>\n",
       "            <td>Kelly, Tim          </td> <td>1.09524   </td> <td>0.666667    </td> <td>3.85714       </td> <td>0.571429        </td>\n",
       "        </tr>\n",
       "        <tr>\n",
       "            <td>Menegola, Sam       </td> <td>1         </td> <td>0.52381     </td> <td>4.42857       </td> <td>0.52381         </td>\n",
       "        </tr>\n",
       "    </tbody>\n",
       "</table>"
      ],
      "text/plain": [
       "Player               | Goals mean | Behinds mean | Inside50s mean | GoalAssists mean\n",
       "Dangerfield, Patrick | 1.14286    | 1.04762      | 5.09524        | 1.04762\n",
       "Kelly, Tim           | 1.09524    | 0.666667     | 3.85714        | 0.571429\n",
       "Menegola, Sam        | 1          | 0.52381      | 4.42857        | 0.52381"
      ]
     },
     "execution_count": 120,
     "metadata": {},
     "output_type": "execute_result"
    }
   ],
   "source": [
    "position_contribution(2018, \"Geelong\", \"Midfield, Forward\")"
   ]
  },
  {
   "cell_type": "code",
   "execution_count": 121,
   "metadata": {},
   "outputs": [
    {
     "data": {
      "text/html": [
       "<table border=\"1\" class=\"dataframe\">\n",
       "    <thead>\n",
       "        <tr>\n",
       "            <th>Player</th> <th>Goals mean</th> <th>Behinds mean</th> <th>Tackles mean</th> <th>Rebound50s mean</th>\n",
       "        </tr>\n",
       "    </thead>\n",
       "    <tbody>\n",
       "    </tbody>\n",
       "</table>"
      ],
      "text/plain": [
       "Player | Goals mean | Behinds mean | Tackles mean | Rebound50s mean"
      ]
     },
     "execution_count": 121,
     "metadata": {},
     "output_type": "execute_result"
    }
   ],
   "source": [
    "position_contribution(2018, \"Geelong\", \"Defender, Midfield\")"
   ]
  },
  {
   "cell_type": "code",
   "execution_count": 122,
   "metadata": {},
   "outputs": [
    {
     "data": {
      "text/html": [
       "<table border=\"1\" class=\"dataframe\">\n",
       "    <thead>\n",
       "        <tr>\n",
       "            <th>Player</th> <th>Height mean</th> <th>Disposals mean</th> <th>Hitouts mean</th>\n",
       "        </tr>\n",
       "    </thead>\n",
       "    <tbody>\n",
       "        <tr>\n",
       "            <td>Darcy, Sean      </td> <td>201        </td> <td>9.28571       </td> <td>33.2857     </td>\n",
       "        </tr>\n",
       "        <tr>\n",
       "            <td>Sandilands, Aaron</td> <td>211        </td> <td>11.1          </td> <td>40.5        </td>\n",
       "        </tr>\n",
       "    </tbody>\n",
       "</table>"
      ],
      "text/plain": [
       "Player            | Height mean | Disposals mean | Hitouts mean\n",
       "Darcy, Sean       | 201         | 9.28571        | 33.2857\n",
       "Sandilands, Aaron | 211         | 11.1           | 40.5"
      ]
     },
     "execution_count": 122,
     "metadata": {},
     "output_type": "execute_result"
    }
   ],
   "source": [
    "#Fremantle\n",
    "position_contribution(2018, \"Fremantle\", \"Ruck\")"
   ]
  },
  {
   "cell_type": "code",
   "execution_count": 123,
   "metadata": {},
   "outputs": [
    {
     "data": {
      "text/html": [
       "<table border=\"1\" class=\"dataframe\">\n",
       "    <thead>\n",
       "        <tr>\n",
       "            <th>Player</th> <th>Height mean</th> <th>Disposals mean</th> <th>Goals mean</th>\n",
       "        </tr>\n",
       "    </thead>\n",
       "    <tbody>\n",
       "        <tr>\n",
       "            <td>Apeness, Michael</td> <td>200        </td> <td>11            </td> <td>0.6       </td>\n",
       "        </tr>\n",
       "        <tr>\n",
       "            <td>Jones, Scott    </td> <td>203        </td> <td>7.2           </td> <td>0.4       </td>\n",
       "        </tr>\n",
       "    </tbody>\n",
       "</table>"
      ],
      "text/plain": [
       "Player           | Height mean | Disposals mean | Goals mean\n",
       "Apeness, Michael | 200         | 11             | 0.6\n",
       "Jones, Scott     | 203         | 7.2            | 0.4"
      ]
     },
     "execution_count": 123,
     "metadata": {},
     "output_type": "execute_result"
    }
   ],
   "source": [
    "position_contribution(2018, \"Fremantle\", \"Forward, Ruck\")"
   ]
  },
  {
   "cell_type": "code",
   "execution_count": 124,
   "metadata": {},
   "outputs": [
    {
     "data": {
      "text/html": [
       "<table border=\"1\" class=\"dataframe\">\n",
       "    <thead>\n",
       "        <tr>\n",
       "            <th>Player</th> <th>Height mean</th> <th>Disposals mean</th> <th>Goals mean</th>\n",
       "        </tr>\n",
       "    </thead>\n",
       "    <tbody>\n",
       "    </tbody>\n",
       "</table>"
      ],
      "text/plain": [
       "Player | Height mean | Disposals mean | Goals mean"
      ]
     },
     "execution_count": 124,
     "metadata": {},
     "output_type": "execute_result"
    }
   ],
   "source": [
    "position_contribution(2018, \"Fremantle\", \"Midfield, Ruck\")"
   ]
  },
  {
   "cell_type": "code",
   "execution_count": 125,
   "metadata": {},
   "outputs": [
    {
     "data": {
      "text/html": [
       "<table border=\"1\" class=\"dataframe\">\n",
       "    <thead>\n",
       "        <tr>\n",
       "            <th>Player</th> <th>Tackles mean</th> <th>Rebound50s mean</th> <th>OnePercenters mean</th>\n",
       "        </tr>\n",
       "    </thead>\n",
       "    <tbody>\n",
       "        <tr>\n",
       "            <td>Blakely, Connor </td> <td>2.53846     </td> <td>3.23077        </td> <td>2.46154           </td>\n",
       "        </tr>\n",
       "        <tr>\n",
       "            <td>Duman, Taylin   </td> <td>2.6         </td> <td>3.6            </td> <td>2.6               </td>\n",
       "        </tr>\n",
       "        <tr>\n",
       "            <td>Hamling, Joel   </td> <td>1.16667     </td> <td>3.44444        </td> <td>7.83333           </td>\n",
       "        </tr>\n",
       "        <tr>\n",
       "            <td>Hill, Stephen   </td> <td>3.25        </td> <td>2.75           </td> <td>2.08333           </td>\n",
       "        </tr>\n",
       "        <tr>\n",
       "            <td>Hughes, Ethan   </td> <td>1           </td> <td>3              </td> <td>2.6               </td>\n",
       "        </tr>\n",
       "        <tr>\n",
       "            <td>Johnson, Michael</td> <td>1.53846     </td> <td>2.46154        </td> <td>2.92308           </td>\n",
       "        </tr>\n",
       "        <tr>\n",
       "            <td>Kersten, Shane  </td> <td>1.125       </td> <td>2.875          </td> <td>4.375             </td>\n",
       "        </tr>\n",
       "        <tr>\n",
       "            <td>Nyhuis, Ryan    </td> <td>1.5         </td> <td>1.625          </td> <td>2.375             </td>\n",
       "        </tr>\n",
       "        <tr>\n",
       "            <td>Pearce, Alex    </td> <td>1.84211     </td> <td>1.47368        </td> <td>4.73684           </td>\n",
       "        </tr>\n",
       "        <tr>\n",
       "            <td>Ryan, Luke      </td> <td>2.15        </td> <td>4.3            </td> <td>3.65              </td>\n",
       "        </tr>\n",
       "    </tbody>\n",
       "</table>\n",
       "<p>... (2 rows omitted)</p>"
      ],
      "text/plain": [
       "Player           | Tackles mean | Rebound50s mean | OnePercenters mean\n",
       "Blakely, Connor  | 2.53846      | 3.23077         | 2.46154\n",
       "Duman, Taylin    | 2.6          | 3.6             | 2.6\n",
       "Hamling, Joel    | 1.16667      | 3.44444         | 7.83333\n",
       "Hill, Stephen    | 3.25         | 2.75            | 2.08333\n",
       "Hughes, Ethan    | 1            | 3               | 2.6\n",
       "Johnson, Michael | 1.53846      | 2.46154         | 2.92308\n",
       "Kersten, Shane   | 1.125        | 2.875           | 4.375\n",
       "Nyhuis, Ryan     | 1.5          | 1.625           | 2.375\n",
       "Pearce, Alex     | 1.84211      | 1.47368         | 4.73684\n",
       "Ryan, Luke       | 2.15         | 4.3             | 3.65\n",
       "... (2 rows omitted)"
      ]
     },
     "execution_count": 125,
     "metadata": {},
     "output_type": "execute_result"
    }
   ],
   "source": [
    "position_contribution(2018, \"Fremantle\", \"Defender\")"
   ]
  },
  {
   "cell_type": "code",
   "execution_count": 126,
   "metadata": {},
   "outputs": [
    {
     "data": {
      "text/html": [
       "<table border=\"1\" class=\"dataframe\">\n",
       "    <thead>\n",
       "        <tr>\n",
       "            <th>Player</th> <th>Goals mean</th> <th>Behinds mean</th> <th>Tackles mean</th>\n",
       "        </tr>\n",
       "    </thead>\n",
       "    <tbody>\n",
       "        <tr>\n",
       "            <td>Ballantyne, Hayden</td> <td>1.23529   </td> <td>0.823529    </td> <td>2.17647     </td>\n",
       "        </tr>\n",
       "        <tr>\n",
       "            <td>Cerra, Adam       </td> <td>0.35      </td> <td>0.25        </td> <td>3.5         </td>\n",
       "        </tr>\n",
       "        <tr>\n",
       "            <td>Cox, Brennan      </td> <td>1.125     </td> <td>0.875       </td> <td>2.4375      </td>\n",
       "        </tr>\n",
       "        <tr>\n",
       "            <td>Crowden, Mitch    </td> <td>0.111111  </td> <td>0.222222    </td> <td>3.22222     </td>\n",
       "        </tr>\n",
       "        <tr>\n",
       "            <td>Giro, Stefan      </td> <td>0.3       </td> <td>0.4         </td> <td>3.5         </td>\n",
       "        </tr>\n",
       "        <tr>\n",
       "            <td>Grey, Brady       </td> <td>0.25      </td> <td>0.75        </td> <td>3.25        </td>\n",
       "        </tr>\n",
       "        <tr>\n",
       "            <td>Matera, Brandon   </td> <td>0.722222  </td> <td>0.5         </td> <td>2.33333     </td>\n",
       "        </tr>\n",
       "        <tr>\n",
       "            <td>McCarthy, Cam     </td> <td>1.11765   </td> <td>1           </td> <td>1.76471     </td>\n",
       "        </tr>\n",
       "        <tr>\n",
       "            <td>Pearce, Danyle    </td> <td>0.333333  </td> <td>0           </td> <td>3.66667     </td>\n",
       "        </tr>\n",
       "        <tr>\n",
       "            <td>Switkowski, Sam   </td> <td>0.5       </td> <td>0.5         </td> <td>3           </td>\n",
       "        </tr>\n",
       "    </tbody>\n",
       "</table>\n",
       "<p>... (1 rows omitted)</p>"
      ],
      "text/plain": [
       "Player             | Goals mean | Behinds mean | Tackles mean\n",
       "Ballantyne, Hayden | 1.23529    | 0.823529     | 2.17647\n",
       "Cerra, Adam        | 0.35       | 0.25         | 3.5\n",
       "Cox, Brennan       | 1.125      | 0.875        | 2.4375\n",
       "Crowden, Mitch     | 0.111111   | 0.222222     | 3.22222\n",
       "Giro, Stefan       | 0.3        | 0.4          | 3.5\n",
       "Grey, Brady        | 0.25       | 0.75         | 3.25\n",
       "Matera, Brandon    | 0.722222   | 0.5          | 2.33333\n",
       "McCarthy, Cam      | 1.11765    | 1            | 1.76471\n",
       "Pearce, Danyle     | 0.333333   | 0            | 3.66667\n",
       "Switkowski, Sam    | 0.5        | 0.5          | 3\n",
       "... (1 rows omitted)"
      ]
     },
     "execution_count": 126,
     "metadata": {},
     "output_type": "execute_result"
    }
   ],
   "source": [
    "position_contribution(2018, \"Fremantle\", \"Forward\")"
   ]
  },
  {
   "cell_type": "code",
   "execution_count": 127,
   "metadata": {},
   "outputs": [
    {
     "data": {
      "text/html": [
       "<table border=\"1\" class=\"dataframe\">\n",
       "    <thead>\n",
       "        <tr>\n",
       "            <th>Player</th> <th>Goals mean</th> <th>Behinds mean</th> <th>GoalAssists mean</th>\n",
       "        </tr>\n",
       "    </thead>\n",
       "    <tbody>\n",
       "    </tbody>\n",
       "</table>"
      ],
      "text/plain": [
       "Player | Goals mean | Behinds mean | GoalAssists mean"
      ]
     },
     "execution_count": 127,
     "metadata": {},
     "output_type": "execute_result"
    }
   ],
   "source": [
    "position_contribution(2018, \"Fremantle\", \"Defender, Forward\")"
   ]
  },
  {
   "cell_type": "code",
   "execution_count": 128,
   "metadata": {},
   "outputs": [
    {
     "data": {
      "text/html": [
       "<table border=\"1\" class=\"dataframe\">\n",
       "    <thead>\n",
       "        <tr>\n",
       "            <th>Player</th> <th>Goals mean</th> <th>Behinds mean</th> <th>Inside50s mean</th> <th>GoalAssists mean</th>\n",
       "        </tr>\n",
       "    </thead>\n",
       "    <tbody>\n",
       "        <tr>\n",
       "            <td>Brayshaw, Andrew</td> <td>0.25      </td> <td>0.333333    </td> <td>1.83333       </td> <td>0.166667        </td>\n",
       "        </tr>\n",
       "        <tr>\n",
       "            <td>Fyfe, Nat       </td> <td>0.714286  </td> <td>0.785714    </td> <td>4.35714       </td> <td>0.714286        </td>\n",
       "        </tr>\n",
       "        <tr>\n",
       "            <td>Hill, Bradley   </td> <td>0.111111  </td> <td>0.222222    </td> <td>5             </td> <td>0.777778        </td>\n",
       "        </tr>\n",
       "        <tr>\n",
       "            <td>Langdon, Ed     </td> <td>0.555556  </td> <td>0.555556    </td> <td>3.55556       </td> <td>0.555556        </td>\n",
       "        </tr>\n",
       "        <tr>\n",
       "            <td>Neale, Lachie   </td> <td>0.5       </td> <td>0.333333    </td> <td>3.83333       </td> <td>0.611111        </td>\n",
       "        </tr>\n",
       "        <tr>\n",
       "            <td>Sheridan, Tom   </td> <td>0.636364  </td> <td>0.363636    </td> <td>1.81818       </td> <td>0.454545        </td>\n",
       "        </tr>\n",
       "        <tr>\n",
       "            <td>Tucker, Darcy   </td> <td>0.615385  </td> <td>0.384615    </td> <td>1.76923       </td> <td>0.0769231       </td>\n",
       "        </tr>\n",
       "    </tbody>\n",
       "</table>"
      ],
      "text/plain": [
       "Player           | Goals mean | Behinds mean | Inside50s mean | GoalAssists mean\n",
       "Brayshaw, Andrew | 0.25       | 0.333333     | 1.83333        | 0.166667\n",
       "Fyfe, Nat        | 0.714286   | 0.785714     | 4.35714        | 0.714286\n",
       "Hill, Bradley    | 0.111111   | 0.222222     | 5              | 0.777778\n",
       "Langdon, Ed      | 0.555556   | 0.555556     | 3.55556        | 0.555556\n",
       "Neale, Lachie    | 0.5        | 0.333333     | 3.83333        | 0.611111\n",
       "Sheridan, Tom    | 0.636364   | 0.363636     | 1.81818        | 0.454545\n",
       "Tucker, Darcy    | 0.615385   | 0.384615     | 1.76923        | 0.0769231"
      ]
     },
     "execution_count": 128,
     "metadata": {},
     "output_type": "execute_result"
    }
   ],
   "source": [
    "position_contribution(2018, \"Fremantle\", \"Midfield\")"
   ]
  },
  {
   "cell_type": "code",
   "execution_count": 129,
   "metadata": {},
   "outputs": [
    {
     "data": {
      "text/html": [
       "<table border=\"1\" class=\"dataframe\">\n",
       "    <thead>\n",
       "        <tr>\n",
       "            <th>Player</th> <th>Goals mean</th> <th>Behinds mean</th> <th>Inside50s mean</th> <th>GoalAssists mean</th>\n",
       "        </tr>\n",
       "    </thead>\n",
       "    <tbody>\n",
       "        <tr>\n",
       "            <td>Banfield, Bailey</td> <td>0.333333  </td> <td>0.333333    </td> <td>1.8           </td> <td>0.2             </td>\n",
       "        </tr>\n",
       "        <tr>\n",
       "            <td>Mundy, David    </td> <td>0.857143  </td> <td>0.619048    </td> <td>3.28571       </td> <td>0.52381         </td>\n",
       "        </tr>\n",
       "        <tr>\n",
       "            <td>Walters, Michael</td> <td>1.22222   </td> <td>0.777778    </td> <td>3.5           </td> <td>1               </td>\n",
       "        </tr>\n",
       "    </tbody>\n",
       "</table>"
      ],
      "text/plain": [
       "Player           | Goals mean | Behinds mean | Inside50s mean | GoalAssists mean\n",
       "Banfield, Bailey | 0.333333   | 0.333333     | 1.8            | 0.2\n",
       "Mundy, David     | 0.857143   | 0.619048     | 3.28571        | 0.52381\n",
       "Walters, Michael | 1.22222    | 0.777778     | 3.5            | 1"
      ]
     },
     "execution_count": 129,
     "metadata": {},
     "output_type": "execute_result"
    }
   ],
   "source": [
    "position_contribution(2018, \"Fremantle\", \"Midfield, Forward\")"
   ]
  },
  {
   "cell_type": "code",
   "execution_count": 130,
   "metadata": {},
   "outputs": [
    {
     "data": {
      "text/html": [
       "<table border=\"1\" class=\"dataframe\">\n",
       "    <thead>\n",
       "        <tr>\n",
       "            <th>Player</th> <th>Goals mean</th> <th>Behinds mean</th> <th>Tackles mean</th> <th>Rebound50s mean</th>\n",
       "        </tr>\n",
       "    </thead>\n",
       "    <tbody>\n",
       "    </tbody>\n",
       "</table>"
      ],
      "text/plain": [
       "Player | Goals mean | Behinds mean | Tackles mean | Rebound50s mean"
      ]
     },
     "execution_count": 130,
     "metadata": {},
     "output_type": "execute_result"
    }
   ],
   "source": [
    "position_contribution(2018, \"Fremantle\", \"Defender, Midfield\")"
   ]
  },
  {
   "cell_type": "code",
   "execution_count": 131,
   "metadata": {},
   "outputs": [
    {
     "data": {
      "text/html": [
       "<table border=\"1\" class=\"dataframe\">\n",
       "    <thead>\n",
       "        <tr>\n",
       "            <th>Player</th> <th>Height mean</th> <th>Disposals mean</th> <th>Hitouts mean</th>\n",
       "        </tr>\n",
       "    </thead>\n",
       "    <tbody>\n",
       "        <tr>\n",
       "            <td>Goldstein, Todd</td> <td>201        </td> <td>14.5455       </td> <td>35.5909     </td>\n",
       "        </tr>\n",
       "    </tbody>\n",
       "</table>"
      ],
      "text/plain": [
       "Player          | Height mean | Disposals mean | Hitouts mean\n",
       "Goldstein, Todd | 201         | 14.5455        | 35.5909"
      ]
     },
     "execution_count": 131,
     "metadata": {},
     "output_type": "execute_result"
    }
   ],
   "source": [
    "#North Melbourne\n",
    "position_contribution(2018, \"North Melbourne\", \"Ruck\")"
   ]
  },
  {
   "cell_type": "code",
   "execution_count": 132,
   "metadata": {},
   "outputs": [
    {
     "data": {
      "text/html": [
       "<table border=\"1\" class=\"dataframe\">\n",
       "    <thead>\n",
       "        <tr>\n",
       "            <th>Player</th> <th>Height mean</th> <th>Disposals mean</th> <th>Goals mean</th>\n",
       "        </tr>\n",
       "    </thead>\n",
       "    <tbody>\n",
       "    </tbody>\n",
       "</table>"
      ],
      "text/plain": [
       "Player | Height mean | Disposals mean | Goals mean"
      ]
     },
     "execution_count": 132,
     "metadata": {},
     "output_type": "execute_result"
    }
   ],
   "source": [
    "position_contribution(2018, \"North Melbourne\", \"Forward, Ruck\")"
   ]
  },
  {
   "cell_type": "code",
   "execution_count": 133,
   "metadata": {},
   "outputs": [
    {
     "data": {
      "text/html": [
       "<table border=\"1\" class=\"dataframe\">\n",
       "    <thead>\n",
       "        <tr>\n",
       "            <th>Player</th> <th>Height mean</th> <th>Disposals mean</th> <th>Goals mean</th>\n",
       "        </tr>\n",
       "    </thead>\n",
       "    <tbody>\n",
       "    </tbody>\n",
       "</table>"
      ],
      "text/plain": [
       "Player | Height mean | Disposals mean | Goals mean"
      ]
     },
     "execution_count": 133,
     "metadata": {},
     "output_type": "execute_result"
    }
   ],
   "source": [
    "position_contribution(2018, \"North Melbourne\", \"Midfield, Ruck\")"
   ]
  },
  {
   "cell_type": "code",
   "execution_count": 134,
   "metadata": {},
   "outputs": [
    {
     "data": {
      "text/html": [
       "<table border=\"1\" class=\"dataframe\">\n",
       "    <thead>\n",
       "        <tr>\n",
       "            <th>Player</th> <th>Tackles mean</th> <th>Rebound50s mean</th> <th>OnePercenters mean</th>\n",
       "        </tr>\n",
       "    </thead>\n",
       "    <tbody>\n",
       "        <tr>\n",
       "            <td>Clarke, Ryan      </td> <td>1.68421     </td> <td>3.05263        </td> <td>0.947368          </td>\n",
       "        </tr>\n",
       "        <tr>\n",
       "            <td>Daw, Majak        </td> <td>2.52941     </td> <td>2.29412        </td> <td>5.88235           </td>\n",
       "        </tr>\n",
       "        <tr>\n",
       "            <td>Durdin, Sam       </td> <td>1           </td> <td>0              </td> <td>4                 </td>\n",
       "        </tr>\n",
       "        <tr>\n",
       "            <td>Macmillan, Jamie  </td> <td>2.14286     </td> <td>3.85714        </td> <td>3.38095           </td>\n",
       "        </tr>\n",
       "        <tr>\n",
       "            <td>McDonald, Luke    </td> <td>2.3         </td> <td>2.1            </td> <td>1.85              </td>\n",
       "        </tr>\n",
       "        <tr>\n",
       "            <td>Morgan, Alex      </td> <td>1           </td> <td>1              </td> <td>2.5               </td>\n",
       "        </tr>\n",
       "        <tr>\n",
       "            <td>Murphy, Tom       </td> <td>2           </td> <td>1.25           </td> <td>1.5               </td>\n",
       "        </tr>\n",
       "        <tr>\n",
       "            <td>Tarrant, Robbie   </td> <td>1.66667     </td> <td>3.90476        </td> <td>5.09524           </td>\n",
       "        </tr>\n",
       "        <tr>\n",
       "            <td>Thompson, Scott D </td> <td>2.22727     </td> <td>3              </td> <td>4.95455           </td>\n",
       "        </tr>\n",
       "        <tr>\n",
       "            <td>Vickers-Willis, Ed</td> <td>3.28571     </td> <td>1.71429        </td> <td>5.28571           </td>\n",
       "        </tr>\n",
       "    </tbody>\n",
       "</table>\n",
       "<p>... (2 rows omitted)</p>"
      ],
      "text/plain": [
       "Player             | Tackles mean | Rebound50s mean | OnePercenters mean\n",
       "Clarke, Ryan       | 1.68421      | 3.05263         | 0.947368\n",
       "Daw, Majak         | 2.52941      | 2.29412         | 5.88235\n",
       "Durdin, Sam        | 1            | 0               | 4\n",
       "Macmillan, Jamie   | 2.14286      | 3.85714         | 3.38095\n",
       "McDonald, Luke     | 2.3          | 2.1             | 1.85\n",
       "Morgan, Alex       | 1            | 1               | 2.5\n",
       "Murphy, Tom        | 2            | 1.25            | 1.5\n",
       "Tarrant, Robbie    | 1.66667      | 3.90476         | 5.09524\n",
       "Thompson, Scott D  | 2.22727      | 3               | 4.95455\n",
       "Vickers-Willis, Ed | 3.28571      | 1.71429         | 5.28571\n",
       "... (2 rows omitted)"
      ]
     },
     "execution_count": 134,
     "metadata": {},
     "output_type": "execute_result"
    }
   ],
   "source": [
    "position_contribution(2018, \"North Melbourne\", \"Defender\")"
   ]
  },
  {
   "cell_type": "code",
   "execution_count": 135,
   "metadata": {},
   "outputs": [
    {
     "data": {
      "text/html": [
       "<table border=\"1\" class=\"dataframe\">\n",
       "    <thead>\n",
       "        <tr>\n",
       "            <th>Player</th> <th>Goals mean</th> <th>Behinds mean</th> <th>Tackles mean</th>\n",
       "        </tr>\n",
       "    </thead>\n",
       "    <tbody>\n",
       "        <tr>\n",
       "            <td>Atley, Shaun    </td> <td>0.727273  </td> <td>0.636364    </td> <td>2.54545     </td>\n",
       "        </tr>\n",
       "        <tr>\n",
       "            <td>Brown, Ben      </td> <td>2.77273   </td> <td>1.09091     </td> <td>1.09091     </td>\n",
       "        </tr>\n",
       "        <tr>\n",
       "            <td>Hrovat, Nathan  </td> <td>0.545455  </td> <td>0.272727    </td> <td>2.45455     </td>\n",
       "        </tr>\n",
       "        <tr>\n",
       "            <td>Simpkin, Jy     </td> <td>0.52381   </td> <td>0.333333    </td> <td>3.61905     </td>\n",
       "        </tr>\n",
       "        <tr>\n",
       "            <td>Turner, Kayne   </td> <td>0.35      </td> <td>0.55        </td> <td>3.5         </td>\n",
       "        </tr>\n",
       "        <tr>\n",
       "            <td>Waite, Jarrad   </td> <td>2.46154   </td> <td>1.38462     </td> <td>2.07692     </td>\n",
       "        </tr>\n",
       "        <tr>\n",
       "            <td>Walker, Will    </td> <td>1         </td> <td>1.25        </td> <td>2.25        </td>\n",
       "        </tr>\n",
       "        <tr>\n",
       "            <td>Wood, Mason     </td> <td>1.66667   </td> <td>1.33333     </td> <td>2.16667     </td>\n",
       "        </tr>\n",
       "        <tr>\n",
       "            <td>Ziebell, Jack   </td> <td>1.59091   </td> <td>1.31818     </td> <td>3.5         </td>\n",
       "        </tr>\n",
       "        <tr>\n",
       "            <td>Zurhaar, Cameron</td> <td>0.4       </td> <td>1           </td> <td>2.8         </td>\n",
       "        </tr>\n",
       "    </tbody>\n",
       "</table>"
      ],
      "text/plain": [
       "Player           | Goals mean | Behinds mean | Tackles mean\n",
       "Atley, Shaun     | 0.727273   | 0.636364     | 2.54545\n",
       "Brown, Ben       | 2.77273    | 1.09091      | 1.09091\n",
       "Hrovat, Nathan   | 0.545455   | 0.272727     | 2.45455\n",
       "Simpkin, Jy      | 0.52381    | 0.333333     | 3.61905\n",
       "Turner, Kayne    | 0.35       | 0.55         | 3.5\n",
       "Waite, Jarrad    | 2.46154    | 1.38462      | 2.07692\n",
       "Walker, Will     | 1          | 1.25         | 2.25\n",
       "Wood, Mason      | 1.66667    | 1.33333      | 2.16667\n",
       "Ziebell, Jack    | 1.59091    | 1.31818      | 3.5\n",
       "Zurhaar, Cameron | 0.4        | 1            | 2.8"
      ]
     },
     "execution_count": 135,
     "metadata": {},
     "output_type": "execute_result"
    }
   ],
   "source": [
    "position_contribution(2018, \"North Melbourne\", \"Forward\")"
   ]
  },
  {
   "cell_type": "code",
   "execution_count": 136,
   "metadata": {},
   "outputs": [
    {
     "data": {
      "text/html": [
       "<table border=\"1\" class=\"dataframe\">\n",
       "    <thead>\n",
       "        <tr>\n",
       "            <th>Player</th> <th>Goals mean</th> <th>Behinds mean</th> <th>GoalAssists mean</th>\n",
       "        </tr>\n",
       "    </thead>\n",
       "    <tbody>\n",
       "    </tbody>\n",
       "</table>"
      ],
      "text/plain": [
       "Player | Goals mean | Behinds mean | GoalAssists mean"
      ]
     },
     "execution_count": 136,
     "metadata": {},
     "output_type": "execute_result"
    }
   ],
   "source": [
    "position_contribution(2018, \"North Melbourne\", \"Defender, Forward\")"
   ]
  },
  {
   "cell_type": "code",
   "execution_count": 137,
   "metadata": {},
   "outputs": [
    {
     "data": {
      "text/html": [
       "<table border=\"1\" class=\"dataframe\">\n",
       "    <thead>\n",
       "        <tr>\n",
       "            <th>Player</th> <th>Goals mean</th> <th>Behinds mean</th> <th>Inside50s mean</th> <th>GoalAssists mean</th>\n",
       "        </tr>\n",
       "    </thead>\n",
       "    <tbody>\n",
       "        <tr>\n",
       "            <td>Ahern, Paul         </td> <td>0.272727  </td> <td>0.272727    </td> <td>3.81818       </td> <td>0.636364        </td>\n",
       "        </tr>\n",
       "        <tr>\n",
       "            <td>Anderson, Jed       </td> <td>0.375     </td> <td>0.375       </td> <td>2.9375        </td> <td>0.5             </td>\n",
       "        </tr>\n",
       "        <tr>\n",
       "            <td>Cunnington, Ben     </td> <td>0.473684  </td> <td>0.105263    </td> <td>2.89474       </td> <td>0.578947        </td>\n",
       "        </tr>\n",
       "        <tr>\n",
       "            <td>Davies-Uniacke, Luke</td> <td>0.2       </td> <td>0.2         </td> <td>1.4           </td> <td>0.4             </td>\n",
       "        </tr>\n",
       "        <tr>\n",
       "            <td>Dumont, Trent       </td> <td>0.3       </td> <td>0.5         </td> <td>2.95          </td> <td>0.55            </td>\n",
       "        </tr>\n",
       "        <tr>\n",
       "            <td>Hartung, Billy      </td> <td>0.555556  </td> <td>0.444444    </td> <td>2.77778       </td> <td>0.333333        </td>\n",
       "        </tr>\n",
       "        <tr>\n",
       "            <td>Higgins, Shaun      </td> <td>0.684211  </td> <td>0.842105    </td> <td>5.84211       </td> <td>0.842105        </td>\n",
       "        </tr>\n",
       "        <tr>\n",
       "            <td>Jacobs, Ben         </td> <td>0.454545  </td> <td>0.0909091   </td> <td>2.18182       </td> <td>0.545455        </td>\n",
       "        </tr>\n",
       "    </tbody>\n",
       "</table>"
      ],
      "text/plain": [
       "Player               | Goals mean | Behinds mean | Inside50s mean | GoalAssists mean\n",
       "Ahern, Paul          | 0.272727   | 0.272727     | 3.81818        | 0.636364\n",
       "Anderson, Jed        | 0.375      | 0.375        | 2.9375         | 0.5\n",
       "Cunnington, Ben      | 0.473684   | 0.105263     | 2.89474        | 0.578947\n",
       "Davies-Uniacke, Luke | 0.2        | 0.2          | 1.4            | 0.4\n",
       "Dumont, Trent        | 0.3        | 0.5          | 2.95           | 0.55\n",
       "Hartung, Billy       | 0.555556   | 0.444444     | 2.77778        | 0.333333\n",
       "Higgins, Shaun       | 0.684211   | 0.842105     | 5.84211        | 0.842105\n",
       "Jacobs, Ben          | 0.454545   | 0.0909091    | 2.18182        | 0.545455"
      ]
     },
     "execution_count": 137,
     "metadata": {},
     "output_type": "execute_result"
    }
   ],
   "source": [
    "position_contribution(2018, \"North Melbourne\", \"Midfield\")"
   ]
  },
  {
   "cell_type": "code",
   "execution_count": 138,
   "metadata": {},
   "outputs": [
    {
     "data": {
      "text/html": [
       "<table border=\"1\" class=\"dataframe\">\n",
       "    <thead>\n",
       "        <tr>\n",
       "            <th>Player</th> <th>Goals mean</th> <th>Behinds mean</th> <th>Inside50s mean</th> <th>GoalAssists mean</th>\n",
       "        </tr>\n",
       "    </thead>\n",
       "    <tbody>\n",
       "    </tbody>\n",
       "</table>"
      ],
      "text/plain": [
       "Player | Goals mean | Behinds mean | Inside50s mean | GoalAssists mean"
      ]
     },
     "execution_count": 138,
     "metadata": {},
     "output_type": "execute_result"
    }
   ],
   "source": [
    "position_contribution(2018, \"North Melbourne\", \"Midfield, Forward\")"
   ]
  },
  {
   "cell_type": "code",
   "execution_count": 139,
   "metadata": {},
   "outputs": [
    {
     "data": {
      "text/html": [
       "<table border=\"1\" class=\"dataframe\">\n",
       "    <thead>\n",
       "        <tr>\n",
       "            <th>Player</th> <th>Goals mean</th> <th>Behinds mean</th> <th>Tackles mean</th> <th>Rebound50s mean</th>\n",
       "        </tr>\n",
       "    </thead>\n",
       "    <tbody>\n",
       "    </tbody>\n",
       "</table>"
      ],
      "text/plain": [
       "Player | Goals mean | Behinds mean | Tackles mean | Rebound50s mean"
      ]
     },
     "execution_count": 139,
     "metadata": {},
     "output_type": "execute_result"
    }
   ],
   "source": [
    "position_contribution(2018, \"North Melbourne\", \"Defender, Midfield\")"
   ]
  },
  {
   "cell_type": "code",
   "execution_count": 140,
   "metadata": {},
   "outputs": [
    {
     "data": {
      "text/html": [
       "<table border=\"1\" class=\"dataframe\">\n",
       "    <thead>\n",
       "        <tr>\n",
       "            <th>Player</th> <th>Height mean</th> <th>Disposals mean</th> <th>Hitouts mean</th>\n",
       "        </tr>\n",
       "    </thead>\n",
       "    <tbody>\n",
       "        <tr>\n",
       "            <td>Hickey, Tom  </td> <td>201        </td> <td>14.5385       </td> <td>24.3077     </td>\n",
       "        </tr>\n",
       "        <tr>\n",
       "            <td>Longer, Billy</td> <td>202        </td> <td>6.4           </td> <td>24.2        </td>\n",
       "        </tr>\n",
       "        <tr>\n",
       "            <td>Pierce, Lewis</td> <td>203        </td> <td>11.3333       </td> <td>19.3333     </td>\n",
       "        </tr>\n",
       "    </tbody>\n",
       "</table>"
      ],
      "text/plain": [
       "Player        | Height mean | Disposals mean | Hitouts mean\n",
       "Hickey, Tom   | 201         | 14.5385        | 24.3077\n",
       "Longer, Billy | 202         | 6.4            | 24.2\n",
       "Pierce, Lewis | 203         | 11.3333        | 19.3333"
      ]
     },
     "execution_count": 140,
     "metadata": {},
     "output_type": "execute_result"
    }
   ],
   "source": [
    "#St Kilda\n",
    "position_contribution(2018, \"St Kilda\", \"Ruck\")"
   ]
  },
  {
   "cell_type": "code",
   "execution_count": 141,
   "metadata": {},
   "outputs": [
    {
     "data": {
      "text/html": [
       "<table border=\"1\" class=\"dataframe\">\n",
       "    <thead>\n",
       "        <tr>\n",
       "            <th>Player</th> <th>Height mean</th> <th>Disposals mean</th> <th>Goals mean</th>\n",
       "        </tr>\n",
       "    </thead>\n",
       "    <tbody>\n",
       "    </tbody>\n",
       "</table>"
      ],
      "text/plain": [
       "Player | Height mean | Disposals mean | Goals mean"
      ]
     },
     "execution_count": 141,
     "metadata": {},
     "output_type": "execute_result"
    }
   ],
   "source": [
    "position_contribution(2018, \"St Kilda\", \"Forward, Ruck\")"
   ]
  },
  {
   "cell_type": "code",
   "execution_count": 142,
   "metadata": {},
   "outputs": [
    {
     "data": {
      "text/html": [
       "<table border=\"1\" class=\"dataframe\">\n",
       "    <thead>\n",
       "        <tr>\n",
       "            <th>Player</th> <th>Height mean</th> <th>Disposals mean</th> <th>Goals mean</th>\n",
       "        </tr>\n",
       "    </thead>\n",
       "    <tbody>\n",
       "    </tbody>\n",
       "</table>"
      ],
      "text/plain": [
       "Player | Height mean | Disposals mean | Goals mean"
      ]
     },
     "execution_count": 142,
     "metadata": {},
     "output_type": "execute_result"
    }
   ],
   "source": [
    "position_contribution(2018, \"St Kilda\", \"Midfield, Ruck\")"
   ]
  },
  {
   "cell_type": "code",
   "execution_count": 143,
   "metadata": {},
   "outputs": [
    {
     "data": {
      "text/html": [
       "<table border=\"1\" class=\"dataframe\">\n",
       "    <thead>\n",
       "        <tr>\n",
       "            <th>Player</th> <th>Tackles mean</th> <th>Rebound50s mean</th> <th>OnePercenters mean</th>\n",
       "        </tr>\n",
       "    </thead>\n",
       "    <tbody>\n",
       "        <tr>\n",
       "            <td>Austin, Logan   </td> <td>1.71429     </td> <td>3.71429        </td> <td>4.85714           </td>\n",
       "        </tr>\n",
       "        <tr>\n",
       "            <td>Brown, Nathan   </td> <td>1.8         </td> <td>1.4            </td> <td>6.26667           </td>\n",
       "        </tr>\n",
       "        <tr>\n",
       "            <td>Carlisle, Jake  </td> <td>1.17647     </td> <td>2.23529        </td> <td>3.47059           </td>\n",
       "        </tr>\n",
       "        <tr>\n",
       "            <td>Clark, Hunter   </td> <td>2.8         </td> <td>1.6            </td> <td>1.53333           </td>\n",
       "        </tr>\n",
       "        <tr>\n",
       "            <td>Coffield, Nick  </td> <td>1.4         </td> <td>2              </td> <td>1.4               </td>\n",
       "        </tr>\n",
       "        <tr>\n",
       "            <td>Geary, Jarryn   </td> <td>2.47368     </td> <td>2.26316        </td> <td>2.94737           </td>\n",
       "        </tr>\n",
       "        <tr>\n",
       "            <td>Gilbert, Sam    </td> <td>4           </td> <td>3              </td> <td>3.90909           </td>\n",
       "        </tr>\n",
       "        <tr>\n",
       "            <td>Goddard, Hugh   </td> <td>3           </td> <td>0              </td> <td>3                 </td>\n",
       "        </tr>\n",
       "        <tr>\n",
       "            <td>Joyce, Darragh  </td> <td>0.5         </td> <td>3              </td> <td>3.5               </td>\n",
       "        </tr>\n",
       "        <tr>\n",
       "            <td>McKenzie, Daniel</td> <td>2.91667     </td> <td>1.75           </td> <td>3.5               </td>\n",
       "        </tr>\n",
       "    </tbody>\n",
       "</table>\n",
       "<p>... (6 rows omitted)</p>"
      ],
      "text/plain": [
       "Player           | Tackles mean | Rebound50s mean | OnePercenters mean\n",
       "Austin, Logan    | 1.71429      | 3.71429         | 4.85714\n",
       "Brown, Nathan    | 1.8          | 1.4             | 6.26667\n",
       "Carlisle, Jake   | 1.17647      | 2.23529         | 3.47059\n",
       "Clark, Hunter    | 2.8          | 1.6             | 1.53333\n",
       "Coffield, Nick   | 1.4          | 2               | 1.4\n",
       "Geary, Jarryn    | 2.47368      | 2.26316         | 2.94737\n",
       "Gilbert, Sam     | 4            | 3               | 3.90909\n",
       "Goddard, Hugh    | 3            | 0               | 3\n",
       "Joyce, Darragh   | 0.5          | 3               | 3.5\n",
       "McKenzie, Daniel | 2.91667      | 1.75            | 3.5\n",
       "... (6 rows omitted)"
      ]
     },
     "execution_count": 143,
     "metadata": {},
     "output_type": "execute_result"
    }
   ],
   "source": [
    "position_contribution(2018, \"St Kilda\", \"Defender\")"
   ]
  },
  {
   "cell_type": "code",
   "execution_count": 144,
   "metadata": {},
   "outputs": [
    {
     "data": {
      "text/html": [
       "<table border=\"1\" class=\"dataframe\">\n",
       "    <thead>\n",
       "        <tr>\n",
       "            <th>Player</th> <th>Goals mean</th> <th>Behinds mean</th> <th>Tackles mean</th>\n",
       "        </tr>\n",
       "    </thead>\n",
       "    <tbody>\n",
       "        <tr>\n",
       "            <td>Battle, Josh    </td> <td>1.16667   </td> <td>0.666667    </td> <td>2.16667     </td>\n",
       "        </tr>\n",
       "        <tr>\n",
       "            <td>Billings, Jack  </td> <td>0.666667  </td> <td>0.904762    </td> <td>2.80952     </td>\n",
       "        </tr>\n",
       "        <tr>\n",
       "            <td>Bruce, Josh     </td> <td>1.33333   </td> <td>0           </td> <td>2.33333     </td>\n",
       "        </tr>\n",
       "        <tr>\n",
       "            <td>Gresham, Jade   </td> <td>1.59091   </td> <td>0.909091    </td> <td>2.5         </td>\n",
       "        </tr>\n",
       "        <tr>\n",
       "            <td>Long, Ben       </td> <td>0.7       </td> <td>0.4         </td> <td>2.7         </td>\n",
       "        </tr>\n",
       "        <tr>\n",
       "            <td>Lonie, Jack     </td> <td>1.45455   </td> <td>0.909091    </td> <td>2.09091     </td>\n",
       "        </tr>\n",
       "        <tr>\n",
       "            <td>Marshall, Rowan </td> <td>0.5       </td> <td>1.08333     </td> <td>2.33333     </td>\n",
       "        </tr>\n",
       "        <tr>\n",
       "            <td>McCartin, Paddy </td> <td>0.923077  </td> <td>1.30769     </td> <td>0.923077    </td>\n",
       "        </tr>\n",
       "        <tr>\n",
       "            <td>Membrey, Tim    </td> <td>1.7       </td> <td>1.4         </td> <td>1.15        </td>\n",
       "        </tr>\n",
       "        <tr>\n",
       "            <td>Weller, Maverick</td> <td>0.384615  </td> <td>0.538462    </td> <td>3.76923     </td>\n",
       "        </tr>\n",
       "    </tbody>\n",
       "</table>\n",
       "<p>... (1 rows omitted)</p>"
      ],
      "text/plain": [
       "Player           | Goals mean | Behinds mean | Tackles mean\n",
       "Battle, Josh     | 1.16667    | 0.666667     | 2.16667\n",
       "Billings, Jack   | 0.666667   | 0.904762     | 2.80952\n",
       "Bruce, Josh      | 1.33333    | 0            | 2.33333\n",
       "Gresham, Jade    | 1.59091    | 0.909091     | 2.5\n",
       "Long, Ben        | 0.7        | 0.4          | 2.7\n",
       "Lonie, Jack      | 1.45455    | 0.909091     | 2.09091\n",
       "Marshall, Rowan  | 0.5        | 1.08333      | 2.33333\n",
       "McCartin, Paddy  | 0.923077   | 1.30769      | 0.923077\n",
       "Membrey, Tim     | 1.7        | 1.4          | 1.15\n",
       "Weller, Maverick | 0.384615   | 0.538462     | 3.76923\n",
       "... (1 rows omitted)"
      ]
     },
     "execution_count": 144,
     "metadata": {},
     "output_type": "execute_result"
    }
   ],
   "source": [
    "position_contribution(2018, \"St Kilda\", \"Forward\")"
   ]
  },
  {
   "cell_type": "code",
   "execution_count": 145,
   "metadata": {},
   "outputs": [
    {
     "data": {
      "text/html": [
       "<table border=\"1\" class=\"dataframe\">\n",
       "    <thead>\n",
       "        <tr>\n",
       "            <th>Player</th> <th>Goals mean</th> <th>Behinds mean</th> <th>GoalAssists mean</th>\n",
       "        </tr>\n",
       "    </thead>\n",
       "    <tbody>\n",
       "    </tbody>\n",
       "</table>"
      ],
      "text/plain": [
       "Player | Goals mean | Behinds mean | GoalAssists mean"
      ]
     },
     "execution_count": 145,
     "metadata": {},
     "output_type": "execute_result"
    }
   ],
   "source": [
    "position_contribution(2018, \"St Kilda\", \"Defender, Forward\")"
   ]
  },
  {
   "cell_type": "code",
   "execution_count": 146,
   "metadata": {},
   "outputs": [
    {
     "data": {
      "text/html": [
       "<table border=\"1\" class=\"dataframe\">\n",
       "    <thead>\n",
       "        <tr>\n",
       "            <th>Player</th> <th>Goals mean</th> <th>Behinds mean</th> <th>Inside50s mean</th> <th>GoalAssists mean</th>\n",
       "        </tr>\n",
       "    </thead>\n",
       "    <tbody>\n",
       "        <tr>\n",
       "            <td>Dunstan, Luke  </td> <td>0.333333  </td> <td>0.416667    </td> <td>3.08333       </td> <td>0.166667        </td>\n",
       "        </tr>\n",
       "        <tr>\n",
       "            <td>Freeman, Nathan</td> <td>0.5       </td> <td>0.5         </td> <td>1.5           </td> <td>0.5             </td>\n",
       "        </tr>\n",
       "        <tr>\n",
       "            <td>Phillips, Ed   </td> <td>0         </td> <td>0           </td> <td>2.2           </td> <td>0.2             </td>\n",
       "        </tr>\n",
       "        <tr>\n",
       "            <td>Ross, Sebastian</td> <td>0.176471  </td> <td>0.470588    </td> <td>4.94118       </td> <td>0.705882        </td>\n",
       "        </tr>\n",
       "        <tr>\n",
       "            <td>Sinclair, Jack </td> <td>0.352941  </td> <td>0.529412    </td> <td>2.88235       </td> <td>0.588235        </td>\n",
       "        </tr>\n",
       "        <tr>\n",
       "            <td>Steele, Jack   </td> <td>0.352941  </td> <td>0.117647    </td> <td>2.41176       </td> <td>0.470588        </td>\n",
       "        </tr>\n",
       "        <tr>\n",
       "            <td>Steven, Jack   </td> <td>0.684211  </td> <td>0.368421    </td> <td>5.05263       </td> <td>0.421053        </td>\n",
       "        </tr>\n",
       "        <tr>\n",
       "            <td>Stevens, Koby  </td> <td>0         </td> <td>1           </td> <td>1.5           </td> <td>0               </td>\n",
       "        </tr>\n",
       "    </tbody>\n",
       "</table>"
      ],
      "text/plain": [
       "Player          | Goals mean | Behinds mean | Inside50s mean | GoalAssists mean\n",
       "Dunstan, Luke   | 0.333333   | 0.416667     | 3.08333        | 0.166667\n",
       "Freeman, Nathan | 0.5        | 0.5          | 1.5            | 0.5\n",
       "Phillips, Ed    | 0          | 0            | 2.2            | 0.2\n",
       "Ross, Sebastian | 0.176471   | 0.470588     | 4.94118        | 0.705882\n",
       "Sinclair, Jack  | 0.352941   | 0.529412     | 2.88235        | 0.588235\n",
       "Steele, Jack    | 0.352941   | 0.117647     | 2.41176        | 0.470588\n",
       "Steven, Jack    | 0.684211   | 0.368421     | 5.05263        | 0.421053\n",
       "Stevens, Koby   | 0          | 1            | 1.5            | 0"
      ]
     },
     "execution_count": 146,
     "metadata": {},
     "output_type": "execute_result"
    }
   ],
   "source": [
    "position_contribution(2018, \"St Kilda\", \"Midfield\")"
   ]
  },
  {
   "cell_type": "code",
   "execution_count": 147,
   "metadata": {},
   "outputs": [
    {
     "data": {
      "text/html": [
       "<table border=\"1\" class=\"dataframe\">\n",
       "    <thead>\n",
       "        <tr>\n",
       "            <th>Player</th> <th>Goals mean</th> <th>Behinds mean</th> <th>Inside50s mean</th> <th>GoalAssists mean</th>\n",
       "        </tr>\n",
       "    </thead>\n",
       "    <tbody>\n",
       "        <tr>\n",
       "            <td>Acres, Blake   </td> <td>0.272727  </td> <td>0.636364    </td> <td>3.09091       </td> <td>0.545455        </td>\n",
       "        </tr>\n",
       "        <tr>\n",
       "            <td>Armitage, David</td> <td>0.5       </td> <td>0.785714    </td> <td>2.85714       </td> <td>0.5             </td>\n",
       "        </tr>\n",
       "        <tr>\n",
       "            <td>Newnes, Jack   </td> <td>0.85      </td> <td>0.8         </td> <td>3.35          </td> <td>0.35            </td>\n",
       "        </tr>\n",
       "    </tbody>\n",
       "</table>"
      ],
      "text/plain": [
       "Player          | Goals mean | Behinds mean | Inside50s mean | GoalAssists mean\n",
       "Acres, Blake    | 0.272727   | 0.636364     | 3.09091        | 0.545455\n",
       "Armitage, David | 0.5        | 0.785714     | 2.85714        | 0.5\n",
       "Newnes, Jack    | 0.85       | 0.8          | 3.35           | 0.35"
      ]
     },
     "execution_count": 147,
     "metadata": {},
     "output_type": "execute_result"
    }
   ],
   "source": [
    "position_contribution(2018, \"St Kilda\", \"Midfield, Forward\")"
   ]
  },
  {
   "cell_type": "code",
   "execution_count": 148,
   "metadata": {},
   "outputs": [
    {
     "data": {
      "text/html": [
       "<table border=\"1\" class=\"dataframe\">\n",
       "    <thead>\n",
       "        <tr>\n",
       "            <th>Player</th> <th>Goals mean</th> <th>Behinds mean</th> <th>Tackles mean</th> <th>Rebound50s mean</th>\n",
       "        </tr>\n",
       "    </thead>\n",
       "    <tbody>\n",
       "    </tbody>\n",
       "</table>"
      ],
      "text/plain": [
       "Player | Goals mean | Behinds mean | Tackles mean | Rebound50s mean"
      ]
     },
     "execution_count": 148,
     "metadata": {},
     "output_type": "execute_result"
    }
   ],
   "source": [
    "position_contribution(2018, \"St Kilda\", \"Defender, Midfield\")"
   ]
  },
  {
   "cell_type": "code",
   "execution_count": 149,
   "metadata": {},
   "outputs": [
    {
     "data": {
      "text/html": [
       "<table border=\"1\" class=\"dataframe\">\n",
       "    <thead>\n",
       "        <tr>\n",
       "            <th>Player</th> <th>Height mean</th> <th>Disposals mean</th> <th>Hitouts mean</th>\n",
       "        </tr>\n",
       "    </thead>\n",
       "    <tbody>\n",
       "        <tr>\n",
       "            <td>Kreuzer, Matthew</td> <td>200        </td> <td>13.25         </td> <td>23          </td>\n",
       "        </tr>\n",
       "        <tr>\n",
       "            <td>Lobbe, Matthew  </td> <td>200        </td> <td>9.83333       </td> <td>35.3333     </td>\n",
       "        </tr>\n",
       "        <tr>\n",
       "            <td>Phillips, Andrew</td> <td>201        </td> <td>6.8           </td> <td>27.8        </td>\n",
       "        </tr>\n",
       "    </tbody>\n",
       "</table>"
      ],
      "text/plain": [
       "Player           | Height mean | Disposals mean | Hitouts mean\n",
       "Kreuzer, Matthew | 200         | 13.25          | 23\n",
       "Lobbe, Matthew   | 200         | 9.83333        | 35.3333\n",
       "Phillips, Andrew | 201         | 6.8            | 27.8"
      ]
     },
     "execution_count": 149,
     "metadata": {},
     "output_type": "execute_result"
    }
   ],
   "source": [
    "#Carlton\n",
    "position_contribution(2018, \"Carlton\", \"Ruck\")"
   ]
  },
  {
   "cell_type": "code",
   "execution_count": 150,
   "metadata": {},
   "outputs": [
    {
     "data": {
      "text/html": [
       "<table border=\"1\" class=\"dataframe\">\n",
       "    <thead>\n",
       "        <tr>\n",
       "            <th>Player</th> <th>Height mean</th> <th>Disposals mean</th> <th>Goals mean</th>\n",
       "        </tr>\n",
       "    </thead>\n",
       "    <tbody>\n",
       "        <tr>\n",
       "            <td>De Koning, Tom</td> <td>201        </td> <td>8             </td> <td>0.5       </td>\n",
       "        </tr>\n",
       "    </tbody>\n",
       "</table>"
      ],
      "text/plain": [
       "Player         | Height mean | Disposals mean | Goals mean\n",
       "De Koning, Tom | 201         | 8              | 0.5"
      ]
     },
     "execution_count": 150,
     "metadata": {},
     "output_type": "execute_result"
    }
   ],
   "source": [
    "position_contribution(2018, \"Carlton\", \"Forward, Ruck\")"
   ]
  },
  {
   "cell_type": "code",
   "execution_count": 151,
   "metadata": {},
   "outputs": [
    {
     "data": {
      "text/html": [
       "<table border=\"1\" class=\"dataframe\">\n",
       "    <thead>\n",
       "        <tr>\n",
       "            <th>Player</th> <th>Height mean</th> <th>Disposals mean</th> <th>Goals mean</th>\n",
       "        </tr>\n",
       "    </thead>\n",
       "    <tbody>\n",
       "    </tbody>\n",
       "</table>"
      ],
      "text/plain": [
       "Player | Height mean | Disposals mean | Goals mean"
      ]
     },
     "execution_count": 151,
     "metadata": {},
     "output_type": "execute_result"
    }
   ],
   "source": [
    "position_contribution(2018, \"Carlton\", \"Midfield, Ruck\")"
   ]
  },
  {
   "cell_type": "code",
   "execution_count": 152,
   "metadata": {},
   "outputs": [
    {
     "data": {
      "text/html": [
       "<table border=\"1\" class=\"dataframe\">\n",
       "    <thead>\n",
       "        <tr>\n",
       "            <th>Player</th> <th>Tackles mean</th> <th>Rebound50s mean</th> <th>OnePercenters mean</th>\n",
       "        </tr>\n",
       "    </thead>\n",
       "    <tbody>\n",
       "        <tr>\n",
       "            <td>Byrne, Ciaran   </td> <td>2.85714     </td> <td>2              </td> <td>2.57143           </td>\n",
       "        </tr>\n",
       "        <tr>\n",
       "            <td>Cuningham, David</td> <td>1.6         </td> <td>1              </td> <td>0.8               </td>\n",
       "        </tr>\n",
       "        <tr>\n",
       "            <td>Jones, Liam     </td> <td>2.375       </td> <td>2.375          </td> <td>8.75              </td>\n",
       "        </tr>\n",
       "        <tr>\n",
       "            <td>Marchbank, Caleb</td> <td>2           </td> <td>2.66667        </td> <td>6.33333           </td>\n",
       "        </tr>\n",
       "        <tr>\n",
       "            <td>Mullett, Aaron  </td> <td>1.84615     </td> <td>2.46154        </td> <td>1.30769           </td>\n",
       "        </tr>\n",
       "        <tr>\n",
       "            <td>OShea, Cameron  </td> <td>3           </td> <td>1.81818        </td> <td>2.72727           </td>\n",
       "        </tr>\n",
       "        <tr>\n",
       "            <td>Plowman, Lachie </td> <td>1.41667     </td> <td>2              </td> <td>5.83333           </td>\n",
       "        </tr>\n",
       "        <tr>\n",
       "            <td>Rowe, Sam       </td> <td>1.6875      </td> <td>2              </td> <td>7.3125            </td>\n",
       "        </tr>\n",
       "        <tr>\n",
       "            <td>Simpson, Kade   </td> <td>2           </td> <td>5.25           </td> <td>2.4               </td>\n",
       "        </tr>\n",
       "        <tr>\n",
       "            <td>Thomas, Dale    </td> <td>1.94444     </td> <td>3.33333        </td> <td>2.72222           </td>\n",
       "        </tr>\n",
       "    </tbody>\n",
       "</table>\n",
       "<p>... (1 rows omitted)</p>"
      ],
      "text/plain": [
       "Player           | Tackles mean | Rebound50s mean | OnePercenters mean\n",
       "Byrne, Ciaran    | 2.85714      | 2               | 2.57143\n",
       "Cuningham, David | 1.6          | 1               | 0.8\n",
       "Jones, Liam      | 2.375        | 2.375           | 8.75\n",
       "Marchbank, Caleb | 2            | 2.66667         | 6.33333\n",
       "Mullett, Aaron   | 1.84615      | 2.46154         | 1.30769\n",
       "OShea, Cameron   | 3            | 1.81818         | 2.72727\n",
       "Plowman, Lachie  | 1.41667      | 2               | 5.83333\n",
       "Rowe, Sam        | 1.6875       | 2               | 7.3125\n",
       "Simpson, Kade    | 2            | 5.25            | 2.4\n",
       "Thomas, Dale     | 1.94444      | 3.33333         | 2.72222\n",
       "... (1 rows omitted)"
      ]
     },
     "execution_count": 152,
     "metadata": {},
     "output_type": "execute_result"
    }
   ],
   "source": [
    "position_contribution(2018, \"Carlton\", \"Defender\")"
   ]
  },
  {
   "cell_type": "code",
   "execution_count": 153,
   "metadata": {},
   "outputs": [
    {
     "data": {
      "text/html": [
       "<table border=\"1\" class=\"dataframe\">\n",
       "    <thead>\n",
       "        <tr>\n",
       "            <th>Player</th> <th>Goals mean</th> <th>Behinds mean</th> <th>Tackles mean</th>\n",
       "        </tr>\n",
       "    </thead>\n",
       "    <tbody>\n",
       "        <tr>\n",
       "            <td>Casboult, Levi      </td> <td>1.2       </td> <td>1           </td> <td>1.2         </td>\n",
       "        </tr>\n",
       "        <tr>\n",
       "            <td>Curnow, Charlie     </td> <td>1.7       </td> <td>1           </td> <td>2.1         </td>\n",
       "        </tr>\n",
       "        <tr>\n",
       "            <td>Garlett, Jarrod     </td> <td>0.454545  </td> <td>0.636364    </td> <td>3.27273     </td>\n",
       "        </tr>\n",
       "        <tr>\n",
       "            <td>Kerr, Pat           </td> <td>0.333333  </td> <td>1           </td> <td>0.666667    </td>\n",
       "        </tr>\n",
       "        <tr>\n",
       "            <td>Lamb, Jed           </td> <td>0.388889  </td> <td>0.166667    </td> <td>2.16667     </td>\n",
       "        </tr>\n",
       "        <tr>\n",
       "            <td>McKay, Harry        </td> <td>1.61538   </td> <td>0.846154    </td> <td>1.76923     </td>\n",
       "        </tr>\n",
       "        <tr>\n",
       "            <td>Petrevski-Seton, Sam</td> <td>0.238095  </td> <td>0.380952    </td> <td>4.2381      </td>\n",
       "        </tr>\n",
       "        <tr>\n",
       "            <td>Pickett, Jarrod     </td> <td>0.285714  </td> <td>0.142857    </td> <td>2.85714     </td>\n",
       "        </tr>\n",
       "        <tr>\n",
       "            <td>Polson, Cameron     </td> <td>0.25      </td> <td>0.416667    </td> <td>3.25        </td>\n",
       "        </tr>\n",
       "        <tr>\n",
       "            <td>Wright, Matthew     </td> <td>1         </td> <td>0.571429    </td> <td>2.19048     </td>\n",
       "        </tr>\n",
       "    </tbody>\n",
       "</table>"
      ],
      "text/plain": [
       "Player               | Goals mean | Behinds mean | Tackles mean\n",
       "Casboult, Levi       | 1.2        | 1            | 1.2\n",
       "Curnow, Charlie      | 1.7        | 1            | 2.1\n",
       "Garlett, Jarrod      | 0.454545   | 0.636364     | 3.27273\n",
       "Kerr, Pat            | 0.333333   | 1            | 0.666667\n",
       "Lamb, Jed            | 0.388889   | 0.166667     | 2.16667\n",
       "McKay, Harry         | 1.61538    | 0.846154     | 1.76923\n",
       "Petrevski-Seton, Sam | 0.238095   | 0.380952     | 4.2381\n",
       "Pickett, Jarrod      | 0.285714   | 0.142857     | 2.85714\n",
       "Polson, Cameron      | 0.25       | 0.416667     | 3.25\n",
       "Wright, Matthew      | 1          | 0.571429     | 2.19048"
      ]
     },
     "execution_count": 153,
     "metadata": {},
     "output_type": "execute_result"
    }
   ],
   "source": [
    "position_contribution(2018, \"Carlton\", \"Forward\")"
   ]
  },
  {
   "cell_type": "code",
   "execution_count": 154,
   "metadata": {},
   "outputs": [
    {
     "data": {
      "text/html": [
       "<table border=\"1\" class=\"dataframe\">\n",
       "    <thead>\n",
       "        <tr>\n",
       "            <th>Player</th> <th>Goals mean</th> <th>Behinds mean</th> <th>GoalAssists mean</th>\n",
       "        </tr>\n",
       "    </thead>\n",
       "    <tbody>\n",
       "        <tr>\n",
       "            <td>Silvagni, Jack</td> <td>0.625     </td> <td>0.5         </td> <td>0.375           </td>\n",
       "        </tr>\n",
       "    </tbody>\n",
       "</table>"
      ],
      "text/plain": [
       "Player         | Goals mean | Behinds mean | GoalAssists mean\n",
       "Silvagni, Jack | 0.625      | 0.5          | 0.375"
      ]
     },
     "execution_count": 154,
     "metadata": {},
     "output_type": "execute_result"
    }
   ],
   "source": [
    "position_contribution(2018, \"Carlton\", \"Defender, Forward\")"
   ]
  },
  {
   "cell_type": "code",
   "execution_count": 155,
   "metadata": {},
   "outputs": [
    {
     "data": {
      "text/html": [
       "<table border=\"1\" class=\"dataframe\">\n",
       "    <thead>\n",
       "        <tr>\n",
       "            <th>Player</th> <th>Goals mean</th> <th>Behinds mean</th> <th>Inside50s mean</th> <th>GoalAssists mean</th>\n",
       "        </tr>\n",
       "    </thead>\n",
       "    <tbody>\n",
       "        <tr>\n",
       "            <td>Cripps, Patrick </td> <td>0.52381   </td> <td>0.714286    </td> <td>3.90476       </td> <td>0.285714        </td>\n",
       "        </tr>\n",
       "        <tr>\n",
       "            <td>Curnow, Ed      </td> <td>0.3125    </td> <td>0.375       </td> <td>3.4375        </td> <td>0.375           </td>\n",
       "        </tr>\n",
       "        <tr>\n",
       "            <td>Kennedy, Matthew</td> <td>0.333333  </td> <td>0.333333    </td> <td>1.55556       </td> <td>0.222222        </td>\n",
       "        </tr>\n",
       "        <tr>\n",
       "            <td>Kerridge, Sam   </td> <td>0.4       </td> <td>0.3         </td> <td>2             </td> <td>0.3             </td>\n",
       "        </tr>\n",
       "        <tr>\n",
       "            <td>Murphy, Marc    </td> <td>0.384615  </td> <td>0.307692    </td> <td>3.92308       </td> <td>0.692308        </td>\n",
       "        </tr>\n",
       "        <tr>\n",
       "            <td>OBrien, Lochie  </td> <td>0.181818  </td> <td>0.0909091   </td> <td>2.27273       </td> <td>0.363636        </td>\n",
       "        </tr>\n",
       "        <tr>\n",
       "            <td>Shaw, Matt      </td> <td>0         </td> <td>0           </td> <td>1             </td> <td>0               </td>\n",
       "        </tr>\n",
       "    </tbody>\n",
       "</table>"
      ],
      "text/plain": [
       "Player           | Goals mean | Behinds mean | Inside50s mean | GoalAssists mean\n",
       "Cripps, Patrick  | 0.52381    | 0.714286     | 3.90476        | 0.285714\n",
       "Curnow, Ed       | 0.3125     | 0.375        | 3.4375         | 0.375\n",
       "Kennedy, Matthew | 0.333333   | 0.333333     | 1.55556        | 0.222222\n",
       "Kerridge, Sam    | 0.4        | 0.3          | 2              | 0.3\n",
       "Murphy, Marc     | 0.384615   | 0.307692     | 3.92308        | 0.692308\n",
       "OBrien, Lochie   | 0.181818   | 0.0909091    | 2.27273        | 0.363636\n",
       "Shaw, Matt       | 0          | 0            | 1              | 0"
      ]
     },
     "execution_count": 155,
     "metadata": {},
     "output_type": "execute_result"
    }
   ],
   "source": [
    "position_contribution(2018, \"Carlton\", \"Midfield\")"
   ]
  },
  {
   "cell_type": "code",
   "execution_count": 156,
   "metadata": {},
   "outputs": [
    {
     "data": {
      "text/html": [
       "<table border=\"1\" class=\"dataframe\">\n",
       "    <thead>\n",
       "        <tr>\n",
       "            <th>Player</th> <th>Goals mean</th> <th>Behinds mean</th> <th>Inside50s mean</th> <th>GoalAssists mean</th>\n",
       "        </tr>\n",
       "    </thead>\n",
       "    <tbody>\n",
       "        <tr>\n",
       "            <td>Dow, Paddy  </td> <td>0.333333  </td> <td>0.466667    </td> <td>2.73333       </td> <td>0.266667        </td>\n",
       "        </tr>\n",
       "        <tr>\n",
       "            <td>Fisher, Zac </td> <td>0.428571  </td> <td>0.428571    </td> <td>2.71429       </td> <td>0.428571        </td>\n",
       "        </tr>\n",
       "        <tr>\n",
       "            <td>Graham, Nick</td> <td>0.125     </td> <td>0.5         </td> <td>2.75          </td> <td>0.375           </td>\n",
       "        </tr>\n",
       "        <tr>\n",
       "            <td>Lang, Darcy </td> <td>0.666667  </td> <td>0.222222    </td> <td>2.33333       </td> <td>0               </td>\n",
       "        </tr>\n",
       "    </tbody>\n",
       "</table>"
      ],
      "text/plain": [
       "Player       | Goals mean | Behinds mean | Inside50s mean | GoalAssists mean\n",
       "Dow, Paddy   | 0.333333   | 0.466667     | 2.73333        | 0.266667\n",
       "Fisher, Zac  | 0.428571   | 0.428571     | 2.71429        | 0.428571\n",
       "Graham, Nick | 0.125      | 0.5          | 2.75           | 0.375\n",
       "Lang, Darcy  | 0.666667   | 0.222222     | 2.33333        | 0"
      ]
     },
     "execution_count": 156,
     "metadata": {},
     "output_type": "execute_result"
    }
   ],
   "source": [
    "position_contribution(2018, \"Carlton\", \"Midfield, Forward\")"
   ]
  },
  {
   "cell_type": "code",
   "execution_count": 157,
   "metadata": {},
   "outputs": [
    {
     "data": {
      "text/html": [
       "<table border=\"1\" class=\"dataframe\">\n",
       "    <thead>\n",
       "        <tr>\n",
       "            <th>Player</th> <th>Goals mean</th> <th>Behinds mean</th> <th>Tackles mean</th> <th>Rebound50s mean</th>\n",
       "        </tr>\n",
       "    </thead>\n",
       "    <tbody>\n",
       "    </tbody>\n",
       "</table>"
      ],
      "text/plain": [
       "Player | Goals mean | Behinds mean | Tackles mean | Rebound50s mean"
      ]
     },
     "execution_count": 157,
     "metadata": {},
     "output_type": "execute_result"
    }
   ],
   "source": [
    "position_contribution(2018, \"Carlton\", \"Defender, Midfield\")"
   ]
  },
  {
   "cell_type": "code",
   "execution_count": 158,
   "metadata": {},
   "outputs": [
    {
     "data": {
      "text/html": [
       "<table border=\"1\" class=\"dataframe\">\n",
       "    <thead>\n",
       "        <tr>\n",
       "            <th>Player</th> <th>Height mean</th> <th>Disposals mean</th> <th>Hitouts mean</th>\n",
       "        </tr>\n",
       "    </thead>\n",
       "    <tbody>\n",
       "        <tr>\n",
       "            <td>Bellchambers, Tom   </td> <td>201        </td> <td>11.45         </td> <td>32.8        </td>\n",
       "        </tr>\n",
       "        <tr>\n",
       "            <td>Leuenberger, Matthew</td> <td>202        </td> <td>11            </td> <td>22.5        </td>\n",
       "        </tr>\n",
       "    </tbody>\n",
       "</table>"
      ],
      "text/plain": [
       "Player               | Height mean | Disposals mean | Hitouts mean\n",
       "Bellchambers, Tom    | 201         | 11.45          | 32.8\n",
       "Leuenberger, Matthew | 202         | 11             | 22.5"
      ]
     },
     "execution_count": 158,
     "metadata": {},
     "output_type": "execute_result"
    }
   ],
   "source": [
    "#Essendon\n",
    "position_contribution(2018, \"Essendon\", \"Ruck\")"
   ]
  },
  {
   "cell_type": "code",
   "execution_count": 159,
   "metadata": {},
   "outputs": [
    {
     "data": {
      "text/html": [
       "<table border=\"1\" class=\"dataframe\">\n",
       "    <thead>\n",
       "        <tr>\n",
       "            <th>Player</th> <th>Height mean</th> <th>Disposals mean</th> <th>Goals mean</th>\n",
       "        </tr>\n",
       "    </thead>\n",
       "    <tbody>\n",
       "    </tbody>\n",
       "</table>"
      ],
      "text/plain": [
       "Player | Height mean | Disposals mean | Goals mean"
      ]
     },
     "execution_count": 159,
     "metadata": {},
     "output_type": "execute_result"
    }
   ],
   "source": [
    "position_contribution(2018, \"Essendon\", \"Forward, Ruck\")"
   ]
  },
  {
   "cell_type": "code",
   "execution_count": 160,
   "metadata": {},
   "outputs": [
    {
     "data": {
      "text/html": [
       "<table border=\"1\" class=\"dataframe\">\n",
       "    <thead>\n",
       "        <tr>\n",
       "            <th>Player</th> <th>Height mean</th> <th>Disposals mean</th> <th>Goals mean</th>\n",
       "        </tr>\n",
       "    </thead>\n",
       "    <tbody>\n",
       "    </tbody>\n",
       "</table>"
      ],
      "text/plain": [
       "Player | Height mean | Disposals mean | Goals mean"
      ]
     },
     "execution_count": 160,
     "metadata": {},
     "output_type": "execute_result"
    }
   ],
   "source": [
    "position_contribution(2018, \"Essendon\", \"Midfield, Ruck\")"
   ]
  },
  {
   "cell_type": "code",
   "execution_count": 161,
   "metadata": {},
   "outputs": [
    {
     "data": {
      "text/html": [
       "<table border=\"1\" class=\"dataframe\">\n",
       "    <thead>\n",
       "        <tr>\n",
       "            <th>Player</th> <th>Tackles mean</th> <th>Rebound50s mean</th> <th>OnePercenters mean</th>\n",
       "        </tr>\n",
       "    </thead>\n",
       "    <tbody>\n",
       "        <tr>\n",
       "            <td>Ambrose, Patrick</td> <td>2.85714     </td> <td>1.14286        </td> <td>5.57143           </td>\n",
       "        </tr>\n",
       "        <tr>\n",
       "            <td>Dea, Matt       </td> <td>1.16667     </td> <td>1.83333        </td> <td>2.41667           </td>\n",
       "        </tr>\n",
       "        <tr>\n",
       "            <td>Francis, Aaron  </td> <td>2.2         </td> <td>2.6            </td> <td>5                 </td>\n",
       "        </tr>\n",
       "        <tr>\n",
       "            <td>Hartley, Michael</td> <td>1.5         </td> <td>1              </td> <td>8                 </td>\n",
       "        </tr>\n",
       "        <tr>\n",
       "            <td>Hooker, Cale    </td> <td>1.21053     </td> <td>2.84211        </td> <td>5                 </td>\n",
       "        </tr>\n",
       "        <tr>\n",
       "            <td>Hurley, Michael </td> <td>0.736842    </td> <td>5.42105        </td> <td>4.36842           </td>\n",
       "        </tr>\n",
       "        <tr>\n",
       "            <td>McKenna, Conor  </td> <td>1.66667     </td> <td>3.5            </td> <td>2.5               </td>\n",
       "        </tr>\n",
       "        <tr>\n",
       "            <td>McNiece, Ben    </td> <td>2.14286     </td> <td>1              </td> <td>4.42857           </td>\n",
       "        </tr>\n",
       "        <tr>\n",
       "            <td>Redman, Mason   </td> <td>2           </td> <td>2              </td> <td>2.5               </td>\n",
       "        </tr>\n",
       "        <tr>\n",
       "            <td>Ridley, Jordan  </td> <td>1.33333     </td> <td>2.33333        </td> <td>2                 </td>\n",
       "        </tr>\n",
       "    </tbody>\n",
       "</table>\n",
       "<p>... (1 rows omitted)</p>"
      ],
      "text/plain": [
       "Player           | Tackles mean | Rebound50s mean | OnePercenters mean\n",
       "Ambrose, Patrick | 2.85714      | 1.14286         | 5.57143\n",
       "Dea, Matt        | 1.16667      | 1.83333         | 2.41667\n",
       "Francis, Aaron   | 2.2          | 2.6             | 5\n",
       "Hartley, Michael | 1.5          | 1               | 8\n",
       "Hooker, Cale     | 1.21053      | 2.84211         | 5\n",
       "Hurley, Michael  | 0.736842     | 5.42105         | 4.36842\n",
       "McKenna, Conor   | 1.66667      | 3.5             | 2.5\n",
       "McNiece, Ben     | 2.14286      | 1               | 4.42857\n",
       "Redman, Mason    | 2            | 2               | 2.5\n",
       "Ridley, Jordan   | 1.33333      | 2.33333         | 2\n",
       "... (1 rows omitted)"
      ]
     },
     "execution_count": 161,
     "metadata": {},
     "output_type": "execute_result"
    }
   ],
   "source": [
    "position_contribution(2018, \"Essendon\", \"Defender\")"
   ]
  },
  {
   "cell_type": "code",
   "execution_count": 162,
   "metadata": {},
   "outputs": [
    {
     "data": {
      "text/html": [
       "<table border=\"1\" class=\"dataframe\">\n",
       "    <thead>\n",
       "        <tr>\n",
       "            <th>Player</th> <th>Goals mean</th> <th>Behinds mean</th> <th>Tackles mean</th>\n",
       "        </tr>\n",
       "    </thead>\n",
       "    <tbody>\n",
       "        <tr>\n",
       "            <td>Baguley, Mark               </td> <td>1         </td> <td>0.45        </td> <td>3.65        </td>\n",
       "        </tr>\n",
       "        <tr>\n",
       "            <td>Begley, Josh                </td> <td>0.6       </td> <td>0.6         </td> <td>1.8         </td>\n",
       "        </tr>\n",
       "        <tr>\n",
       "            <td>Brown, Mitch                </td> <td>1.28571   </td> <td>0.5         </td> <td>1.57143     </td>\n",
       "        </tr>\n",
       "        <tr>\n",
       "            <td>Daniher, Joe                </td> <td>1.14286   </td> <td>1.28571     </td> <td>1.28571     </td>\n",
       "        </tr>\n",
       "        <tr>\n",
       "            <td>Fantasia, Orazio            </td> <td>1.53846   </td> <td>1.23077     </td> <td>4.92308     </td>\n",
       "        </tr>\n",
       "        <tr>\n",
       "            <td>Green, Josh                 </td> <td>1.14286   </td> <td>0.857143    </td> <td>2.57143     </td>\n",
       "        </tr>\n",
       "        <tr>\n",
       "            <td>Laverde, Jayden             </td> <td>0.714286  </td> <td>0.857143    </td> <td>2.57143     </td>\n",
       "        </tr>\n",
       "        <tr>\n",
       "            <td>McDonald-Tipungwuti, Anthony</td> <td>1.18182   </td> <td>0.636364    </td> <td>4.5         </td>\n",
       "        </tr>\n",
       "        <tr>\n",
       "            <td>McKernan, Shaun             </td> <td>1.6       </td> <td>1.1         </td> <td>2.1         </td>\n",
       "        </tr>\n",
       "        <tr>\n",
       "            <td>Stewart, James              </td> <td>1.36364   </td> <td>1.18182     </td> <td>1.54545     </td>\n",
       "        </tr>\n",
       "    </tbody>\n",
       "</table>\n",
       "<p>... (1 rows omitted)</p>"
      ],
      "text/plain": [
       "Player                       | Goals mean | Behinds mean | Tackles mean\n",
       "Baguley, Mark                | 1          | 0.45         | 3.65\n",
       "Begley, Josh                 | 0.6        | 0.6          | 1.8\n",
       "Brown, Mitch                 | 1.28571    | 0.5          | 1.57143\n",
       "Daniher, Joe                 | 1.14286    | 1.28571      | 1.28571\n",
       "Fantasia, Orazio             | 1.53846    | 1.23077      | 4.92308\n",
       "Green, Josh                  | 1.14286    | 0.857143     | 2.57143\n",
       "Laverde, Jayden              | 0.714286   | 0.857143     | 2.57143\n",
       "McDonald-Tipungwuti, Anthony | 1.18182    | 0.636364     | 4.5\n",
       "McKernan, Shaun              | 1.6        | 1.1          | 2.1\n",
       "Stewart, James               | 1.36364    | 1.18182      | 1.54545\n",
       "... (1 rows omitted)"
      ]
     },
     "execution_count": 162,
     "metadata": {},
     "output_type": "execute_result"
    }
   ],
   "source": [
    "position_contribution(2018, \"Essendon\", \"Forward\")"
   ]
  },
  {
   "cell_type": "code",
   "execution_count": 163,
   "metadata": {},
   "outputs": [
    {
     "data": {
      "text/html": [
       "<table border=\"1\" class=\"dataframe\">\n",
       "    <thead>\n",
       "        <tr>\n",
       "            <th>Player</th> <th>Goals mean</th> <th>Behinds mean</th> <th>GoalAssists mean</th>\n",
       "        </tr>\n",
       "    </thead>\n",
       "    <tbody>\n",
       "        <tr>\n",
       "            <td>Merrett, Jackson</td> <td>0         </td> <td>0           </td> <td>1               </td>\n",
       "        </tr>\n",
       "    </tbody>\n",
       "</table>"
      ],
      "text/plain": [
       "Player           | Goals mean | Behinds mean | GoalAssists mean\n",
       "Merrett, Jackson | 0          | 0            | 1"
      ]
     },
     "execution_count": 163,
     "metadata": {},
     "output_type": "execute_result"
    }
   ],
   "source": [
    "position_contribution(2018, \"Essendon\", \"Defender, Forward\")"
   ]
  },
  {
   "cell_type": "code",
   "execution_count": 164,
   "metadata": {},
   "outputs": [
    {
     "data": {
      "text/html": [
       "<table border=\"1\" class=\"dataframe\">\n",
       "    <thead>\n",
       "        <tr>\n",
       "            <th>Player</th> <th>Goals mean</th> <th>Behinds mean</th> <th>Inside50s mean</th> <th>GoalAssists mean</th>\n",
       "        </tr>\n",
       "    </thead>\n",
       "    <tbody>\n",
       "        <tr>\n",
       "            <td>Clarke, Dylan   </td> <td>0         </td> <td>0           </td> <td>0             </td> <td>1               </td>\n",
       "        </tr>\n",
       "        <tr>\n",
       "            <td>Guelfi, Matt    </td> <td>0.454545  </td> <td>0.454545    </td> <td>2.36364       </td> <td>0.181818        </td>\n",
       "        </tr>\n",
       "        <tr>\n",
       "            <td>Heppell, Dyson  </td> <td>0.555556  </td> <td>0.166667    </td> <td>4.44444       </td> <td>0.5             </td>\n",
       "        </tr>\n",
       "        <tr>\n",
       "            <td>Long, Jake      </td> <td>0.5       </td> <td>0           </td> <td>1.5           </td> <td>0.5             </td>\n",
       "        </tr>\n",
       "        <tr>\n",
       "            <td>Merrett, Zach   </td> <td>0.277778  </td> <td>0.388889    </td> <td>3.72222       </td> <td>0.611111        </td>\n",
       "        </tr>\n",
       "        <tr>\n",
       "            <td>Mutch, Kobe     </td> <td>0.5       </td> <td>0           </td> <td>1.5           </td> <td>0.5             </td>\n",
       "        </tr>\n",
       "        <tr>\n",
       "            <td>Myers, David    </td> <td>0.909091  </td> <td>0.454545    </td> <td>4.54545       </td> <td>0.909091        </td>\n",
       "        </tr>\n",
       "        <tr>\n",
       "            <td>Zaharakis, David</td> <td>0.466667  </td> <td>0.4         </td> <td>4.13333       </td> <td>0.8             </td>\n",
       "        </tr>\n",
       "    </tbody>\n",
       "</table>"
      ],
      "text/plain": [
       "Player           | Goals mean | Behinds mean | Inside50s mean | GoalAssists mean\n",
       "Clarke, Dylan    | 0          | 0            | 0              | 1\n",
       "Guelfi, Matt     | 0.454545   | 0.454545     | 2.36364        | 0.181818\n",
       "Heppell, Dyson   | 0.555556   | 0.166667     | 4.44444        | 0.5\n",
       "Long, Jake       | 0.5        | 0            | 1.5            | 0.5\n",
       "Merrett, Zach    | 0.277778   | 0.388889     | 3.72222        | 0.611111\n",
       "Mutch, Kobe      | 0.5        | 0            | 1.5            | 0.5\n",
       "Myers, David     | 0.909091   | 0.454545     | 4.54545        | 0.909091\n",
       "Zaharakis, David | 0.466667   | 0.4          | 4.13333        | 0.8"
      ]
     },
     "execution_count": 164,
     "metadata": {},
     "output_type": "execute_result"
    }
   ],
   "source": [
    "position_contribution(2018, \"Essendon\", \"Midfield\")"
   ]
  },
  {
   "cell_type": "code",
   "execution_count": 165,
   "metadata": {},
   "outputs": [
    {
     "data": {
      "text/html": [
       "<table border=\"1\" class=\"dataframe\">\n",
       "    <thead>\n",
       "        <tr>\n",
       "            <th>Player</th> <th>Goals mean</th> <th>Behinds mean</th> <th>Inside50s mean</th> <th>GoalAssists mean</th>\n",
       "        </tr>\n",
       "    </thead>\n",
       "    <tbody>\n",
       "        <tr>\n",
       "            <td>Colyer, Travis</td> <td>0.333333  </td> <td>0.333333    </td> <td>2.83333       </td> <td>0.166667        </td>\n",
       "        </tr>\n",
       "        <tr>\n",
       "            <td>Langford, Kyle</td> <td>0.6       </td> <td>0.533333    </td> <td>3.53333       </td> <td>0.466667        </td>\n",
       "        </tr>\n",
       "        <tr>\n",
       "            <td>Parish, Darcy </td> <td>0.357143  </td> <td>0.642857    </td> <td>2.92857       </td> <td>0.571429        </td>\n",
       "        </tr>\n",
       "        <tr>\n",
       "            <td>Smith, Devon  </td> <td>0.809524  </td> <td>0.714286    </td> <td>3.09524       </td> <td>0.428571        </td>\n",
       "        </tr>\n",
       "    </tbody>\n",
       "</table>"
      ],
      "text/plain": [
       "Player         | Goals mean | Behinds mean | Inside50s mean | GoalAssists mean\n",
       "Colyer, Travis | 0.333333   | 0.333333     | 2.83333        | 0.166667\n",
       "Langford, Kyle | 0.6        | 0.533333     | 3.53333        | 0.466667\n",
       "Parish, Darcy  | 0.357143   | 0.642857     | 2.92857        | 0.571429\n",
       "Smith, Devon   | 0.809524   | 0.714286     | 3.09524        | 0.428571"
      ]
     },
     "execution_count": 165,
     "metadata": {},
     "output_type": "execute_result"
    }
   ],
   "source": [
    "position_contribution(2018, \"Essendon\", \"Midfield, Forward\")"
   ]
  },
  {
   "cell_type": "code",
   "execution_count": 166,
   "metadata": {},
   "outputs": [
    {
     "data": {
      "text/html": [
       "<table border=\"1\" class=\"dataframe\">\n",
       "    <thead>\n",
       "        <tr>\n",
       "            <th>Player</th> <th>Goals mean</th> <th>Behinds mean</th> <th>Tackles mean</th> <th>Rebound50s mean</th>\n",
       "        </tr>\n",
       "    </thead>\n",
       "    <tbody>\n",
       "        <tr>\n",
       "            <td>Goddard, Brendon</td> <td>0.15      </td> <td>0.1         </td> <td>1.7         </td> <td>2.8            </td>\n",
       "        </tr>\n",
       "        <tr>\n",
       "            <td>McGrath, Andrew </td> <td>0.277778  </td> <td>0.0555556   </td> <td>2.38889     </td> <td>2.22222        </td>\n",
       "        </tr>\n",
       "    </tbody>\n",
       "</table>"
      ],
      "text/plain": [
       "Player           | Goals mean | Behinds mean | Tackles mean | Rebound50s mean\n",
       "Goddard, Brendon | 0.15       | 0.1          | 1.7          | 2.8\n",
       "McGrath, Andrew  | 0.277778   | 0.0555556    | 2.38889      | 2.22222"
      ]
     },
     "execution_count": 166,
     "metadata": {},
     "output_type": "execute_result"
    }
   ],
   "source": [
    "position_contribution(2018, \"Essendon\", \"Defender, Midfield\")"
   ]
  },
  {
   "cell_type": "code",
   "execution_count": 167,
   "metadata": {},
   "outputs": [
    {
     "data": {
      "text/html": [
       "<table border=\"1\" class=\"dataframe\">\n",
       "    <thead>\n",
       "        <tr>\n",
       "            <th>Player</th> <th>Height mean</th> <th>Disposals mean</th> <th>Hitouts mean</th>\n",
       "        </tr>\n",
       "    </thead>\n",
       "    <tbody>\n",
       "        <tr>\n",
       "            <td>Martin, Stefan</td> <td>199        </td> <td>18.7619       </td> <td>34.381      </td>\n",
       "        </tr>\n",
       "    </tbody>\n",
       "</table>"
      ],
      "text/plain": [
       "Player         | Height mean | Disposals mean | Hitouts mean\n",
       "Martin, Stefan | 199         | 18.7619        | 34.381"
      ]
     },
     "execution_count": 167,
     "metadata": {},
     "output_type": "execute_result"
    }
   ],
   "source": [
    "#Brisbane Lions\n",
    "position_contribution(2018, \"Brisbane Lions\", \"Ruck\")"
   ]
  },
  {
   "cell_type": "code",
   "execution_count": 168,
   "metadata": {},
   "outputs": [
    {
     "data": {
      "text/html": [
       "<table border=\"1\" class=\"dataframe\">\n",
       "    <thead>\n",
       "        <tr>\n",
       "            <th>Player</th> <th>Height mean</th> <th>Disposals mean</th> <th>Goals mean</th>\n",
       "        </tr>\n",
       "    </thead>\n",
       "    <tbody>\n",
       "    </tbody>\n",
       "</table>"
      ],
      "text/plain": [
       "Player | Height mean | Disposals mean | Goals mean"
      ]
     },
     "execution_count": 168,
     "metadata": {},
     "output_type": "execute_result"
    }
   ],
   "source": [
    "position_contribution(2018, \"Brisbane Lions\", \"Forward, Ruck\")"
   ]
  },
  {
   "cell_type": "code",
   "execution_count": 169,
   "metadata": {},
   "outputs": [
    {
     "data": {
      "text/html": [
       "<table border=\"1\" class=\"dataframe\">\n",
       "    <thead>\n",
       "        <tr>\n",
       "            <th>Player</th> <th>Height mean</th> <th>Disposals mean</th> <th>Goals mean</th>\n",
       "        </tr>\n",
       "    </thead>\n",
       "    <tbody>\n",
       "    </tbody>\n",
       "</table>"
      ],
      "text/plain": [
       "Player | Height mean | Disposals mean | Goals mean"
      ]
     },
     "execution_count": 169,
     "metadata": {},
     "output_type": "execute_result"
    }
   ],
   "source": [
    "position_contribution(2018, \"Brisbane Lions\", \"Midfield, Ruck\")"
   ]
  },
  {
   "cell_type": "code",
   "execution_count": 170,
   "metadata": {},
   "outputs": [
    {
     "data": {
      "text/html": [
       "<table border=\"1\" class=\"dataframe\">\n",
       "    <thead>\n",
       "        <tr>\n",
       "            <th>Player</th> <th>Tackles mean</th> <th>Rebound50s mean</th> <th>OnePercenters mean</th>\n",
       "        </tr>\n",
       "    </thead>\n",
       "    <tbody>\n",
       "        <tr>\n",
       "            <td>Allison, Jacob </td> <td>0.333333    </td> <td>2.33333        </td> <td>3.33333           </td>\n",
       "        </tr>\n",
       "        <tr>\n",
       "            <td>Andrews, Harris</td> <td>2.16667     </td> <td>2.88889        </td> <td>11.3889           </td>\n",
       "        </tr>\n",
       "        <tr>\n",
       "            <td>Cox, Cedric    </td> <td>1.75        </td> <td>1.75           </td> <td>2.5               </td>\n",
       "        </tr>\n",
       "        <tr>\n",
       "            <td>Eagles, Matt   </td> <td>0.75        </td> <td>2.25           </td> <td>6.5               </td>\n",
       "        </tr>\n",
       "        <tr>\n",
       "            <td>Gardiner, Darcy</td> <td>2           </td> <td>3.15789        </td> <td>6.52632           </td>\n",
       "        </tr>\n",
       "        <tr>\n",
       "            <td>Hodge, Luke    </td> <td>2.125       </td> <td>3.25           </td> <td>4.875             </td>\n",
       "        </tr>\n",
       "        <tr>\n",
       "            <td>Lester, Ryan   </td> <td>2.66667     </td> <td>2.33333        </td> <td>3.6               </td>\n",
       "        </tr>\n",
       "        <tr>\n",
       "            <td>Mayes, Sam     </td> <td>1.5         </td> <td>1.66667        </td> <td>1                 </td>\n",
       "        </tr>\n",
       "        <tr>\n",
       "            <td>Rich, Daniel   </td> <td>2.33333     </td> <td>4.22222        </td> <td>1.94444           </td>\n",
       "        </tr>\n",
       "        <tr>\n",
       "            <td>Robertson, Nick</td> <td>2.04762     </td> <td>3              </td> <td>2.52381           </td>\n",
       "        </tr>\n",
       "    </tbody>\n",
       "</table>\n",
       "<p>... (2 rows omitted)</p>"
      ],
      "text/plain": [
       "Player          | Tackles mean | Rebound50s mean | OnePercenters mean\n",
       "Allison, Jacob  | 0.333333     | 2.33333         | 3.33333\n",
       "Andrews, Harris | 2.16667      | 2.88889         | 11.3889\n",
       "Cox, Cedric     | 1.75         | 1.75            | 2.5\n",
       "Eagles, Matt    | 0.75         | 2.25            | 6.5\n",
       "Gardiner, Darcy | 2            | 3.15789         | 6.52632\n",
       "Hodge, Luke     | 2.125        | 3.25            | 4.875\n",
       "Lester, Ryan    | 2.66667      | 2.33333         | 3.6\n",
       "Mayes, Sam      | 1.5          | 1.66667         | 1\n",
       "Rich, Daniel    | 2.33333      | 4.22222         | 1.94444\n",
       "Robertson, Nick | 2.04762      | 3               | 2.52381\n",
       "... (2 rows omitted)"
      ]
     },
     "execution_count": 170,
     "metadata": {},
     "output_type": "execute_result"
    }
   ],
   "source": [
    "position_contribution(2018, \"Brisbane Lions\", \"Defender\")"
   ]
  },
  {
   "cell_type": "code",
   "execution_count": 171,
   "metadata": {},
   "outputs": [
    {
     "data": {
      "text/html": [
       "<table border=\"1\" class=\"dataframe\">\n",
       "    <thead>\n",
       "        <tr>\n",
       "            <th>Player</th> <th>Goals mean</th> <th>Behinds mean</th> <th>Tackles mean</th>\n",
       "        </tr>\n",
       "    </thead>\n",
       "    <tbody>\n",
       "        <tr>\n",
       "            <td>Barrett, Jake     </td> <td>0.8       </td> <td>0           </td> <td>2.4         </td>\n",
       "        </tr>\n",
       "        <tr>\n",
       "            <td>Bell, Tom         </td> <td>1         </td> <td>1           </td> <td>0           </td>\n",
       "        </tr>\n",
       "        <tr>\n",
       "            <td>Cameron, Charlie  </td> <td>1.54545   </td> <td>0.363636    </td> <td>2.45455     </td>\n",
       "        </tr>\n",
       "        <tr>\n",
       "            <td>Christensen, Allen</td> <td>0.727273  </td> <td>0.636364    </td> <td>2.45455     </td>\n",
       "        </tr>\n",
       "        <tr>\n",
       "            <td>Hipwood, Eric     </td> <td>1.61905   </td> <td>1.28571     </td> <td>1.14286     </td>\n",
       "        </tr>\n",
       "        <tr>\n",
       "            <td>McInerney, Oscar  </td> <td>0.875     </td> <td>0.5         </td> <td>2.3125      </td>\n",
       "        </tr>\n",
       "        <tr>\n",
       "            <td>McStay, Daniel    </td> <td>1.11111   </td> <td>1           </td> <td>2.27778     </td>\n",
       "        </tr>\n",
       "        <tr>\n",
       "            <td>Rayner, Cameron   </td> <td>0.952381  </td> <td>0.619048    </td> <td>2.33333     </td>\n",
       "        </tr>\n",
       "        <tr>\n",
       "            <td>Taylor, Lewis     </td> <td>0.952381  </td> <td>0.333333    </td> <td>1.95238     </td>\n",
       "        </tr>\n",
       "    </tbody>\n",
       "</table>"
      ],
      "text/plain": [
       "Player             | Goals mean | Behinds mean | Tackles mean\n",
       "Barrett, Jake      | 0.8        | 0            | 2.4\n",
       "Bell, Tom          | 1          | 1            | 0\n",
       "Cameron, Charlie   | 1.54545    | 0.363636     | 2.45455\n",
       "Christensen, Allen | 0.727273   | 0.636364     | 2.45455\n",
       "Hipwood, Eric      | 1.61905    | 1.28571      | 1.14286\n",
       "McInerney, Oscar   | 0.875      | 0.5          | 2.3125\n",
       "McStay, Daniel     | 1.11111    | 1            | 2.27778\n",
       "Rayner, Cameron    | 0.952381   | 0.619048     | 2.33333\n",
       "Taylor, Lewis      | 0.952381   | 0.333333     | 1.95238"
      ]
     },
     "execution_count": 171,
     "metadata": {},
     "output_type": "execute_result"
    }
   ],
   "source": [
    "position_contribution(2018, \"Brisbane Lions\", \"Forward\")"
   ]
  },
  {
   "cell_type": "code",
   "execution_count": 172,
   "metadata": {},
   "outputs": [
    {
     "data": {
      "text/html": [
       "<table border=\"1\" class=\"dataframe\">\n",
       "    <thead>\n",
       "        <tr>\n",
       "            <th>Player</th> <th>Goals mean</th> <th>Behinds mean</th> <th>GoalAssists mean</th>\n",
       "        </tr>\n",
       "    </thead>\n",
       "    <tbody>\n",
       "    </tbody>\n",
       "</table>"
      ],
      "text/plain": [
       "Player | Goals mean | Behinds mean | GoalAssists mean"
      ]
     },
     "execution_count": 172,
     "metadata": {},
     "output_type": "execute_result"
    }
   ],
   "source": [
    "position_contribution(2018, \"Brisbane Lions\", \"Defender, Forward\")"
   ]
  },
  {
   "cell_type": "code",
   "execution_count": 173,
   "metadata": {},
   "outputs": [
    {
     "data": {
      "text/html": [
       "<table border=\"1\" class=\"dataframe\">\n",
       "    <thead>\n",
       "        <tr>\n",
       "            <th>Player</th> <th>Goals mean</th> <th>Behinds mean</th> <th>Inside50s mean</th> <th>GoalAssists mean</th>\n",
       "        </tr>\n",
       "    </thead>\n",
       "    <tbody>\n",
       "        <tr>\n",
       "            <td>Bastinac, Ryan  </td> <td>0         </td> <td>0.5         </td> <td>1.5           </td> <td>0               </td>\n",
       "        </tr>\n",
       "        <tr>\n",
       "            <td>Beams, Dayne    </td> <td>0.857143  </td> <td>0.619048    </td> <td>4.33333       </td> <td>0.333333        </td>\n",
       "        </tr>\n",
       "        <tr>\n",
       "            <td>Berry, Jarrod   </td> <td>0.6       </td> <td>0.2         </td> <td>3.3           </td> <td>1               </td>\n",
       "        </tr>\n",
       "        <tr>\n",
       "            <td>Cutler, Tom     </td> <td>0.625     </td> <td>0.9375      </td> <td>4.125         </td> <td>0.6875          </td>\n",
       "        </tr>\n",
       "        <tr>\n",
       "            <td>Keays, Ben      </td> <td>0.5       </td> <td>0.5         </td> <td>0.5           </td> <td>0               </td>\n",
       "        </tr>\n",
       "        <tr>\n",
       "            <td>McCluggage, Hugh</td> <td>0.526316  </td> <td>0.421053    </td> <td>2.73684       </td> <td>0.789474        </td>\n",
       "        </tr>\n",
       "        <tr>\n",
       "            <td>Zorko, Dayne    </td> <td>1.21053   </td> <td>0.842105    </td> <td>5.36842       </td> <td>0.684211        </td>\n",
       "        </tr>\n",
       "    </tbody>\n",
       "</table>"
      ],
      "text/plain": [
       "Player           | Goals mean | Behinds mean | Inside50s mean | GoalAssists mean\n",
       "Bastinac, Ryan   | 0          | 0.5          | 1.5            | 0\n",
       "Beams, Dayne     | 0.857143   | 0.619048     | 4.33333        | 0.333333\n",
       "Berry, Jarrod    | 0.6        | 0.2          | 3.3            | 1\n",
       "Cutler, Tom      | 0.625      | 0.9375       | 4.125          | 0.6875\n",
       "Keays, Ben       | 0.5        | 0.5          | 0.5            | 0\n",
       "McCluggage, Hugh | 0.526316   | 0.421053     | 2.73684        | 0.789474\n",
       "Zorko, Dayne     | 1.21053    | 0.842105     | 5.36842        | 0.684211"
      ]
     },
     "execution_count": 173,
     "metadata": {},
     "output_type": "execute_result"
    }
   ],
   "source": [
    "position_contribution(2018, \"Brisbane Lions\", \"Midfield\")"
   ]
  },
  {
   "cell_type": "code",
   "execution_count": 174,
   "metadata": {},
   "outputs": [
    {
     "data": {
      "text/html": [
       "<table border=\"1\" class=\"dataframe\">\n",
       "    <thead>\n",
       "        <tr>\n",
       "            <th>Player</th> <th>Goals mean</th> <th>Behinds mean</th> <th>Inside50s mean</th> <th>GoalAssists mean</th>\n",
       "        </tr>\n",
       "    </thead>\n",
       "    <tbody>\n",
       "        <tr>\n",
       "            <td>Bailey, Zac        </td> <td>0.5       </td> <td>0.4         </td> <td>2.2           </td> <td>0.3             </td>\n",
       "        </tr>\n",
       "        <tr>\n",
       "            <td>Bewick, Rohan      </td> <td>0.333333  </td> <td>1           </td> <td>3.66667       </td> <td>0.666667        </td>\n",
       "        </tr>\n",
       "        <tr>\n",
       "            <td>Mathieson, Rhys    </td> <td>0.333333  </td> <td>0.166667    </td> <td>1.75          </td> <td>0.5             </td>\n",
       "        </tr>\n",
       "        <tr>\n",
       "            <td>Robinson, Mitch    </td> <td>0.625     </td> <td>0.4375      </td> <td>4.0625        </td> <td>0.5             </td>\n",
       "        </tr>\n",
       "        <tr>\n",
       "            <td>Starcevich, Brandon</td> <td>0.25      </td> <td>0.5         </td> <td>2.5           </td> <td>0.75            </td>\n",
       "        </tr>\n",
       "    </tbody>\n",
       "</table>"
      ],
      "text/plain": [
       "Player              | Goals mean | Behinds mean | Inside50s mean | GoalAssists mean\n",
       "Bailey, Zac         | 0.5        | 0.4          | 2.2            | 0.3\n",
       "Bewick, Rohan       | 0.333333   | 1            | 3.66667        | 0.666667\n",
       "Mathieson, Rhys     | 0.333333   | 0.166667     | 1.75           | 0.5\n",
       "Robinson, Mitch     | 0.625      | 0.4375       | 4.0625         | 0.5\n",
       "Starcevich, Brandon | 0.25       | 0.5          | 2.5            | 0.75"
      ]
     },
     "execution_count": 174,
     "metadata": {},
     "output_type": "execute_result"
    }
   ],
   "source": [
    "position_contribution(2018, \"Brisbane Lions\", \"Midfield, Forward\")"
   ]
  },
  {
   "cell_type": "code",
   "execution_count": 175,
   "metadata": {},
   "outputs": [
    {
     "data": {
      "text/html": [
       "<table border=\"1\" class=\"dataframe\">\n",
       "    <thead>\n",
       "        <tr>\n",
       "            <th>Player</th> <th>Goals mean</th> <th>Behinds mean</th> <th>Tackles mean</th> <th>Rebound50s mean</th>\n",
       "        </tr>\n",
       "    </thead>\n",
       "    <tbody>\n",
       "    </tbody>\n",
       "</table>"
      ],
      "text/plain": [
       "Player | Goals mean | Behinds mean | Tackles mean | Rebound50s mean"
      ]
     },
     "execution_count": 175,
     "metadata": {},
     "output_type": "execute_result"
    }
   ],
   "source": [
    "position_contribution(2018, \"Brisbane Lions\", \"Defender, Midfield\")"
   ]
  },
  {
   "cell_type": "code",
   "execution_count": 176,
   "metadata": {},
   "outputs": [
    {
     "data": {
      "text/html": [
       "<table border=\"1\" class=\"dataframe\">\n",
       "    <thead>\n",
       "        <tr>\n",
       "            <th>Player</th> <th>Height mean</th> <th>Disposals mean</th> <th>Hitouts mean</th>\n",
       "        </tr>\n",
       "    </thead>\n",
       "    <tbody>\n",
       "        <tr>\n",
       "            <td>Frampton, Billy</td> <td>200        </td> <td>7             </td> <td>15          </td>\n",
       "        </tr>\n",
       "        <tr>\n",
       "            <td>Ryder, Paddy   </td> <td>197        </td> <td>9.6875        </td> <td>30.5625     </td>\n",
       "        </tr>\n",
       "    </tbody>\n",
       "</table>"
      ],
      "text/plain": [
       "Player          | Height mean | Disposals mean | Hitouts mean\n",
       "Frampton, Billy | 200         | 7              | 15\n",
       "Ryder, Paddy    | 197         | 9.6875         | 30.5625"
      ]
     },
     "execution_count": 176,
     "metadata": {},
     "output_type": "execute_result"
    }
   ],
   "source": [
    "#Port Adelaide\n",
    "position_contribution(2018, \"Port Adelaide\", \"Ruck\")"
   ]
  },
  {
   "cell_type": "code",
   "execution_count": 177,
   "metadata": {},
   "outputs": [
    {
     "data": {
      "text/html": [
       "<table border=\"1\" class=\"dataframe\">\n",
       "    <thead>\n",
       "        <tr>\n",
       "            <th>Player</th> <th>Height mean</th> <th>Disposals mean</th> <th>Goals mean</th>\n",
       "        </tr>\n",
       "    </thead>\n",
       "    <tbody>\n",
       "        <tr>\n",
       "            <td>Westhoff, Justin</td> <td>200        </td> <td>19.9091       </td> <td>1.09091   </td>\n",
       "        </tr>\n",
       "    </tbody>\n",
       "</table>"
      ],
      "text/plain": [
       "Player           | Height mean | Disposals mean | Goals mean\n",
       "Westhoff, Justin | 200         | 19.9091        | 1.09091"
      ]
     },
     "execution_count": 177,
     "metadata": {},
     "output_type": "execute_result"
    }
   ],
   "source": [
    "position_contribution(2018, \"Port Adelaide\", \"Forward, Ruck\")"
   ]
  },
  {
   "cell_type": "code",
   "execution_count": 178,
   "metadata": {},
   "outputs": [
    {
     "data": {
      "text/html": [
       "<table border=\"1\" class=\"dataframe\">\n",
       "    <thead>\n",
       "        <tr>\n",
       "            <th>Player</th> <th>Height mean</th> <th>Disposals mean</th> <th>Goals mean</th>\n",
       "        </tr>\n",
       "    </thead>\n",
       "    <tbody>\n",
       "    </tbody>\n",
       "</table>"
      ],
      "text/plain": [
       "Player | Height mean | Disposals mean | Goals mean"
      ]
     },
     "execution_count": 178,
     "metadata": {},
     "output_type": "execute_result"
    }
   ],
   "source": [
    "position_contribution(2018, \"Port Adelaide\", \"Midfield, Ruck\")"
   ]
  },
  {
   "cell_type": "code",
   "execution_count": 179,
   "metadata": {},
   "outputs": [
    {
     "data": {
      "text/html": [
       "<table border=\"1\" class=\"dataframe\">\n",
       "    <thead>\n",
       "        <tr>\n",
       "            <th>Player</th> <th>Tackles mean</th> <th>Rebound50s mean</th> <th>OnePercenters mean</th>\n",
       "        </tr>\n",
       "    </thead>\n",
       "    <tbody>\n",
       "        <tr>\n",
       "            <td>Bonner, Riley     </td> <td>1.29412     </td> <td>3.47059        </td> <td>1.82353           </td>\n",
       "        </tr>\n",
       "        <tr>\n",
       "            <td>Byrne-Jones, Darcy</td> <td>3.14286     </td> <td>2.7619         </td> <td>1.85714           </td>\n",
       "        </tr>\n",
       "        <tr>\n",
       "            <td>Clurey, Tom       </td> <td>1.89474     </td> <td>3.21053        </td> <td>6.15789           </td>\n",
       "        </tr>\n",
       "        <tr>\n",
       "            <td>Hartlett, Hamish  </td> <td>2.4         </td> <td>2.6            </td> <td>3.6               </td>\n",
       "        </tr>\n",
       "        <tr>\n",
       "            <td>Hombsch, Jack     </td> <td>1.64286     </td> <td>2.07143        </td> <td>5.78571           </td>\n",
       "        </tr>\n",
       "        <tr>\n",
       "            <td>Houston, Dan      </td> <td>2.68421     </td> <td>3.89474        </td> <td>3.68421           </td>\n",
       "        </tr>\n",
       "        <tr>\n",
       "            <td>Howard, Dougal    </td> <td>1.52632     </td> <td>2.47368        </td> <td>11.5263           </td>\n",
       "        </tr>\n",
       "        <tr>\n",
       "            <td>Jonas, Tom        </td> <td>1.94444     </td> <td>4.72222        </td> <td>8                 </td>\n",
       "        </tr>\n",
       "        <tr>\n",
       "            <td>Lienert, Jarrod   </td> <td>2           </td> <td>3.33333        </td> <td>3.5               </td>\n",
       "        </tr>\n",
       "        <tr>\n",
       "            <td>McKenzie, Trent   </td> <td>2           </td> <td>4              </td> <td>3                 </td>\n",
       "        </tr>\n",
       "    </tbody>\n",
       "</table>\n",
       "<p>... (2 rows omitted)</p>"
      ],
      "text/plain": [
       "Player             | Tackles mean | Rebound50s mean | OnePercenters mean\n",
       "Bonner, Riley      | 1.29412      | 3.47059         | 1.82353\n",
       "Byrne-Jones, Darcy | 3.14286      | 2.7619          | 1.85714\n",
       "Clurey, Tom        | 1.89474      | 3.21053         | 6.15789\n",
       "Hartlett, Hamish   | 2.4          | 2.6             | 3.6\n",
       "Hombsch, Jack      | 1.64286      | 2.07143         | 5.78571\n",
       "Houston, Dan       | 2.68421      | 3.89474         | 3.68421\n",
       "Howard, Dougal     | 1.52632      | 2.47368         | 11.5263\n",
       "Jonas, Tom         | 1.94444      | 4.72222         | 8\n",
       "Lienert, Jarrod    | 2            | 3.33333         | 3.5\n",
       "McKenzie, Trent    | 2            | 4               | 3\n",
       "... (2 rows omitted)"
      ]
     },
     "execution_count": 179,
     "metadata": {},
     "output_type": "execute_result"
    }
   ],
   "source": [
    "position_contribution(2018, \"Port Adelaide\", \"Defender\")"
   ]
  },
  {
   "cell_type": "code",
   "execution_count": 180,
   "metadata": {},
   "outputs": [
    {
     "data": {
      "text/html": [
       "<table border=\"1\" class=\"dataframe\">\n",
       "    <thead>\n",
       "        <tr>\n",
       "            <th>Player</th> <th>Goals mean</th> <th>Behinds mean</th> <th>Tackles mean</th>\n",
       "        </tr>\n",
       "    </thead>\n",
       "    <tbody>\n",
       "        <tr>\n",
       "            <td>Boak, Travis   </td> <td>0.857143  </td> <td>0.571429    </td> <td>4.38095     </td>\n",
       "        </tr>\n",
       "        <tr>\n",
       "            <td>Dixon, Charlie </td> <td>1.38889   </td> <td>1.27778     </td> <td>2.55556     </td>\n",
       "        </tr>\n",
       "        <tr>\n",
       "            <td>Farrell, Kane  </td> <td>1.2       </td> <td>0.4         </td> <td>2           </td>\n",
       "        </tr>\n",
       "        <tr>\n",
       "            <td>Gray, Sam      </td> <td>1.11111   </td> <td>0.833333    </td> <td>2.83333     </td>\n",
       "        </tr>\n",
       "        <tr>\n",
       "            <td>Johnson, Aidyn </td> <td>1.2       </td> <td>0.2         </td> <td>3           </td>\n",
       "        </tr>\n",
       "        <tr>\n",
       "            <td>Marshall, Todd </td> <td>1.57143   </td> <td>1           </td> <td>1.71429     </td>\n",
       "        </tr>\n",
       "        <tr>\n",
       "            <td>Neade, Jake    </td> <td>0.5       </td> <td>0.75        </td> <td>3.875       </td>\n",
       "        </tr>\n",
       "        <tr>\n",
       "            <td>Thomas, Lindsay</td> <td>0.571429  </td> <td>0.857143    </td> <td>4           </td>\n",
       "        </tr>\n",
       "        <tr>\n",
       "            <td>Watts, Jack    </td> <td>0.947368  </td> <td>0.421053    </td> <td>2.68421     </td>\n",
       "        </tr>\n",
       "    </tbody>\n",
       "</table>"
      ],
      "text/plain": [
       "Player          | Goals mean | Behinds mean | Tackles mean\n",
       "Boak, Travis    | 0.857143   | 0.571429     | 4.38095\n",
       "Dixon, Charlie  | 1.38889    | 1.27778      | 2.55556\n",
       "Farrell, Kane   | 1.2        | 0.4          | 2\n",
       "Gray, Sam       | 1.11111    | 0.833333     | 2.83333\n",
       "Johnson, Aidyn  | 1.2        | 0.2          | 3\n",
       "Marshall, Todd  | 1.57143    | 1            | 1.71429\n",
       "Neade, Jake     | 0.5        | 0.75         | 3.875\n",
       "Thomas, Lindsay | 0.571429   | 0.857143     | 4\n",
       "Watts, Jack     | 0.947368   | 0.421053     | 2.68421"
      ]
     },
     "execution_count": 180,
     "metadata": {},
     "output_type": "execute_result"
    }
   ],
   "source": [
    "position_contribution(2018, \"Port Adelaide\", \"Forward\")"
   ]
  },
  {
   "cell_type": "code",
   "execution_count": 181,
   "metadata": {},
   "outputs": [
    {
     "data": {
      "text/html": [
       "<table border=\"1\" class=\"dataframe\">\n",
       "    <thead>\n",
       "        <tr>\n",
       "            <th>Player</th> <th>Goals mean</th> <th>Behinds mean</th> <th>GoalAssists mean</th>\n",
       "        </tr>\n",
       "    </thead>\n",
       "    <tbody>\n",
       "    </tbody>\n",
       "</table>"
      ],
      "text/plain": [
       "Player | Goals mean | Behinds mean | GoalAssists mean"
      ]
     },
     "execution_count": 181,
     "metadata": {},
     "output_type": "execute_result"
    }
   ],
   "source": [
    "position_contribution(2018, \"Port Adelaide\", \"Defender, Forward\")"
   ]
  },
  {
   "cell_type": "code",
   "execution_count": 182,
   "metadata": {},
   "outputs": [
    {
     "data": {
      "text/html": [
       "<table border=\"1\" class=\"dataframe\">\n",
       "    <thead>\n",
       "        <tr>\n",
       "            <th>Player</th> <th>Goals mean</th> <th>Behinds mean</th> <th>Inside50s mean</th> <th>GoalAssists mean</th>\n",
       "        </tr>\n",
       "    </thead>\n",
       "    <tbody>\n",
       "        <tr>\n",
       "            <td>Amon, Karl        </td> <td>0.333333  </td> <td>0           </td> <td>2.66667       </td> <td>0.5             </td>\n",
       "        </tr>\n",
       "        <tr>\n",
       "            <td>Barry, Dom        </td> <td>0         </td> <td>0.75        </td> <td>3             </td> <td>0.25            </td>\n",
       "        </tr>\n",
       "        <tr>\n",
       "            <td>Ebert, Brad       </td> <td>0.315789  </td> <td>0.210526    </td> <td>3.42105       </td> <td>0.842105        </td>\n",
       "        </tr>\n",
       "        <tr>\n",
       "            <td>Polec, Jared      </td> <td>0.388889  </td> <td>0.444444    </td> <td>4.11111       </td> <td>0.666667        </td>\n",
       "        </tr>\n",
       "        <tr>\n",
       "            <td>Powell-Pepper, Sam</td> <td>0.333333  </td> <td>0.8         </td> <td>4.06667       </td> <td>0.6             </td>\n",
       "        </tr>\n",
       "        <tr>\n",
       "            <td>Rockliff, Tom     </td> <td>0.583333  </td> <td>0.416667    </td> <td>3.33333       </td> <td>0.5             </td>\n",
       "        </tr>\n",
       "        <tr>\n",
       "            <td>Wines, Ollie      </td> <td>0.176471  </td> <td>0.470588    </td> <td>4.05882       </td> <td>0.647059        </td>\n",
       "        </tr>\n",
       "    </tbody>\n",
       "</table>"
      ],
      "text/plain": [
       "Player             | Goals mean | Behinds mean | Inside50s mean | GoalAssists mean\n",
       "Amon, Karl         | 0.333333   | 0            | 2.66667        | 0.5\n",
       "Barry, Dom         | 0          | 0.75         | 3              | 0.25\n",
       "Ebert, Brad        | 0.315789   | 0.210526     | 3.42105        | 0.842105\n",
       "Polec, Jared       | 0.388889   | 0.444444     | 4.11111        | 0.666667\n",
       "Powell-Pepper, Sam | 0.333333   | 0.8          | 4.06667        | 0.6\n",
       "Rockliff, Tom      | 0.583333   | 0.416667     | 3.33333        | 0.5\n",
       "Wines, Ollie       | 0.176471   | 0.470588     | 4.05882        | 0.647059"
      ]
     },
     "execution_count": 182,
     "metadata": {},
     "output_type": "execute_result"
    }
   ],
   "source": [
    "position_contribution(2018, \"Port Adelaide\", \"Midfield\")"
   ]
  },
  {
   "cell_type": "code",
   "execution_count": 183,
   "metadata": {},
   "outputs": [
    {
     "data": {
      "text/html": [
       "<table border=\"1\" class=\"dataframe\">\n",
       "    <thead>\n",
       "        <tr>\n",
       "            <th>Player</th> <th>Goals mean</th> <th>Behinds mean</th> <th>Inside50s mean</th> <th>GoalAssists mean</th>\n",
       "        </tr>\n",
       "    </thead>\n",
       "    <tbody>\n",
       "        <tr>\n",
       "            <td>Gray, Robbie  </td> <td>1.75      </td> <td>0.85        </td> <td>2.65          </td> <td>0.4             </td>\n",
       "        </tr>\n",
       "        <tr>\n",
       "            <td>Motlop, Steven</td> <td>0.578947  </td> <td>0.315789    </td> <td>4             </td> <td>0.578947        </td>\n",
       "        </tr>\n",
       "        <tr>\n",
       "            <td>Wingard, Chad </td> <td>1.1       </td> <td>0.95        </td> <td>4.35          </td> <td>0.75            </td>\n",
       "        </tr>\n",
       "    </tbody>\n",
       "</table>"
      ],
      "text/plain": [
       "Player         | Goals mean | Behinds mean | Inside50s mean | GoalAssists mean\n",
       "Gray, Robbie   | 1.75       | 0.85         | 2.65           | 0.4\n",
       "Motlop, Steven | 0.578947   | 0.315789     | 4              | 0.578947\n",
       "Wingard, Chad  | 1.1        | 0.95         | 4.35           | 0.75"
      ]
     },
     "execution_count": 183,
     "metadata": {},
     "output_type": "execute_result"
    }
   ],
   "source": [
    "position_contribution(2018, \"Port Adelaide\", \"Midfield, Forward\")"
   ]
  },
  {
   "cell_type": "code",
   "execution_count": 184,
   "metadata": {},
   "outputs": [
    {
     "data": {
      "text/html": [
       "<table border=\"1\" class=\"dataframe\">\n",
       "    <thead>\n",
       "        <tr>\n",
       "            <th>Player</th> <th>Goals mean</th> <th>Behinds mean</th> <th>Tackles mean</th> <th>Rebound50s mean</th>\n",
       "        </tr>\n",
       "    </thead>\n",
       "    <tbody>\n",
       "    </tbody>\n",
       "</table>"
      ],
      "text/plain": [
       "Player | Goals mean | Behinds mean | Tackles mean | Rebound50s mean"
      ]
     },
     "execution_count": 184,
     "metadata": {},
     "output_type": "execute_result"
    }
   ],
   "source": [
    "position_contribution(2018, \"Port Adelaide\", \"Defender, Midfield\")"
   ]
  },
  {
   "cell_type": "code",
   "execution_count": 185,
   "metadata": {},
   "outputs": [
    {
     "data": {
      "text/html": [
       "<table border=\"1\" class=\"dataframe\">\n",
       "    <thead>\n",
       "        <tr>\n",
       "            <th>Player</th> <th>Height mean</th> <th>Disposals mean</th> <th>Hitouts mean</th>\n",
       "        </tr>\n",
       "    </thead>\n",
       "    <tbody>\n",
       "        <tr>\n",
       "            <td>English, Tim</td> <td>205        </td> <td>13            </td> <td>13.8571     </td>\n",
       "        </tr>\n",
       "    </tbody>\n",
       "</table>"
      ],
      "text/plain": [
       "Player       | Height mean | Disposals mean | Hitouts mean\n",
       "English, Tim | 205         | 13             | 13.8571"
      ]
     },
     "execution_count": 185,
     "metadata": {},
     "output_type": "execute_result"
    }
   ],
   "source": [
    "#Western Bulldogs\n",
    "position_contribution(2018, \"Western Bulldogs\", \"Ruck\")"
   ]
  },
  {
   "cell_type": "code",
   "execution_count": 186,
   "metadata": {},
   "outputs": [
    {
     "data": {
      "text/html": [
       "<table border=\"1\" class=\"dataframe\">\n",
       "    <thead>\n",
       "        <tr>\n",
       "            <th>Player</th> <th>Height mean</th> <th>Disposals mean</th> <th>Goals mean</th>\n",
       "        </tr>\n",
       "    </thead>\n",
       "    <tbody>\n",
       "        <tr>\n",
       "            <td>Boyd, Tom       </td> <td>200        </td> <td>11.0833       </td> <td>0.5       </td>\n",
       "        </tr>\n",
       "        <tr>\n",
       "            <td>Roughead, Jordan</td> <td>200        </td> <td>11.75         </td> <td>0.5       </td>\n",
       "        </tr>\n",
       "    </tbody>\n",
       "</table>"
      ],
      "text/plain": [
       "Player           | Height mean | Disposals mean | Goals mean\n",
       "Boyd, Tom        | 200         | 11.0833        | 0.5\n",
       "Roughead, Jordan | 200         | 11.75          | 0.5"
      ]
     },
     "execution_count": 186,
     "metadata": {},
     "output_type": "execute_result"
    }
   ],
   "source": [
    "position_contribution(2018, \"Western Bulldogs\", \"Forward, Ruck\")"
   ]
  },
  {
   "cell_type": "code",
   "execution_count": 187,
   "metadata": {},
   "outputs": [
    {
     "data": {
      "text/html": [
       "<table border=\"1\" class=\"dataframe\">\n",
       "    <thead>\n",
       "        <tr>\n",
       "            <th>Player</th> <th>Height mean</th> <th>Disposals mean</th> <th>Goals mean</th>\n",
       "        </tr>\n",
       "    </thead>\n",
       "    <tbody>\n",
       "    </tbody>\n",
       "</table>"
      ],
      "text/plain": [
       "Player | Height mean | Disposals mean | Goals mean"
      ]
     },
     "execution_count": 187,
     "metadata": {},
     "output_type": "execute_result"
    }
   ],
   "source": [
    "position_contribution(2018, \"Western Bulldogs\", \"Midfield, Ruck\")"
   ]
  },
  {
   "cell_type": "code",
   "execution_count": 188,
   "metadata": {},
   "outputs": [
    {
     "data": {
      "text/html": [
       "<table border=\"1\" class=\"dataframe\">\n",
       "    <thead>\n",
       "        <tr>\n",
       "            <th>Player</th> <th>Tackles mean</th> <th>Rebound50s mean</th> <th>OnePercenters mean</th>\n",
       "        </tr>\n",
       "    </thead>\n",
       "    <tbody>\n",
       "        <tr>\n",
       "            <td>Adams, Marcus    </td> <td>2           </td> <td>3              </td> <td>7                 </td>\n",
       "        </tr>\n",
       "        <tr>\n",
       "            <td>Biggs, Shane     </td> <td>2.25        </td> <td>2              </td> <td>0.5               </td>\n",
       "        </tr>\n",
       "        <tr>\n",
       "            <td>Cordy, Zaine     </td> <td>1.94444     </td> <td>1.88889        </td> <td>5.05556           </td>\n",
       "        </tr>\n",
       "        <tr>\n",
       "            <td>Crozier, Hayden  </td> <td>2.76471     </td> <td>4.17647        </td> <td>3.64706           </td>\n",
       "        </tr>\n",
       "        <tr>\n",
       "            <td>Johannisen, Jason</td> <td>2.21053     </td> <td>3.21053        </td> <td>2                 </td>\n",
       "        </tr>\n",
       "        <tr>\n",
       "            <td>Morris, Dale     </td> <td>2.09091     </td> <td>1.63636        </td> <td>5.54545           </td>\n",
       "        </tr>\n",
       "        <tr>\n",
       "            <td>Naughton, Aaron  </td> <td>2.11765     </td> <td>2.41176        </td> <td>4.17647           </td>\n",
       "        </tr>\n",
       "        <tr>\n",
       "            <td>Richards, Ed     </td> <td>2.5         </td> <td>1.61111        </td> <td>1.83333           </td>\n",
       "        </tr>\n",
       "        <tr>\n",
       "            <td>Roberts, Fletcher</td> <td>0.5         </td> <td>4              </td> <td>8                 </td>\n",
       "        </tr>\n",
       "        <tr>\n",
       "            <td>Smith, Roarke    </td> <td>1.33333     </td> <td>0.777778       </td> <td>2.11111           </td>\n",
       "        </tr>\n",
       "    </tbody>\n",
       "</table>\n",
       "<p>... (5 rows omitted)</p>"
      ],
      "text/plain": [
       "Player            | Tackles mean | Rebound50s mean | OnePercenters mean\n",
       "Adams, Marcus     | 2            | 3               | 7\n",
       "Biggs, Shane      | 2.25         | 2               | 0.5\n",
       "Cordy, Zaine      | 1.94444      | 1.88889         | 5.05556\n",
       "Crozier, Hayden   | 2.76471      | 4.17647         | 3.64706\n",
       "Johannisen, Jason | 2.21053      | 3.21053         | 2\n",
       "Morris, Dale      | 2.09091      | 1.63636         | 5.54545\n",
       "Naughton, Aaron   | 2.11765      | 2.41176         | 4.17647\n",
       "Richards, Ed      | 2.5          | 1.61111         | 1.83333\n",
       "Roberts, Fletcher | 0.5          | 4               | 8\n",
       "Smith, Roarke     | 1.33333      | 0.777778        | 2.11111\n",
       "... (5 rows omitted)"
      ]
     },
     "execution_count": 188,
     "metadata": {},
     "output_type": "execute_result"
    }
   ],
   "source": [
    "position_contribution(2018, \"Western Bulldogs\", \"Defender\")"
   ]
  },
  {
   "cell_type": "code",
   "execution_count": 189,
   "metadata": {},
   "outputs": [
    {
     "data": {
      "text/html": [
       "<table border=\"1\" class=\"dataframe\">\n",
       "    <thead>\n",
       "        <tr>\n",
       "            <th>Player</th> <th>Goals mean</th> <th>Behinds mean</th> <th>Tackles mean</th>\n",
       "        </tr>\n",
       "    </thead>\n",
       "    <tbody>\n",
       "        <tr>\n",
       "            <td>Daniel, Caleb     </td> <td>0.2       </td> <td>0.35        </td> <td>3.15        </td>\n",
       "        </tr>\n",
       "        <tr>\n",
       "            <td>Dickson, Tory     </td> <td>1         </td> <td>0.125       </td> <td>1.875       </td>\n",
       "        </tr>\n",
       "        <tr>\n",
       "            <td>Gowers, Billy     </td> <td>1.3       </td> <td>1           </td> <td>2           </td>\n",
       "        </tr>\n",
       "        <tr>\n",
       "            <td>Greene, Fergus    </td> <td>1         </td> <td>1.2         </td> <td>3           </td>\n",
       "        </tr>\n",
       "        <tr>\n",
       "            <td>Honeychurch, Mitch</td> <td>0.230769  </td> <td>0.384615    </td> <td>4           </td>\n",
       "        </tr>\n",
       "        <tr>\n",
       "            <td>Redpath, Jack     </td> <td>0.5       </td> <td>0           </td> <td>0           </td>\n",
       "        </tr>\n",
       "        <tr>\n",
       "            <td>Schache, Josh     </td> <td>1.30769   </td> <td>0.846154    </td> <td>1.07692     </td>\n",
       "        </tr>\n",
       "        <tr>\n",
       "            <td>Webb, Lukas       </td> <td>0.2       </td> <td>0.4         </td> <td>3.2         </td>\n",
       "        </tr>\n",
       "    </tbody>\n",
       "</table>"
      ],
      "text/plain": [
       "Player             | Goals mean | Behinds mean | Tackles mean\n",
       "Daniel, Caleb      | 0.2        | 0.35         | 3.15\n",
       "Dickson, Tory      | 1          | 0.125        | 1.875\n",
       "Gowers, Billy      | 1.3        | 1            | 2\n",
       "Greene, Fergus     | 1          | 1.2          | 3\n",
       "Honeychurch, Mitch | 0.230769   | 0.384615     | 4\n",
       "Redpath, Jack      | 0.5        | 0            | 0\n",
       "Schache, Josh      | 1.30769    | 0.846154     | 1.07692\n",
       "Webb, Lukas        | 0.2        | 0.4          | 3.2"
      ]
     },
     "execution_count": 189,
     "metadata": {},
     "output_type": "execute_result"
    }
   ],
   "source": [
    "position_contribution(2018, \"Western Bulldogs\", \"Forward\")"
   ]
  },
  {
   "cell_type": "code",
   "execution_count": 190,
   "metadata": {},
   "outputs": [
    {
     "data": {
      "text/html": [
       "<table border=\"1\" class=\"dataframe\">\n",
       "    <thead>\n",
       "        <tr>\n",
       "            <th>Player</th> <th>Goals mean</th> <th>Behinds mean</th> <th>GoalAssists mean</th>\n",
       "        </tr>\n",
       "    </thead>\n",
       "    <tbody>\n",
       "        <tr>\n",
       "            <td>Lynch, Brad</td> <td>0.4       </td> <td>0.6         </td> <td>0.6             </td>\n",
       "        </tr>\n",
       "    </tbody>\n",
       "</table>"
      ],
      "text/plain": [
       "Player      | Goals mean | Behinds mean | GoalAssists mean\n",
       "Lynch, Brad | 0.4        | 0.6          | 0.6"
      ]
     },
     "execution_count": 190,
     "metadata": {},
     "output_type": "execute_result"
    }
   ],
   "source": [
    "position_contribution(2018, \"Western Bulldogs\", \"Defender, Forward\")"
   ]
  },
  {
   "cell_type": "code",
   "execution_count": 191,
   "metadata": {},
   "outputs": [
    {
     "data": {
      "text/html": [
       "<table border=\"1\" class=\"dataframe\">\n",
       "    <thead>\n",
       "        <tr>\n",
       "            <th>Player</th> <th>Goals mean</th> <th>Behinds mean</th> <th>Inside50s mean</th> <th>GoalAssists mean</th>\n",
       "        </tr>\n",
       "    </thead>\n",
       "    <tbody>\n",
       "        <tr>\n",
       "            <td>Bontempelli, Marcus</td> <td>1.22222   </td> <td>0.888889    </td> <td>4.55556       </td> <td>0.555556        </td>\n",
       "        </tr>\n",
       "        <tr>\n",
       "            <td>Hunter, Lachie     </td> <td>0.533333  </td> <td>0.533333    </td> <td>3.8           </td> <td>0.266667        </td>\n",
       "        </tr>\n",
       "        <tr>\n",
       "            <td>Liberatore, Tom    </td> <td>0         </td> <td>0           </td> <td>0             </td> <td>0               </td>\n",
       "        </tr>\n",
       "        <tr>\n",
       "            <td>Macrae, Jack       </td> <td>0.444444  </td> <td>0.277778    </td> <td>4.38889       </td> <td>0.777778        </td>\n",
       "        </tr>\n",
       "    </tbody>\n",
       "</table>"
      ],
      "text/plain": [
       "Player              | Goals mean | Behinds mean | Inside50s mean | GoalAssists mean\n",
       "Bontempelli, Marcus | 1.22222    | 0.888889     | 4.55556        | 0.555556\n",
       "Hunter, Lachie      | 0.533333   | 0.533333     | 3.8            | 0.266667\n",
       "Liberatore, Tom     | 0          | 0            | 0              | 0\n",
       "Macrae, Jack        | 0.444444   | 0.277778     | 4.38889        | 0.777778"
      ]
     },
     "execution_count": 191,
     "metadata": {},
     "output_type": "execute_result"
    }
   ],
   "source": [
    "position_contribution(2018, \"Western Bulldogs\", \"Midfield\")"
   ]
  },
  {
   "cell_type": "code",
   "execution_count": 192,
   "metadata": {},
   "outputs": [
    {
     "data": {
      "text/html": [
       "<table border=\"1\" class=\"dataframe\">\n",
       "    <thead>\n",
       "        <tr>\n",
       "            <th>Player</th> <th>Goals mean</th> <th>Behinds mean</th> <th>Inside50s mean</th> <th>GoalAssists mean</th>\n",
       "        </tr>\n",
       "    </thead>\n",
       "    <tbody>\n",
       "        <tr>\n",
       "            <td>Dahlhaus, Luke   </td> <td>0.153846  </td> <td>0.307692    </td> <td>2.69231       </td> <td>0.384615        </td>\n",
       "        </tr>\n",
       "        <tr>\n",
       "            <td>Dale, Bailey     </td> <td>0.666667  </td> <td>1           </td> <td>1.66667       </td> <td>0.444444        </td>\n",
       "        </tr>\n",
       "        <tr>\n",
       "            <td>Dunkley, Josh    </td> <td>0.611111  </td> <td>0.777778    </td> <td>2.66667       </td> <td>0.444444        </td>\n",
       "        </tr>\n",
       "        <tr>\n",
       "            <td>Jong, Lin        </td> <td>0.777778  </td> <td>0.333333    </td> <td>2.22222       </td> <td>0.222222        </td>\n",
       "        </tr>\n",
       "        <tr>\n",
       "            <td>Lipinski, Patrick</td> <td>0.75      </td> <td>0.25        </td> <td>1.625         </td> <td>0.25            </td>\n",
       "        </tr>\n",
       "        <tr>\n",
       "            <td>McLean, Toby     </td> <td>0.555556  </td> <td>0.666667    </td> <td>3.55556       </td> <td>0.555556        </td>\n",
       "        </tr>\n",
       "        <tr>\n",
       "            <td>Wallis, Mitch    </td> <td>1.125     </td> <td>0.1875      </td> <td>2.875         </td> <td>0.6875          </td>\n",
       "        </tr>\n",
       "    </tbody>\n",
       "</table>"
      ],
      "text/plain": [
       "Player            | Goals mean | Behinds mean | Inside50s mean | GoalAssists mean\n",
       "Dahlhaus, Luke    | 0.153846   | 0.307692     | 2.69231        | 0.384615\n",
       "Dale, Bailey      | 0.666667   | 1            | 1.66667        | 0.444444\n",
       "Dunkley, Josh     | 0.611111   | 0.777778     | 2.66667        | 0.444444\n",
       "Jong, Lin         | 0.777778   | 0.333333     | 2.22222        | 0.222222\n",
       "Lipinski, Patrick | 0.75       | 0.25         | 1.625          | 0.25\n",
       "McLean, Toby      | 0.555556   | 0.666667     | 3.55556        | 0.555556\n",
       "Wallis, Mitch     | 1.125      | 0.1875       | 2.875          | 0.6875"
      ]
     },
     "execution_count": 192,
     "metadata": {},
     "output_type": "execute_result"
    }
   ],
   "source": [
    "position_contribution(2018, \"Western Bulldogs\", \"Midfield, Forward\")"
   ]
  },
  {
   "cell_type": "code",
   "execution_count": 193,
   "metadata": {},
   "outputs": [
    {
     "data": {
      "text/html": [
       "<table border=\"1\" class=\"dataframe\">\n",
       "    <thead>\n",
       "        <tr>\n",
       "            <th>Player</th> <th>Goals mean</th> <th>Behinds mean</th> <th>Tackles mean</th> <th>Rebound50s mean</th>\n",
       "        </tr>\n",
       "    </thead>\n",
       "    <tbody>\n",
       "    </tbody>\n",
       "</table>"
      ],
      "text/plain": [
       "Player | Goals mean | Behinds mean | Tackles mean | Rebound50s mean"
      ]
     },
     "execution_count": 193,
     "metadata": {},
     "output_type": "execute_result"
    }
   ],
   "source": [
    "position_contribution(2018, \"Western Bulldogs\", \"Defender, Midfield\")"
   ]
  },
  {
   "cell_type": "code",
   "execution_count": 194,
   "metadata": {},
   "outputs": [
    {
     "data": {
      "text/html": [
       "<table border=\"1\" class=\"dataframe\">\n",
       "    <thead>\n",
       "        <tr>\n",
       "            <th>Player</th> <th>Height mean</th> <th>Disposals mean</th> <th>Hitouts mean</th>\n",
       "        </tr>\n",
       "    </thead>\n",
       "    <tbody>\n",
       "        <tr>\n",
       "            <td>Gawn, Max</td> <td>208        </td> <td>16.0417       </td> <td>44.875      </td>\n",
       "        </tr>\n",
       "    </tbody>\n",
       "</table>"
      ],
      "text/plain": [
       "Player    | Height mean | Disposals mean | Hitouts mean\n",
       "Gawn, Max | 208         | 16.0417        | 44.875"
      ]
     },
     "execution_count": 194,
     "metadata": {},
     "output_type": "execute_result"
    }
   ],
   "source": [
    "#Melbourne\n",
    "position_contribution(2018, \"Melbourne\", \"Ruck\")"
   ]
  },
  {
   "cell_type": "code",
   "execution_count": 195,
   "metadata": {},
   "outputs": [
    {
     "data": {
      "text/html": [
       "<table border=\"1\" class=\"dataframe\">\n",
       "    <thead>\n",
       "        <tr>\n",
       "            <th>Player</th> <th>Height mean</th> <th>Disposals mean</th> <th>Goals mean</th>\n",
       "        </tr>\n",
       "    </thead>\n",
       "    <tbody>\n",
       "        <tr>\n",
       "            <td>Pedersen, Cameron</td> <td>193        </td> <td>10            </td> <td>0.75      </td>\n",
       "        </tr>\n",
       "    </tbody>\n",
       "</table>"
      ],
      "text/plain": [
       "Player            | Height mean | Disposals mean | Goals mean\n",
       "Pedersen, Cameron | 193         | 10             | 0.75"
      ]
     },
     "execution_count": 195,
     "metadata": {},
     "output_type": "execute_result"
    }
   ],
   "source": [
    "position_contribution(2018, \"Melbourne\", \"Forward, Ruck\")"
   ]
  },
  {
   "cell_type": "code",
   "execution_count": 196,
   "metadata": {},
   "outputs": [
    {
     "data": {
      "text/html": [
       "<table border=\"1\" class=\"dataframe\">\n",
       "    <thead>\n",
       "        <tr>\n",
       "            <th>Player</th> <th>Height mean</th> <th>Disposals mean</th> <th>Goals mean</th>\n",
       "        </tr>\n",
       "    </thead>\n",
       "    <tbody>\n",
       "    </tbody>\n",
       "</table>"
      ],
      "text/plain": [
       "Player | Height mean | Disposals mean | Goals mean"
      ]
     },
     "execution_count": 196,
     "metadata": {},
     "output_type": "execute_result"
    }
   ],
   "source": [
    "position_contribution(2018, \"Melbourne\", \"Midfield, Ruck\")"
   ]
  },
  {
   "cell_type": "code",
   "execution_count": 197,
   "metadata": {},
   "outputs": [
    {
     "data": {
      "text/html": [
       "<table border=\"1\" class=\"dataframe\">\n",
       "    <thead>\n",
       "        <tr>\n",
       "            <th>Player</th> <th>Tackles mean</th> <th>Rebound50s mean</th> <th>OnePercenters mean</th>\n",
       "        </tr>\n",
       "    </thead>\n",
       "    <tbody>\n",
       "        <tr>\n",
       "            <td>Frost, Sam      </td> <td>2.41667     </td> <td>3.25           </td> <td>5.75              </td>\n",
       "        </tr>\n",
       "        <tr>\n",
       "            <td>Hibberd, Michael</td> <td>1.75        </td> <td>4.05           </td> <td>3.6               </td>\n",
       "        </tr>\n",
       "        <tr>\n",
       "            <td>Hunt, Jayden    </td> <td>2.33333     </td> <td>1.66667        </td> <td>1.83333           </td>\n",
       "        </tr>\n",
       "        <tr>\n",
       "            <td>Jetta, Neville  </td> <td>3.08333     </td> <td>1.70833        </td> <td>3.08333           </td>\n",
       "        </tr>\n",
       "        <tr>\n",
       "            <td>Lever, Jake     </td> <td>1.63636     </td> <td>3.36364        </td> <td>5.27273           </td>\n",
       "        </tr>\n",
       "        <tr>\n",
       "            <td>Lewis, Jordan   </td> <td>1.54545     </td> <td>2.86364        </td> <td>2.27273           </td>\n",
       "        </tr>\n",
       "        <tr>\n",
       "            <td>McDonald, Oscar </td> <td>1.30435     </td> <td>3.21739        </td> <td>6.65217           </td>\n",
       "        </tr>\n",
       "        <tr>\n",
       "            <td>Petty, Harry    </td> <td>2           </td> <td>1              </td> <td>2                 </td>\n",
       "        </tr>\n",
       "        <tr>\n",
       "            <td>Salem, Christian</td> <td>3.54545     </td> <td>3.77273        </td> <td>1.95455           </td>\n",
       "        </tr>\n",
       "        <tr>\n",
       "            <td>Smith, Joel     </td> <td>4.14286     </td> <td>1.42857        </td> <td>3.85714           </td>\n",
       "        </tr>\n",
       "    </tbody>\n",
       "</table>\n",
       "<p>... (2 rows omitted)</p>"
      ],
      "text/plain": [
       "Player           | Tackles mean | Rebound50s mean | OnePercenters mean\n",
       "Frost, Sam       | 2.41667      | 3.25            | 5.75\n",
       "Hibberd, Michael | 1.75         | 4.05            | 3.6\n",
       "Hunt, Jayden     | 2.33333      | 1.66667         | 1.83333\n",
       "Jetta, Neville   | 3.08333      | 1.70833         | 3.08333\n",
       "Lever, Jake      | 1.63636      | 3.36364         | 5.27273\n",
       "Lewis, Jordan    | 1.54545      | 2.86364         | 2.27273\n",
       "McDonald, Oscar  | 1.30435      | 3.21739         | 6.65217\n",
       "Petty, Harry     | 2            | 1               | 2\n",
       "Salem, Christian | 3.54545      | 3.77273         | 1.95455\n",
       "Smith, Joel      | 4.14286      | 1.42857         | 3.85714\n",
       "... (2 rows omitted)"
      ]
     },
     "execution_count": 197,
     "metadata": {},
     "output_type": "execute_result"
    }
   ],
   "source": [
    "position_contribution(2018, \"Melbourne\", \"Defender\")"
   ]
  },
  {
   "cell_type": "code",
   "execution_count": 198,
   "metadata": {},
   "outputs": [
    {
     "data": {
      "text/html": [
       "<table border=\"1\" class=\"dataframe\">\n",
       "    <thead>\n",
       "        <tr>\n",
       "            <th>Player</th> <th>Goals mean</th> <th>Behinds mean</th> <th>Tackles mean</th>\n",
       "        </tr>\n",
       "    </thead>\n",
       "    <tbody>\n",
       "        <tr>\n",
       "            <td>Garlett, Jeff    </td> <td>1.63636   </td> <td>1           </td> <td>2.90909     </td>\n",
       "        </tr>\n",
       "        <tr>\n",
       "            <td>Hannan, Mitch    </td> <td>1.5       </td> <td>1.14286     </td> <td>2.28571     </td>\n",
       "        </tr>\n",
       "        <tr>\n",
       "            <td>Hogan, Jesse     </td> <td>2.35      </td> <td>1.15        </td> <td>2.05        </td>\n",
       "        </tr>\n",
       "        <tr>\n",
       "            <td>Kent, Dean       </td> <td>1.4       </td> <td>0.6         </td> <td>3           </td>\n",
       "        </tr>\n",
       "        <tr>\n",
       "            <td>McDonald, Tom    </td> <td>2.73684   </td> <td>0.947368    </td> <td>2.42105     </td>\n",
       "        </tr>\n",
       "        <tr>\n",
       "            <td>Melksham, Jake   </td> <td>1.40909   </td> <td>1.09091     </td> <td>1.86364     </td>\n",
       "        </tr>\n",
       "        <tr>\n",
       "            <td>Neal-Bullen, Alex</td> <td>1.08333   </td> <td>0.666667    </td> <td>4.54167     </td>\n",
       "        </tr>\n",
       "        <tr>\n",
       "            <td>Smith, Tim       </td> <td>0.75      </td> <td>0.75        </td> <td>6           </td>\n",
       "        </tr>\n",
       "        <tr>\n",
       "            <td>Spargo, Charlie  </td> <td>0.823529  </td> <td>0.529412    </td> <td>3.11765     </td>\n",
       "        </tr>\n",
       "        <tr>\n",
       "            <td>Weideman, Sam    </td> <td>0.777778  </td> <td>0.555556    </td> <td>2.22222     </td>\n",
       "        </tr>\n",
       "    </tbody>\n",
       "</table>"
      ],
      "text/plain": [
       "Player            | Goals mean | Behinds mean | Tackles mean\n",
       "Garlett, Jeff     | 1.63636    | 1            | 2.90909\n",
       "Hannan, Mitch     | 1.5        | 1.14286      | 2.28571\n",
       "Hogan, Jesse      | 2.35       | 1.15         | 2.05\n",
       "Kent, Dean        | 1.4        | 0.6          | 3\n",
       "McDonald, Tom     | 2.73684    | 0.947368     | 2.42105\n",
       "Melksham, Jake    | 1.40909    | 1.09091      | 1.86364\n",
       "Neal-Bullen, Alex | 1.08333    | 0.666667     | 4.54167\n",
       "Smith, Tim        | 0.75       | 0.75         | 6\n",
       "Spargo, Charlie   | 0.823529   | 0.529412     | 3.11765\n",
       "Weideman, Sam     | 0.777778   | 0.555556     | 2.22222"
      ]
     },
     "execution_count": 198,
     "metadata": {},
     "output_type": "execute_result"
    }
   ],
   "source": [
    "position_contribution(2018, \"Melbourne\", \"Forward\")"
   ]
  },
  {
   "cell_type": "code",
   "execution_count": 199,
   "metadata": {},
   "outputs": [
    {
     "data": {
      "text/html": [
       "<table border=\"1\" class=\"dataframe\">\n",
       "    <thead>\n",
       "        <tr>\n",
       "            <th>Player</th> <th>Goals mean</th> <th>Behinds mean</th> <th>GoalAssists mean</th>\n",
       "        </tr>\n",
       "    </thead>\n",
       "    <tbody>\n",
       "    </tbody>\n",
       "</table>"
      ],
      "text/plain": [
       "Player | Goals mean | Behinds mean | GoalAssists mean"
      ]
     },
     "execution_count": 199,
     "metadata": {},
     "output_type": "execute_result"
    }
   ],
   "source": [
    "position_contribution(2018, \"Melbourne\", \"Defender, Forward\")"
   ]
  },
  {
   "cell_type": "code",
   "execution_count": 200,
   "metadata": {},
   "outputs": [
    {
     "data": {
      "text/html": [
       "<table border=\"1\" class=\"dataframe\">\n",
       "    <thead>\n",
       "        <tr>\n",
       "            <th>Player</th> <th>Goals mean</th> <th>Behinds mean</th> <th>Inside50s mean</th> <th>GoalAssists mean</th>\n",
       "        </tr>\n",
       "    </thead>\n",
       "    <tbody>\n",
       "        <tr>\n",
       "            <td>Brayshaw, Angus    </td> <td>0.666667  </td> <td>0.555556    </td> <td>5.11111       </td> <td>0.388889        </td>\n",
       "        </tr>\n",
       "        <tr>\n",
       "            <td>Bugg, Tomas        </td> <td>1.33333   </td> <td>2.33333     </td> <td>2.66667       </td> <td>0               </td>\n",
       "        </tr>\n",
       "        <tr>\n",
       "            <td>Fritsch, Bayley    </td> <td>0.842105  </td> <td>0.578947    </td> <td>2.78947       </td> <td>0.473684        </td>\n",
       "        </tr>\n",
       "        <tr>\n",
       "            <td>Harmes, James      </td> <td>0.666667  </td> <td>0.571429    </td> <td>3.38095       </td> <td>0.47619         </td>\n",
       "        </tr>\n",
       "        <tr>\n",
       "            <td>Jones, Nathan      </td> <td>0.666667  </td> <td>0.428571    </td> <td>4.42857       </td> <td>0.571429        </td>\n",
       "        </tr>\n",
       "        <tr>\n",
       "            <td>Kennedy Harris, Jay</td> <td>0.166667  </td> <td>0.666667    </td> <td>1.66667       </td> <td>0.333333        </td>\n",
       "        </tr>\n",
       "        <tr>\n",
       "            <td>Maynard, Corey     </td> <td>0         </td> <td>0           </td> <td>4             </td> <td>0               </td>\n",
       "        </tr>\n",
       "        <tr>\n",
       "            <td>Oliver, Clayton    </td> <td>0.545455  </td> <td>0.5         </td> <td>4.45455       </td> <td>0.818182        </td>\n",
       "        </tr>\n",
       "        <tr>\n",
       "            <td>Stretch, Billy     </td> <td>0         </td> <td>1           </td> <td>3             </td> <td>0               </td>\n",
       "        </tr>\n",
       "        <tr>\n",
       "            <td>Tyson, Dom         </td> <td>0.142857  </td> <td>0.357143    </td> <td>3.07143       </td> <td>0.642857        </td>\n",
       "        </tr>\n",
       "    </tbody>\n",
       "</table>\n",
       "<p>... (1 rows omitted)</p>"
      ],
      "text/plain": [
       "Player              | Goals mean | Behinds mean | Inside50s mean | GoalAssists mean\n",
       "Brayshaw, Angus     | 0.666667   | 0.555556     | 5.11111        | 0.388889\n",
       "Bugg, Tomas         | 1.33333    | 2.33333      | 2.66667        | 0\n",
       "Fritsch, Bayley     | 0.842105   | 0.578947     | 2.78947        | 0.473684\n",
       "Harmes, James       | 0.666667   | 0.571429     | 3.38095        | 0.47619\n",
       "Jones, Nathan       | 0.666667   | 0.428571     | 4.42857        | 0.571429\n",
       "Kennedy Harris, Jay | 0.166667   | 0.666667     | 1.66667        | 0.333333\n",
       "Maynard, Corey      | 0          | 0            | 4              | 0\n",
       "Oliver, Clayton     | 0.545455   | 0.5          | 4.45455        | 0.818182\n",
       "Stretch, Billy      | 0          | 1            | 3              | 0\n",
       "Tyson, Dom          | 0.142857   | 0.357143     | 3.07143        | 0.642857\n",
       "... (1 rows omitted)"
      ]
     },
     "execution_count": 200,
     "metadata": {},
     "output_type": "execute_result"
    }
   ],
   "source": [
    "position_contribution(2018, \"Melbourne\", \"Midfield\")"
   ]
  },
  {
   "cell_type": "code",
   "execution_count": 201,
   "metadata": {},
   "outputs": [
    {
     "data": {
      "text/html": [
       "<table border=\"1\" class=\"dataframe\">\n",
       "    <thead>\n",
       "        <tr>\n",
       "            <th>Player</th> <th>Goals mean</th> <th>Behinds mean</th> <th>Inside50s mean</th> <th>GoalAssists mean</th>\n",
       "        </tr>\n",
       "    </thead>\n",
       "    <tbody>\n",
       "        <tr>\n",
       "            <td>Petracca, Christian</td> <td>0.809524  </td> <td>1           </td> <td>4.28571       </td> <td>0.952381        </td>\n",
       "        </tr>\n",
       "        <tr>\n",
       "            <td>Vandenberg, Aaron  </td> <td>0.833333  </td> <td>1           </td> <td>4.66667       </td> <td>0.333333        </td>\n",
       "        </tr>\n",
       "    </tbody>\n",
       "</table>"
      ],
      "text/plain": [
       "Player              | Goals mean | Behinds mean | Inside50s mean | GoalAssists mean\n",
       "Petracca, Christian | 0.809524   | 1            | 4.28571        | 0.952381\n",
       "Vandenberg, Aaron   | 0.833333   | 1            | 4.66667        | 0.333333"
      ]
     },
     "execution_count": 201,
     "metadata": {},
     "output_type": "execute_result"
    }
   ],
   "source": [
    "position_contribution(2018, \"Melbourne\", \"Midfield, Forward\")"
   ]
  },
  {
   "cell_type": "code",
   "execution_count": 202,
   "metadata": {},
   "outputs": [
    {
     "data": {
      "text/html": [
       "<table border=\"1\" class=\"dataframe\">\n",
       "    <thead>\n",
       "        <tr>\n",
       "            <th>Player</th> <th>Goals mean</th> <th>Behinds mean</th> <th>Tackles mean</th> <th>Rebound50s mean</th>\n",
       "        </tr>\n",
       "    </thead>\n",
       "    <tbody>\n",
       "    </tbody>\n",
       "</table>"
      ],
      "text/plain": [
       "Player | Goals mean | Behinds mean | Tackles mean | Rebound50s mean"
      ]
     },
     "execution_count": 202,
     "metadata": {},
     "output_type": "execute_result"
    }
   ],
   "source": [
    "position_contribution(2018, \"Melbourne\", \"Defender, Midfield\")"
   ]
  },
  {
   "cell_type": "code",
   "execution_count": 203,
   "metadata": {},
   "outputs": [
    {
     "data": {
      "text/html": [
       "<table border=\"1\" class=\"dataframe\">\n",
       "    <thead>\n",
       "        <tr>\n",
       "            <th>Player</th> <th>Height mean</th> <th>Disposals mean</th> <th>Hitouts mean</th>\n",
       "        </tr>\n",
       "    </thead>\n",
       "    <tbody>\n",
       "        <tr>\n",
       "            <td>Witts, Jarrod</td> <td>209        </td> <td>13.6364       </td> <td>38.8182     </td>\n",
       "        </tr>\n",
       "    </tbody>\n",
       "</table>"
      ],
      "text/plain": [
       "Player        | Height mean | Disposals mean | Hitouts mean\n",
       "Witts, Jarrod | 209         | 13.6364        | 38.8182"
      ]
     },
     "execution_count": 203,
     "metadata": {},
     "output_type": "execute_result"
    }
   ],
   "source": [
    "#Gold Coast\n",
    "position_contribution(2018, \"Gold Coast\", \"Ruck\")"
   ]
  },
  {
   "cell_type": "code",
   "execution_count": 204,
   "metadata": {},
   "outputs": [
    {
     "data": {
      "text/html": [
       "<table border=\"1\" class=\"dataframe\">\n",
       "    <thead>\n",
       "        <tr>\n",
       "            <th>Player</th> <th>Height mean</th> <th>Disposals mean</th> <th>Goals mean</th>\n",
       "        </tr>\n",
       "    </thead>\n",
       "    <tbody>\n",
       "    </tbody>\n",
       "</table>"
      ],
      "text/plain": [
       "Player | Height mean | Disposals mean | Goals mean"
      ]
     },
     "execution_count": 204,
     "metadata": {},
     "output_type": "execute_result"
    }
   ],
   "source": [
    "position_contribution(2018, \"Gold Coast\", \"Forward, Ruck\")"
   ]
  },
  {
   "cell_type": "code",
   "execution_count": 205,
   "metadata": {},
   "outputs": [
    {
     "data": {
      "text/html": [
       "<table border=\"1\" class=\"dataframe\">\n",
       "    <thead>\n",
       "        <tr>\n",
       "            <th>Player</th> <th>Height mean</th> <th>Disposals mean</th> <th>Goals mean</th>\n",
       "        </tr>\n",
       "    </thead>\n",
       "    <tbody>\n",
       "    </tbody>\n",
       "</table>"
      ],
      "text/plain": [
       "Player | Height mean | Disposals mean | Goals mean"
      ]
     },
     "execution_count": 205,
     "metadata": {},
     "output_type": "execute_result"
    }
   ],
   "source": [
    "position_contribution(2018, \"Gold Coast\", \"Midfield, Ruck\")"
   ]
  },
  {
   "cell_type": "code",
   "execution_count": 206,
   "metadata": {},
   "outputs": [
    {
     "data": {
      "text/html": [
       "<table border=\"1\" class=\"dataframe\">\n",
       "    <thead>\n",
       "        <tr>\n",
       "            <th>Player</th> <th>Tackles mean</th> <th>Rebound50s mean</th> <th>OnePercenters mean</th>\n",
       "        </tr>\n",
       "    </thead>\n",
       "    <tbody>\n",
       "        <tr>\n",
       "            <td>Ballard, Charlie    </td> <td>1.44444     </td> <td>1.55556        </td> <td>2.77778           </td>\n",
       "        </tr>\n",
       "        <tr>\n",
       "            <td>Hanley, Pearce      </td> <td>2           </td> <td>3.33333        </td> <td>1.33333           </td>\n",
       "        </tr>\n",
       "        <tr>\n",
       "            <td>Harbrow, Jarrod     </td> <td>2.18182     </td> <td>5.31818        </td> <td>2.18182           </td>\n",
       "        </tr>\n",
       "        <tr>\n",
       "            <td>Joyce, Jesse        </td> <td>1.52632     </td> <td>2.89474        </td> <td>3.52632           </td>\n",
       "        </tr>\n",
       "        <tr>\n",
       "            <td>Kolodjashnij, Kade  </td> <td>1.875       </td> <td>4              </td> <td>4.5               </td>\n",
       "        </tr>\n",
       "        <tr>\n",
       "            <td>Leslie, Jack        </td> <td>1.77778     </td> <td>2.55556        </td> <td>6.55556           </td>\n",
       "        </tr>\n",
       "        <tr>\n",
       "            <td>May, Steven         </td> <td>1.70588     </td> <td>5.82353        </td> <td>7.11765           </td>\n",
       "        </tr>\n",
       "        <tr>\n",
       "            <td>Rischitelli, Michael</td> <td>2.15        </td> <td>3.4            </td> <td>2.75              </td>\n",
       "        </tr>\n",
       "        <tr>\n",
       "            <td>Spencer, Max        </td> <td>1.66667     </td> <td>3.33333        </td> <td>7.33333           </td>\n",
       "        </tr>\n",
       "        <tr>\n",
       "            <td>Thompson, Rory      </td> <td>1.625       </td> <td>2.1875         </td> <td>7.6875            </td>\n",
       "        </tr>\n",
       "    </tbody>\n",
       "</table>"
      ],
      "text/plain": [
       "Player               | Tackles mean | Rebound50s mean | OnePercenters mean\n",
       "Ballard, Charlie     | 1.44444      | 1.55556         | 2.77778\n",
       "Hanley, Pearce       | 2            | 3.33333         | 1.33333\n",
       "Harbrow, Jarrod      | 2.18182      | 5.31818         | 2.18182\n",
       "Joyce, Jesse         | 1.52632      | 2.89474         | 3.52632\n",
       "Kolodjashnij, Kade   | 1.875        | 4               | 4.5\n",
       "Leslie, Jack         | 1.77778      | 2.55556         | 6.55556\n",
       "May, Steven          | 1.70588      | 5.82353         | 7.11765\n",
       "Rischitelli, Michael | 2.15         | 3.4             | 2.75\n",
       "Spencer, Max         | 1.66667      | 3.33333         | 7.33333\n",
       "Thompson, Rory       | 1.625        | 2.1875          | 7.6875"
      ]
     },
     "execution_count": 206,
     "metadata": {},
     "output_type": "execute_result"
    }
   ],
   "source": [
    "position_contribution(2018, \"Gold Coast\", \"Defender\")"
   ]
  },
  {
   "cell_type": "code",
   "execution_count": 207,
   "metadata": {},
   "outputs": [
    {
     "data": {
      "text/html": [
       "<table border=\"1\" class=\"dataframe\">\n",
       "    <thead>\n",
       "        <tr>\n",
       "            <th>Player</th> <th>Goals mean</th> <th>Behinds mean</th> <th>Tackles mean</th>\n",
       "        </tr>\n",
       "    </thead>\n",
       "    <tbody>\n",
       "        <tr>\n",
       "            <td>Ainsworth, Ben   </td> <td>0.375     </td> <td>0.75        </td> <td>3.25        </td>\n",
       "        </tr>\n",
       "        <tr>\n",
       "            <td>Crossley, Brayden</td> <td>0.5       </td> <td>0.7         </td> <td>2.2         </td>\n",
       "        </tr>\n",
       "        <tr>\n",
       "            <td>Day, Sam         </td> <td>0.75      </td> <td>0.416667    </td> <td>2.33333     </td>\n",
       "        </tr>\n",
       "        <tr>\n",
       "            <td>Holman, Nick     </td> <td>0.636364  </td> <td>0.454545    </td> <td>5.5         </td>\n",
       "        </tr>\n",
       "        <tr>\n",
       "            <td>Lemmens, Sean    </td> <td>0.1       </td> <td>0.7         </td> <td>3.7         </td>\n",
       "        </tr>\n",
       "        <tr>\n",
       "            <td>Lynch, Tom J     </td> <td>2         </td> <td>1           </td> <td>2.2         </td>\n",
       "        </tr>\n",
       "        <tr>\n",
       "            <td>Macpherson, Darcy</td> <td>0.8       </td> <td>0.4         </td> <td>5.4         </td>\n",
       "        </tr>\n",
       "        <tr>\n",
       "            <td>Powell, Wil      </td> <td>0.285714  </td> <td>0.571429    </td> <td>2           </td>\n",
       "        </tr>\n",
       "        <tr>\n",
       "            <td>Scheer, Brad     </td> <td>0.166667  </td> <td>0.333333    </td> <td>4.33333     </td>\n",
       "        </tr>\n",
       "        <tr>\n",
       "            <td>Sexton, Alex     </td> <td>1.27273   </td> <td>0.863636    </td> <td>2.31818     </td>\n",
       "        </tr>\n",
       "    </tbody>\n",
       "</table>\n",
       "<p>... (2 rows omitted)</p>"
      ],
      "text/plain": [
       "Player            | Goals mean | Behinds mean | Tackles mean\n",
       "Ainsworth, Ben    | 0.375      | 0.75         | 3.25\n",
       "Crossley, Brayden | 0.5        | 0.7          | 2.2\n",
       "Day, Sam          | 0.75       | 0.416667     | 2.33333\n",
       "Holman, Nick      | 0.636364   | 0.454545     | 5.5\n",
       "Lemmens, Sean     | 0.1        | 0.7          | 3.7\n",
       "Lynch, Tom J      | 2          | 1            | 2.2\n",
       "Macpherson, Darcy | 0.8        | 0.4          | 5.4\n",
       "Powell, Wil       | 0.285714   | 0.571429     | 2\n",
       "Scheer, Brad      | 0.166667   | 0.333333     | 4.33333\n",
       "Sexton, Alex      | 1.27273    | 0.863636     | 2.31818\n",
       "... (2 rows omitted)"
      ]
     },
     "execution_count": 207,
     "metadata": {},
     "output_type": "execute_result"
    }
   ],
   "source": [
    "position_contribution(2018, \"Gold Coast\", \"Forward\")"
   ]
  },
  {
   "cell_type": "code",
   "execution_count": 208,
   "metadata": {},
   "outputs": [
    {
     "data": {
      "text/html": [
       "<table border=\"1\" class=\"dataframe\">\n",
       "    <thead>\n",
       "        <tr>\n",
       "            <th>Player</th> <th>Goals mean</th> <th>Behinds mean</th> <th>GoalAssists mean</th>\n",
       "        </tr>\n",
       "    </thead>\n",
       "    <tbody>\n",
       "        <tr>\n",
       "            <td>Ah Chee, Callum</td> <td>0.428571  </td> <td>0.714286    </td> <td>0.714286        </td>\n",
       "        </tr>\n",
       "        <tr>\n",
       "            <td>Heron, Jacob   </td> <td>0.666667  </td> <td>1           </td> <td>0.333333        </td>\n",
       "        </tr>\n",
       "    </tbody>\n",
       "</table>"
      ],
      "text/plain": [
       "Player          | Goals mean | Behinds mean | GoalAssists mean\n",
       "Ah Chee, Callum | 0.428571   | 0.714286     | 0.714286\n",
       "Heron, Jacob    | 0.666667   | 1            | 0.333333"
      ]
     },
     "execution_count": 208,
     "metadata": {},
     "output_type": "execute_result"
    }
   ],
   "source": [
    "position_contribution(2018, \"Gold Coast\", \"Defender, Forward\")"
   ]
  },
  {
   "cell_type": "code",
   "execution_count": 209,
   "metadata": {},
   "outputs": [
    {
     "data": {
      "text/html": [
       "<table border=\"1\" class=\"dataframe\">\n",
       "    <thead>\n",
       "        <tr>\n",
       "            <th>Player</th> <th>Goals mean</th> <th>Behinds mean</th> <th>Inside50s mean</th> <th>GoalAssists mean</th>\n",
       "        </tr>\n",
       "    </thead>\n",
       "    <tbody>\n",
       "        <tr>\n",
       "            <td>Bowes, Jack     </td> <td>0.272727  </td> <td>0.363636    </td> <td>2.09091       </td> <td>0.181818        </td>\n",
       "        </tr>\n",
       "        <tr>\n",
       "            <td>Brodie, Will    </td> <td>0.142857  </td> <td>0.142857    </td> <td>2.71429       </td> <td>0.285714        </td>\n",
       "        </tr>\n",
       "        <tr>\n",
       "            <td>Dawson, Jacob   </td> <td>0.333333  </td> <td>0           </td> <td>1.33333       </td> <td>0               </td>\n",
       "        </tr>\n",
       "        <tr>\n",
       "            <td>Fiorini, Brayden</td> <td>0.5       </td> <td>0.5         </td> <td>3.375         </td> <td>0.125           </td>\n",
       "        </tr>\n",
       "        <tr>\n",
       "            <td>Hall, Aaron     </td> <td>0.2       </td> <td>0.2         </td> <td>2.8           </td> <td>0.2             </td>\n",
       "        </tr>\n",
       "        <tr>\n",
       "            <td>Lonergan, Jesse </td> <td>0.2       </td> <td>0           </td> <td>1.8           </td> <td>0.4             </td>\n",
       "        </tr>\n",
       "        <tr>\n",
       "            <td>Lyons, Jarryd   </td> <td>0.411765  </td> <td>0.823529    </td> <td>3.88235       </td> <td>0.352941        </td>\n",
       "        </tr>\n",
       "        <tr>\n",
       "            <td>Miller, Touk    </td> <td>0.3125    </td> <td>0.3125      </td> <td>3.0625        </td> <td>0.25            </td>\n",
       "        </tr>\n",
       "        <tr>\n",
       "            <td>Rosa, Matt      </td> <td>0.25      </td> <td>0.25        </td> <td>2             </td> <td>0.25            </td>\n",
       "        </tr>\n",
       "        <tr>\n",
       "            <td>Schoenfeld, Josh</td> <td>0.333333  </td> <td>1           </td> <td>1.16667       </td> <td>0.333333        </td>\n",
       "        </tr>\n",
       "    </tbody>\n",
       "</table>\n",
       "<p>... (1 rows omitted)</p>"
      ],
      "text/plain": [
       "Player           | Goals mean | Behinds mean | Inside50s mean | GoalAssists mean\n",
       "Bowes, Jack      | 0.272727   | 0.363636     | 2.09091        | 0.181818\n",
       "Brodie, Will     | 0.142857   | 0.142857     | 2.71429        | 0.285714\n",
       "Dawson, Jacob    | 0.333333   | 0            | 1.33333        | 0\n",
       "Fiorini, Brayden | 0.5        | 0.5          | 3.375          | 0.125\n",
       "Hall, Aaron      | 0.2        | 0.2          | 2.8            | 0.2\n",
       "Lonergan, Jesse  | 0.2        | 0            | 1.8            | 0.4\n",
       "Lyons, Jarryd    | 0.411765   | 0.823529     | 3.88235        | 0.352941\n",
       "Miller, Touk     | 0.3125     | 0.3125       | 3.0625         | 0.25\n",
       "Rosa, Matt       | 0.25       | 0.25         | 2              | 0.25\n",
       "Schoenfeld, Josh | 0.333333   | 1            | 1.16667        | 0.333333\n",
       "... (1 rows omitted)"
      ]
     },
     "execution_count": 209,
     "metadata": {},
     "output_type": "execute_result"
    }
   ],
   "source": [
    "position_contribution(2018, \"Gold Coast\", \"Midfield\")"
   ]
  },
  {
   "cell_type": "code",
   "execution_count": 210,
   "metadata": {},
   "outputs": [
    {
     "data": {
      "text/html": [
       "<table border=\"1\" class=\"dataframe\">\n",
       "    <thead>\n",
       "        <tr>\n",
       "            <th>Player</th> <th>Goals mean</th> <th>Behinds mean</th> <th>Inside50s mean</th> <th>GoalAssists mean</th>\n",
       "        </tr>\n",
       "    </thead>\n",
       "    <tbody>\n",
       "        <tr>\n",
       "            <td>Barlow, Michael</td> <td>0.333333  </td> <td>0.666667    </td> <td>3.66667       </td> <td>0               </td>\n",
       "        </tr>\n",
       "        <tr>\n",
       "            <td>Martin, Jack   </td> <td>1         </td> <td>0.785714    </td> <td>2.21429       </td> <td>0.285714        </td>\n",
       "        </tr>\n",
       "    </tbody>\n",
       "</table>"
      ],
      "text/plain": [
       "Player          | Goals mean | Behinds mean | Inside50s mean | GoalAssists mean\n",
       "Barlow, Michael | 0.333333   | 0.666667     | 3.66667        | 0\n",
       "Martin, Jack    | 1          | 0.785714     | 2.21429        | 0.285714"
      ]
     },
     "execution_count": 210,
     "metadata": {},
     "output_type": "execute_result"
    }
   ],
   "source": [
    "position_contribution(2018, \"Gold Coast\", \"Midfield, Forward\")"
   ]
  },
  {
   "cell_type": "code",
   "execution_count": 211,
   "metadata": {},
   "outputs": [
    {
     "data": {
      "text/html": [
       "<table border=\"1\" class=\"dataframe\">\n",
       "    <thead>\n",
       "        <tr>\n",
       "            <th>Player</th> <th>Goals mean</th> <th>Behinds mean</th> <th>Tackles mean</th> <th>Rebound50s mean</th>\n",
       "        </tr>\n",
       "    </thead>\n",
       "    <tbody>\n",
       "        <tr>\n",
       "            <td>Weller, Lachie</td> <td>0.190476  </td> <td>0.380952    </td> <td>2.66667     </td> <td>3.14286        </td>\n",
       "        </tr>\n",
       "    </tbody>\n",
       "</table>"
      ],
      "text/plain": [
       "Player         | Goals mean | Behinds mean | Tackles mean | Rebound50s mean\n",
       "Weller, Lachie | 0.190476   | 0.380952     | 2.66667      | 3.14286"
      ]
     },
     "execution_count": 211,
     "metadata": {},
     "output_type": "execute_result"
    }
   ],
   "source": [
    "position_contribution(2018, \"Gold Coast\", \"Defender, Midfield\")"
   ]
  },
  {
   "cell_type": "code",
   "execution_count": 212,
   "metadata": {},
   "outputs": [
    {
     "data": {
      "text/html": [
       "<table border=\"1\" class=\"dataframe\">\n",
       "    <thead>\n",
       "        <tr>\n",
       "            <th>Player</th> <th>Height mean</th> <th>Disposals mean</th> <th>Hitouts mean</th>\n",
       "        </tr>\n",
       "    </thead>\n",
       "    <tbody>\n",
       "        <tr>\n",
       "            <td>Simpson, Dawson</td> <td>210        </td> <td>8.875         </td> <td>30.625      </td>\n",
       "        </tr>\n",
       "    </tbody>\n",
       "</table>"
      ],
      "text/plain": [
       "Player          | Height mean | Disposals mean | Hitouts mean\n",
       "Simpson, Dawson | 210         | 8.875          | 30.625"
      ]
     },
     "execution_count": 212,
     "metadata": {},
     "output_type": "execute_result"
    }
   ],
   "source": [
    "#Greater Western Sydney\n",
    "position_contribution(2018, \"Greater Western Sydney\", \"Ruck\")"
   ]
  },
  {
   "cell_type": "code",
   "execution_count": 213,
   "metadata": {},
   "outputs": [
    {
     "data": {
      "text/html": [
       "<table border=\"1\" class=\"dataframe\">\n",
       "    <thead>\n",
       "        <tr>\n",
       "            <th>Player</th> <th>Height mean</th> <th>Disposals mean</th> <th>Goals mean</th>\n",
       "        </tr>\n",
       "    </thead>\n",
       "    <tbody>\n",
       "        <tr>\n",
       "            <td>Lobb, Rory      </td> <td>207        </td> <td>9.66667       </td> <td>0.611111  </td>\n",
       "        </tr>\n",
       "        <tr>\n",
       "            <td>Patton, Jonathon</td> <td>198        </td> <td>13.5833       </td> <td>0.833333  </td>\n",
       "        </tr>\n",
       "    </tbody>\n",
       "</table>"
      ],
      "text/plain": [
       "Player           | Height mean | Disposals mean | Goals mean\n",
       "Lobb, Rory       | 207         | 9.66667        | 0.611111\n",
       "Patton, Jonathon | 198         | 13.5833        | 0.833333"
      ]
     },
     "execution_count": 213,
     "metadata": {},
     "output_type": "execute_result"
    }
   ],
   "source": [
    "position_contribution(2018, \"Greater Western Sydney\", \"Forward, Ruck\")"
   ]
  },
  {
   "cell_type": "code",
   "execution_count": 214,
   "metadata": {},
   "outputs": [
    {
     "data": {
      "text/html": [
       "<table border=\"1\" class=\"dataframe\">\n",
       "    <thead>\n",
       "        <tr>\n",
       "            <th>Player</th> <th>Height mean</th> <th>Disposals mean</th> <th>Goals mean</th>\n",
       "        </tr>\n",
       "    </thead>\n",
       "    <tbody>\n",
       "    </tbody>\n",
       "</table>"
      ],
      "text/plain": [
       "Player | Height mean | Disposals mean | Goals mean"
      ]
     },
     "execution_count": 214,
     "metadata": {},
     "output_type": "execute_result"
    }
   ],
   "source": [
    "position_contribution(2018, \"Greater Western Sydney\", \"Midfield, Ruck\")"
   ]
  },
  {
   "cell_type": "code",
   "execution_count": 215,
   "metadata": {},
   "outputs": [
    {
     "data": {
      "text/html": [
       "<table border=\"1\" class=\"dataframe\">\n",
       "    <thead>\n",
       "        <tr>\n",
       "            <th>Player</th> <th>Tackles mean</th> <th>Rebound50s mean</th> <th>OnePercenters mean</th>\n",
       "        </tr>\n",
       "    </thead>\n",
       "    <tbody>\n",
       "        <tr>\n",
       "            <td>Buntine, Matt    </td> <td>1.28571     </td> <td>2.28571        </td> <td>4.14286           </td>\n",
       "        </tr>\n",
       "        <tr>\n",
       "            <td>Corr, Aidan      </td> <td>2.125       </td> <td>2.1875         </td> <td>6.625             </td>\n",
       "        </tr>\n",
       "        <tr>\n",
       "            <td>Cumming, Isaac   </td> <td>1.5         </td> <td>1              </td> <td>1                 </td>\n",
       "        </tr>\n",
       "        <tr>\n",
       "            <td>Davis, Phil      </td> <td>1.75        </td> <td>3.85           </td> <td>8.85              </td>\n",
       "        </tr>\n",
       "        <tr>\n",
       "            <td>Finlayson, Jeremy</td> <td>0.923077    </td> <td>3.76923        </td> <td>2.53846           </td>\n",
       "        </tr>\n",
       "        <tr>\n",
       "            <td>Haynes, Nick     </td> <td>1.77273     </td> <td>4.27273        </td> <td>3.72727           </td>\n",
       "        </tr>\n",
       "        <tr>\n",
       "            <td>Keeffe, Lachlan  </td> <td>1           </td> <td>1.28571        </td> <td>4.28571           </td>\n",
       "        </tr>\n",
       "        <tr>\n",
       "            <td>Kennedy, Adam    </td> <td>2.375       </td> <td>2.875          </td> <td>2.5               </td>\n",
       "        </tr>\n",
       "        <tr>\n",
       "            <td>Mohr, Tim        </td> <td>2           </td> <td>2.5            </td> <td>4                 </td>\n",
       "        </tr>\n",
       "        <tr>\n",
       "            <td>Perryman, Harry  </td> <td>2.875       </td> <td>1.375          </td> <td>1.5               </td>\n",
       "        </tr>\n",
       "    </tbody>\n",
       "</table>\n",
       "<p>... (4 rows omitted)</p>"
      ],
      "text/plain": [
       "Player            | Tackles mean | Rebound50s mean | OnePercenters mean\n",
       "Buntine, Matt     | 1.28571      | 2.28571         | 4.14286\n",
       "Corr, Aidan       | 2.125        | 2.1875          | 6.625\n",
       "Cumming, Isaac    | 1.5          | 1               | 1\n",
       "Davis, Phil       | 1.75         | 3.85            | 8.85\n",
       "Finlayson, Jeremy | 0.923077     | 3.76923         | 2.53846\n",
       "Haynes, Nick      | 1.77273      | 4.27273         | 3.72727\n",
       "Keeffe, Lachlan   | 1            | 1.28571         | 4.28571\n",
       "Kennedy, Adam     | 2.375        | 2.875           | 2.5\n",
       "Mohr, Tim         | 2            | 2.5             | 4\n",
       "Perryman, Harry   | 2.875        | 1.375           | 1.5\n",
       "... (4 rows omitted)"
      ]
     },
     "execution_count": 215,
     "metadata": {},
     "output_type": "execute_result"
    }
   ],
   "source": [
    "position_contribution(2018, \"Greater Western Sydney\", \"Defender\")"
   ]
  },
  {
   "cell_type": "code",
   "execution_count": 216,
   "metadata": {},
   "outputs": [
    {
     "data": {
      "text/html": [
       "<table border=\"1\" class=\"dataframe\">\n",
       "    <thead>\n",
       "        <tr>\n",
       "            <th>Player</th> <th>Goals mean</th> <th>Behinds mean</th> <th>Tackles mean</th>\n",
       "        </tr>\n",
       "    </thead>\n",
       "    <tbody>\n",
       "        <tr>\n",
       "            <td>Buckley, Dylan   </td> <td>1         </td> <td>0           </td> <td>2           </td>\n",
       "        </tr>\n",
       "        <tr>\n",
       "            <td>Cameron, Jeremy  </td> <td>2.375     </td> <td>1.625       </td> <td>1.375       </td>\n",
       "        </tr>\n",
       "        <tr>\n",
       "            <td>Daniels, Brent   </td> <td>0.571429  </td> <td>0.428571    </td> <td>3           </td>\n",
       "        </tr>\n",
       "        <tr>\n",
       "            <td>Greene, Toby     </td> <td>1.625     </td> <td>0.875       </td> <td>1           </td>\n",
       "        </tr>\n",
       "        <tr>\n",
       "            <td>Himmelberg, Harry</td> <td>1.17391   </td> <td>0.826087    </td> <td>2.13043     </td>\n",
       "        </tr>\n",
       "        <tr>\n",
       "            <td>Langdon, Zac     </td> <td>1.05263   </td> <td>0.315789    </td> <td>4.21053     </td>\n",
       "        </tr>\n",
       "        <tr>\n",
       "            <td>Lloyd, Daniel    </td> <td>0.846154  </td> <td>0.769231    </td> <td>4.38462     </td>\n",
       "        </tr>\n",
       "        <tr>\n",
       "            <td>de Boer, Matt    </td> <td>0.928571  </td> <td>0.428571    </td> <td>4.14286     </td>\n",
       "        </tr>\n",
       "    </tbody>\n",
       "</table>"
      ],
      "text/plain": [
       "Player            | Goals mean | Behinds mean | Tackles mean\n",
       "Buckley, Dylan    | 1          | 0            | 2\n",
       "Cameron, Jeremy   | 2.375      | 1.625        | 1.375\n",
       "Daniels, Brent    | 0.571429   | 0.428571     | 3\n",
       "Greene, Toby      | 1.625      | 0.875        | 1\n",
       "Himmelberg, Harry | 1.17391    | 0.826087     | 2.13043\n",
       "Langdon, Zac      | 1.05263    | 0.315789     | 4.21053\n",
       "Lloyd, Daniel     | 0.846154   | 0.769231     | 4.38462\n",
       "de Boer, Matt     | 0.928571   | 0.428571     | 4.14286"
      ]
     },
     "execution_count": 216,
     "metadata": {},
     "output_type": "execute_result"
    }
   ],
   "source": [
    "position_contribution(2018, \"Greater Western Sydney\", \"Forward\")"
   ]
  },
  {
   "cell_type": "code",
   "execution_count": 217,
   "metadata": {},
   "outputs": [
    {
     "data": {
      "text/html": [
       "<table border=\"1\" class=\"dataframe\">\n",
       "    <thead>\n",
       "        <tr>\n",
       "            <th>Player</th> <th>Goals mean</th> <th>Behinds mean</th> <th>GoalAssists mean</th>\n",
       "        </tr>\n",
       "    </thead>\n",
       "    <tbody>\n",
       "        <tr>\n",
       "            <td>Reid, Sam J</td> <td>0.545455  </td> <td>1           </td> <td>0.545455        </td>\n",
       "        </tr>\n",
       "    </tbody>\n",
       "</table>"
      ],
      "text/plain": [
       "Player      | Goals mean | Behinds mean | GoalAssists mean\n",
       "Reid, Sam J | 0.545455   | 1            | 0.545455"
      ]
     },
     "execution_count": 217,
     "metadata": {},
     "output_type": "execute_result"
    }
   ],
   "source": [
    "position_contribution(2018, \"Greater Western Sydney\", \"Defender, Forward\")"
   ]
  },
  {
   "cell_type": "code",
   "execution_count": 218,
   "metadata": {},
   "outputs": [
    {
     "data": {
      "text/html": [
       "<table border=\"1\" class=\"dataframe\">\n",
       "    <thead>\n",
       "        <tr>\n",
       "            <th>Player</th> <th>Goals mean</th> <th>Behinds mean</th> <th>Inside50s mean</th> <th>GoalAssists mean</th>\n",
       "        </tr>\n",
       "    </thead>\n",
       "    <tbody>\n",
       "        <tr>\n",
       "            <td>Coniglio, Stephen</td> <td>1.05263   </td> <td>0.789474    </td> <td>4.05263       </td> <td>0.578947        </td>\n",
       "        </tr>\n",
       "        <tr>\n",
       "            <td>Deledio, Brett   </td> <td>0.4       </td> <td>0.1         </td> <td>2.5           </td> <td>0.4             </td>\n",
       "        </tr>\n",
       "        <tr>\n",
       "            <td>Hopper, Jacob    </td> <td>0.526316  </td> <td>0.578947    </td> <td>2.52632       </td> <td>0.210526        </td>\n",
       "        </tr>\n",
       "        <tr>\n",
       "            <td>Kelly, Josh      </td> <td>0.571429  </td> <td>0.857143    </td> <td>6.14286       </td> <td>1.07143         </td>\n",
       "        </tr>\n",
       "        <tr>\n",
       "            <td>Scully, Tom      </td> <td>1         </td> <td>0           </td> <td>0             </td> <td>0               </td>\n",
       "        </tr>\n",
       "        <tr>\n",
       "            <td>Shiel, Dylan     </td> <td>0.3       </td> <td>0.6         </td> <td>4.65          </td> <td>1.2             </td>\n",
       "        </tr>\n",
       "        <tr>\n",
       "            <td>Shipley, Nick    </td> <td>0         </td> <td>0.5         </td> <td>0.5           </td> <td>0.5             </td>\n",
       "        </tr>\n",
       "        <tr>\n",
       "            <td>Taranto, Tim     </td> <td>0.333333  </td> <td>0.611111    </td> <td>3.55556       </td> <td>0.722222        </td>\n",
       "        </tr>\n",
       "        <tr>\n",
       "            <td>Tomlinson, Adam  </td> <td>0.733333  </td> <td>0.266667    </td> <td>3.33333       </td> <td>0.466667        </td>\n",
       "        </tr>\n",
       "        <tr>\n",
       "            <td>Ward, Callan     </td> <td>0.3125    </td> <td>0.625       </td> <td>4.0625        </td> <td>0.625           </td>\n",
       "        </tr>\n",
       "    </tbody>\n",
       "</table>"
      ],
      "text/plain": [
       "Player            | Goals mean | Behinds mean | Inside50s mean | GoalAssists mean\n",
       "Coniglio, Stephen | 1.05263    | 0.789474     | 4.05263        | 0.578947\n",
       "Deledio, Brett    | 0.4        | 0.1          | 2.5            | 0.4\n",
       "Hopper, Jacob     | 0.526316   | 0.578947     | 2.52632        | 0.210526\n",
       "Kelly, Josh       | 0.571429   | 0.857143     | 6.14286        | 1.07143\n",
       "Scully, Tom       | 1          | 0            | 0              | 0\n",
       "Shiel, Dylan      | 0.3        | 0.6          | 4.65           | 1.2\n",
       "Shipley, Nick     | 0          | 0.5          | 0.5            | 0.5\n",
       "Taranto, Tim      | 0.333333   | 0.611111     | 3.55556        | 0.722222\n",
       "Tomlinson, Adam   | 0.733333   | 0.266667     | 3.33333        | 0.466667\n",
       "Ward, Callan      | 0.3125     | 0.625        | 4.0625         | 0.625"
      ]
     },
     "execution_count": 218,
     "metadata": {},
     "output_type": "execute_result"
    }
   ],
   "source": [
    "position_contribution(2018, \"Greater Western Sydney\", \"Midfield\")"
   ]
  },
  {
   "cell_type": "code",
   "execution_count": 219,
   "metadata": {},
   "outputs": [
    {
     "data": {
      "text/html": [
       "<table border=\"1\" class=\"dataframe\">\n",
       "    <thead>\n",
       "        <tr>\n",
       "            <th>Player</th> <th>Goals mean</th> <th>Behinds mean</th> <th>Inside50s mean</th> <th>GoalAssists mean</th>\n",
       "        </tr>\n",
       "    </thead>\n",
       "    <tbody>\n",
       "        <tr>\n",
       "            <td>Bonar, Aiden </td> <td>1.25      </td> <td>0.5         </td> <td>1.75          </td> <td>0               </td>\n",
       "        </tr>\n",
       "        <tr>\n",
       "            <td>Griffen, Ryan</td> <td>1.06667   </td> <td>0.733333    </td> <td>2.46667       </td> <td>0.533333        </td>\n",
       "        </tr>\n",
       "    </tbody>\n",
       "</table>"
      ],
      "text/plain": [
       "Player        | Goals mean | Behinds mean | Inside50s mean | GoalAssists mean\n",
       "Bonar, Aiden  | 1.25       | 0.5          | 1.75           | 0\n",
       "Griffen, Ryan | 1.06667    | 0.733333     | 2.46667        | 0.533333"
      ]
     },
     "execution_count": 219,
     "metadata": {},
     "output_type": "execute_result"
    }
   ],
   "source": [
    "position_contribution(2018, \"Greater Western Sydney\", \"Midfield, Forward\")"
   ]
  },
  {
   "cell_type": "code",
   "execution_count": 220,
   "metadata": {},
   "outputs": [
    {
     "data": {
      "text/html": [
       "<table border=\"1\" class=\"dataframe\">\n",
       "    <thead>\n",
       "        <tr>\n",
       "            <th>Player</th> <th>Goals mean</th> <th>Behinds mean</th> <th>Inside50s mean</th> <th>GoalAssists mean</th>\n",
       "        </tr>\n",
       "    </thead>\n",
       "    <tbody>\n",
       "        <tr>\n",
       "            <td>Bonar, Aiden </td> <td>1.25      </td> <td>0.5         </td> <td>1.75          </td> <td>0               </td>\n",
       "        </tr>\n",
       "        <tr>\n",
       "            <td>Griffen, Ryan</td> <td>1.06667   </td> <td>0.733333    </td> <td>2.46667       </td> <td>0.533333        </td>\n",
       "        </tr>\n",
       "    </tbody>\n",
       "</table>"
      ],
      "text/plain": [
       "Player        | Goals mean | Behinds mean | Inside50s mean | GoalAssists mean\n",
       "Bonar, Aiden  | 1.25       | 0.5          | 1.75           | 0\n",
       "Griffen, Ryan | 1.06667    | 0.733333     | 2.46667        | 0.533333"
      ]
     },
     "execution_count": 220,
     "metadata": {},
     "output_type": "execute_result"
    }
   ],
   "source": [
    "position_contribution(2018, \"Greater Western Sydney\", \"Midfield, Forward\")"
   ]
  },
  {
   "cell_type": "code",
   "execution_count": 221,
   "metadata": {},
   "outputs": [
    {
     "data": {
      "text/html": [
       "<table border=\"1\" class=\"dataframe\">\n",
       "    <thead>\n",
       "        <tr>\n",
       "            <th>Rank</th> <th>Team</th> <th>Games Played</th> <th>Won</th> <th>Lost</th> <th>Tied</th> <th>Pts Scored</th> <th>Pts Given </th> <th>Ratio</th> <th>Points</th> <th>Year</th> <th>Notes</th>\n",
       "        </tr>\n",
       "    </thead>\n",
       "    <tbody>\n",
       "        <tr>\n",
       "            <td>1   </td> <td>Hawthorn              </td> <td>22          </td> <td>17  </td> <td>5   </td> <td>0   </td> <td>2679      </td> <td>1733      </td> <td>154.59</td> <td>68    </td> <td>2012</td> <td>nan  </td>\n",
       "        </tr>\n",
       "        <tr>\n",
       "            <td>2   </td> <td>Adelaide              </td> <td>22          </td> <td>17  </td> <td>5   </td> <td>0   </td> <td>2428      </td> <td>1833      </td> <td>132.46</td> <td>68    </td> <td>2012</td> <td>nan  </td>\n",
       "        </tr>\n",
       "        <tr>\n",
       "            <td>3   </td> <td>Sydney (P)            </td> <td>22          </td> <td>16  </td> <td>6   </td> <td>0   </td> <td>2290      </td> <td>1629      </td> <td>140.58</td> <td>64    </td> <td>2012</td> <td>nan  </td>\n",
       "        </tr>\n",
       "        <tr>\n",
       "            <td>4   </td> <td>Collingwood           </td> <td>22          </td> <td>16  </td> <td>6   </td> <td>0   </td> <td>2123      </td> <td>1823      </td> <td>116.46</td> <td>64    </td> <td>2012</td> <td>nan  </td>\n",
       "        </tr>\n",
       "        <tr>\n",
       "            <td>5   </td> <td>West Coast            </td> <td>22          </td> <td>15  </td> <td>7   </td> <td>0   </td> <td>2244      </td> <td>1807      </td> <td>124.18</td> <td>60    </td> <td>2012</td> <td>nan  </td>\n",
       "        </tr>\n",
       "        <tr>\n",
       "            <td>6   </td> <td>Geelong               </td> <td>22          </td> <td>15  </td> <td>7   </td> <td>0   </td> <td>2209      </td> <td>1886      </td> <td>117.13</td> <td>60    </td> <td>2012</td> <td>nan  </td>\n",
       "        </tr>\n",
       "        <tr>\n",
       "            <td>7   </td> <td>Fremantle             </td> <td>22          </td> <td>14  </td> <td>8   </td> <td>0   </td> <td>1956      </td> <td>1691      </td> <td>115.67</td> <td>56    </td> <td>2012</td> <td>nan  </td>\n",
       "        </tr>\n",
       "        <tr>\n",
       "            <td>8   </td> <td>North Melbourne       </td> <td>22          </td> <td>14  </td> <td>8   </td> <td>0   </td> <td>2359      </td> <td>2097      </td> <td>112.49</td> <td>56    </td> <td>2012</td> <td>nan  </td>\n",
       "        </tr>\n",
       "        <tr>\n",
       "            <td>9   </td> <td>St Kilda              </td> <td>22          </td> <td>12  </td> <td>10  </td> <td>0   </td> <td>2347      </td> <td>1903      </td> <td>123.33</td> <td>48    </td> <td>2012</td> <td>nan  </td>\n",
       "        </tr>\n",
       "        <tr>\n",
       "            <td>10  </td> <td>Carlton               </td> <td>22          </td> <td>11  </td> <td>11  </td> <td>0   </td> <td>2079      </td> <td>1925      </td> <td>108   </td> <td>44    </td> <td>2012</td> <td>nan  </td>\n",
       "        </tr>\n",
       "        <tr>\n",
       "            <td>11  </td> <td>Essendon              </td> <td>22          </td> <td>11  </td> <td>11  </td> <td>0   </td> <td>2091      </td> <td>2090      </td> <td>100.05</td> <td>44    </td> <td>2012</td> <td>nan  </td>\n",
       "        </tr>\n",
       "        <tr>\n",
       "            <td>12  </td> <td>Richmond              </td> <td>22          </td> <td>10  </td> <td>11  </td> <td>1   </td> <td>2169      </td> <td>1943      </td> <td>111.63</td> <td>42    </td> <td>2012</td> <td>nan  </td>\n",
       "        </tr>\n",
       "        <tr>\n",
       "            <td>13  </td> <td>Brisbane Lions        </td> <td>22          </td> <td>10  </td> <td>12  </td> <td>0   </td> <td>1904      </td> <td>2092      </td> <td>91.01 </td> <td>40    </td> <td>2012</td> <td>nan  </td>\n",
       "        </tr>\n",
       "        <tr>\n",
       "            <td>14  </td> <td>Port Adelaide         </td> <td>22          </td> <td>5   </td> <td>16  </td> <td>1   </td> <td>1691      </td> <td>2144      </td> <td>78.87 </td> <td>22    </td> <td>2012</td> <td>nan  </td>\n",
       "        </tr>\n",
       "        <tr>\n",
       "            <td>15  </td> <td>Western Bulldogs      </td> <td>22          </td> <td>5   </td> <td>17  </td> <td>0   </td> <td>1542      </td> <td>2301      </td> <td>67.01 </td> <td>20    </td> <td>2012</td> <td>nan  </td>\n",
       "        </tr>\n",
       "        <tr>\n",
       "            <td>16  </td> <td>Melbourne             </td> <td>22          </td> <td>4   </td> <td>18  </td> <td>0   </td> <td>1580      </td> <td>2341      </td> <td>67.49 </td> <td>16    </td> <td>2012</td> <td>nan  </td>\n",
       "        </tr>\n",
       "        <tr>\n",
       "            <td>17  </td> <td>Gold Coast            </td> <td>22          </td> <td>3   </td> <td>19  </td> <td>0   </td> <td>1509      </td> <td>2481      </td> <td>60.82 </td> <td>12    </td> <td>2012</td> <td>nan  </td>\n",
       "        </tr>\n",
       "        <tr>\n",
       "            <td>18  </td> <td>Greater Western Sydney</td> <td>22          </td> <td>2   </td> <td>20  </td> <td>0   </td> <td>1270      </td> <td>2751      </td> <td>46.17 </td> <td>8     </td> <td>2012</td> <td>nan  </td>\n",
       "        </tr>\n",
       "    </tbody>\n",
       "</table>\n",
       "<p>... (108 rows omitted)</p>"
      ],
      "text/plain": [
       "<IPython.core.display.HTML object>"
      ]
     },
     "metadata": {},
     "output_type": "display_data"
    }
   ],
   "source": [
    "results.show(18)"
   ]
  },
  {
   "cell_type": "code",
   "execution_count": 222,
   "metadata": {},
   "outputs": [],
   "source": [
    "#Now I will try to look at playoff success, in order to do this, I will make a function that maps a teams\n",
    "#rank from 2012-2018 to evaluate who is consistently higher ranked thus meaning more succesful in the playoffs\n",
    "def plot_success(team):\n",
    "    team = results.where(\"Team\", team)\n",
    "    team_plot = team.plot(\"Year\", \"Rank\")\n",
    "    return team_plot"
   ]
  },
  {
   "cell_type": "code",
   "execution_count": 223,
   "metadata": {},
   "outputs": [
    {
     "data": {
      "image/png": "[encoded data removed]",
      "text/plain": [
       "<Figure size 432x288 with 1 Axes>"
      ]
     },
     "metadata": {},
     "output_type": "display_data"
    }
   ],
   "source": [
    "plot_success(\"Hawthorn\")"
   ]
  },
  {
   "cell_type": "code",
   "execution_count": 224,
   "metadata": {},
   "outputs": [
    {
     "data": {
      "image/png": "[encoded data removed]",
      "text/plain": [
       "<Figure size 432x288 with 1 Axes>"
      ]
     },
     "metadata": {},
     "output_type": "display_data"
    }
   ],
   "source": [
    "plot_success(\"Adelaide\")"
   ]
  },
  {
   "cell_type": "code",
   "execution_count": 225,
   "metadata": {},
   "outputs": [
    {
     "data": {
      "image/png": "[encoded data removed]",
      "text/plain": [
       "<Figure size 432x288 with 1 Axes>"
      ]
     },
     "metadata": {},
     "output_type": "display_data"
    }
   ],
   "source": [
    "plot_success(\"Sydney\")"
   ]
  },
  {
   "cell_type": "code",
   "execution_count": 226,
   "metadata": {},
   "outputs": [
    {
     "data": {
      "image/png": "[encoded data removed]",
      "text/plain": [
       "<Figure size 432x288 with 1 Axes>"
      ]
     },
     "metadata": {},
     "output_type": "display_data"
    }
   ],
   "source": [
    "plot_success(\"Collingwood\")"
   ]
  },
  {
   "cell_type": "code",
   "execution_count": 227,
   "metadata": {},
   "outputs": [
    {
     "data": {
      "image/png": "[encoded data removed]",
      "text/plain": [
       "<Figure size 432x288 with 1 Axes>"
      ]
     },
     "metadata": {},
     "output_type": "display_data"
    }
   ],
   "source": [
    "plot_success(\"West Coast\")"
   ]
  },
  {
   "cell_type": "code",
   "execution_count": 228,
   "metadata": {},
   "outputs": [
    {
     "data": {
      "image/png": "[encoded data removed]",
      "text/plain": [
       "<Figure size 432x288 with 1 Axes>"
      ]
     },
     "metadata": {},
     "output_type": "display_data"
    }
   ],
   "source": [
    "plot_success(\"Geelong\")"
   ]
  },
  {
   "cell_type": "code",
   "execution_count": 229,
   "metadata": {},
   "outputs": [
    {
     "data": {
      "image/png": "[encoded data removed]",
      "text/plain": [
       "<Figure size 432x288 with 1 Axes>"
      ]
     },
     "metadata": {},
     "output_type": "display_data"
    }
   ],
   "source": [
    "plot_success(\"Fremantle\")"
   ]
  },
  {
   "cell_type": "code",
   "execution_count": 230,
   "metadata": {},
   "outputs": [
    {
     "data": {
      "image/png": "[encoded data removed]",
      "text/plain": [
       "<Figure size 432x288 with 1 Axes>"
      ]
     },
     "metadata": {},
     "output_type": "display_data"
    }
   ],
   "source": [
    "plot_success(\"North Melbourne\")"
   ]
  },
  {
   "cell_type": "code",
   "execution_count": 231,
   "metadata": {},
   "outputs": [
    {
     "data": {
      "image/png": "[encoded data removed]",
      "text/plain": [
       "<Figure size 432x288 with 1 Axes>"
      ]
     },
     "metadata": {},
     "output_type": "display_data"
    }
   ],
   "source": [
    "plot_success(\"St Kilda\")"
   ]
  },
  {
   "cell_type": "code",
   "execution_count": 232,
   "metadata": {},
   "outputs": [
    {
     "data": {
      "image/png": "[encoded data removed]",
      "text/plain": [
       "<Figure size 432x288 with 1 Axes>"
      ]
     },
     "metadata": {},
     "output_type": "display_data"
    }
   ],
   "source": [
    "plot_success(\"Carlton\")"
   ]
  },
  {
   "cell_type": "code",
   "execution_count": 233,
   "metadata": {},
   "outputs": [
    {
     "data": {
      "image/png": "[encoded data removed]",
      "text/plain": [
       "<Figure size 432x288 with 1 Axes>"
      ]
     },
     "metadata": {},
     "output_type": "display_data"
    }
   ],
   "source": [
    "plot_success(\"Essendon\")"
   ]
  },
  {
   "cell_type": "code",
   "execution_count": 234,
   "metadata": {},
   "outputs": [
    {
     "data": {
      "image/png": "[encoded data removed]",
      "text/plain": [
       "<Figure size 432x288 with 1 Axes>"
      ]
     },
     "metadata": {},
     "output_type": "display_data"
    }
   ],
   "source": [
    "plot_success(\"Richmond\")"
   ]
  },
  {
   "cell_type": "code",
   "execution_count": 235,
   "metadata": {},
   "outputs": [
    {
     "data": {
      "image/png": "[encoded data removed]",
      "text/plain": [
       "<Figure size 432x288 with 1 Axes>"
      ]
     },
     "metadata": {},
     "output_type": "display_data"
    }
   ],
   "source": [
    "plot_success(\"Brisbane Lions\")"
   ]
  },
  {
   "cell_type": "code",
   "execution_count": 236,
   "metadata": {},
   "outputs": [
    {
     "data": {
      "image/png": "[encoded data removed]",
      "text/plain": [
       "<Figure size 432x288 with 1 Axes>"
      ]
     },
     "metadata": {},
     "output_type": "display_data"
    }
   ],
   "source": [
    "plot_success(\"Port Adelaide\")"
   ]
  },
  {
   "cell_type": "code",
   "execution_count": 237,
   "metadata": {},
   "outputs": [
    {
     "data": {
      "image/png": "[encoded data removed]",
      "text/plain": [
       "<Figure size 432x288 with 1 Axes>"
      ]
     },
     "metadata": {},
     "output_type": "display_data"
    }
   ],
   "source": [
    "plot_success(\"Western Bulldogs\")"
   ]
  },
  {
   "cell_type": "code",
   "execution_count": 238,
   "metadata": {},
   "outputs": [
    {
     "data": {
      "image/png": "[encoded data removed]",
      "text/plain": [
       "<Figure size 432x288 with 1 Axes>"
      ]
     },
     "metadata": {},
     "output_type": "display_data"
    }
   ],
   "source": [
    "plot_success(\"Melbourne\")"
   ]
  },
  {
   "cell_type": "code",
   "execution_count": 239,
   "metadata": {},
   "outputs": [
    {
     "data": {
      "image/png": "[encoded data removed]",
      "text/plain": [
       "<Figure size 432x288 with 1 Axes>"
      ]
     },
     "metadata": {},
     "output_type": "display_data"
    }
   ],
   "source": [
    "plot_success(\"Gold Coast\")"
   ]
  },
  {
   "cell_type": "code",
   "execution_count": 240,
   "metadata": {},
   "outputs": [
    {
     "data": {
      "image/png": "[encoded data removed]",
      "text/plain": [
       "<Figure size 432x288 with 1 Axes>"
      ]
     },
     "metadata": {},
     "output_type": "display_data"
    }
   ],
   "source": [
    "plot_success(\"Greater Western Sydney\")"
   ]
  },
  {
   "cell_type": "code",
   "execution_count": 241,
   "metadata": {},
   "outputs": [],
   "source": [
    "#Now I will rank players on a position to position basis.  In order to do that, I will make a function \n",
    "#that returns the top brownlow getters on a yearly and positional basis\n",
    "def top5_positional(year, position):\n",
    "    top5 = top_players.where(\"Season\", year).where(\"Position\", position)\n",
    "    return top5.take(0,1,2,3,4)"
   ]
  },
  {
   "cell_type": "code",
   "execution_count": 242,
   "metadata": {},
   "outputs": [
    {
     "data": {
      "text/html": [
       "<table border=\"1\" class=\"dataframe\">\n",
       "    <thead>\n",
       "        <tr>\n",
       "            <th>Player</th> <th>Position</th> <th>Team</th> <th>Season</th> <th>BrownlowVotes sum</th>\n",
       "        </tr>\n",
       "    </thead>\n",
       "    <tbody>\n",
       "        <tr>\n",
       "            <td>Mitchell, Tom     </td> <td>Midfield</td> <td>Hawthorn   </td> <td>2018  </td> <td>28               </td>\n",
       "        </tr>\n",
       "        <tr>\n",
       "            <td>Sidebottom, Steele</td> <td>Midfield</td> <td>Collingwood</td> <td>2018  </td> <td>24               </td>\n",
       "        </tr>\n",
       "        <tr>\n",
       "            <td>Brayshaw, Angus   </td> <td>Midfield</td> <td>Melbourne  </td> <td>2018  </td> <td>21               </td>\n",
       "        </tr>\n",
       "        <tr>\n",
       "            <td>Cripps, Patrick   </td> <td>Midfield</td> <td>Carlton    </td> <td>2018  </td> <td>20               </td>\n",
       "        </tr>\n",
       "        <tr>\n",
       "            <td>Martin, Dustin    </td> <td>Midfield</td> <td>Richmond   </td> <td>2018  </td> <td>19               </td>\n",
       "        </tr>\n",
       "    </tbody>\n",
       "</table>"
      ],
      "text/plain": [
       "Player             | Position | Team        | Season | BrownlowVotes sum\n",
       "Mitchell, Tom      | Midfield | Hawthorn    | 2018   | 28\n",
       "Sidebottom, Steele | Midfield | Collingwood | 2018   | 24\n",
       "Brayshaw, Angus    | Midfield | Melbourne   | 2018   | 21\n",
       "Cripps, Patrick    | Midfield | Carlton     | 2018   | 20\n",
       "Martin, Dustin     | Midfield | Richmond    | 2018   | 19"
      ]
     },
     "execution_count": 242,
     "metadata": {},
     "output_type": "execute_result"
    }
   ],
   "source": [
    "top5_positional(2018, \"Midfield\")"
   ]
  },
  {
   "cell_type": "code",
   "execution_count": 243,
   "metadata": {},
   "outputs": [
    {
     "data": {
      "text/html": [
       "<table border=\"1\" class=\"dataframe\">\n",
       "    <thead>\n",
       "        <tr>\n",
       "            <th>Player</th> <th>Position</th> <th>Team sum</th> <th>BrownlowVotes sum sum</th>\n",
       "        </tr>\n",
       "    </thead>\n",
       "    <tbody>\n",
       "        <tr>\n",
       "            <td>Dangerfield, Patrick</td> <td>Midfield, Forward</td> <td>        </td> <td>173                  </td>\n",
       "        </tr>\n",
       "        <tr>\n",
       "            <td>Martin, Dustin      </td> <td>Midfield         </td> <td>        </td> <td>135                  </td>\n",
       "        </tr>\n",
       "        <tr>\n",
       "            <td>Fyfe, Nat           </td> <td>Midfield         </td> <td>        </td> <td>123                  </td>\n",
       "        </tr>\n",
       "    </tbody>\n",
       "</table>"
      ],
      "text/plain": [
       "Player               | Position          | Team sum | BrownlowVotes sum sum\n",
       "Dangerfield, Patrick | Midfield, Forward |          | 173\n",
       "Martin, Dustin       | Midfield          |          | 135\n",
       "Fyfe, Nat            | Midfield          |          | 123"
      ]
     },
     "execution_count": 243,
     "metadata": {},
     "output_type": "execute_result"
    }
   ],
   "source": [
    "#Finally lets looks at long term top players, specifically who has received the most brownlow votes over time\n",
    "#Lets look at the top 3 vote getters from 2012-2018\n",
    "top3 = top_players.drop(\"Season\").group([\"Player\", \"Position\"], sum).sort(\"BrownlowVotes sum sum\", descending = True).take(0,1,2)\n",
    "top3"
   ]
  },
  {
   "cell_type": "code",
   "execution_count": 244,
   "metadata": {},
   "outputs": [],
   "source": [
    "#Now lets look at top 3 by position all time\n",
    "def top3_position_alltime(position):\n",
    "    top_3 = top_players.drop(\"Season\", \"Team\").group([\"Player\", \"Position\"], sum)\n",
    "    position_top3 = top_3.where(\"Position\", position).sort(\"BrownlowVotes sum sum\", descending = True)\n",
    "    return position_top3.take(0,1,2)"
   ]
  },
  {
   "cell_type": "code",
   "execution_count": 245,
   "metadata": {},
   "outputs": [
    {
     "data": {
      "text/html": [
       "<table border=\"1\" class=\"dataframe\">\n",
       "    <thead>\n",
       "        <tr>\n",
       "            <th>Player</th> <th>Position</th> <th>BrownlowVotes sum sum</th>\n",
       "        </tr>\n",
       "    </thead>\n",
       "    <tbody>\n",
       "        <tr>\n",
       "            <td>Goldstein, Todd  </td> <td>Ruck    </td> <td>51                   </td>\n",
       "        </tr>\n",
       "        <tr>\n",
       "            <td>Gawn, Max        </td> <td>Ruck    </td> <td>43                   </td>\n",
       "        </tr>\n",
       "        <tr>\n",
       "            <td>Sandilands, Aaron</td> <td>Ruck    </td> <td>33                   </td>\n",
       "        </tr>\n",
       "    </tbody>\n",
       "</table>"
      ],
      "text/plain": [
       "Player            | Position | BrownlowVotes sum sum\n",
       "Goldstein, Todd   | Ruck     | 51\n",
       "Gawn, Max         | Ruck     | 43\n",
       "Sandilands, Aaron | Ruck     | 33"
      ]
     },
     "execution_count": 245,
     "metadata": {},
     "output_type": "execute_result"
    }
   ],
   "source": [
    "top3_position_alltime(\"Ruck\")"
   ]
  },
  {
   "cell_type": "code",
   "execution_count": 246,
   "metadata": {},
   "outputs": [
    {
     "data": {
      "text/html": [
       "<table border=\"1\" class=\"dataframe\">\n",
       "    <thead>\n",
       "        <tr>\n",
       "            <th>Player</th> <th>Position</th> <th>BrownlowVotes sum sum</th>\n",
       "        </tr>\n",
       "    </thead>\n",
       "    <tbody>\n",
       "        <tr>\n",
       "            <td>Westhoff, Justin</td> <td>Forward, Ruck</td> <td>20                   </td>\n",
       "        </tr>\n",
       "        <tr>\n",
       "            <td>Cox, Dean       </td> <td>Forward, Ruck</td> <td>15                   </td>\n",
       "        </tr>\n",
       "        <tr>\n",
       "            <td>Patton, Jonathon</td> <td>Forward, Ruck</td> <td>11                   </td>\n",
       "        </tr>\n",
       "    </tbody>\n",
       "</table>"
      ],
      "text/plain": [
       "Player           | Position      | BrownlowVotes sum sum\n",
       "Westhoff, Justin | Forward, Ruck | 20\n",
       "Cox, Dean        | Forward, Ruck | 15\n",
       "Patton, Jonathon | Forward, Ruck | 11"
      ]
     },
     "execution_count": 246,
     "metadata": {},
     "output_type": "execute_result"
    }
   ],
   "source": [
    "top3_position_alltime(\"Forward, Ruck\")"
   ]
  },
  {
   "cell_type": "code",
   "execution_count": 247,
   "metadata": {},
   "outputs": [
    {
     "data": {
      "text/html": [
       "<table border=\"1\" class=\"dataframe\">\n",
       "    <thead>\n",
       "        <tr>\n",
       "            <th>Player</th> <th>Position</th> <th>BrownlowVotes sum sum</th>\n",
       "        </tr>\n",
       "    </thead>\n",
       "    <tbody>\n",
       "        <tr>\n",
       "            <td>Franklin, Lance</td> <td>Forward </td> <td>102                  </td>\n",
       "        </tr>\n",
       "        <tr>\n",
       "            <td>Boak, Travis   </td> <td>Forward </td> <td>75                   </td>\n",
       "        </tr>\n",
       "        <tr>\n",
       "            <td>Kennedy, Josh J</td> <td>Forward </td> <td>66                   </td>\n",
       "        </tr>\n",
       "    </tbody>\n",
       "</table>"
      ],
      "text/plain": [
       "Player          | Position | BrownlowVotes sum sum\n",
       "Franklin, Lance | Forward  | 102\n",
       "Boak, Travis    | Forward  | 75\n",
       "Kennedy, Josh J | Forward  | 66"
      ]
     },
     "execution_count": 247,
     "metadata": {},
     "output_type": "execute_result"
    }
   ],
   "source": [
    "top3_position_alltime(\"Forward\")"
   ]
  },
  {
   "cell_type": "code",
   "execution_count": 248,
   "metadata": {},
   "outputs": [
    {
     "data": {
      "text/html": [
       "<table border=\"1\" class=\"dataframe\">\n",
       "    <thead>\n",
       "        <tr>\n",
       "            <th>Player</th> <th>Position</th> <th>BrownlowVotes sum sum</th>\n",
       "        </tr>\n",
       "    </thead>\n",
       "    <tbody>\n",
       "        <tr>\n",
       "            <td>Dangerfield, Patrick</td> <td>Midfield, Forward</td> <td>173                  </td>\n",
       "        </tr>\n",
       "        <tr>\n",
       "            <td>Mundy, David        </td> <td>Midfield, Forward</td> <td>75                   </td>\n",
       "        </tr>\n",
       "        <tr>\n",
       "            <td>Gray, Robbie        </td> <td>Midfield, Forward</td> <td>66                   </td>\n",
       "        </tr>\n",
       "    </tbody>\n",
       "</table>"
      ],
      "text/plain": [
       "Player               | Position          | BrownlowVotes sum sum\n",
       "Dangerfield, Patrick | Midfield, Forward | 173\n",
       "Mundy, David         | Midfield, Forward | 75\n",
       "Gray, Robbie         | Midfield, Forward | 66"
      ]
     },
     "execution_count": 248,
     "metadata": {},
     "output_type": "execute_result"
    }
   ],
   "source": [
    "top3_position_alltime(\"Midfield, Forward\")"
   ]
  },
  {
   "cell_type": "code",
   "execution_count": 249,
   "metadata": {},
   "outputs": [
    {
     "data": {
      "text/html": [
       "<table border=\"1\" class=\"dataframe\">\n",
       "    <thead>\n",
       "        <tr>\n",
       "            <th>Player</th> <th>Position</th> <th>BrownlowVotes sum sum</th>\n",
       "        </tr>\n",
       "    </thead>\n",
       "    <tbody>\n",
       "        <tr>\n",
       "            <td>Martin, Dustin </td> <td>Midfield</td> <td>135                  </td>\n",
       "        </tr>\n",
       "        <tr>\n",
       "            <td>Fyfe, Nat      </td> <td>Midfield</td> <td>123                  </td>\n",
       "        </tr>\n",
       "        <tr>\n",
       "            <td>Kennedy, Josh P</td> <td>Midfield</td> <td>122                  </td>\n",
       "        </tr>\n",
       "    </tbody>\n",
       "</table>"
      ],
      "text/plain": [
       "Player          | Position | BrownlowVotes sum sum\n",
       "Martin, Dustin  | Midfield | 135\n",
       "Fyfe, Nat       | Midfield | 123\n",
       "Kennedy, Josh P | Midfield | 122"
      ]
     },
     "execution_count": 249,
     "metadata": {},
     "output_type": "execute_result"
    }
   ],
   "source": [
    "top3_position_alltime(\"Midfield\")"
   ]
  },
  {
   "cell_type": "code",
   "execution_count": 250,
   "metadata": {},
   "outputs": [
    {
     "data": {
      "text/html": [
       "<table border=\"1\" class=\"dataframe\">\n",
       "    <thead>\n",
       "        <tr>\n",
       "            <th>Player</th> <th>Position</th> <th>BrownlowVotes sum sum</th>\n",
       "        </tr>\n",
       "    </thead>\n",
       "    <tbody>\n",
       "        <tr>\n",
       "            <td>Hodge, Luke    </td> <td>Defender</td> <td>45                   </td>\n",
       "        </tr>\n",
       "        <tr>\n",
       "            <td>Montagna, Leigh</td> <td>Defender</td> <td>44                   </td>\n",
       "        </tr>\n",
       "        <tr>\n",
       "            <td>Simpson, Kade  </td> <td>Defender</td> <td>41                   </td>\n",
       "        </tr>\n",
       "    </tbody>\n",
       "</table>"
      ],
      "text/plain": [
       "Player          | Position | BrownlowVotes sum sum\n",
       "Hodge, Luke     | Defender | 45\n",
       "Montagna, Leigh | Defender | 44\n",
       "Simpson, Kade   | Defender | 41"
      ]
     },
     "execution_count": 250,
     "metadata": {},
     "output_type": "execute_result"
    }
   ],
   "source": [
    "top3_position_alltime(\"Defender\")"
   ]
  },
  {
   "cell_type": "code",
   "execution_count": 251,
   "metadata": {},
   "outputs": [
    {
     "data": {
      "text/html": [
       "<table border=\"1\" class=\"dataframe\">\n",
       "    <thead>\n",
       "        <tr>\n",
       "            <th>Player</th> <th>Position</th> <th>BrownlowVotes sum sum</th>\n",
       "        </tr>\n",
       "    </thead>\n",
       "    <tbody>\n",
       "        <tr>\n",
       "            <td>Goddard, Brendon</td> <td>Defender, Midfield</td> <td>25                   </td>\n",
       "        </tr>\n",
       "        <tr>\n",
       "            <td>Kelly, James    </td> <td>Defender, Midfield</td> <td>20                   </td>\n",
       "        </tr>\n",
       "        <tr>\n",
       "            <td>Bartel, Jimmy   </td> <td>Defender, Midfield</td> <td>20                   </td>\n",
       "        </tr>\n",
       "    </tbody>\n",
       "</table>"
      ],
      "text/plain": [
       "Player           | Position           | BrownlowVotes sum sum\n",
       "Goddard, Brendon | Defender, Midfield | 25\n",
       "Kelly, James     | Defender, Midfield | 20\n",
       "Bartel, Jimmy    | Defender, Midfield | 20"
      ]
     },
     "execution_count": 251,
     "metadata": {},
     "output_type": "execute_result"
    }
   ],
   "source": [
    "top3_position_alltime(\"Defender, Midfield\")"
   ]
  },
  {
   "cell_type": "code",
   "execution_count": null,
   "metadata": {},
   "outputs": [],
   "source": []
  },
  {
   "cell_type": "code",
   "execution_count": null,
   "metadata": {},
   "outputs": [],
   "source": []
  },
  {
   "cell_type": "code",
   "execution_count": null,
   "metadata": {},
   "outputs": [],
   "source": []
  },
  {
   "cell_type": "code",
   "execution_count": null,
   "metadata": {},
   "outputs": [],
   "source": []
  },
  {
   "cell_type": "code",
   "execution_count": null,
   "metadata": {},
   "outputs": [],
   "source": []
  },
  {
   "cell_type": "code",
   "execution_count": null,
   "metadata": {},
   "outputs": [],
   "source": []
  },
  {
   "cell_type": "code",
   "execution_count": null,
   "metadata": {},
   "outputs": [],
   "source": []
  },
  {
   "cell_type": "code",
   "execution_count": null,
   "metadata": {},
   "outputs": [],
   "source": []
  },
  {
   "cell_type": "code",
   "execution_count": null,
   "metadata": {},
   "outputs": [],
   "source": []
  },
  {
   "cell_type": "code",
   "execution_count": null,
   "metadata": {},
   "outputs": [],
   "source": []
  },
  {
   "cell_type": "code",
   "execution_count": null,
   "metadata": {},
   "outputs": [],
   "source": []
  },
  {
   "cell_type": "code",
   "execution_count": null,
   "metadata": {},
   "outputs": [],
   "source": []
  },
  {
   "cell_type": "code",
   "execution_count": null,
   "metadata": {},
   "outputs": [],
   "source": []
  },
  {
   "cell_type": "code",
   "execution_count": null,
   "metadata": {},
   "outputs": [],
   "source": []
  },
  {
   "cell_type": "code",
   "execution_count": null,
   "metadata": {},
   "outputs": [],
   "source": []
  },
  {
   "cell_type": "code",
   "execution_count": null,
   "metadata": {},
   "outputs": [],
   "source": []
  },
  {
   "cell_type": "code",
   "execution_count": null,
   "metadata": {},
   "outputs": [],
   "source": []
  },
  {
   "cell_type": "code",
   "execution_count": null,
   "metadata": {},
   "outputs": [],
   "source": []
  },
  {
   "cell_type": "code",
   "execution_count": null,
   "metadata": {},
   "outputs": [],
   "source": []
  },
  {
   "cell_type": "code",
   "execution_count": null,
   "metadata": {},
   "outputs": [],
   "source": []
  },
  {
   "cell_type": "code",
   "execution_count": null,
   "metadata": {},
   "outputs": [],
   "source": []
  }
 ],
 "metadata": {
  "kernelspec": {
   "display_name": "Python 3",
   "language": "python",
   "name": "python3"
  },
  "language_info": {
   "codemirror_mode": {
    "name": "ipython",
    "version": 3
   },
   "file_extension": ".py",
   "mimetype": "text/x-python",
   "name": "python",
   "nbconvert_exporter": "python",
   "pygments_lexer": "ipython3",
   "version": "3.8.5"
  }
 },
 "nbformat": 4,
 "nbformat_minor": 4
}
